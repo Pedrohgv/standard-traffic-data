{
 "metadata": {
  "language_info": {
   "codemirror_mode": {
    "name": "ipython",
    "version": 3
   },
   "file_extension": ".py",
   "mimetype": "text/x-python",
   "name": "python",
   "nbconvert_exporter": "python",
   "pygments_lexer": "ipython3",
   "version": "3.8.5-final"
  },
  "orig_nbformat": 2,
  "kernelspec": {
   "name": "python3",
   "display_name": "Python 3.8.5 64-bit ('venv-linux')",
   "metadata": {
    "interpreter": {
     "hash": "f0a3bf33855c61af18a28feeb2cb007b561e8a0c72e3278f6fa14f6ba6d208b2"
    }
   }
  }
 },
 "nbformat": 4,
 "nbformat_minor": 2,
 "cells": [
  {
   "source": [
    "# Vehicle Type Prediction Using Simulated Trajectory Data\n",
    "\n",
    "This is a data-science project that aims to predict if a vehicle is either a car or a bus using machine-learning models and simulated data.\n",
    "\n",
    "This project is based on data contained in this [repository](https://github.com/pgrandinetti/standard-traffic-data). The authors took work produced by the Communication Systems Department of Sophia-Antipolis, France, that was already open-sourced and made it easily accessible and reproducible, enabling this project to happen. A special thanks goes to them!\n",
    "\n",
    "## Achieved Results\n",
    "\n",
    "The best model was able to achieve an F1 Score of **0.873** on data unseen by the training process.\n",
    "\n",
    "## About the Data\n",
    "\n",
    "The data is originated from a simulation using the [SUMO](https://www.eclipse.org/sumo/) (Simulation of Urban MObility) software. The scenario is called [MoST](Monaco SUMO Traffic) and consists of a simulation of traffic in the Principality of Monaco, covering around 70 km² of metropolitan area, spanning from 4 AM to 2 PM. It contains traffic data on vehicles, pedestrians, and bicycles, such as speed, place coordinates, slope, orientation angle, vehicle type, etc. This data is aggregated into several time-series sampled at 15-second intervals, forming the main object which we'll manipulate through this project.\n",
    "\n",
    "A more detailed description and analysis can be found in this [other notebook](https://github.com/pgrandinetti/standard-traffic-data/blob/main/knowledge/Urban_Traffic_Data_Exploratory_Analysis.ipynb) from this project.\n",
    "\n",
    "Because the generated traffic data is so extensive and large, we'll use only a small subset of it: the simulated traffic between 4 AM and 6:30 AM.\n",
    "\n",
    "## Requirements and Setup\n",
    "\n",
    "To replicate this work you'll need, if you haven't already, to install all the necessary libraries listed on the `requirements.txt` file with the command below:"
   ],
   "cell_type": "markdown",
   "metadata": {}
  },
  {
   "cell_type": "code",
   "execution_count": null,
   "metadata": {},
   "outputs": [],
   "source": [
    "!pip install -r requirements.txt"
   ]
  },
  {
   "source": [
    "Also, for this specific notebook, the package `sktime` will be needed. It is a machine learning package based on the more famous `scikit-learn`, with the addition that it is made for dealing with time-series. More about the package can be found on [its page](https://www.sktime.org/en/latest/). Without further ado, let's install it through the command below:"
   ],
   "cell_type": "markdown",
   "metadata": {}
  },
  {
   "cell_type": "code",
   "execution_count": null,
   "metadata": {},
   "outputs": [],
   "source": [
    "!pip install sktime"
   ]
  },
  {
   "source": [
    "## Initialization\n",
    "\n",
    "Without further ado, let's start by importing all the libraries we'll need. We'll also create a flag that's used for rendering the plots as static images (our notebook won't be able to show any generated images if we keep the plots as interactive images, the default option for the `plotly` package). If you want to have the plots as interactive images, just change this flag to `False` and you'll be all set. We'll also create a folder that will contain all the images generated, in case we want them for showing on other environments (on our README.md, for example). Of course, this is totally optional; just remember to remove the part of the code that saves the images to this folder."
   ],
   "cell_type": "markdown",
   "metadata": {}
  },
  {
   "cell_type": "code",
   "execution_count": 40,
   "metadata": {},
   "outputs": [],
   "source": [
    "import pandas as pd\n",
    "import numpy as np\n",
    "from sktime.utils.data_processing import from_multi_index_to_nested\n",
    "from time import time\n",
    "from itertools import combinations\n",
    "\n",
    "# metrics\n",
    "from sklearn.metrics import f1_score\n",
    "from sklearn.metrics import confusion_matrix, precision_score, recall_score\n",
    "from sklearn.metrics import make_scorer\n",
    "\n",
    "# models\n",
    "from sklearn.linear_model import LogisticRegression\n",
    "from sktime.classification.compose import TimeSeriesForestClassifier\n",
    "from sktime.classification.distance_based import KNeighborsTimeSeriesClassifier\n",
    "from sktime.classification.shapelet_based import ROCKETClassifier\n",
    "\n",
    "# model selection\n",
    "from sklearn.model_selection import train_test_split \n",
    "from sklearn.model_selection import cross_val_predict\n",
    "from sklearn.model_selection import RandomizedSearchCV\n",
    "from sklearn.model_selection import GridSearchCV\n",
    "import pickle\n",
    "\n",
    "# plotting\n",
    "import matplotlib.pyplot as plt"
   ]
  },
  {
   "source": [
    "## Data Preprocessing\n",
    "\n",
    "In these next steps, we will download, select and preprocess our data. In the end, it will save a new file called `cleaned_data.csv`. If you have already gone through this process and the file is already on your directory, you can skip to the ***Data Processing*** section.\n",
    "\n",
    "Now, let's download the data to our project folder. As stated before, we'll be only using the subset of the entire dataset that corresponds to the traffic generated from 4 AM to 6:30 AM. Make sure you have enough space available (it's around 200 MB in size). If you already have the file, don't worry; it will check if it already exists before downloading it."
   ],
   "cell_type": "markdown",
   "metadata": {}
  },
  {
   "cell_type": "code",
   "execution_count": 4,
   "metadata": {},
   "outputs": [
    {
     "output_type": "stream",
     "name": "stdout",
     "text": [
      "File ‘most_0400_0600_1_5.csv’ already there; not retrieving.\n\n"
     ]
    }
   ],
   "source": [
    "!wget -nc https://standard-traffic-data.s3.us-east-2.amazonaws.com/most_0400_0600_1_5.csv"
   ]
  },
  {
   "source": [
    "Then, it's time to load our dataframe into `Pandas`."
   ],
   "cell_type": "markdown",
   "metadata": {}
  },
  {
   "cell_type": "code",
   "execution_count": 5,
   "metadata": {},
   "outputs": [],
   "source": [
    "data = pd.read_csv('most_0400_0600_1_5.csv', sep=';')"
   ]
  },
  {
   "source": [
    "Let's have an overview of our data."
   ],
   "cell_type": "markdown",
   "metadata": {}
  },
  {
   "cell_type": "code",
   "execution_count": 6,
   "metadata": {},
   "outputs": [
    {
     "output_type": "execute_result",
     "data": {
      "text/plain": [
       "   timestep_time  vehicle_angle       vehicle_id vehicle_lane  vehicle_pos  \\\n",
       "0        14400.0            NaN              NaN          NaN          NaN   \n",
       "1        14405.0          80.89  bus_M1:France.0     152927_1        12.10   \n",
       "2        14410.0          71.94  bus_M1:France.0     152927_1        23.63   \n",
       "3        14415.0          57.57  bus_M1:France.0     152927_1        57.99   \n",
       "4        14420.0          32.10  bus_M1:France.0     152927_1       113.32   \n",
       "5        14425.0          53.85     bus_M1:Eze.0    -153460_1        18.12   \n",
       "6        14425.0          42.04  bus_M1:France.0     152927_1       176.17   \n",
       "7        14425.0         204.72  bus_M2:France.0  -153424#0_1        14.37   \n",
       "8        14430.0          56.30     bus_M1:Eze.0    -153460_1        36.33   \n",
       "9        14430.0          34.27  bus_M1:France.0     152927_1       239.87   \n",
       "\n",
       "   vehicle_slope  vehicle_speed vehicle_type  vehicle_x  vehicle_y  vehicle_z  \\\n",
       "0            NaN            NaN          NaN        NaN        NaN        NaN   \n",
       "1           3.01           0.00          bus    1085.69     197.96      54.34   \n",
       "2           1.31           3.97          bus    1096.59     201.56      54.75   \n",
       "3           0.66           8.49          bus    1126.83     217.57      55.32   \n",
       "4           0.63          12.78          bus    1167.22     253.89      55.41   \n",
       "5           1.73           3.09          bus      44.23    1368.97     358.63   \n",
       "6           0.97          12.58          bus    1205.74     303.31      56.33   \n",
       "7           1.58           1.46          bus    3080.45    2998.66     478.34   \n",
       "8           6.28           0.24          bus      59.11    1378.92     357.39   \n",
       "9           1.51          12.91          bus    1245.55     352.82      57.01   \n",
       "\n",
       "   person_angle person_edge person_id  person_pos  person_slope  person_speed  \\\n",
       "0           NaN         NaN       NaN         NaN           NaN           NaN   \n",
       "1           NaN         NaN       NaN         NaN           NaN           NaN   \n",
       "2           NaN         NaN       NaN         NaN           NaN           NaN   \n",
       "3           NaN         NaN       NaN         NaN           NaN           NaN   \n",
       "4           NaN         NaN       NaN         NaN           NaN           NaN   \n",
       "5           NaN         NaN       NaN         NaN           NaN           NaN   \n",
       "6           NaN         NaN       NaN         NaN           NaN           NaN   \n",
       "7           NaN         NaN       NaN         NaN           NaN           NaN   \n",
       "8           NaN         NaN       NaN         NaN           NaN           NaN   \n",
       "9           NaN         NaN       NaN         NaN           NaN           NaN   \n",
       "\n",
       "   person_x  person_y  person_z  \n",
       "0       NaN       NaN       NaN  \n",
       "1       NaN       NaN       NaN  \n",
       "2       NaN       NaN       NaN  \n",
       "3       NaN       NaN       NaN  \n",
       "4       NaN       NaN       NaN  \n",
       "5       NaN       NaN       NaN  \n",
       "6       NaN       NaN       NaN  \n",
       "7       NaN       NaN       NaN  \n",
       "8       NaN       NaN       NaN  \n",
       "9       NaN       NaN       NaN  "
      ],
      "text/html": "<div>\n<style scoped>\n    .dataframe tbody tr th:only-of-type {\n        vertical-align: middle;\n    }\n\n    .dataframe tbody tr th {\n        vertical-align: top;\n    }\n\n    .dataframe thead th {\n        text-align: right;\n    }\n</style>\n<table border=\"1\" class=\"dataframe\">\n  <thead>\n    <tr style=\"text-align: right;\">\n      <th></th>\n      <th>timestep_time</th>\n      <th>vehicle_angle</th>\n      <th>vehicle_id</th>\n      <th>vehicle_lane</th>\n      <th>vehicle_pos</th>\n      <th>vehicle_slope</th>\n      <th>vehicle_speed</th>\n      <th>vehicle_type</th>\n      <th>vehicle_x</th>\n      <th>vehicle_y</th>\n      <th>vehicle_z</th>\n      <th>person_angle</th>\n      <th>person_edge</th>\n      <th>person_id</th>\n      <th>person_pos</th>\n      <th>person_slope</th>\n      <th>person_speed</th>\n      <th>person_x</th>\n      <th>person_y</th>\n      <th>person_z</th>\n    </tr>\n  </thead>\n  <tbody>\n    <tr>\n      <th>0</th>\n      <td>14400.0</td>\n      <td>NaN</td>\n      <td>NaN</td>\n      <td>NaN</td>\n      <td>NaN</td>\n      <td>NaN</td>\n      <td>NaN</td>\n      <td>NaN</td>\n      <td>NaN</td>\n      <td>NaN</td>\n      <td>NaN</td>\n      <td>NaN</td>\n      <td>NaN</td>\n      <td>NaN</td>\n      <td>NaN</td>\n      <td>NaN</td>\n      <td>NaN</td>\n      <td>NaN</td>\n      <td>NaN</td>\n      <td>NaN</td>\n    </tr>\n    <tr>\n      <th>1</th>\n      <td>14405.0</td>\n      <td>80.89</td>\n      <td>bus_M1:France.0</td>\n      <td>152927_1</td>\n      <td>12.10</td>\n      <td>3.01</td>\n      <td>0.00</td>\n      <td>bus</td>\n      <td>1085.69</td>\n      <td>197.96</td>\n      <td>54.34</td>\n      <td>NaN</td>\n      <td>NaN</td>\n      <td>NaN</td>\n      <td>NaN</td>\n      <td>NaN</td>\n      <td>NaN</td>\n      <td>NaN</td>\n      <td>NaN</td>\n      <td>NaN</td>\n    </tr>\n    <tr>\n      <th>2</th>\n      <td>14410.0</td>\n      <td>71.94</td>\n      <td>bus_M1:France.0</td>\n      <td>152927_1</td>\n      <td>23.63</td>\n      <td>1.31</td>\n      <td>3.97</td>\n      <td>bus</td>\n      <td>1096.59</td>\n      <td>201.56</td>\n      <td>54.75</td>\n      <td>NaN</td>\n      <td>NaN</td>\n      <td>NaN</td>\n      <td>NaN</td>\n      <td>NaN</td>\n      <td>NaN</td>\n      <td>NaN</td>\n      <td>NaN</td>\n      <td>NaN</td>\n    </tr>\n    <tr>\n      <th>3</th>\n      <td>14415.0</td>\n      <td>57.57</td>\n      <td>bus_M1:France.0</td>\n      <td>152927_1</td>\n      <td>57.99</td>\n      <td>0.66</td>\n      <td>8.49</td>\n      <td>bus</td>\n      <td>1126.83</td>\n      <td>217.57</td>\n      <td>55.32</td>\n      <td>NaN</td>\n      <td>NaN</td>\n      <td>NaN</td>\n      <td>NaN</td>\n      <td>NaN</td>\n      <td>NaN</td>\n      <td>NaN</td>\n      <td>NaN</td>\n      <td>NaN</td>\n    </tr>\n    <tr>\n      <th>4</th>\n      <td>14420.0</td>\n      <td>32.10</td>\n      <td>bus_M1:France.0</td>\n      <td>152927_1</td>\n      <td>113.32</td>\n      <td>0.63</td>\n      <td>12.78</td>\n      <td>bus</td>\n      <td>1167.22</td>\n      <td>253.89</td>\n      <td>55.41</td>\n      <td>NaN</td>\n      <td>NaN</td>\n      <td>NaN</td>\n      <td>NaN</td>\n      <td>NaN</td>\n      <td>NaN</td>\n      <td>NaN</td>\n      <td>NaN</td>\n      <td>NaN</td>\n    </tr>\n    <tr>\n      <th>5</th>\n      <td>14425.0</td>\n      <td>53.85</td>\n      <td>bus_M1:Eze.0</td>\n      <td>-153460_1</td>\n      <td>18.12</td>\n      <td>1.73</td>\n      <td>3.09</td>\n      <td>bus</td>\n      <td>44.23</td>\n      <td>1368.97</td>\n      <td>358.63</td>\n      <td>NaN</td>\n      <td>NaN</td>\n      <td>NaN</td>\n      <td>NaN</td>\n      <td>NaN</td>\n      <td>NaN</td>\n      <td>NaN</td>\n      <td>NaN</td>\n      <td>NaN</td>\n    </tr>\n    <tr>\n      <th>6</th>\n      <td>14425.0</td>\n      <td>42.04</td>\n      <td>bus_M1:France.0</td>\n      <td>152927_1</td>\n      <td>176.17</td>\n      <td>0.97</td>\n      <td>12.58</td>\n      <td>bus</td>\n      <td>1205.74</td>\n      <td>303.31</td>\n      <td>56.33</td>\n      <td>NaN</td>\n      <td>NaN</td>\n      <td>NaN</td>\n      <td>NaN</td>\n      <td>NaN</td>\n      <td>NaN</td>\n      <td>NaN</td>\n      <td>NaN</td>\n      <td>NaN</td>\n    </tr>\n    <tr>\n      <th>7</th>\n      <td>14425.0</td>\n      <td>204.72</td>\n      <td>bus_M2:France.0</td>\n      <td>-153424#0_1</td>\n      <td>14.37</td>\n      <td>1.58</td>\n      <td>1.46</td>\n      <td>bus</td>\n      <td>3080.45</td>\n      <td>2998.66</td>\n      <td>478.34</td>\n      <td>NaN</td>\n      <td>NaN</td>\n      <td>NaN</td>\n      <td>NaN</td>\n      <td>NaN</td>\n      <td>NaN</td>\n      <td>NaN</td>\n      <td>NaN</td>\n      <td>NaN</td>\n    </tr>\n    <tr>\n      <th>8</th>\n      <td>14430.0</td>\n      <td>56.30</td>\n      <td>bus_M1:Eze.0</td>\n      <td>-153460_1</td>\n      <td>36.33</td>\n      <td>6.28</td>\n      <td>0.24</td>\n      <td>bus</td>\n      <td>59.11</td>\n      <td>1378.92</td>\n      <td>357.39</td>\n      <td>NaN</td>\n      <td>NaN</td>\n      <td>NaN</td>\n      <td>NaN</td>\n      <td>NaN</td>\n      <td>NaN</td>\n      <td>NaN</td>\n      <td>NaN</td>\n      <td>NaN</td>\n    </tr>\n    <tr>\n      <th>9</th>\n      <td>14430.0</td>\n      <td>34.27</td>\n      <td>bus_M1:France.0</td>\n      <td>152927_1</td>\n      <td>239.87</td>\n      <td>1.51</td>\n      <td>12.91</td>\n      <td>bus</td>\n      <td>1245.55</td>\n      <td>352.82</td>\n      <td>57.01</td>\n      <td>NaN</td>\n      <td>NaN</td>\n      <td>NaN</td>\n      <td>NaN</td>\n      <td>NaN</td>\n      <td>NaN</td>\n      <td>NaN</td>\n      <td>NaN</td>\n      <td>NaN</td>\n    </tr>\n  </tbody>\n</table>\n</div>"
     },
     "metadata": {},
     "execution_count": 6
    }
   ],
   "source": [
    "data.head(10)"
   ]
  },
  {
   "cell_type": "code",
   "execution_count": 7,
   "metadata": {},
   "outputs": [
    {
     "output_type": "execute_result",
     "data": {
      "text/plain": [
       "       timestep_time  vehicle_angle   vehicle_pos  vehicle_slope  \\\n",
       "count   2.067350e+06   1.228876e+06  1.228876e+06   1.228876e+06   \n",
       "mean    2.021132e+04   1.702282e+02  1.832031e+02  -6.081239e-01   \n",
       "std     9.779872e+02   9.915551e+01  5.781648e+02   5.173104e+00   \n",
       "min     1.440000e+04   0.000000e+00  0.000000e+00  -8.873000e+01   \n",
       "25%     1.952500e+04   8.179000e+01  1.553000e+01  -2.750000e+00   \n",
       "50%     2.035500e+04   1.968800e+02  4.360000e+01   0.000000e+00   \n",
       "75%     2.102500e+04   2.323100e+02  1.335425e+02   1.090000e+00   \n",
       "max     2.159500e+04   3.599900e+02  1.323421e+04   9.000000e+01   \n",
       "\n",
       "       vehicle_speed     vehicle_x     vehicle_y     vehicle_z   person_angle  \\\n",
       "count   1.228876e+06  1.228876e+06  1.228876e+06  1.228876e+06  838473.000000   \n",
       "mean    5.878740e+00  4.394096e+03  2.036820e+03  9.745693e+01     161.218636   \n",
       "std     6.913619e+00  1.581162e+03  1.031879e+03  1.157750e+02     100.731614   \n",
       "min     0.000000e+00 -2.100000e-01  9.346000e+01  0.000000e+00       0.000000   \n",
       "25%     3.000000e-02  3.935520e+03  1.313255e+03  2.073000e+01      69.470000   \n",
       "50%     2.180000e+00  4.513730e+03  1.859050e+03  6.108000e+01     157.550000   \n",
       "75%     1.233000e+01  5.155550e+03  2.665060e+03  1.069800e+02     240.100000   \n",
       "max     5.547000e+01  9.976570e+03  6.359290e+03  5.972100e+02     359.990000   \n",
       "\n",
       "          person_pos   person_slope   person_speed       person_x  \\\n",
       "count  837976.000000  838473.000000  837977.000000  838473.000000   \n",
       "mean      181.459266      -0.353450       7.413234    4313.035494   \n",
       "std       355.824890       6.752039       6.224017    1748.461993   \n",
       "min         0.000000     -90.000000       0.000000      -0.210000   \n",
       "25%        13.380000      -2.250000       1.190000    3548.030000   \n",
       "50%        51.950000       0.000000       6.900000    4461.740000   \n",
       "75%       159.620000       1.530000      12.870000    5136.770000   \n",
       "max      4183.480000      90.000000      46.090000    9976.570000   \n",
       "\n",
       "            person_y       person_z  \n",
       "count  838473.000000  838473.000000  \n",
       "mean     2069.419362     109.380626  \n",
       "std      1075.116513     120.228287  \n",
       "min        93.460000      -0.080000  \n",
       "25%      1338.410000      26.250000  \n",
       "50%      1935.200000      67.800000  \n",
       "75%      2852.400000     126.250000  \n",
       "max      6356.520000     575.200000  "
      ],
      "text/html": "<div>\n<style scoped>\n    .dataframe tbody tr th:only-of-type {\n        vertical-align: middle;\n    }\n\n    .dataframe tbody tr th {\n        vertical-align: top;\n    }\n\n    .dataframe thead th {\n        text-align: right;\n    }\n</style>\n<table border=\"1\" class=\"dataframe\">\n  <thead>\n    <tr style=\"text-align: right;\">\n      <th></th>\n      <th>timestep_time</th>\n      <th>vehicle_angle</th>\n      <th>vehicle_pos</th>\n      <th>vehicle_slope</th>\n      <th>vehicle_speed</th>\n      <th>vehicle_x</th>\n      <th>vehicle_y</th>\n      <th>vehicle_z</th>\n      <th>person_angle</th>\n      <th>person_pos</th>\n      <th>person_slope</th>\n      <th>person_speed</th>\n      <th>person_x</th>\n      <th>person_y</th>\n      <th>person_z</th>\n    </tr>\n  </thead>\n  <tbody>\n    <tr>\n      <th>count</th>\n      <td>2.067350e+06</td>\n      <td>1.228876e+06</td>\n      <td>1.228876e+06</td>\n      <td>1.228876e+06</td>\n      <td>1.228876e+06</td>\n      <td>1.228876e+06</td>\n      <td>1.228876e+06</td>\n      <td>1.228876e+06</td>\n      <td>838473.000000</td>\n      <td>837976.000000</td>\n      <td>838473.000000</td>\n      <td>837977.000000</td>\n      <td>838473.000000</td>\n      <td>838473.000000</td>\n      <td>838473.000000</td>\n    </tr>\n    <tr>\n      <th>mean</th>\n      <td>2.021132e+04</td>\n      <td>1.702282e+02</td>\n      <td>1.832031e+02</td>\n      <td>-6.081239e-01</td>\n      <td>5.878740e+00</td>\n      <td>4.394096e+03</td>\n      <td>2.036820e+03</td>\n      <td>9.745693e+01</td>\n      <td>161.218636</td>\n      <td>181.459266</td>\n      <td>-0.353450</td>\n      <td>7.413234</td>\n      <td>4313.035494</td>\n      <td>2069.419362</td>\n      <td>109.380626</td>\n    </tr>\n    <tr>\n      <th>std</th>\n      <td>9.779872e+02</td>\n      <td>9.915551e+01</td>\n      <td>5.781648e+02</td>\n      <td>5.173104e+00</td>\n      <td>6.913619e+00</td>\n      <td>1.581162e+03</td>\n      <td>1.031879e+03</td>\n      <td>1.157750e+02</td>\n      <td>100.731614</td>\n      <td>355.824890</td>\n      <td>6.752039</td>\n      <td>6.224017</td>\n      <td>1748.461993</td>\n      <td>1075.116513</td>\n      <td>120.228287</td>\n    </tr>\n    <tr>\n      <th>min</th>\n      <td>1.440000e+04</td>\n      <td>0.000000e+00</td>\n      <td>0.000000e+00</td>\n      <td>-8.873000e+01</td>\n      <td>0.000000e+00</td>\n      <td>-2.100000e-01</td>\n      <td>9.346000e+01</td>\n      <td>0.000000e+00</td>\n      <td>0.000000</td>\n      <td>0.000000</td>\n      <td>-90.000000</td>\n      <td>0.000000</td>\n      <td>-0.210000</td>\n      <td>93.460000</td>\n      <td>-0.080000</td>\n    </tr>\n    <tr>\n      <th>25%</th>\n      <td>1.952500e+04</td>\n      <td>8.179000e+01</td>\n      <td>1.553000e+01</td>\n      <td>-2.750000e+00</td>\n      <td>3.000000e-02</td>\n      <td>3.935520e+03</td>\n      <td>1.313255e+03</td>\n      <td>2.073000e+01</td>\n      <td>69.470000</td>\n      <td>13.380000</td>\n      <td>-2.250000</td>\n      <td>1.190000</td>\n      <td>3548.030000</td>\n      <td>1338.410000</td>\n      <td>26.250000</td>\n    </tr>\n    <tr>\n      <th>50%</th>\n      <td>2.035500e+04</td>\n      <td>1.968800e+02</td>\n      <td>4.360000e+01</td>\n      <td>0.000000e+00</td>\n      <td>2.180000e+00</td>\n      <td>4.513730e+03</td>\n      <td>1.859050e+03</td>\n      <td>6.108000e+01</td>\n      <td>157.550000</td>\n      <td>51.950000</td>\n      <td>0.000000</td>\n      <td>6.900000</td>\n      <td>4461.740000</td>\n      <td>1935.200000</td>\n      <td>67.800000</td>\n    </tr>\n    <tr>\n      <th>75%</th>\n      <td>2.102500e+04</td>\n      <td>2.323100e+02</td>\n      <td>1.335425e+02</td>\n      <td>1.090000e+00</td>\n      <td>1.233000e+01</td>\n      <td>5.155550e+03</td>\n      <td>2.665060e+03</td>\n      <td>1.069800e+02</td>\n      <td>240.100000</td>\n      <td>159.620000</td>\n      <td>1.530000</td>\n      <td>12.870000</td>\n      <td>5136.770000</td>\n      <td>2852.400000</td>\n      <td>126.250000</td>\n    </tr>\n    <tr>\n      <th>max</th>\n      <td>2.159500e+04</td>\n      <td>3.599900e+02</td>\n      <td>1.323421e+04</td>\n      <td>9.000000e+01</td>\n      <td>5.547000e+01</td>\n      <td>9.976570e+03</td>\n      <td>6.359290e+03</td>\n      <td>5.972100e+02</td>\n      <td>359.990000</td>\n      <td>4183.480000</td>\n      <td>90.000000</td>\n      <td>46.090000</td>\n      <td>9976.570000</td>\n      <td>6356.520000</td>\n      <td>575.200000</td>\n    </tr>\n  </tbody>\n</table>\n</div>"
     },
     "metadata": {},
     "execution_count": 7
    }
   ],
   "source": [
    "data.describe()"
   ]
  },
  {
   "source": [
    "Looking at the outputs above, we can have an idea of how the data is organized: each row contains an entry, a reading, of a specific vehicle on a specific time-stamp, showing the feature values that correspond to that vehicle on that time. We'll only keep some of these features; `vehicle_speed` is an obvious one, but we'll assume that maybe cars change less their orientation than busses since the former tends to go from one point to another through the city, while the latter has to change its direction more in order to cover a specific area for picking and dropping people, so we're keeping `vehicle_angle` as well.\n",
    "\n",
    "So, in the end, we'll maintain `vehicle_id`, `timestep_time` (our instance identifiers), the previously mentioned features, and our target label `vehicle_type`."
   ],
   "cell_type": "markdown",
   "metadata": {}
  },
  {
   "cell_type": "code",
   "execution_count": 8,
   "metadata": {},
   "outputs": [],
   "source": [
    "# keeps only relevant columns\n",
    "data = data[['vehicle_id', 'timestep_time', 'vehicle_speed', 'vehicle_angle', 'vehicle_type']]"
   ]
  },
  {
   "source": [
    "Our dataframe now looks like this:"
   ],
   "cell_type": "markdown",
   "metadata": {}
  },
  {
   "cell_type": "code",
   "execution_count": 9,
   "metadata": {},
   "outputs": [
    {
     "output_type": "execute_result",
     "data": {
      "text/plain": [
       "        vehicle_id  timestep_time  vehicle_speed  vehicle_angle vehicle_type\n",
       "0              NaN        14400.0            NaN            NaN          NaN\n",
       "1  bus_M1:France.0        14405.0           0.00          80.89          bus\n",
       "2  bus_M1:France.0        14410.0           3.97          71.94          bus\n",
       "3  bus_M1:France.0        14415.0           8.49          57.57          bus\n",
       "4  bus_M1:France.0        14420.0          12.78          32.10          bus\n",
       "5     bus_M1:Eze.0        14425.0           3.09          53.85          bus\n",
       "6  bus_M1:France.0        14425.0          12.58          42.04          bus\n",
       "7  bus_M2:France.0        14425.0           1.46         204.72          bus\n",
       "8     bus_M1:Eze.0        14430.0           0.24          56.30          bus\n",
       "9  bus_M1:France.0        14430.0          12.91          34.27          bus"
      ],
      "text/html": "<div>\n<style scoped>\n    .dataframe tbody tr th:only-of-type {\n        vertical-align: middle;\n    }\n\n    .dataframe tbody tr th {\n        vertical-align: top;\n    }\n\n    .dataframe thead th {\n        text-align: right;\n    }\n</style>\n<table border=\"1\" class=\"dataframe\">\n  <thead>\n    <tr style=\"text-align: right;\">\n      <th></th>\n      <th>vehicle_id</th>\n      <th>timestep_time</th>\n      <th>vehicle_speed</th>\n      <th>vehicle_angle</th>\n      <th>vehicle_type</th>\n    </tr>\n  </thead>\n  <tbody>\n    <tr>\n      <th>0</th>\n      <td>NaN</td>\n      <td>14400.0</td>\n      <td>NaN</td>\n      <td>NaN</td>\n      <td>NaN</td>\n    </tr>\n    <tr>\n      <th>1</th>\n      <td>bus_M1:France.0</td>\n      <td>14405.0</td>\n      <td>0.00</td>\n      <td>80.89</td>\n      <td>bus</td>\n    </tr>\n    <tr>\n      <th>2</th>\n      <td>bus_M1:France.0</td>\n      <td>14410.0</td>\n      <td>3.97</td>\n      <td>71.94</td>\n      <td>bus</td>\n    </tr>\n    <tr>\n      <th>3</th>\n      <td>bus_M1:France.0</td>\n      <td>14415.0</td>\n      <td>8.49</td>\n      <td>57.57</td>\n      <td>bus</td>\n    </tr>\n    <tr>\n      <th>4</th>\n      <td>bus_M1:France.0</td>\n      <td>14420.0</td>\n      <td>12.78</td>\n      <td>32.10</td>\n      <td>bus</td>\n    </tr>\n    <tr>\n      <th>5</th>\n      <td>bus_M1:Eze.0</td>\n      <td>14425.0</td>\n      <td>3.09</td>\n      <td>53.85</td>\n      <td>bus</td>\n    </tr>\n    <tr>\n      <th>6</th>\n      <td>bus_M1:France.0</td>\n      <td>14425.0</td>\n      <td>12.58</td>\n      <td>42.04</td>\n      <td>bus</td>\n    </tr>\n    <tr>\n      <th>7</th>\n      <td>bus_M2:France.0</td>\n      <td>14425.0</td>\n      <td>1.46</td>\n      <td>204.72</td>\n      <td>bus</td>\n    </tr>\n    <tr>\n      <th>8</th>\n      <td>bus_M1:Eze.0</td>\n      <td>14430.0</td>\n      <td>0.24</td>\n      <td>56.30</td>\n      <td>bus</td>\n    </tr>\n    <tr>\n      <th>9</th>\n      <td>bus_M1:France.0</td>\n      <td>14430.0</td>\n      <td>12.91</td>\n      <td>34.27</td>\n      <td>bus</td>\n    </tr>\n  </tbody>\n</table>\n</div>"
     },
     "metadata": {},
     "execution_count": 9
    }
   ],
   "source": [
    "data.head(10)"
   ]
  },
  {
   "source": [
    "Now let's see how the vehicle categories are defined."
   ],
   "cell_type": "markdown",
   "metadata": {}
  },
  {
   "cell_type": "code",
   "execution_count": 10,
   "metadata": {},
   "outputs": [
    {
     "output_type": "execute_result",
     "data": {
      "text/plain": [
       "array([nan, 'bus', 'train', 'hw_trailer', 'fastbicycle', 'motorcycle',\n",
       "       'passenger4', 'passenger2b', 'truck', 'delivery', 'coach',\n",
       "       'passenger2a', 'passenger3', 'passenger1', 'moped', 'trailer',\n",
       "       'avgbicycle', 'hw_motorcycle', 'hw_passenger1', 'taxi',\n",
       "       'emergency', 'slowbicycle', 'authority', 'uber', 'hw_coach',\n",
       "       'hw_passenger2a', 'hw_truck', 'hw_passenger3', 'hw_passenger4',\n",
       "       'hw_delivery', 'hw_passenger2b', 'army'], dtype=object)"
      ]
     },
     "metadata": {},
     "execution_count": 10
    }
   ],
   "source": [
    "data['vehicle_type'].unique()"
   ]
  },
  {
   "source": [
    "According to the [documentation](https://sumo.dlr.de/docs/Definition_of_Vehicles,_Vehicle_Types,_and_Routes.html#abstract_vehicle_class), all the vehicle types that start with `passenger` are a subclass of cars. Therefore, we will unify these labels after we drop all categories that are neither cars nor busses."
   ],
   "cell_type": "markdown",
   "metadata": {}
  },
  {
   "cell_type": "code",
   "execution_count": 11,
   "metadata": {},
   "outputs": [],
   "source": [
    "# drops all entries that are neither cars nor busses\n",
    "data = data[(data['vehicle_type'] == 'bus') | (data['vehicle_type'].str.startswith('passenger'))]\n",
    "\n",
    "# unifies car label for all entries\n",
    "data['vehicle_type'] = data['vehicle_type'].map(lambda x: 'car' if x.startswith('passenger') else x)"
   ]
  },
  {
   "source": [
    "Now let's check if there are any null values on our modified dataset."
   ],
   "cell_type": "markdown",
   "metadata": {}
  },
  {
   "cell_type": "code",
   "execution_count": 12,
   "metadata": {},
   "outputs": [
    {
     "output_type": "execute_result",
     "data": {
      "text/plain": [
       "vehicle_id       0\n",
       "timestep_time    0\n",
       "vehicle_speed    0\n",
       "vehicle_angle    0\n",
       "vehicle_type     0\n",
       "dtype: int64"
      ]
     },
     "metadata": {},
     "execution_count": 12
    }
   ],
   "source": [
    "data.isna().sum()"
   ]
  },
  {
   "source": [
    "In order to work with the time-series algorithms from the `sktime` package, it is necessary to transform our dataset into a *nested* one. Since we cannot save a nested dataset, we will transform our dataframe into a multi-indexed one and save it to disk. Multi-indexed dataframes can be turned into nested by using the `from_multi_index_to_nested` method from the `sktime` package."
   ],
   "cell_type": "markdown",
   "metadata": {}
  },
  {
   "cell_type": "code",
   "execution_count": 13,
   "metadata": {},
   "outputs": [],
   "source": [
    "# multindex dataframe\n",
    "data.sort_values(by=['vehicle_id', 'timestep_time'], inplace=True)\n",
    "multiindex = pd.MultiIndex.from_frame(data[['vehicle_id', 'timestep_time']])\n",
    "data.index = multiindex\n",
    "\n",
    "# drops columns used in indexing\n",
    "data.drop(['vehicle_id', 'timestep_time'], axis='columns', inplace=True)"
   ]
  },
  {
   "source": [
    "Now, let's save our preprocessed dataset."
   ],
   "cell_type": "markdown",
   "metadata": {}
  },
  {
   "cell_type": "code",
   "execution_count": 14,
   "metadata": {},
   "outputs": [],
   "source": [
    "data.to_csv('cleaned_data.csv')"
   ]
  },
  {
   "source": [
    "## Data Processing\n",
    "\n",
    "Because we can't save a nested dataset, we'll need to load our preprocessed dataset and do the necessary transformations every time we are to interact with our project starting from a fresh boot up. This is the point where, if you have previously run the code before this section, you can run from without the need to repeat the steps before. We'll load the previously saved dataset from disk and print it to see what it looks like."
   ],
   "cell_type": "markdown",
   "metadata": {}
  },
  {
   "cell_type": "code",
   "execution_count": 15,
   "metadata": {},
   "outputs": [
    {
     "output_type": "execute_result",
     "data": {
      "text/plain": [
       "                                vehicle_speed  vehicle_angle vehicle_type\n",
       "vehicle_id       timestep_time                                           \n",
       "bus_100:Menton.0 15065.0                 2.59          76.55          bus\n",
       "                 15070.0                 6.62          64.31          bus\n",
       "                 15075.0                 7.94          57.08          bus\n",
       "                 15080.0                 0.00          55.10          bus\n",
       "                 15085.0                 0.00          55.10          bus\n",
       "                 15090.0                 0.00          55.10          bus\n",
       "                 15095.0                 0.00          55.10          bus\n",
       "                 15100.0                 0.00          55.10          bus\n",
       "                 15105.0                 0.00          55.10          bus\n",
       "                 15110.0                 1.06          53.57          bus"
      ],
      "text/html": "<div>\n<style scoped>\n    .dataframe tbody tr th:only-of-type {\n        vertical-align: middle;\n    }\n\n    .dataframe tbody tr th {\n        vertical-align: top;\n    }\n\n    .dataframe thead th {\n        text-align: right;\n    }\n</style>\n<table border=\"1\" class=\"dataframe\">\n  <thead>\n    <tr style=\"text-align: right;\">\n      <th></th>\n      <th></th>\n      <th>vehicle_speed</th>\n      <th>vehicle_angle</th>\n      <th>vehicle_type</th>\n    </tr>\n    <tr>\n      <th>vehicle_id</th>\n      <th>timestep_time</th>\n      <th></th>\n      <th></th>\n      <th></th>\n    </tr>\n  </thead>\n  <tbody>\n    <tr>\n      <th rowspan=\"10\" valign=\"top\">bus_100:Menton.0</th>\n      <th>15065.0</th>\n      <td>2.59</td>\n      <td>76.55</td>\n      <td>bus</td>\n    </tr>\n    <tr>\n      <th>15070.0</th>\n      <td>6.62</td>\n      <td>64.31</td>\n      <td>bus</td>\n    </tr>\n    <tr>\n      <th>15075.0</th>\n      <td>7.94</td>\n      <td>57.08</td>\n      <td>bus</td>\n    </tr>\n    <tr>\n      <th>15080.0</th>\n      <td>0.00</td>\n      <td>55.10</td>\n      <td>bus</td>\n    </tr>\n    <tr>\n      <th>15085.0</th>\n      <td>0.00</td>\n      <td>55.10</td>\n      <td>bus</td>\n    </tr>\n    <tr>\n      <th>15090.0</th>\n      <td>0.00</td>\n      <td>55.10</td>\n      <td>bus</td>\n    </tr>\n    <tr>\n      <th>15095.0</th>\n      <td>0.00</td>\n      <td>55.10</td>\n      <td>bus</td>\n    </tr>\n    <tr>\n      <th>15100.0</th>\n      <td>0.00</td>\n      <td>55.10</td>\n      <td>bus</td>\n    </tr>\n    <tr>\n      <th>15105.0</th>\n      <td>0.00</td>\n      <td>55.10</td>\n      <td>bus</td>\n    </tr>\n    <tr>\n      <th>15110.0</th>\n      <td>1.06</td>\n      <td>53.57</td>\n      <td>bus</td>\n    </tr>\n  </tbody>\n</table>\n</div>"
     },
     "metadata": {},
     "execution_count": 15
    }
   ],
   "source": [
    "data = pd.read_csv('cleaned_data.csv', index_col=['vehicle_id', 'timestep_time'])\n",
    "data.head(10)"
   ]
  },
  {
   "source": [
    "In order to work with the time-series algorithms from the `sktime` package, it is necessary to transform our dataset into a *nested* one; a dataset in which each row contains an instance (vehicle ID), each column contains a feature and each cell is an entire time-series. To do this, we will first index our dataframe by both `vehicle_id` and `timestep_time`, making it a muti-indexed dataframe. Then, the function [`from_multi_index_to_nested`](https://www.sktime.org/en/latest/examples/loading_data.html#Using-multi-indexed-pandas-DataFrames) will transform our structure into a nested frame. Because the function resets the index in the transformed dataframe, we need to save our desired index (the column `vehicle_id` reduced to unique values) and reassign it to our frame after we call the function."
   ],
   "cell_type": "markdown",
   "metadata": {}
  },
  {
   "cell_type": "code",
   "execution_count": 16,
   "metadata": {},
   "outputs": [
    {
     "output_type": "execute_result",
     "data": {
      "text/plain": [
       "                                                      vehicle_speed  \\\n",
       "vehicle_id                                                            \n",
       "bus_100:Menton.0  15065.0     2.59\n",
       "15070.0     6.62\n",
       "15075.0     ...   \n",
       "bus_100:Menton.1  15965.0     2.61\n",
       "15970.0     6.81\n",
       "15975.0     ...   \n",
       "bus_100:Menton.2  16865.0     2.81\n",
       "16870.0     6.99\n",
       "16875.0     ...   \n",
       "bus_100:Menton.3  17765.0     2.86\n",
       "17770.0     7.74\n",
       "17775.0     ...   \n",
       "bus_100:Menton.4  18665.0     2.66\n",
       "18670.0     7.67\n",
       "18675.0     ...   \n",
       "bus_100:Menton.5  19575.0     1.78\n",
       "19580.0     7.06\n",
       "19585.0     ...   \n",
       "bus_100:Menton.6  20500.0    0.99\n",
       "20505.0    5.53\n",
       "20510.0    9.4...   \n",
       "bus_100:Menton.7  21365.0     0.68\n",
       "21370.0     5.21\n",
       "21375.0     ...   \n",
       "bus_100:Nice.0    15125.0     0.00\n",
       "15130.0     5.38\n",
       "15135.0    1...   \n",
       "bus_100:Nice.1    16025.0    0.00\n",
       "16030.0    5.31\n",
       "16035.0    9.9...   \n",
       "\n",
       "                                                      vehicle_angle  \\\n",
       "vehicle_id                                                            \n",
       "bus_100:Menton.0  15065.0    76.55\n",
       "15070.0    64.31\n",
       "15075.0    5...   \n",
       "bus_100:Menton.1  15965.0    77.50\n",
       "15970.0    64.96\n",
       "15975.0    5...   \n",
       "bus_100:Menton.2  16865.0    76.85\n",
       "16870.0    63.03\n",
       "16875.0    5...   \n",
       "bus_100:Menton.3  17765.0    76.54\n",
       "17770.0    61.21\n",
       "17775.0    5...   \n",
       "bus_100:Menton.4  18665.0    77.08\n",
       "18670.0    62.67\n",
       "18675.0    5...   \n",
       "bus_100:Menton.5  19575.0     78.81\n",
       "19580.0     67.61\n",
       "19585.0   ...   \n",
       "bus_100:Menton.6  20500.0    80.18\n",
       "20505.0    67.75\n",
       "20510.0    5...   \n",
       "bus_100:Menton.7  21365.0     80.40\n",
       "21370.0     67.75\n",
       "21375.0   ...   \n",
       "bus_100:Nice.0    15125.0    231.22\n",
       "15130.0    235.63\n",
       "15135.0   ...   \n",
       "bus_100:Nice.1    16025.0    231.22\n",
       "16030.0    236.31\n",
       "16035.0   ...   \n",
       "\n",
       "                 vehicle_type  \n",
       "vehicle_id                     \n",
       "bus_100:Menton.0          bus  \n",
       "bus_100:Menton.1          bus  \n",
       "bus_100:Menton.2          bus  \n",
       "bus_100:Menton.3          bus  \n",
       "bus_100:Menton.4          bus  \n",
       "bus_100:Menton.5          bus  \n",
       "bus_100:Menton.6          bus  \n",
       "bus_100:Menton.7          bus  \n",
       "bus_100:Nice.0            bus  \n",
       "bus_100:Nice.1            bus  "
      ],
      "text/html": "<div>\n<style scoped>\n    .dataframe tbody tr th:only-of-type {\n        vertical-align: middle;\n    }\n\n    .dataframe tbody tr th {\n        vertical-align: top;\n    }\n\n    .dataframe thead th {\n        text-align: right;\n    }\n</style>\n<table border=\"1\" class=\"dataframe\">\n  <thead>\n    <tr style=\"text-align: right;\">\n      <th></th>\n      <th>vehicle_speed</th>\n      <th>vehicle_angle</th>\n      <th>vehicle_type</th>\n    </tr>\n    <tr>\n      <th>vehicle_id</th>\n      <th></th>\n      <th></th>\n      <th></th>\n    </tr>\n  </thead>\n  <tbody>\n    <tr>\n      <th>bus_100:Menton.0</th>\n      <td>15065.0     2.59\n15070.0     6.62\n15075.0     ...</td>\n      <td>15065.0    76.55\n15070.0    64.31\n15075.0    5...</td>\n      <td>bus</td>\n    </tr>\n    <tr>\n      <th>bus_100:Menton.1</th>\n      <td>15965.0     2.61\n15970.0     6.81\n15975.0     ...</td>\n      <td>15965.0    77.50\n15970.0    64.96\n15975.0    5...</td>\n      <td>bus</td>\n    </tr>\n    <tr>\n      <th>bus_100:Menton.2</th>\n      <td>16865.0     2.81\n16870.0     6.99\n16875.0     ...</td>\n      <td>16865.0    76.85\n16870.0    63.03\n16875.0    5...</td>\n      <td>bus</td>\n    </tr>\n    <tr>\n      <th>bus_100:Menton.3</th>\n      <td>17765.0     2.86\n17770.0     7.74\n17775.0     ...</td>\n      <td>17765.0    76.54\n17770.0    61.21\n17775.0    5...</td>\n      <td>bus</td>\n    </tr>\n    <tr>\n      <th>bus_100:Menton.4</th>\n      <td>18665.0     2.66\n18670.0     7.67\n18675.0     ...</td>\n      <td>18665.0    77.08\n18670.0    62.67\n18675.0    5...</td>\n      <td>bus</td>\n    </tr>\n    <tr>\n      <th>bus_100:Menton.5</th>\n      <td>19575.0     1.78\n19580.0     7.06\n19585.0     ...</td>\n      <td>19575.0     78.81\n19580.0     67.61\n19585.0   ...</td>\n      <td>bus</td>\n    </tr>\n    <tr>\n      <th>bus_100:Menton.6</th>\n      <td>20500.0    0.99\n20505.0    5.53\n20510.0    9.4...</td>\n      <td>20500.0    80.18\n20505.0    67.75\n20510.0    5...</td>\n      <td>bus</td>\n    </tr>\n    <tr>\n      <th>bus_100:Menton.7</th>\n      <td>21365.0     0.68\n21370.0     5.21\n21375.0     ...</td>\n      <td>21365.0     80.40\n21370.0     67.75\n21375.0   ...</td>\n      <td>bus</td>\n    </tr>\n    <tr>\n      <th>bus_100:Nice.0</th>\n      <td>15125.0     0.00\n15130.0     5.38\n15135.0    1...</td>\n      <td>15125.0    231.22\n15130.0    235.63\n15135.0   ...</td>\n      <td>bus</td>\n    </tr>\n    <tr>\n      <th>bus_100:Nice.1</th>\n      <td>16025.0    0.00\n16030.0    5.31\n16035.0    9.9...</td>\n      <td>16025.0    231.22\n16030.0    236.31\n16035.0   ...</td>\n      <td>bus</td>\n    </tr>\n  </tbody>\n</table>\n</div>"
     },
     "metadata": {},
     "execution_count": 16
    }
   ],
   "source": [
    "# transforms dataframe into a nested sctructure of time-series\n",
    "index = data.index.get_level_values('vehicle_id').unique()\n",
    "data = from_multi_index_to_nested(data, instance_index='vehicle_id')\n",
    "data.index = index\n",
    "\n",
    "# after the transformation we have a series in each entry containing the repeated values for vehicle type, \n",
    "# this makes the feature a single value column again\n",
    "data['vehicle_type'] = data['vehicle_type'].map(lambda vehicle_type_series: vehicle_type_series.iloc[0])\n",
    "\n",
    "data.head(10)"
   ]
  },
  {
   "source": [
    "We'll now create some new features based on the speed and orientation of vehicles. `speed_variation` and `angle_variation` will be time-series describing how speed and orientation, respectively, change in time. `mean_vehicle_speed` and `std_vehicle_speed` will be both single-dimension features derived from the original `vehicle_speed`, and `mean_speed_variation` and `mean_angle_variation` will also be one-dimensional values computed from the newly created `speed_variation` and `angle_variation`. We'll see how these features help us to predict our target variable. Then, we'll use the `sample` method to randomize the order of our dataframe by making the argument `frac=1`, specifying the sampling to keep the entire dataset. "
   ],
   "cell_type": "markdown",
   "metadata": {}
  },
  {
   "cell_type": "code",
   "execution_count": 17,
   "metadata": {},
   "outputs": [],
   "source": [
    "# speed mean and standard deviation\n",
    "data['mean_vehicle_speed'] = data['vehicle_speed'].map(lambda speed: speed.mean())\n",
    "data['std_vehicle_speed'] = data['vehicle_speed'].map(lambda speed: speed.std())\n",
    "\n",
    "# speed and angle variation\n",
    "data['speed_variation'] = data['vehicle_speed'].map(lambda speed: speed.diff())\n",
    "data['angle_variation'] = data['vehicle_angle'].map(lambda angle: angle.diff())\n",
    "\n",
    "# speed and angle variation mean\n",
    "data['mean_speed_variation'] = data['speed_variation'].map(lambda speed_variation: speed_variation.abs().mean())\n",
    "data['mean_angle_variation'] = data['angle_variation'].map(lambda angle_variation: angle_variation.abs().mean())\n",
    "\n",
    "# randomize dataframe\n",
    "data = data.sample(frac=1, random_state=1)"
   ]
  },
  {
   "source": [
    "Next, we need to clear some null values generated by the differentiating of speed and orientation; we'll drop the first value of all time-series in the dataset. After that, in order to work with the algorithms in the `sktime` library, all of our time-series need to have the same length for a given feature. We will sample a random interval of each time-series (with all entries having the same choice of time-stamps for all features), but not before removing any samples that have fewer elements than the determined interval size. To keep the procedure reproducible, we'll set a new random seed every time we chop a time-series in the dataset."
   ],
   "cell_type": "markdown",
   "metadata": {}
  },
  {
   "cell_type": "code",
   "execution_count": 18,
   "metadata": {
    "tags": []
   },
   "outputs": [
    {
     "output_type": "stream",
     "name": "stdout",
     "text": [
      "Original number of samples:3118\nNumber of samples after size filtering: 2857\n"
     ]
    }
   ],
   "source": [
    "# drops 1st element because of generated na values\n",
    "features = ['vehicle_speed', 'speed_variation', 'angle_variation']\n",
    "data[features] = data[features].applymap(lambda series: series.iloc[1:])\n",
    "\n",
    "print(f'Original number of samples:{data.shape[0]}')\n",
    "\n",
    "chunk_size = 50\n",
    "data = data[data['vehicle_speed'].map(lambda vehicle_speed: vehicle_speed.size >= chunk_size)]\n",
    "\n",
    "print(f'Number of samples after size filtering: {data.shape[0]}')\n",
    "\n",
    "np.random.seed(1)\n",
    "def get_interval(row):\n",
    "    '''\n",
    "    function that randomly chooses a chunk of size *chunk_size* of each series on the dataset \n",
    "    '''\n",
    "    if row.iloc[0].size == chunk_size:\n",
    "        return row\n",
    "    else:\n",
    "        i = np.random.random_integers(low=0, high=(row.iloc[0].size - chunk_size))\n",
    "        np.random.seed(i)   # sets seed so random generation keeps going in a reproducible way\n",
    "        return row.map(lambda series: series.iloc[i:i+chunk_size])\n",
    "        \n",
    "\n",
    "# chopping the time series in order to normalize their size across the dataset\n",
    "data[features] = data[features].apply(get_interval, axis=1)"
   ]
  },
  {
   "source": [
    "As we can see above, after nesting the dataframe, it contains 3118 samples; each is a vehicle containing both scalar and time-series features. After we removed the vehicles that had fewer than 50 time-observations, we ended up with 2857 samples, losing 261 in the process.\n",
    "\n",
    "Let us now see how our targe labels are distributed:"
   ],
   "cell_type": "markdown",
   "metadata": {}
  },
  {
   "cell_type": "code",
   "execution_count": 19,
   "metadata": {},
   "outputs": [
    {
     "output_type": "execute_result",
     "data": {
      "text/plain": [
       "car    2669\n",
       "bus     188\n",
       "Name: vehicle_type, dtype: int64"
      ]
     },
     "metadata": {},
     "execution_count": 19
    }
   ],
   "source": [
    "data['vehicle_type'].value_counts()"
   ]
  },
  {
   "source": [
    "We can see that our dataset is clearly unbalanced.\n",
    "\n",
    "Now it's time to split our data into a training and a test dataset. For that, we'll use a common choice for train/test splits that reserves 20% of samples to the test set."
   ],
   "cell_type": "markdown",
   "metadata": {}
  },
  {
   "cell_type": "code",
   "execution_count": 20,
   "metadata": {},
   "outputs": [],
   "source": [
    "training, test = train_test_split(data, test_size=0.2, random_state=1, stratify=data['vehicle_type'])"
   ]
  },
  {
   "source": [
    "Also, we'll plot the distribution of our scalar features across both labels:"
   ],
   "cell_type": "markdown",
   "metadata": {}
  },
  {
   "cell_type": "code",
   "execution_count": 39,
   "metadata": {},
   "outputs": [
    {
     "output_type": "display_data",
     "data": {
      "text/plain": "<Figure size 720x504 with 1 Axes>",
      "image/svg+xml": "<?xml version=\"1.0\" encoding=\"utf-8\" standalone=\"no\"?>\n<!DOCTYPE svg PUBLIC \"-//W3C//DTD SVG 1.1//EN\"\n  \"http://www.w3.org/Graphics/SVG/1.1/DTD/svg11.dtd\">\n<!-- Created with matplotlib (https://matplotlib.org/) -->\n<svg height=\"426.71625pt\" version=\"1.1\" viewBox=\"0 0 595.303125 426.71625\" width=\"595.303125pt\" xmlns=\"http://www.w3.org/2000/svg\" xmlns:xlink=\"http://www.w3.org/1999/xlink\">\n <metadata>\n  <rdf:RDF xmlns:cc=\"http://creativecommons.org/ns#\" xmlns:dc=\"http://purl.org/dc/elements/1.1/\" xmlns:rdf=\"http://www.w3.org/1999/02/22-rdf-syntax-ns#\">\n   <cc:Work>\n    <dc:type rdf:resource=\"http://purl.org/dc/dcmitype/StillImage\"/>\n    <dc:date>2021-02-22T18:22:20.405441</dc:date>\n    <dc:format>image/svg+xml</dc:format>\n    <dc:creator>\n     <cc:Agent>\n      <dc:title>Matplotlib v3.3.3, https://matplotlib.org/</dc:title>\n     </cc:Agent>\n    </dc:creator>\n   </cc:Work>\n  </rdf:RDF>\n </metadata>\n <defs>\n  <style type=\"text/css\">*{stroke-linecap:butt;stroke-linejoin:round;}</style>\n </defs>\n <g id=\"figure_1\">\n  <g id=\"patch_1\">\n   <path d=\"M -0 426.71625 \nL 595.303125 426.71625 \nL 595.303125 0 \nL -0 0 \nz\n\" style=\"fill:none;\"/>\n  </g>\n  <g id=\"axes_1\">\n   <g id=\"patch_2\">\n    <path d=\"M 30.103125 402.838125 \nL 588.103125 402.838125 \nL 588.103125 22.318125 \nL 30.103125 22.318125 \nz\n\" style=\"fill:#ffffff;\"/>\n   </g>\n   <g id=\"patch_3\">\n    <path clip-path=\"url(#p4a47fa7dfc)\" d=\"M 55.466761 402.838125 \nL 80.830398 402.838125 \nL 80.830398 398.023738 \nL 55.466761 398.023738 \nz\n\" style=\"fill:#1f77b4;opacity:0.5;\"/>\n   </g>\n   <g id=\"patch_4\">\n    <path clip-path=\"url(#p4a47fa7dfc)\" d=\"M 80.830398 402.838125 \nL 106.194034 402.838125 \nL 106.194034 358.633297 \nL 80.830398 358.633297 \nz\n\" style=\"fill:#1f77b4;opacity:0.5;\"/>\n   </g>\n   <g id=\"patch_5\">\n    <path clip-path=\"url(#p4a47fa7dfc)\" d=\"M 106.194034 402.838125 \nL 131.55767 402.838125 \nL 131.55767 303.486679 \nL 106.194034 303.486679 \nz\n\" style=\"fill:#1f77b4;opacity:0.5;\"/>\n   </g>\n   <g id=\"patch_6\">\n    <path clip-path=\"url(#p4a47fa7dfc)\" d=\"M 131.55767 402.838125 \nL 156.921307 402.838125 \nL 156.921307 311.364767 \nL 131.55767 311.364767 \nz\n\" style=\"fill:#1f77b4;opacity:0.5;\"/>\n   </g>\n   <g id=\"patch_7\">\n    <path clip-path=\"url(#p4a47fa7dfc)\" d=\"M 156.921307 402.838125 \nL 182.284943 402.838125 \nL 182.284943 343.314792 \nL 156.921307 343.314792 \nz\n\" style=\"fill:#1f77b4;opacity:0.5;\"/>\n   </g>\n   <g id=\"patch_8\">\n    <path clip-path=\"url(#p4a47fa7dfc)\" d=\"M 182.284943 402.838125 \nL 207.64858 402.838125 \nL 207.64858 361.259326 \nL 182.284943 361.259326 \nz\n\" style=\"fill:#1f77b4;opacity:0.5;\"/>\n   </g>\n   <g id=\"patch_9\">\n    <path clip-path=\"url(#p4a47fa7dfc)\" d=\"M 207.64858 402.838125 \nL 233.012216 402.838125 \nL 233.012216 363.447684 \nL 207.64858 363.447684 \nz\n\" style=\"fill:#1f77b4;opacity:0.5;\"/>\n   </g>\n   <g id=\"patch_10\">\n    <path clip-path=\"url(#p4a47fa7dfc)\" d=\"M 233.012216 402.838125 \nL 258.375852 402.838125 \nL 258.375852 371.325772 \nL 233.012216 371.325772 \nz\n\" style=\"fill:#1f77b4;opacity:0.5;\"/>\n   </g>\n   <g id=\"patch_11\">\n    <path clip-path=\"url(#p4a47fa7dfc)\" d=\"M 258.375852 402.838125 \nL 283.739489 402.838125 \nL 283.739489 361.696998 \nL 258.375852 361.696998 \nz\n\" style=\"fill:#1f77b4;opacity:0.5;\"/>\n   </g>\n   <g id=\"patch_12\">\n    <path clip-path=\"url(#p4a47fa7dfc)\" d=\"M 283.739489 402.838125 \nL 309.103125 402.838125 \nL 309.103125 354.694252 \nL 283.739489 354.694252 \nz\n\" style=\"fill:#1f77b4;opacity:0.5;\"/>\n   </g>\n   <g id=\"patch_13\">\n    <path clip-path=\"url(#p4a47fa7dfc)\" d=\"M 309.103125 402.838125 \nL 334.466761 402.838125 \nL 334.466761 326.2456 \nL 309.103125 326.2456 \nz\n\" style=\"fill:#1f77b4;opacity:0.5;\"/>\n   </g>\n   <g id=\"patch_14\">\n    <path clip-path=\"url(#p4a47fa7dfc)\" d=\"M 334.466761 402.838125 \nL 359.830398 402.838125 \nL 359.830398 303.486679 \nL 334.466761 303.486679 \nz\n\" style=\"fill:#1f77b4;opacity:0.5;\"/>\n   </g>\n   <g id=\"patch_15\">\n    <path clip-path=\"url(#p4a47fa7dfc)\" d=\"M 359.830398 402.838125 \nL 385.194034 402.838125 \nL 385.194034 302.173664 \nL 359.830398 302.173664 \nz\n\" style=\"fill:#1f77b4;opacity:0.5;\"/>\n   </g>\n   <g id=\"patch_16\">\n    <path clip-path=\"url(#p4a47fa7dfc)\" d=\"M 385.194034 402.838125 \nL 410.55767 402.838125 \nL 410.55767 324.932586 \nL 385.194034 324.932586 \nz\n\" style=\"fill:#1f77b4;opacity:0.5;\"/>\n   </g>\n   <g id=\"patch_17\">\n    <path clip-path=\"url(#p4a47fa7dfc)\" d=\"M 410.55767 402.838125 \nL 435.921307 402.838125 \nL 435.921307 354.694252 \nL 410.55767 354.694252 \nz\n\" style=\"fill:#1f77b4;opacity:0.5;\"/>\n   </g>\n   <g id=\"patch_18\">\n    <path clip-path=\"url(#p4a47fa7dfc)\" d=\"M 435.921307 402.838125 \nL 461.284943 402.838125 \nL 461.284943 380.516875 \nL 435.921307 380.516875 \nz\n\" style=\"fill:#1f77b4;opacity:0.5;\"/>\n   </g>\n   <g id=\"patch_19\">\n    <path clip-path=\"url(#p4a47fa7dfc)\" d=\"M 461.284943 402.838125 \nL 486.64858 402.838125 \nL 486.64858 396.273051 \nL 461.284943 396.273051 \nz\n\" style=\"fill:#1f77b4;opacity:0.5;\"/>\n   </g>\n   <g id=\"patch_20\">\n    <path clip-path=\"url(#p4a47fa7dfc)\" d=\"M 486.64858 402.838125 \nL 512.012216 402.838125 \nL 512.012216 401.962782 \nL 486.64858 401.962782 \nz\n\" style=\"fill:#1f77b4;opacity:0.5;\"/>\n   </g>\n   <g id=\"patch_21\">\n    <path clip-path=\"url(#p4a47fa7dfc)\" d=\"M 512.012216 402.838125 \nL 537.375852 402.838125 \nL 537.375852 402.400453 \nL 512.012216 402.400453 \nz\n\" style=\"fill:#1f77b4;opacity:0.5;\"/>\n   </g>\n   <g id=\"patch_22\">\n    <path clip-path=\"url(#p4a47fa7dfc)\" d=\"M 537.375852 402.838125 \nL 562.739489 402.838125 \nL 562.739489 402.400453 \nL 537.375852 402.400453 \nz\n\" style=\"fill:#1f77b4;opacity:0.5;\"/>\n   </g>\n   <g id=\"patch_23\">\n    <path clip-path=\"url(#p4a47fa7dfc)\" d=\"M 86.061777 402.838125 \nL 98.705538 402.838125 \nL 98.705538 352.851918 \nL 86.061777 352.851918 \nz\n\" style=\"fill:#ff7f0e;opacity:0.5;\"/>\n   </g>\n   <g id=\"patch_24\">\n    <path clip-path=\"url(#p4a47fa7dfc)\" d=\"M 98.705538 402.838125 \nL 111.349299 402.838125 \nL 111.349299 390.341573 \nL 98.705538 390.341573 \nz\n\" style=\"fill:#ff7f0e;opacity:0.5;\"/>\n   </g>\n   <g id=\"patch_25\">\n    <path clip-path=\"url(#p4a47fa7dfc)\" d=\"M 111.349299 402.838125 \nL 123.99306 402.838125 \nL 123.99306 390.341573 \nL 111.349299 390.341573 \nz\n\" style=\"fill:#ff7f0e;opacity:0.5;\"/>\n   </g>\n   <g id=\"patch_26\">\n    <path clip-path=\"url(#p4a47fa7dfc)\" d=\"M 123.99306 402.838125 \nL 136.636821 402.838125 \nL 136.636821 340.355366 \nL 123.99306 340.355366 \nz\n\" style=\"fill:#ff7f0e;opacity:0.5;\"/>\n   </g>\n   <g id=\"patch_27\">\n    <path clip-path=\"url(#p4a47fa7dfc)\" d=\"M 136.636821 402.838125 \nL 149.280582 402.838125 \nL 149.280582 165.403642 \nL 136.636821 165.403642 \nz\n\" style=\"fill:#ff7f0e;opacity:0.5;\"/>\n   </g>\n   <g id=\"patch_28\">\n    <path clip-path=\"url(#p4a47fa7dfc)\" d=\"M 149.280582 402.838125 \nL 161.924344 402.838125 \nL 161.924344 40.438125 \nL 149.280582 40.438125 \nz\n\" style=\"fill:#ff7f0e;opacity:0.5;\"/>\n   </g>\n   <g id=\"patch_29\">\n    <path clip-path=\"url(#p4a47fa7dfc)\" d=\"M 161.924344 402.838125 \nL 174.568105 402.838125 \nL 174.568105 152.907091 \nL 161.924344 152.907091 \nz\n\" style=\"fill:#ff7f0e;opacity:0.5;\"/>\n   </g>\n   <g id=\"patch_30\">\n    <path clip-path=\"url(#p4a47fa7dfc)\" d=\"M 174.568105 402.838125 \nL 187.211866 402.838125 \nL 187.211866 252.879504 \nL 174.568105 252.879504 \nz\n\" style=\"fill:#ff7f0e;opacity:0.5;\"/>\n   </g>\n   <g id=\"patch_31\">\n    <path clip-path=\"url(#p4a47fa7dfc)\" d=\"M 187.211866 402.838125 \nL 199.855627 402.838125 \nL 199.855627 402.838125 \nL 187.211866 402.838125 \nz\n\" style=\"fill:#ff7f0e;opacity:0.5;\"/>\n   </g>\n   <g id=\"patch_32\">\n    <path clip-path=\"url(#p4a47fa7dfc)\" d=\"M 199.855627 402.838125 \nL 212.499388 402.838125 \nL 212.499388 365.34847 \nL 199.855627 365.34847 \nz\n\" style=\"fill:#ff7f0e;opacity:0.5;\"/>\n   </g>\n   <g id=\"patch_33\">\n    <path clip-path=\"url(#p4a47fa7dfc)\" d=\"M 212.499388 402.838125 \nL 225.143149 402.838125 \nL 225.143149 365.34847 \nL 212.499388 365.34847 \nz\n\" style=\"fill:#ff7f0e;opacity:0.5;\"/>\n   </g>\n   <g id=\"patch_34\">\n    <path clip-path=\"url(#p4a47fa7dfc)\" d=\"M 225.143149 402.838125 \nL 237.786911 402.838125 \nL 237.786911 340.355366 \nL 225.143149 340.355366 \nz\n\" style=\"fill:#ff7f0e;opacity:0.5;\"/>\n   </g>\n   <g id=\"patch_35\">\n    <path clip-path=\"url(#p4a47fa7dfc)\" d=\"M 237.786911 402.838125 \nL 250.430672 402.838125 \nL 250.430672 302.865711 \nL 237.786911 302.865711 \nz\n\" style=\"fill:#ff7f0e;opacity:0.5;\"/>\n   </g>\n   <g id=\"patch_36\">\n    <path clip-path=\"url(#p4a47fa7dfc)\" d=\"M 250.430672 402.838125 \nL 263.074433 402.838125 \nL 263.074433 377.845022 \nL 250.430672 377.845022 \nz\n\" style=\"fill:#ff7f0e;opacity:0.5;\"/>\n   </g>\n   <g id=\"patch_37\">\n    <path clip-path=\"url(#p4a47fa7dfc)\" d=\"M 263.074433 402.838125 \nL 275.718194 402.838125 \nL 275.718194 365.34847 \nL 263.074433 365.34847 \nz\n\" style=\"fill:#ff7f0e;opacity:0.5;\"/>\n   </g>\n   <g id=\"patch_38\">\n    <path clip-path=\"url(#p4a47fa7dfc)\" d=\"M 275.718194 402.838125 \nL 288.361955 402.838125 \nL 288.361955 302.865711 \nL 275.718194 302.865711 \nz\n\" style=\"fill:#ff7f0e;opacity:0.5;\"/>\n   </g>\n   <g id=\"patch_39\">\n    <path clip-path=\"url(#p4a47fa7dfc)\" d=\"M 288.361955 402.838125 \nL 301.005716 402.838125 \nL 301.005716 365.34847 \nL 288.361955 365.34847 \nz\n\" style=\"fill:#ff7f0e;opacity:0.5;\"/>\n   </g>\n   <g id=\"patch_40\">\n    <path clip-path=\"url(#p4a47fa7dfc)\" d=\"M 301.005716 402.838125 \nL 313.649477 402.838125 \nL 313.649477 377.845022 \nL 301.005716 377.845022 \nz\n\" style=\"fill:#ff7f0e;opacity:0.5;\"/>\n   </g>\n   <g id=\"patch_41\">\n    <path clip-path=\"url(#p4a47fa7dfc)\" d=\"M 313.649477 402.838125 \nL 326.293239 402.838125 \nL 326.293239 315.362263 \nL 313.649477 315.362263 \nz\n\" style=\"fill:#ff7f0e;opacity:0.5;\"/>\n   </g>\n   <g id=\"patch_42\">\n    <path clip-path=\"url(#p4a47fa7dfc)\" d=\"M 326.293239 402.838125 \nL 338.937 402.838125 \nL 338.937 215.389849 \nL 326.293239 215.389849 \nz\n\" style=\"fill:#ff7f0e;opacity:0.5;\"/>\n   </g>\n   <g id=\"matplotlib.axis_1\">\n    <g id=\"xtick_1\">\n     <g id=\"line2d_1\">\n      <defs>\n       <path d=\"M 0 0 \nL 0 3.5 \n\" id=\"maab9a97a7e\" style=\"stroke:#000000;stroke-width:0.8;\"/>\n      </defs>\n      <g>\n       <use style=\"stroke:#000000;stroke-width:0.8;\" x=\"31.858696\" xlink:href=\"#maab9a97a7e\" y=\"402.838125\"/>\n      </g>\n     </g>\n     <g id=\"text_1\">\n      <!-- 0.0 -->\n      <g transform=\"translate(23.907134 417.436562)scale(0.1 -0.1)\">\n       <defs>\n        <path d=\"M 31.78125 66.40625 \nQ 24.171875 66.40625 20.328125 58.90625 \nQ 16.5 51.421875 16.5 36.375 \nQ 16.5 21.390625 20.328125 13.890625 \nQ 24.171875 6.390625 31.78125 6.390625 \nQ 39.453125 6.390625 43.28125 13.890625 \nQ 47.125 21.390625 47.125 36.375 \nQ 47.125 51.421875 43.28125 58.90625 \nQ 39.453125 66.40625 31.78125 66.40625 \nz\nM 31.78125 74.21875 \nQ 44.046875 74.21875 50.515625 64.515625 \nQ 56.984375 54.828125 56.984375 36.375 \nQ 56.984375 17.96875 50.515625 8.265625 \nQ 44.046875 -1.421875 31.78125 -1.421875 \nQ 19.53125 -1.421875 13.0625 8.265625 \nQ 6.59375 17.96875 6.59375 36.375 \nQ 6.59375 54.828125 13.0625 64.515625 \nQ 19.53125 74.21875 31.78125 74.21875 \nz\n\" id=\"DejaVuSans-48\"/>\n        <path d=\"M 10.6875 12.40625 \nL 21 12.40625 \nL 21 0 \nL 10.6875 0 \nz\n\" id=\"DejaVuSans-46\"/>\n       </defs>\n       <use xlink:href=\"#DejaVuSans-48\"/>\n       <use x=\"63.623047\" xlink:href=\"#DejaVuSans-46\"/>\n       <use x=\"95.410156\" xlink:href=\"#DejaVuSans-48\"/>\n      </g>\n     </g>\n    </g>\n    <g id=\"xtick_2\">\n     <g id=\"line2d_2\">\n      <g>\n       <use style=\"stroke:#000000;stroke-width:0.8;\" x=\"106.153332\" xlink:href=\"#maab9a97a7e\" y=\"402.838125\"/>\n      </g>\n     </g>\n     <g id=\"text_2\">\n      <!-- 2.5 -->\n      <g transform=\"translate(98.20177 417.436562)scale(0.1 -0.1)\">\n       <defs>\n        <path d=\"M 19.1875 8.296875 \nL 53.609375 8.296875 \nL 53.609375 0 \nL 7.328125 0 \nL 7.328125 8.296875 \nQ 12.9375 14.109375 22.625 23.890625 \nQ 32.328125 33.6875 34.8125 36.53125 \nQ 39.546875 41.84375 41.421875 45.53125 \nQ 43.3125 49.21875 43.3125 52.78125 \nQ 43.3125 58.59375 39.234375 62.25 \nQ 35.15625 65.921875 28.609375 65.921875 \nQ 23.96875 65.921875 18.8125 64.3125 \nQ 13.671875 62.703125 7.8125 59.421875 \nL 7.8125 69.390625 \nQ 13.765625 71.78125 18.9375 73 \nQ 24.125 74.21875 28.421875 74.21875 \nQ 39.75 74.21875 46.484375 68.546875 \nQ 53.21875 62.890625 53.21875 53.421875 \nQ 53.21875 48.921875 51.53125 44.890625 \nQ 49.859375 40.875 45.40625 35.40625 \nQ 44.1875 33.984375 37.640625 27.21875 \nQ 31.109375 20.453125 19.1875 8.296875 \nz\n\" id=\"DejaVuSans-50\"/>\n        <path d=\"M 10.796875 72.90625 \nL 49.515625 72.90625 \nL 49.515625 64.59375 \nL 19.828125 64.59375 \nL 19.828125 46.734375 \nQ 21.96875 47.46875 24.109375 47.828125 \nQ 26.265625 48.1875 28.421875 48.1875 \nQ 40.625 48.1875 47.75 41.5 \nQ 54.890625 34.8125 54.890625 23.390625 \nQ 54.890625 11.625 47.5625 5.09375 \nQ 40.234375 -1.421875 26.90625 -1.421875 \nQ 22.3125 -1.421875 17.546875 -0.640625 \nQ 12.796875 0.140625 7.71875 1.703125 \nL 7.71875 11.625 \nQ 12.109375 9.234375 16.796875 8.0625 \nQ 21.484375 6.890625 26.703125 6.890625 \nQ 35.15625 6.890625 40.078125 11.328125 \nQ 45.015625 15.765625 45.015625 23.390625 \nQ 45.015625 31 40.078125 35.4375 \nQ 35.15625 39.890625 26.703125 39.890625 \nQ 22.75 39.890625 18.8125 39.015625 \nQ 14.890625 38.140625 10.796875 36.28125 \nz\n\" id=\"DejaVuSans-53\"/>\n       </defs>\n       <use xlink:href=\"#DejaVuSans-50\"/>\n       <use x=\"63.623047\" xlink:href=\"#DejaVuSans-46\"/>\n       <use x=\"95.410156\" xlink:href=\"#DejaVuSans-53\"/>\n      </g>\n     </g>\n    </g>\n    <g id=\"xtick_3\">\n     <g id=\"line2d_3\">\n      <g>\n       <use style=\"stroke:#000000;stroke-width:0.8;\" x=\"180.447968\" xlink:href=\"#maab9a97a7e\" y=\"402.838125\"/>\n      </g>\n     </g>\n     <g id=\"text_3\">\n      <!-- 5.0 -->\n      <g transform=\"translate(172.496405 417.436562)scale(0.1 -0.1)\">\n       <use xlink:href=\"#DejaVuSans-53\"/>\n       <use x=\"63.623047\" xlink:href=\"#DejaVuSans-46\"/>\n       <use x=\"95.410156\" xlink:href=\"#DejaVuSans-48\"/>\n      </g>\n     </g>\n    </g>\n    <g id=\"xtick_4\">\n     <g id=\"line2d_4\">\n      <g>\n       <use style=\"stroke:#000000;stroke-width:0.8;\" x=\"254.742604\" xlink:href=\"#maab9a97a7e\" y=\"402.838125\"/>\n      </g>\n     </g>\n     <g id=\"text_4\">\n      <!-- 7.5 -->\n      <g transform=\"translate(246.791041 417.436562)scale(0.1 -0.1)\">\n       <defs>\n        <path d=\"M 8.203125 72.90625 \nL 55.078125 72.90625 \nL 55.078125 68.703125 \nL 28.609375 0 \nL 18.3125 0 \nL 43.21875 64.59375 \nL 8.203125 64.59375 \nz\n\" id=\"DejaVuSans-55\"/>\n       </defs>\n       <use xlink:href=\"#DejaVuSans-55\"/>\n       <use x=\"63.623047\" xlink:href=\"#DejaVuSans-46\"/>\n       <use x=\"95.410156\" xlink:href=\"#DejaVuSans-53\"/>\n      </g>\n     </g>\n    </g>\n    <g id=\"xtick_5\">\n     <g id=\"line2d_5\">\n      <g>\n       <use style=\"stroke:#000000;stroke-width:0.8;\" x=\"329.03724\" xlink:href=\"#maab9a97a7e\" y=\"402.838125\"/>\n      </g>\n     </g>\n     <g id=\"text_5\">\n      <!-- 10.0 -->\n      <g transform=\"translate(317.904427 417.436562)scale(0.1 -0.1)\">\n       <defs>\n        <path d=\"M 12.40625 8.296875 \nL 28.515625 8.296875 \nL 28.515625 63.921875 \nL 10.984375 60.40625 \nL 10.984375 69.390625 \nL 28.421875 72.90625 \nL 38.28125 72.90625 \nL 38.28125 8.296875 \nL 54.390625 8.296875 \nL 54.390625 0 \nL 12.40625 0 \nz\n\" id=\"DejaVuSans-49\"/>\n       </defs>\n       <use xlink:href=\"#DejaVuSans-49\"/>\n       <use x=\"63.623047\" xlink:href=\"#DejaVuSans-48\"/>\n       <use x=\"127.246094\" xlink:href=\"#DejaVuSans-46\"/>\n       <use x=\"159.033203\" xlink:href=\"#DejaVuSans-48\"/>\n      </g>\n     </g>\n    </g>\n    <g id=\"xtick_6\">\n     <g id=\"line2d_6\">\n      <g>\n       <use style=\"stroke:#000000;stroke-width:0.8;\" x=\"403.331875\" xlink:href=\"#maab9a97a7e\" y=\"402.838125\"/>\n      </g>\n     </g>\n     <g id=\"text_6\">\n      <!-- 12.5 -->\n      <g transform=\"translate(392.199063 417.436562)scale(0.1 -0.1)\">\n       <use xlink:href=\"#DejaVuSans-49\"/>\n       <use x=\"63.623047\" xlink:href=\"#DejaVuSans-50\"/>\n       <use x=\"127.246094\" xlink:href=\"#DejaVuSans-46\"/>\n       <use x=\"159.033203\" xlink:href=\"#DejaVuSans-53\"/>\n      </g>\n     </g>\n    </g>\n    <g id=\"xtick_7\">\n     <g id=\"line2d_7\">\n      <g>\n       <use style=\"stroke:#000000;stroke-width:0.8;\" x=\"477.626511\" xlink:href=\"#maab9a97a7e\" y=\"402.838125\"/>\n      </g>\n     </g>\n     <g id=\"text_7\">\n      <!-- 15.0 -->\n      <g transform=\"translate(466.493699 417.436562)scale(0.1 -0.1)\">\n       <use xlink:href=\"#DejaVuSans-49\"/>\n       <use x=\"63.623047\" xlink:href=\"#DejaVuSans-53\"/>\n       <use x=\"127.246094\" xlink:href=\"#DejaVuSans-46\"/>\n       <use x=\"159.033203\" xlink:href=\"#DejaVuSans-48\"/>\n      </g>\n     </g>\n    </g>\n    <g id=\"xtick_8\">\n     <g id=\"line2d_8\">\n      <g>\n       <use style=\"stroke:#000000;stroke-width:0.8;\" x=\"551.921147\" xlink:href=\"#maab9a97a7e\" y=\"402.838125\"/>\n      </g>\n     </g>\n     <g id=\"text_8\">\n      <!-- 17.5 -->\n      <g transform=\"translate(540.788334 417.436562)scale(0.1 -0.1)\">\n       <use xlink:href=\"#DejaVuSans-49\"/>\n       <use x=\"63.623047\" xlink:href=\"#DejaVuSans-55\"/>\n       <use x=\"127.246094\" xlink:href=\"#DejaVuSans-46\"/>\n       <use x=\"159.033203\" xlink:href=\"#DejaVuSans-53\"/>\n      </g>\n     </g>\n    </g>\n   </g>\n   <g id=\"matplotlib.axis_2\">\n    <g id=\"ytick_1\">\n     <g id=\"line2d_9\">\n      <defs>\n       <path d=\"M 0 0 \nL -3.5 0 \n\" id=\"m72bc38a4fc\" style=\"stroke:#000000;stroke-width:0.8;\"/>\n      </defs>\n      <g>\n       <use style=\"stroke:#000000;stroke-width:0.8;\" x=\"30.103125\" xlink:href=\"#m72bc38a4fc\" y=\"402.838125\"/>\n      </g>\n     </g>\n     <g id=\"text_9\">\n      <!-- 0.0 -->\n      <g transform=\"translate(7.2 406.637344)scale(0.1 -0.1)\">\n       <use xlink:href=\"#DejaVuSans-48\"/>\n       <use x=\"63.623047\" xlink:href=\"#DejaVuSans-46\"/>\n       <use x=\"95.410156\" xlink:href=\"#DejaVuSans-48\"/>\n      </g>\n     </g>\n    </g>\n    <g id=\"ytick_2\">\n     <g id=\"line2d_10\">\n      <g>\n       <use style=\"stroke:#000000;stroke-width:0.8;\" x=\"30.103125\" xlink:href=\"#m72bc38a4fc\" y=\"323.086364\"/>\n      </g>\n     </g>\n     <g id=\"text_10\">\n      <!-- 0.1 -->\n      <g transform=\"translate(7.2 326.885582)scale(0.1 -0.1)\">\n       <use xlink:href=\"#DejaVuSans-48\"/>\n       <use x=\"63.623047\" xlink:href=\"#DejaVuSans-46\"/>\n       <use x=\"95.410156\" xlink:href=\"#DejaVuSans-49\"/>\n      </g>\n     </g>\n    </g>\n    <g id=\"ytick_3\">\n     <g id=\"line2d_11\">\n      <g>\n       <use style=\"stroke:#000000;stroke-width:0.8;\" x=\"30.103125\" xlink:href=\"#m72bc38a4fc\" y=\"243.334602\"/>\n      </g>\n     </g>\n     <g id=\"text_11\">\n      <!-- 0.2 -->\n      <g transform=\"translate(7.2 247.133821)scale(0.1 -0.1)\">\n       <use xlink:href=\"#DejaVuSans-48\"/>\n       <use x=\"63.623047\" xlink:href=\"#DejaVuSans-46\"/>\n       <use x=\"95.410156\" xlink:href=\"#DejaVuSans-50\"/>\n      </g>\n     </g>\n    </g>\n    <g id=\"ytick_4\">\n     <g id=\"line2d_12\">\n      <g>\n       <use style=\"stroke:#000000;stroke-width:0.8;\" x=\"30.103125\" xlink:href=\"#m72bc38a4fc\" y=\"163.582841\"/>\n      </g>\n     </g>\n     <g id=\"text_12\">\n      <!-- 0.3 -->\n      <g transform=\"translate(7.2 167.382059)scale(0.1 -0.1)\">\n       <defs>\n        <path d=\"M 40.578125 39.3125 \nQ 47.65625 37.796875 51.625 33 \nQ 55.609375 28.21875 55.609375 21.1875 \nQ 55.609375 10.40625 48.1875 4.484375 \nQ 40.765625 -1.421875 27.09375 -1.421875 \nQ 22.515625 -1.421875 17.65625 -0.515625 \nQ 12.796875 0.390625 7.625 2.203125 \nL 7.625 11.71875 \nQ 11.71875 9.328125 16.59375 8.109375 \nQ 21.484375 6.890625 26.8125 6.890625 \nQ 36.078125 6.890625 40.9375 10.546875 \nQ 45.796875 14.203125 45.796875 21.1875 \nQ 45.796875 27.640625 41.28125 31.265625 \nQ 36.765625 34.90625 28.71875 34.90625 \nL 20.21875 34.90625 \nL 20.21875 43.015625 \nL 29.109375 43.015625 \nQ 36.375 43.015625 40.234375 45.921875 \nQ 44.09375 48.828125 44.09375 54.296875 \nQ 44.09375 59.90625 40.109375 62.90625 \nQ 36.140625 65.921875 28.71875 65.921875 \nQ 24.65625 65.921875 20.015625 65.03125 \nQ 15.375 64.15625 9.8125 62.3125 \nL 9.8125 71.09375 \nQ 15.4375 72.65625 20.34375 73.4375 \nQ 25.25 74.21875 29.59375 74.21875 \nQ 40.828125 74.21875 47.359375 69.109375 \nQ 53.90625 64.015625 53.90625 55.328125 \nQ 53.90625 49.265625 50.4375 45.09375 \nQ 46.96875 40.921875 40.578125 39.3125 \nz\n\" id=\"DejaVuSans-51\"/>\n       </defs>\n       <use xlink:href=\"#DejaVuSans-48\"/>\n       <use x=\"63.623047\" xlink:href=\"#DejaVuSans-46\"/>\n       <use x=\"95.410156\" xlink:href=\"#DejaVuSans-51\"/>\n      </g>\n     </g>\n    </g>\n    <g id=\"ytick_5\">\n     <g id=\"line2d_13\">\n      <g>\n       <use style=\"stroke:#000000;stroke-width:0.8;\" x=\"30.103125\" xlink:href=\"#m72bc38a4fc\" y=\"83.831079\"/>\n      </g>\n     </g>\n     <g id=\"text_13\">\n      <!-- 0.4 -->\n      <g transform=\"translate(7.2 87.630298)scale(0.1 -0.1)\">\n       <defs>\n        <path d=\"M 37.796875 64.3125 \nL 12.890625 25.390625 \nL 37.796875 25.390625 \nz\nM 35.203125 72.90625 \nL 47.609375 72.90625 \nL 47.609375 25.390625 \nL 58.015625 25.390625 \nL 58.015625 17.1875 \nL 47.609375 17.1875 \nL 47.609375 0 \nL 37.796875 0 \nL 37.796875 17.1875 \nL 4.890625 17.1875 \nL 4.890625 26.703125 \nz\n\" id=\"DejaVuSans-52\"/>\n       </defs>\n       <use xlink:href=\"#DejaVuSans-48\"/>\n       <use x=\"63.623047\" xlink:href=\"#DejaVuSans-46\"/>\n       <use x=\"95.410156\" xlink:href=\"#DejaVuSans-52\"/>\n      </g>\n     </g>\n    </g>\n   </g>\n   <g id=\"patch_43\">\n    <path d=\"M 30.103125 402.838125 \nL 30.103125 22.318125 \n\" style=\"fill:none;stroke:#000000;stroke-linecap:square;stroke-linejoin:miter;stroke-width:0.8;\"/>\n   </g>\n   <g id=\"patch_44\">\n    <path d=\"M 588.103125 402.838125 \nL 588.103125 22.318125 \n\" style=\"fill:none;stroke:#000000;stroke-linecap:square;stroke-linejoin:miter;stroke-width:0.8;\"/>\n   </g>\n   <g id=\"patch_45\">\n    <path d=\"M 30.103125 402.838125 \nL 588.103125 402.838125 \n\" style=\"fill:none;stroke:#000000;stroke-linecap:square;stroke-linejoin:miter;stroke-width:0.8;\"/>\n   </g>\n   <g id=\"patch_46\">\n    <path d=\"M 30.103125 22.318125 \nL 588.103125 22.318125 \n\" style=\"fill:none;stroke:#000000;stroke-linecap:square;stroke-linejoin:miter;stroke-width:0.8;\"/>\n   </g>\n   <g id=\"text_14\">\n    <!-- mean_vehicle_speed distribution -->\n    <g transform=\"translate(210.49125 16.318125)scale(0.12 -0.12)\">\n     <defs>\n      <path d=\"M 52 44.1875 \nQ 55.375 50.25 60.0625 53.125 \nQ 64.75 56 71.09375 56 \nQ 79.640625 56 84.28125 50.015625 \nQ 88.921875 44.046875 88.921875 33.015625 \nL 88.921875 0 \nL 79.890625 0 \nL 79.890625 32.71875 \nQ 79.890625 40.578125 77.09375 44.375 \nQ 74.3125 48.1875 68.609375 48.1875 \nQ 61.625 48.1875 57.5625 43.546875 \nQ 53.515625 38.921875 53.515625 30.90625 \nL 53.515625 0 \nL 44.484375 0 \nL 44.484375 32.71875 \nQ 44.484375 40.625 41.703125 44.40625 \nQ 38.921875 48.1875 33.109375 48.1875 \nQ 26.21875 48.1875 22.15625 43.53125 \nQ 18.109375 38.875 18.109375 30.90625 \nL 18.109375 0 \nL 9.078125 0 \nL 9.078125 54.6875 \nL 18.109375 54.6875 \nL 18.109375 46.1875 \nQ 21.1875 51.21875 25.484375 53.609375 \nQ 29.78125 56 35.6875 56 \nQ 41.65625 56 45.828125 52.96875 \nQ 50 49.953125 52 44.1875 \nz\n\" id=\"DejaVuSans-109\"/>\n      <path d=\"M 56.203125 29.59375 \nL 56.203125 25.203125 \nL 14.890625 25.203125 \nQ 15.484375 15.921875 20.484375 11.0625 \nQ 25.484375 6.203125 34.421875 6.203125 \nQ 39.59375 6.203125 44.453125 7.46875 \nQ 49.3125 8.734375 54.109375 11.28125 \nL 54.109375 2.78125 \nQ 49.265625 0.734375 44.1875 -0.34375 \nQ 39.109375 -1.421875 33.890625 -1.421875 \nQ 20.796875 -1.421875 13.15625 6.1875 \nQ 5.515625 13.8125 5.515625 26.8125 \nQ 5.515625 40.234375 12.765625 48.109375 \nQ 20.015625 56 32.328125 56 \nQ 43.359375 56 49.78125 48.890625 \nQ 56.203125 41.796875 56.203125 29.59375 \nz\nM 47.21875 32.234375 \nQ 47.125 39.59375 43.09375 43.984375 \nQ 39.0625 48.390625 32.421875 48.390625 \nQ 24.90625 48.390625 20.390625 44.140625 \nQ 15.875 39.890625 15.1875 32.171875 \nz\n\" id=\"DejaVuSans-101\"/>\n      <path d=\"M 34.28125 27.484375 \nQ 23.390625 27.484375 19.1875 25 \nQ 14.984375 22.515625 14.984375 16.5 \nQ 14.984375 11.71875 18.140625 8.90625 \nQ 21.296875 6.109375 26.703125 6.109375 \nQ 34.1875 6.109375 38.703125 11.40625 \nQ 43.21875 16.703125 43.21875 25.484375 \nL 43.21875 27.484375 \nz\nM 52.203125 31.203125 \nL 52.203125 0 \nL 43.21875 0 \nL 43.21875 8.296875 \nQ 40.140625 3.328125 35.546875 0.953125 \nQ 30.953125 -1.421875 24.3125 -1.421875 \nQ 15.921875 -1.421875 10.953125 3.296875 \nQ 6 8.015625 6 15.921875 \nQ 6 25.140625 12.171875 29.828125 \nQ 18.359375 34.515625 30.609375 34.515625 \nL 43.21875 34.515625 \nL 43.21875 35.40625 \nQ 43.21875 41.609375 39.140625 45 \nQ 35.0625 48.390625 27.6875 48.390625 \nQ 23 48.390625 18.546875 47.265625 \nQ 14.109375 46.140625 10.015625 43.890625 \nL 10.015625 52.203125 \nQ 14.9375 54.109375 19.578125 55.046875 \nQ 24.21875 56 28.609375 56 \nQ 40.484375 56 46.34375 49.84375 \nQ 52.203125 43.703125 52.203125 31.203125 \nz\n\" id=\"DejaVuSans-97\"/>\n      <path d=\"M 54.890625 33.015625 \nL 54.890625 0 \nL 45.90625 0 \nL 45.90625 32.71875 \nQ 45.90625 40.484375 42.875 44.328125 \nQ 39.84375 48.1875 33.796875 48.1875 \nQ 26.515625 48.1875 22.3125 43.546875 \nQ 18.109375 38.921875 18.109375 30.90625 \nL 18.109375 0 \nL 9.078125 0 \nL 9.078125 54.6875 \nL 18.109375 54.6875 \nL 18.109375 46.1875 \nQ 21.34375 51.125 25.703125 53.5625 \nQ 30.078125 56 35.796875 56 \nQ 45.21875 56 50.046875 50.171875 \nQ 54.890625 44.34375 54.890625 33.015625 \nz\n\" id=\"DejaVuSans-110\"/>\n      <path d=\"M 50.984375 -16.609375 \nL 50.984375 -23.578125 \nL -0.984375 -23.578125 \nL -0.984375 -16.609375 \nz\n\" id=\"DejaVuSans-95\"/>\n      <path d=\"M 2.984375 54.6875 \nL 12.5 54.6875 \nL 29.59375 8.796875 \nL 46.6875 54.6875 \nL 56.203125 54.6875 \nL 35.6875 0 \nL 23.484375 0 \nz\n\" id=\"DejaVuSans-118\"/>\n      <path d=\"M 54.890625 33.015625 \nL 54.890625 0 \nL 45.90625 0 \nL 45.90625 32.71875 \nQ 45.90625 40.484375 42.875 44.328125 \nQ 39.84375 48.1875 33.796875 48.1875 \nQ 26.515625 48.1875 22.3125 43.546875 \nQ 18.109375 38.921875 18.109375 30.90625 \nL 18.109375 0 \nL 9.078125 0 \nL 9.078125 75.984375 \nL 18.109375 75.984375 \nL 18.109375 46.1875 \nQ 21.34375 51.125 25.703125 53.5625 \nQ 30.078125 56 35.796875 56 \nQ 45.21875 56 50.046875 50.171875 \nQ 54.890625 44.34375 54.890625 33.015625 \nz\n\" id=\"DejaVuSans-104\"/>\n      <path d=\"M 9.421875 54.6875 \nL 18.40625 54.6875 \nL 18.40625 0 \nL 9.421875 0 \nz\nM 9.421875 75.984375 \nL 18.40625 75.984375 \nL 18.40625 64.59375 \nL 9.421875 64.59375 \nz\n\" id=\"DejaVuSans-105\"/>\n      <path d=\"M 48.78125 52.59375 \nL 48.78125 44.1875 \nQ 44.96875 46.296875 41.140625 47.34375 \nQ 37.3125 48.390625 33.40625 48.390625 \nQ 24.65625 48.390625 19.8125 42.84375 \nQ 14.984375 37.3125 14.984375 27.296875 \nQ 14.984375 17.28125 19.8125 11.734375 \nQ 24.65625 6.203125 33.40625 6.203125 \nQ 37.3125 6.203125 41.140625 7.25 \nQ 44.96875 8.296875 48.78125 10.40625 \nL 48.78125 2.09375 \nQ 45.015625 0.34375 40.984375 -0.53125 \nQ 36.96875 -1.421875 32.421875 -1.421875 \nQ 20.0625 -1.421875 12.78125 6.34375 \nQ 5.515625 14.109375 5.515625 27.296875 \nQ 5.515625 40.671875 12.859375 48.328125 \nQ 20.21875 56 33.015625 56 \nQ 37.15625 56 41.109375 55.140625 \nQ 45.0625 54.296875 48.78125 52.59375 \nz\n\" id=\"DejaVuSans-99\"/>\n      <path d=\"M 9.421875 75.984375 \nL 18.40625 75.984375 \nL 18.40625 0 \nL 9.421875 0 \nz\n\" id=\"DejaVuSans-108\"/>\n      <path d=\"M 44.28125 53.078125 \nL 44.28125 44.578125 \nQ 40.484375 46.53125 36.375 47.5 \nQ 32.28125 48.484375 27.875 48.484375 \nQ 21.1875 48.484375 17.84375 46.4375 \nQ 14.5 44.390625 14.5 40.28125 \nQ 14.5 37.15625 16.890625 35.375 \nQ 19.28125 33.59375 26.515625 31.984375 \nL 29.59375 31.296875 \nQ 39.15625 29.25 43.1875 25.515625 \nQ 47.21875 21.78125 47.21875 15.09375 \nQ 47.21875 7.46875 41.1875 3.015625 \nQ 35.15625 -1.421875 24.609375 -1.421875 \nQ 20.21875 -1.421875 15.453125 -0.5625 \nQ 10.6875 0.296875 5.421875 2 \nL 5.421875 11.28125 \nQ 10.40625 8.6875 15.234375 7.390625 \nQ 20.0625 6.109375 24.8125 6.109375 \nQ 31.15625 6.109375 34.5625 8.28125 \nQ 37.984375 10.453125 37.984375 14.40625 \nQ 37.984375 18.0625 35.515625 20.015625 \nQ 33.0625 21.96875 24.703125 23.78125 \nL 21.578125 24.515625 \nQ 13.234375 26.265625 9.515625 29.90625 \nQ 5.8125 33.546875 5.8125 39.890625 \nQ 5.8125 47.609375 11.28125 51.796875 \nQ 16.75 56 26.8125 56 \nQ 31.78125 56 36.171875 55.265625 \nQ 40.578125 54.546875 44.28125 53.078125 \nz\n\" id=\"DejaVuSans-115\"/>\n      <path d=\"M 18.109375 8.203125 \nL 18.109375 -20.796875 \nL 9.078125 -20.796875 \nL 9.078125 54.6875 \nL 18.109375 54.6875 \nL 18.109375 46.390625 \nQ 20.953125 51.265625 25.265625 53.625 \nQ 29.59375 56 35.59375 56 \nQ 45.5625 56 51.78125 48.09375 \nQ 58.015625 40.1875 58.015625 27.296875 \nQ 58.015625 14.40625 51.78125 6.484375 \nQ 45.5625 -1.421875 35.59375 -1.421875 \nQ 29.59375 -1.421875 25.265625 0.953125 \nQ 20.953125 3.328125 18.109375 8.203125 \nz\nM 48.6875 27.296875 \nQ 48.6875 37.203125 44.609375 42.84375 \nQ 40.53125 48.484375 33.40625 48.484375 \nQ 26.265625 48.484375 22.1875 42.84375 \nQ 18.109375 37.203125 18.109375 27.296875 \nQ 18.109375 17.390625 22.1875 11.75 \nQ 26.265625 6.109375 33.40625 6.109375 \nQ 40.53125 6.109375 44.609375 11.75 \nQ 48.6875 17.390625 48.6875 27.296875 \nz\n\" id=\"DejaVuSans-112\"/>\n      <path d=\"M 45.40625 46.390625 \nL 45.40625 75.984375 \nL 54.390625 75.984375 \nL 54.390625 0 \nL 45.40625 0 \nL 45.40625 8.203125 \nQ 42.578125 3.328125 38.25 0.953125 \nQ 33.9375 -1.421875 27.875 -1.421875 \nQ 17.96875 -1.421875 11.734375 6.484375 \nQ 5.515625 14.40625 5.515625 27.296875 \nQ 5.515625 40.1875 11.734375 48.09375 \nQ 17.96875 56 27.875 56 \nQ 33.9375 56 38.25 53.625 \nQ 42.578125 51.265625 45.40625 46.390625 \nz\nM 14.796875 27.296875 \nQ 14.796875 17.390625 18.875 11.75 \nQ 22.953125 6.109375 30.078125 6.109375 \nQ 37.203125 6.109375 41.296875 11.75 \nQ 45.40625 17.390625 45.40625 27.296875 \nQ 45.40625 37.203125 41.296875 42.84375 \nQ 37.203125 48.484375 30.078125 48.484375 \nQ 22.953125 48.484375 18.875 42.84375 \nQ 14.796875 37.203125 14.796875 27.296875 \nz\n\" id=\"DejaVuSans-100\"/>\n      <path id=\"DejaVuSans-32\"/>\n      <path d=\"M 18.3125 70.21875 \nL 18.3125 54.6875 \nL 36.8125 54.6875 \nL 36.8125 47.703125 \nL 18.3125 47.703125 \nL 18.3125 18.015625 \nQ 18.3125 11.328125 20.140625 9.421875 \nQ 21.96875 7.515625 27.59375 7.515625 \nL 36.8125 7.515625 \nL 36.8125 0 \nL 27.59375 0 \nQ 17.1875 0 13.234375 3.875 \nQ 9.28125 7.765625 9.28125 18.015625 \nL 9.28125 47.703125 \nL 2.6875 47.703125 \nL 2.6875 54.6875 \nL 9.28125 54.6875 \nL 9.28125 70.21875 \nz\n\" id=\"DejaVuSans-116\"/>\n      <path d=\"M 41.109375 46.296875 \nQ 39.59375 47.171875 37.8125 47.578125 \nQ 36.03125 48 33.890625 48 \nQ 26.265625 48 22.1875 43.046875 \nQ 18.109375 38.09375 18.109375 28.8125 \nL 18.109375 0 \nL 9.078125 0 \nL 9.078125 54.6875 \nL 18.109375 54.6875 \nL 18.109375 46.1875 \nQ 20.953125 51.171875 25.484375 53.578125 \nQ 30.03125 56 36.53125 56 \nQ 37.453125 56 38.578125 55.875 \nQ 39.703125 55.765625 41.0625 55.515625 \nz\n\" id=\"DejaVuSans-114\"/>\n      <path d=\"M 48.6875 27.296875 \nQ 48.6875 37.203125 44.609375 42.84375 \nQ 40.53125 48.484375 33.40625 48.484375 \nQ 26.265625 48.484375 22.1875 42.84375 \nQ 18.109375 37.203125 18.109375 27.296875 \nQ 18.109375 17.390625 22.1875 11.75 \nQ 26.265625 6.109375 33.40625 6.109375 \nQ 40.53125 6.109375 44.609375 11.75 \nQ 48.6875 17.390625 48.6875 27.296875 \nz\nM 18.109375 46.390625 \nQ 20.953125 51.265625 25.265625 53.625 \nQ 29.59375 56 35.59375 56 \nQ 45.5625 56 51.78125 48.09375 \nQ 58.015625 40.1875 58.015625 27.296875 \nQ 58.015625 14.40625 51.78125 6.484375 \nQ 45.5625 -1.421875 35.59375 -1.421875 \nQ 29.59375 -1.421875 25.265625 0.953125 \nQ 20.953125 3.328125 18.109375 8.203125 \nL 18.109375 0 \nL 9.078125 0 \nL 9.078125 75.984375 \nL 18.109375 75.984375 \nz\n\" id=\"DejaVuSans-98\"/>\n      <path d=\"M 8.5 21.578125 \nL 8.5 54.6875 \nL 17.484375 54.6875 \nL 17.484375 21.921875 \nQ 17.484375 14.15625 20.5 10.265625 \nQ 23.53125 6.390625 29.59375 6.390625 \nQ 36.859375 6.390625 41.078125 11.03125 \nQ 45.3125 15.671875 45.3125 23.6875 \nL 45.3125 54.6875 \nL 54.296875 54.6875 \nL 54.296875 0 \nL 45.3125 0 \nL 45.3125 8.40625 \nQ 42.046875 3.421875 37.71875 1 \nQ 33.40625 -1.421875 27.6875 -1.421875 \nQ 18.265625 -1.421875 13.375 4.4375 \nQ 8.5 10.296875 8.5 21.578125 \nz\nM 31.109375 56 \nz\n\" id=\"DejaVuSans-117\"/>\n      <path d=\"M 30.609375 48.390625 \nQ 23.390625 48.390625 19.1875 42.75 \nQ 14.984375 37.109375 14.984375 27.296875 \nQ 14.984375 17.484375 19.15625 11.84375 \nQ 23.34375 6.203125 30.609375 6.203125 \nQ 37.796875 6.203125 41.984375 11.859375 \nQ 46.1875 17.53125 46.1875 27.296875 \nQ 46.1875 37.015625 41.984375 42.703125 \nQ 37.796875 48.390625 30.609375 48.390625 \nz\nM 30.609375 56 \nQ 42.328125 56 49.015625 48.375 \nQ 55.71875 40.765625 55.71875 27.296875 \nQ 55.71875 13.875 49.015625 6.21875 \nQ 42.328125 -1.421875 30.609375 -1.421875 \nQ 18.84375 -1.421875 12.171875 6.21875 \nQ 5.515625 13.875 5.515625 27.296875 \nQ 5.515625 40.765625 12.171875 48.375 \nQ 18.84375 56 30.609375 56 \nz\n\" id=\"DejaVuSans-111\"/>\n     </defs>\n     <use xlink:href=\"#DejaVuSans-109\"/>\n     <use x=\"97.412109\" xlink:href=\"#DejaVuSans-101\"/>\n     <use x=\"158.935547\" xlink:href=\"#DejaVuSans-97\"/>\n     <use x=\"220.214844\" xlink:href=\"#DejaVuSans-110\"/>\n     <use x=\"283.59375\" xlink:href=\"#DejaVuSans-95\"/>\n     <use x=\"333.59375\" xlink:href=\"#DejaVuSans-118\"/>\n     <use x=\"392.773438\" xlink:href=\"#DejaVuSans-101\"/>\n     <use x=\"454.296875\" xlink:href=\"#DejaVuSans-104\"/>\n     <use x=\"517.675781\" xlink:href=\"#DejaVuSans-105\"/>\n     <use x=\"545.458984\" xlink:href=\"#DejaVuSans-99\"/>\n     <use x=\"600.439453\" xlink:href=\"#DejaVuSans-108\"/>\n     <use x=\"628.222656\" xlink:href=\"#DejaVuSans-101\"/>\n     <use x=\"689.746094\" xlink:href=\"#DejaVuSans-95\"/>\n     <use x=\"739.746094\" xlink:href=\"#DejaVuSans-115\"/>\n     <use x=\"791.845703\" xlink:href=\"#DejaVuSans-112\"/>\n     <use x=\"855.322266\" xlink:href=\"#DejaVuSans-101\"/>\n     <use x=\"916.845703\" xlink:href=\"#DejaVuSans-101\"/>\n     <use x=\"978.369141\" xlink:href=\"#DejaVuSans-100\"/>\n     <use x=\"1041.845703\" xlink:href=\"#DejaVuSans-32\"/>\n     <use x=\"1073.632812\" xlink:href=\"#DejaVuSans-100\"/>\n     <use x=\"1137.109375\" xlink:href=\"#DejaVuSans-105\"/>\n     <use x=\"1164.892578\" xlink:href=\"#DejaVuSans-115\"/>\n     <use x=\"1216.992188\" xlink:href=\"#DejaVuSans-116\"/>\n     <use x=\"1256.201172\" xlink:href=\"#DejaVuSans-114\"/>\n     <use x=\"1297.314453\" xlink:href=\"#DejaVuSans-105\"/>\n     <use x=\"1325.097656\" xlink:href=\"#DejaVuSans-98\"/>\n     <use x=\"1388.574219\" xlink:href=\"#DejaVuSans-117\"/>\n     <use x=\"1451.953125\" xlink:href=\"#DejaVuSans-116\"/>\n     <use x=\"1491.162109\" xlink:href=\"#DejaVuSans-105\"/>\n     <use x=\"1518.945312\" xlink:href=\"#DejaVuSans-111\"/>\n     <use x=\"1580.126953\" xlink:href=\"#DejaVuSans-110\"/>\n    </g>\n   </g>\n   <g id=\"legend_1\">\n    <g id=\"patch_47\">\n     <path d=\"M 531.207813 59.674375 \nL 581.103125 59.674375 \nQ 583.103125 59.674375 583.103125 57.674375 \nL 583.103125 29.318125 \nQ 583.103125 27.318125 581.103125 27.318125 \nL 531.207813 27.318125 \nQ 529.207813 27.318125 529.207813 29.318125 \nL 529.207813 57.674375 \nQ 529.207813 59.674375 531.207813 59.674375 \nz\n\" style=\"fill:#ffffff;opacity:0.8;stroke:#cccccc;stroke-linejoin:miter;\"/>\n    </g>\n    <g id=\"patch_48\">\n     <path d=\"M 533.207813 38.916562 \nL 553.207813 38.916562 \nL 553.207813 31.916562 \nL 533.207813 31.916562 \nz\n\" style=\"fill:#1f77b4;opacity:0.5;\"/>\n    </g>\n    <g id=\"text_15\">\n     <!-- car -->\n     <g transform=\"translate(561.207813 38.916562)scale(0.1 -0.1)\">\n      <use xlink:href=\"#DejaVuSans-99\"/>\n      <use x=\"54.980469\" xlink:href=\"#DejaVuSans-97\"/>\n      <use x=\"116.259766\" xlink:href=\"#DejaVuSans-114\"/>\n     </g>\n    </g>\n    <g id=\"patch_49\">\n     <path d=\"M 533.207813 53.594687 \nL 553.207813 53.594687 \nL 553.207813 46.594687 \nL 533.207813 46.594687 \nz\n\" style=\"fill:#ff7f0e;opacity:0.5;\"/>\n    </g>\n    <g id=\"text_16\">\n     <!-- bus -->\n     <g transform=\"translate(561.207813 53.594687)scale(0.1 -0.1)\">\n      <use xlink:href=\"#DejaVuSans-98\"/>\n      <use x=\"63.476562\" xlink:href=\"#DejaVuSans-117\"/>\n      <use x=\"126.855469\" xlink:href=\"#DejaVuSans-115\"/>\n     </g>\n    </g>\n   </g>\n  </g>\n </g>\n <defs>\n  <clipPath id=\"p4a47fa7dfc\">\n   <rect height=\"380.52\" width=\"558\" x=\"30.103125\" y=\"22.318125\"/>\n  </clipPath>\n </defs>\n</svg>\n",
      "image/png": "[encoded data removed]"
     },
     "metadata": {
      "needs_background": "light"
     }
    },
    {
     "output_type": "display_data",
     "data": {
      "text/plain": "<Figure size 720x504 with 1 Axes>",
      "image/svg+xml": "<?xml version=\"1.0\" encoding=\"utf-8\" standalone=\"no\"?>\n<!DOCTYPE svg PUBLIC \"-//W3C//DTD SVG 1.1//EN\"\n  \"http://www.w3.org/Graphics/SVG/1.1/DTD/svg11.dtd\">\n<!-- Created with matplotlib (https://matplotlib.org/) -->\n<svg height=\"426.71625pt\" version=\"1.1\" viewBox=\"0 0 595.303125 426.71625\" width=\"595.303125pt\" xmlns=\"http://www.w3.org/2000/svg\" xmlns:xlink=\"http://www.w3.org/1999/xlink\">\n <metadata>\n  <rdf:RDF xmlns:cc=\"http://creativecommons.org/ns#\" xmlns:dc=\"http://purl.org/dc/elements/1.1/\" xmlns:rdf=\"http://www.w3.org/1999/02/22-rdf-syntax-ns#\">\n   <cc:Work>\n    <dc:type rdf:resource=\"http://purl.org/dc/dcmitype/StillImage\"/>\n    <dc:date>2021-02-22T18:22:20.886643</dc:date>\n    <dc:format>image/svg+xml</dc:format>\n    <dc:creator>\n     <cc:Agent>\n      <dc:title>Matplotlib v3.3.3, https://matplotlib.org/</dc:title>\n     </cc:Agent>\n    </dc:creator>\n   </cc:Work>\n  </rdf:RDF>\n </metadata>\n <defs>\n  <style type=\"text/css\">*{stroke-linecap:butt;stroke-linejoin:round;}</style>\n </defs>\n <g id=\"figure_1\">\n  <g id=\"patch_1\">\n   <path d=\"M -0 426.71625 \nL 595.303125 426.71625 \nL 595.303125 0 \nL -0 0 \nz\n\" style=\"fill:none;\"/>\n  </g>\n  <g id=\"axes_1\">\n   <g id=\"patch_2\">\n    <path d=\"M 30.103125 402.838125 \nL 588.103125 402.838125 \nL 588.103125 22.318125 \nL 30.103125 22.318125 \nz\n\" style=\"fill:#ffffff;\"/>\n   </g>\n   <g id=\"patch_3\">\n    <path clip-path=\"url(#p7545642a7d)\" d=\"M 55.466761 402.838125 \nL 80.830398 402.838125 \nL 80.830398 402.39353 \nL 55.466761 402.39353 \nz\n\" style=\"fill:#1f77b4;opacity:0.5;\"/>\n   </g>\n   <g id=\"patch_4\">\n    <path clip-path=\"url(#p7545642a7d)\" d=\"M 80.830398 402.838125 \nL 106.194034 402.838125 \nL 106.194034 402.39353 \nL 80.830398 402.39353 \nz\n\" style=\"fill:#1f77b4;opacity:0.5;\"/>\n   </g>\n   <g id=\"patch_5\">\n    <path clip-path=\"url(#p7545642a7d)\" d=\"M 106.194034 402.838125 \nL 131.55767 402.838125 \nL 131.55767 397.502988 \nL 106.194034 397.502988 \nz\n\" style=\"fill:#1f77b4;opacity:0.5;\"/>\n   </g>\n   <g id=\"patch_6\">\n    <path clip-path=\"url(#p7545642a7d)\" d=\"M 131.55767 402.838125 \nL 156.921307 402.838125 \nL 156.921307 395.280014 \nL 131.55767 395.280014 \nz\n\" style=\"fill:#1f77b4;opacity:0.5;\"/>\n   </g>\n   <g id=\"patch_7\">\n    <path clip-path=\"url(#p7545642a7d)\" d=\"M 156.921307 402.838125 \nL 182.284943 402.838125 \nL 182.284943 388.166497 \nL 156.921307 388.166497 \nz\n\" style=\"fill:#1f77b4;opacity:0.5;\"/>\n   </g>\n   <g id=\"patch_8\">\n    <path clip-path=\"url(#p7545642a7d)\" d=\"M 182.284943 402.838125 \nL 207.64858 402.838125 \nL 207.64858 373.494869 \nL 182.284943 373.494869 \nz\n\" style=\"fill:#1f77b4;opacity:0.5;\"/>\n   </g>\n   <g id=\"patch_9\">\n    <path clip-path=\"url(#p7545642a7d)\" d=\"M 207.64858 402.838125 \nL 233.012216 402.838125 \nL 233.012216 357.044862 \nL 207.64858 357.044862 \nz\n\" style=\"fill:#1f77b4;opacity:0.5;\"/>\n   </g>\n   <g id=\"patch_10\">\n    <path clip-path=\"url(#p7545642a7d)\" d=\"M 233.012216 402.838125 \nL 258.375852 402.838125 \nL 258.375852 336.593502 \nL 233.012216 336.593502 \nz\n\" style=\"fill:#1f77b4;opacity:0.5;\"/>\n   </g>\n   <g id=\"patch_11\">\n    <path clip-path=\"url(#p7545642a7d)\" d=\"M 258.375852 402.838125 \nL 283.739489 402.838125 \nL 283.739489 329.92458 \nL 258.375852 329.92458 \nz\n\" style=\"fill:#1f77b4;opacity:0.5;\"/>\n   </g>\n   <g id=\"patch_12\">\n    <path clip-path=\"url(#p7545642a7d)\" d=\"M 283.739489 402.838125 \nL 309.103125 402.838125 \nL 309.103125 298.35835 \nL 283.739489 298.35835 \nz\n\" style=\"fill:#1f77b4;opacity:0.5;\"/>\n   </g>\n   <g id=\"patch_13\">\n    <path clip-path=\"url(#p7545642a7d)\" d=\"M 309.103125 402.838125 \nL 334.466761 402.838125 \nL 334.466761 261.901577 \nL 309.103125 261.901577 \nz\n\" style=\"fill:#1f77b4;opacity:0.5;\"/>\n   </g>\n   <g id=\"patch_14\">\n    <path clip-path=\"url(#p7545642a7d)\" d=\"M 334.466761 402.838125 \nL 359.830398 402.838125 \nL 359.830398 260.123198 \nL 334.466761 260.123198 \nz\n\" style=\"fill:#1f77b4;opacity:0.5;\"/>\n   </g>\n   <g id=\"patch_15\">\n    <path clip-path=\"url(#p7545642a7d)\" d=\"M 359.830398 402.838125 \nL 385.194034 402.838125 \nL 385.194034 277.0178 \nL 359.830398 277.0178 \nz\n\" style=\"fill:#1f77b4;opacity:0.5;\"/>\n   </g>\n   <g id=\"patch_16\">\n    <path clip-path=\"url(#p7545642a7d)\" d=\"M 385.194034 402.838125 \nL 410.55767 402.838125 \nL 410.55767 314.808357 \nL 385.194034 314.808357 \nz\n\" style=\"fill:#1f77b4;opacity:0.5;\"/>\n   </g>\n   <g id=\"patch_17\">\n    <path clip-path=\"url(#p7545642a7d)\" d=\"M 410.55767 402.838125 \nL 435.921307 402.838125 \nL 435.921307 353.043509 \nL 410.55767 353.043509 \nz\n\" style=\"fill:#1f77b4;opacity:0.5;\"/>\n   </g>\n   <g id=\"patch_18\">\n    <path clip-path=\"url(#p7545642a7d)\" d=\"M 435.921307 402.838125 \nL 461.284943 402.838125 \nL 461.284943 371.71649 \nL 435.921307 371.71649 \nz\n\" style=\"fill:#1f77b4;opacity:0.5;\"/>\n   </g>\n   <g id=\"patch_19\">\n    <path clip-path=\"url(#p7545642a7d)\" d=\"M 461.284943 402.838125 \nL 486.64858 402.838125 \nL 486.64858 388.166497 \nL 461.284943 388.166497 \nz\n\" style=\"fill:#1f77b4;opacity:0.5;\"/>\n   </g>\n   <g id=\"patch_20\">\n    <path clip-path=\"url(#p7545642a7d)\" d=\"M 486.64858 402.838125 \nL 512.012216 402.838125 \nL 512.012216 395.724608 \nL 486.64858 395.724608 \nz\n\" style=\"fill:#1f77b4;opacity:0.5;\"/>\n   </g>\n   <g id=\"patch_21\">\n    <path clip-path=\"url(#p7545642a7d)\" d=\"M 512.012216 402.838125 \nL 537.375852 402.838125 \nL 537.375852 401.504341 \nL 512.012216 401.504341 \nz\n\" style=\"fill:#1f77b4;opacity:0.5;\"/>\n   </g>\n   <g id=\"patch_22\">\n    <path clip-path=\"url(#p7545642a7d)\" d=\"M 537.375852 402.838125 \nL 562.739489 402.838125 \nL 562.739489 402.39353 \nL 537.375852 402.39353 \nz\n\" style=\"fill:#1f77b4;opacity:0.5;\"/>\n   </g>\n   <g id=\"patch_23\">\n    <path clip-path=\"url(#p7545642a7d)\" d=\"M 226.115229 402.838125 \nL 236.301662 402.838125 \nL 236.301662 355.56856 \nL 226.115229 355.56856 \nz\n\" style=\"fill:#ff7f0e;opacity:0.5;\"/>\n   </g>\n   <g id=\"patch_24\">\n    <path clip-path=\"url(#p7545642a7d)\" d=\"M 236.301662 402.838125 \nL 246.488095 402.838125 \nL 246.488095 339.812038 \nL 236.301662 339.812038 \nz\n\" style=\"fill:#ff7f0e;opacity:0.5;\"/>\n   </g>\n   <g id=\"patch_25\">\n    <path clip-path=\"url(#p7545642a7d)\" d=\"M 246.488095 402.838125 \nL 256.674529 402.838125 \nL 256.674529 339.812038 \nL 246.488095 339.812038 \nz\n\" style=\"fill:#ff7f0e;opacity:0.5;\"/>\n   </g>\n   <g id=\"patch_26\">\n    <path clip-path=\"url(#p7545642a7d)\" d=\"M 256.674529 402.838125 \nL 266.860962 402.838125 \nL 266.860962 371.325082 \nL 256.674529 371.325082 \nz\n\" style=\"fill:#ff7f0e;opacity:0.5;\"/>\n   </g>\n   <g id=\"patch_27\">\n    <path clip-path=\"url(#p7545642a7d)\" d=\"M 266.860962 402.838125 \nL 277.047396 402.838125 \nL 277.047396 308.298995 \nL 266.860962 308.298995 \nz\n\" style=\"fill:#ff7f0e;opacity:0.5;\"/>\n   </g>\n   <g id=\"patch_28\">\n    <path clip-path=\"url(#p7545642a7d)\" d=\"M 277.047396 402.838125 \nL 287.233829 402.838125 \nL 287.233829 87.70769 \nL 277.047396 87.70769 \nz\n\" style=\"fill:#ff7f0e;opacity:0.5;\"/>\n   </g>\n   <g id=\"patch_29\">\n    <path clip-path=\"url(#p7545642a7d)\" d=\"M 287.233829 402.838125 \nL 297.420263 402.838125 \nL 297.420263 198.003342 \nL 287.233829 198.003342 \nz\n\" style=\"fill:#ff7f0e;opacity:0.5;\"/>\n   </g>\n   <g id=\"patch_30\">\n    <path clip-path=\"url(#p7545642a7d)\" d=\"M 297.420263 402.838125 \nL 307.606696 402.838125 \nL 307.606696 198.003342 \nL 297.420263 198.003342 \nz\n\" style=\"fill:#ff7f0e;opacity:0.5;\"/>\n   </g>\n   <g id=\"patch_31\">\n    <path clip-path=\"url(#p7545642a7d)\" d=\"M 307.606696 402.838125 \nL 317.79313 402.838125 \nL 317.79313 40.438125 \nL 307.606696 40.438125 \nz\n\" style=\"fill:#ff7f0e;opacity:0.5;\"/>\n   </g>\n   <g id=\"patch_32\">\n    <path clip-path=\"url(#p7545642a7d)\" d=\"M 317.79313 402.838125 \nL 327.979563 402.838125 \nL 327.979563 134.977255 \nL 317.79313 134.977255 \nz\n\" style=\"fill:#ff7f0e;opacity:0.5;\"/>\n   </g>\n   <g id=\"patch_33\">\n    <path clip-path=\"url(#p7545642a7d)\" d=\"M 327.979563 402.838125 \nL 338.165997 402.838125 \nL 338.165997 213.759864 \nL 327.979563 213.759864 \nz\n\" style=\"fill:#ff7f0e;opacity:0.5;\"/>\n   </g>\n   <g id=\"patch_34\">\n    <path clip-path=\"url(#p7545642a7d)\" d=\"M 338.165997 402.838125 \nL 348.35243 402.838125 \nL 348.35243 355.56856 \nL 338.165997 355.56856 \nz\n\" style=\"fill:#ff7f0e;opacity:0.5;\"/>\n   </g>\n   <g id=\"patch_35\">\n    <path clip-path=\"url(#p7545642a7d)\" d=\"M 348.35243 402.838125 \nL 358.538864 402.838125 \nL 358.538864 308.298995 \nL 348.35243 308.298995 \nz\n\" style=\"fill:#ff7f0e;opacity:0.5;\"/>\n   </g>\n   <g id=\"patch_36\">\n    <path clip-path=\"url(#p7545642a7d)\" d=\"M 358.538864 402.838125 \nL 368.725297 402.838125 \nL 368.725297 308.298995 \nL 358.538864 308.298995 \nz\n\" style=\"fill:#ff7f0e;opacity:0.5;\"/>\n   </g>\n   <g id=\"patch_37\">\n    <path clip-path=\"url(#p7545642a7d)\" d=\"M 368.725297 402.838125 \nL 378.91173 402.838125 \nL 378.91173 355.56856 \nL 368.725297 355.56856 \nz\n\" style=\"fill:#ff7f0e;opacity:0.5;\"/>\n   </g>\n   <g id=\"patch_38\">\n    <path clip-path=\"url(#p7545642a7d)\" d=\"M 378.91173 402.838125 \nL 389.098164 402.838125 \nL 389.098164 324.055516 \nL 378.91173 324.055516 \nz\n\" style=\"fill:#ff7f0e;opacity:0.5;\"/>\n   </g>\n   <g id=\"patch_39\">\n    <path clip-path=\"url(#p7545642a7d)\" d=\"M 389.098164 402.838125 \nL 399.284597 402.838125 \nL 399.284597 371.325082 \nL 389.098164 371.325082 \nz\n\" style=\"fill:#ff7f0e;opacity:0.5;\"/>\n   </g>\n   <g id=\"patch_40\">\n    <path clip-path=\"url(#p7545642a7d)\" d=\"M 399.284597 402.838125 \nL 409.471031 402.838125 \nL 409.471031 371.325082 \nL 399.284597 371.325082 \nz\n\" style=\"fill:#ff7f0e;opacity:0.5;\"/>\n   </g>\n   <g id=\"patch_41\">\n    <path clip-path=\"url(#p7545642a7d)\" d=\"M 409.471031 402.838125 \nL 419.657464 402.838125 \nL 419.657464 339.812038 \nL 409.471031 339.812038 \nz\n\" style=\"fill:#ff7f0e;opacity:0.5;\"/>\n   </g>\n   <g id=\"patch_42\">\n    <path clip-path=\"url(#p7545642a7d)\" d=\"M 419.657464 402.838125 \nL 429.843898 402.838125 \nL 429.843898 371.325082 \nL 419.657464 371.325082 \nz\n\" style=\"fill:#ff7f0e;opacity:0.5;\"/>\n   </g>\n   <g id=\"matplotlib.axis_1\">\n    <g id=\"xtick_1\">\n     <g id=\"line2d_1\">\n      <defs>\n       <path d=\"M 0 0 \nL 0 3.5 \n\" id=\"ma1731958c0\" style=\"stroke:#000000;stroke-width:0.8;\"/>\n      </defs>\n      <g>\n       <use style=\"stroke:#000000;stroke-width:0.8;\" x=\"30.437057\" xlink:href=\"#ma1731958c0\" y=\"402.838125\"/>\n      </g>\n     </g>\n     <g id=\"text_1\">\n      <!-- 0 -->\n      <g transform=\"translate(27.255807 417.436562)scale(0.1 -0.1)\">\n       <defs>\n        <path d=\"M 31.78125 66.40625 \nQ 24.171875 66.40625 20.328125 58.90625 \nQ 16.5 51.421875 16.5 36.375 \nQ 16.5 21.390625 20.328125 13.890625 \nQ 24.171875 6.390625 31.78125 6.390625 \nQ 39.453125 6.390625 43.28125 13.890625 \nQ 47.125 21.390625 47.125 36.375 \nQ 47.125 51.421875 43.28125 58.90625 \nQ 39.453125 66.40625 31.78125 66.40625 \nz\nM 31.78125 74.21875 \nQ 44.046875 74.21875 50.515625 64.515625 \nQ 56.984375 54.828125 56.984375 36.375 \nQ 56.984375 17.96875 50.515625 8.265625 \nQ 44.046875 -1.421875 31.78125 -1.421875 \nQ 19.53125 -1.421875 13.0625 8.265625 \nQ 6.59375 17.96875 6.59375 36.375 \nQ 6.59375 54.828125 13.0625 64.515625 \nQ 19.53125 74.21875 31.78125 74.21875 \nz\n\" id=\"DejaVuSans-48\"/>\n       </defs>\n       <use xlink:href=\"#DejaVuSans-48\"/>\n      </g>\n     </g>\n    </g>\n    <g id=\"xtick_2\">\n     <g id=\"line2d_2\">\n      <g>\n       <use style=\"stroke:#000000;stroke-width:0.8;\" x=\"137.68354\" xlink:href=\"#ma1731958c0\" y=\"402.838125\"/>\n      </g>\n     </g>\n     <g id=\"text_2\">\n      <!-- 2 -->\n      <g transform=\"translate(134.50229 417.436562)scale(0.1 -0.1)\">\n       <defs>\n        <path d=\"M 19.1875 8.296875 \nL 53.609375 8.296875 \nL 53.609375 0 \nL 7.328125 0 \nL 7.328125 8.296875 \nQ 12.9375 14.109375 22.625 23.890625 \nQ 32.328125 33.6875 34.8125 36.53125 \nQ 39.546875 41.84375 41.421875 45.53125 \nQ 43.3125 49.21875 43.3125 52.78125 \nQ 43.3125 58.59375 39.234375 62.25 \nQ 35.15625 65.921875 28.609375 65.921875 \nQ 23.96875 65.921875 18.8125 64.3125 \nQ 13.671875 62.703125 7.8125 59.421875 \nL 7.8125 69.390625 \nQ 13.765625 71.78125 18.9375 73 \nQ 24.125 74.21875 28.421875 74.21875 \nQ 39.75 74.21875 46.484375 68.546875 \nQ 53.21875 62.890625 53.21875 53.421875 \nQ 53.21875 48.921875 51.53125 44.890625 \nQ 49.859375 40.875 45.40625 35.40625 \nQ 44.1875 33.984375 37.640625 27.21875 \nQ 31.109375 20.453125 19.1875 8.296875 \nz\n\" id=\"DejaVuSans-50\"/>\n       </defs>\n       <use xlink:href=\"#DejaVuSans-50\"/>\n      </g>\n     </g>\n    </g>\n    <g id=\"xtick_3\">\n     <g id=\"line2d_3\">\n      <g>\n       <use style=\"stroke:#000000;stroke-width:0.8;\" x=\"244.930023\" xlink:href=\"#ma1731958c0\" y=\"402.838125\"/>\n      </g>\n     </g>\n     <g id=\"text_3\">\n      <!-- 4 -->\n      <g transform=\"translate(241.748773 417.436562)scale(0.1 -0.1)\">\n       <defs>\n        <path d=\"M 37.796875 64.3125 \nL 12.890625 25.390625 \nL 37.796875 25.390625 \nz\nM 35.203125 72.90625 \nL 47.609375 72.90625 \nL 47.609375 25.390625 \nL 58.015625 25.390625 \nL 58.015625 17.1875 \nL 47.609375 17.1875 \nL 47.609375 0 \nL 37.796875 0 \nL 37.796875 17.1875 \nL 4.890625 17.1875 \nL 4.890625 26.703125 \nz\n\" id=\"DejaVuSans-52\"/>\n       </defs>\n       <use xlink:href=\"#DejaVuSans-52\"/>\n      </g>\n     </g>\n    </g>\n    <g id=\"xtick_4\">\n     <g id=\"line2d_4\">\n      <g>\n       <use style=\"stroke:#000000;stroke-width:0.8;\" x=\"352.176506\" xlink:href=\"#ma1731958c0\" y=\"402.838125\"/>\n      </g>\n     </g>\n     <g id=\"text_4\">\n      <!-- 6 -->\n      <g transform=\"translate(348.995256 417.436562)scale(0.1 -0.1)\">\n       <defs>\n        <path d=\"M 33.015625 40.375 \nQ 26.375 40.375 22.484375 35.828125 \nQ 18.609375 31.296875 18.609375 23.390625 \nQ 18.609375 15.53125 22.484375 10.953125 \nQ 26.375 6.390625 33.015625 6.390625 \nQ 39.65625 6.390625 43.53125 10.953125 \nQ 47.40625 15.53125 47.40625 23.390625 \nQ 47.40625 31.296875 43.53125 35.828125 \nQ 39.65625 40.375 33.015625 40.375 \nz\nM 52.59375 71.296875 \nL 52.59375 62.3125 \nQ 48.875 64.0625 45.09375 64.984375 \nQ 41.3125 65.921875 37.59375 65.921875 \nQ 27.828125 65.921875 22.671875 59.328125 \nQ 17.53125 52.734375 16.796875 39.40625 \nQ 19.671875 43.65625 24.015625 45.921875 \nQ 28.375 48.1875 33.59375 48.1875 \nQ 44.578125 48.1875 50.953125 41.515625 \nQ 57.328125 34.859375 57.328125 23.390625 \nQ 57.328125 12.15625 50.6875 5.359375 \nQ 44.046875 -1.421875 33.015625 -1.421875 \nQ 20.359375 -1.421875 13.671875 8.265625 \nQ 6.984375 17.96875 6.984375 36.375 \nQ 6.984375 53.65625 15.1875 63.9375 \nQ 23.390625 74.21875 37.203125 74.21875 \nQ 40.921875 74.21875 44.703125 73.484375 \nQ 48.484375 72.75 52.59375 71.296875 \nz\n\" id=\"DejaVuSans-54\"/>\n       </defs>\n       <use xlink:href=\"#DejaVuSans-54\"/>\n      </g>\n     </g>\n    </g>\n    <g id=\"xtick_5\">\n     <g id=\"line2d_5\">\n      <g>\n       <use style=\"stroke:#000000;stroke-width:0.8;\" x=\"459.422989\" xlink:href=\"#ma1731958c0\" y=\"402.838125\"/>\n      </g>\n     </g>\n     <g id=\"text_5\">\n      <!-- 8 -->\n      <g transform=\"translate(456.241739 417.436562)scale(0.1 -0.1)\">\n       <defs>\n        <path d=\"M 31.78125 34.625 \nQ 24.75 34.625 20.71875 30.859375 \nQ 16.703125 27.09375 16.703125 20.515625 \nQ 16.703125 13.921875 20.71875 10.15625 \nQ 24.75 6.390625 31.78125 6.390625 \nQ 38.8125 6.390625 42.859375 10.171875 \nQ 46.921875 13.96875 46.921875 20.515625 \nQ 46.921875 27.09375 42.890625 30.859375 \nQ 38.875 34.625 31.78125 34.625 \nz\nM 21.921875 38.8125 \nQ 15.578125 40.375 12.03125 44.71875 \nQ 8.5 49.078125 8.5 55.328125 \nQ 8.5 64.0625 14.71875 69.140625 \nQ 20.953125 74.21875 31.78125 74.21875 \nQ 42.671875 74.21875 48.875 69.140625 \nQ 55.078125 64.0625 55.078125 55.328125 \nQ 55.078125 49.078125 51.53125 44.71875 \nQ 48 40.375 41.703125 38.8125 \nQ 48.828125 37.15625 52.796875 32.3125 \nQ 56.78125 27.484375 56.78125 20.515625 \nQ 56.78125 9.90625 50.3125 4.234375 \nQ 43.84375 -1.421875 31.78125 -1.421875 \nQ 19.734375 -1.421875 13.25 4.234375 \nQ 6.78125 9.90625 6.78125 20.515625 \nQ 6.78125 27.484375 10.78125 32.3125 \nQ 14.796875 37.15625 21.921875 38.8125 \nz\nM 18.3125 54.390625 \nQ 18.3125 48.734375 21.84375 45.5625 \nQ 25.390625 42.390625 31.78125 42.390625 \nQ 38.140625 42.390625 41.71875 45.5625 \nQ 45.3125 48.734375 45.3125 54.390625 \nQ 45.3125 60.0625 41.71875 63.234375 \nQ 38.140625 66.40625 31.78125 66.40625 \nQ 25.390625 66.40625 21.84375 63.234375 \nQ 18.3125 60.0625 18.3125 54.390625 \nz\n\" id=\"DejaVuSans-56\"/>\n       </defs>\n       <use xlink:href=\"#DejaVuSans-56\"/>\n      </g>\n     </g>\n    </g>\n    <g id=\"xtick_6\">\n     <g id=\"line2d_6\">\n      <g>\n       <use style=\"stroke:#000000;stroke-width:0.8;\" x=\"566.669472\" xlink:href=\"#ma1731958c0\" y=\"402.838125\"/>\n      </g>\n     </g>\n     <g id=\"text_6\">\n      <!-- 10 -->\n      <g transform=\"translate(560.306972 417.436562)scale(0.1 -0.1)\">\n       <defs>\n        <path d=\"M 12.40625 8.296875 \nL 28.515625 8.296875 \nL 28.515625 63.921875 \nL 10.984375 60.40625 \nL 10.984375 69.390625 \nL 28.421875 72.90625 \nL 38.28125 72.90625 \nL 38.28125 8.296875 \nL 54.390625 8.296875 \nL 54.390625 0 \nL 12.40625 0 \nz\n\" id=\"DejaVuSans-49\"/>\n       </defs>\n       <use xlink:href=\"#DejaVuSans-49\"/>\n       <use x=\"63.623047\" xlink:href=\"#DejaVuSans-48\"/>\n      </g>\n     </g>\n    </g>\n   </g>\n   <g id=\"matplotlib.axis_2\">\n    <g id=\"ytick_1\">\n     <g id=\"line2d_7\">\n      <defs>\n       <path d=\"M 0 0 \nL -3.5 0 \n\" id=\"mfb193c39c1\" style=\"stroke:#000000;stroke-width:0.8;\"/>\n      </defs>\n      <g>\n       <use style=\"stroke:#000000;stroke-width:0.8;\" x=\"30.103125\" xlink:href=\"#mfb193c39c1\" y=\"402.838125\"/>\n      </g>\n     </g>\n     <g id=\"text_7\">\n      <!-- 0.0 -->\n      <g transform=\"translate(7.2 406.637344)scale(0.1 -0.1)\">\n       <defs>\n        <path d=\"M 10.6875 12.40625 \nL 21 12.40625 \nL 21 0 \nL 10.6875 0 \nz\n\" id=\"DejaVuSans-46\"/>\n       </defs>\n       <use xlink:href=\"#DejaVuSans-48\"/>\n       <use x=\"63.623047\" xlink:href=\"#DejaVuSans-46\"/>\n       <use x=\"95.410156\" xlink:href=\"#DejaVuSans-48\"/>\n      </g>\n     </g>\n    </g>\n    <g id=\"ytick_2\">\n     <g id=\"line2d_8\">\n      <g>\n       <use style=\"stroke:#000000;stroke-width:0.8;\" x=\"30.103125\" xlink:href=\"#mfb193c39c1\" y=\"357.940776\"/>\n      </g>\n     </g>\n     <g id=\"text_8\">\n      <!-- 0.1 -->\n      <g transform=\"translate(7.2 361.739994)scale(0.1 -0.1)\">\n       <use xlink:href=\"#DejaVuSans-48\"/>\n       <use x=\"63.623047\" xlink:href=\"#DejaVuSans-46\"/>\n       <use x=\"95.410156\" xlink:href=\"#DejaVuSans-49\"/>\n      </g>\n     </g>\n    </g>\n    <g id=\"ytick_3\">\n     <g id=\"line2d_9\">\n      <g>\n       <use style=\"stroke:#000000;stroke-width:0.8;\" x=\"30.103125\" xlink:href=\"#mfb193c39c1\" y=\"313.043426\"/>\n      </g>\n     </g>\n     <g id=\"text_9\">\n      <!-- 0.2 -->\n      <g transform=\"translate(7.2 316.842645)scale(0.1 -0.1)\">\n       <use xlink:href=\"#DejaVuSans-48\"/>\n       <use x=\"63.623047\" xlink:href=\"#DejaVuSans-46\"/>\n       <use x=\"95.410156\" xlink:href=\"#DejaVuSans-50\"/>\n      </g>\n     </g>\n    </g>\n    <g id=\"ytick_4\">\n     <g id=\"line2d_10\">\n      <g>\n       <use style=\"stroke:#000000;stroke-width:0.8;\" x=\"30.103125\" xlink:href=\"#mfb193c39c1\" y=\"268.146077\"/>\n      </g>\n     </g>\n     <g id=\"text_10\">\n      <!-- 0.3 -->\n      <g transform=\"translate(7.2 271.945296)scale(0.1 -0.1)\">\n       <defs>\n        <path d=\"M 40.578125 39.3125 \nQ 47.65625 37.796875 51.625 33 \nQ 55.609375 28.21875 55.609375 21.1875 \nQ 55.609375 10.40625 48.1875 4.484375 \nQ 40.765625 -1.421875 27.09375 -1.421875 \nQ 22.515625 -1.421875 17.65625 -0.515625 \nQ 12.796875 0.390625 7.625 2.203125 \nL 7.625 11.71875 \nQ 11.71875 9.328125 16.59375 8.109375 \nQ 21.484375 6.890625 26.8125 6.890625 \nQ 36.078125 6.890625 40.9375 10.546875 \nQ 45.796875 14.203125 45.796875 21.1875 \nQ 45.796875 27.640625 41.28125 31.265625 \nQ 36.765625 34.90625 28.71875 34.90625 \nL 20.21875 34.90625 \nL 20.21875 43.015625 \nL 29.109375 43.015625 \nQ 36.375 43.015625 40.234375 45.921875 \nQ 44.09375 48.828125 44.09375 54.296875 \nQ 44.09375 59.90625 40.109375 62.90625 \nQ 36.140625 65.921875 28.71875 65.921875 \nQ 24.65625 65.921875 20.015625 65.03125 \nQ 15.375 64.15625 9.8125 62.3125 \nL 9.8125 71.09375 \nQ 15.4375 72.65625 20.34375 73.4375 \nQ 25.25 74.21875 29.59375 74.21875 \nQ 40.828125 74.21875 47.359375 69.109375 \nQ 53.90625 64.015625 53.90625 55.328125 \nQ 53.90625 49.265625 50.4375 45.09375 \nQ 46.96875 40.921875 40.578125 39.3125 \nz\n\" id=\"DejaVuSans-51\"/>\n       </defs>\n       <use xlink:href=\"#DejaVuSans-48\"/>\n       <use x=\"63.623047\" xlink:href=\"#DejaVuSans-46\"/>\n       <use x=\"95.410156\" xlink:href=\"#DejaVuSans-51\"/>\n      </g>\n     </g>\n    </g>\n    <g id=\"ytick_5\">\n     <g id=\"line2d_11\">\n      <g>\n       <use style=\"stroke:#000000;stroke-width:0.8;\" x=\"30.103125\" xlink:href=\"#mfb193c39c1\" y=\"223.248728\"/>\n      </g>\n     </g>\n     <g id=\"text_11\">\n      <!-- 0.4 -->\n      <g transform=\"translate(7.2 227.047947)scale(0.1 -0.1)\">\n       <use xlink:href=\"#DejaVuSans-48\"/>\n       <use x=\"63.623047\" xlink:href=\"#DejaVuSans-46\"/>\n       <use x=\"95.410156\" xlink:href=\"#DejaVuSans-52\"/>\n      </g>\n     </g>\n    </g>\n    <g id=\"ytick_6\">\n     <g id=\"line2d_12\">\n      <g>\n       <use style=\"stroke:#000000;stroke-width:0.8;\" x=\"30.103125\" xlink:href=\"#mfb193c39c1\" y=\"178.351379\"/>\n      </g>\n     </g>\n     <g id=\"text_12\">\n      <!-- 0.5 -->\n      <g transform=\"translate(7.2 182.150597)scale(0.1 -0.1)\">\n       <defs>\n        <path d=\"M 10.796875 72.90625 \nL 49.515625 72.90625 \nL 49.515625 64.59375 \nL 19.828125 64.59375 \nL 19.828125 46.734375 \nQ 21.96875 47.46875 24.109375 47.828125 \nQ 26.265625 48.1875 28.421875 48.1875 \nQ 40.625 48.1875 47.75 41.5 \nQ 54.890625 34.8125 54.890625 23.390625 \nQ 54.890625 11.625 47.5625 5.09375 \nQ 40.234375 -1.421875 26.90625 -1.421875 \nQ 22.3125 -1.421875 17.546875 -0.640625 \nQ 12.796875 0.140625 7.71875 1.703125 \nL 7.71875 11.625 \nQ 12.109375 9.234375 16.796875 8.0625 \nQ 21.484375 6.890625 26.703125 6.890625 \nQ 35.15625 6.890625 40.078125 11.328125 \nQ 45.015625 15.765625 45.015625 23.390625 \nQ 45.015625 31 40.078125 35.4375 \nQ 35.15625 39.890625 26.703125 39.890625 \nQ 22.75 39.890625 18.8125 39.015625 \nQ 14.890625 38.140625 10.796875 36.28125 \nz\n\" id=\"DejaVuSans-53\"/>\n       </defs>\n       <use xlink:href=\"#DejaVuSans-48\"/>\n       <use x=\"63.623047\" xlink:href=\"#DejaVuSans-46\"/>\n       <use x=\"95.410156\" xlink:href=\"#DejaVuSans-53\"/>\n      </g>\n     </g>\n    </g>\n    <g id=\"ytick_7\">\n     <g id=\"line2d_13\">\n      <g>\n       <use style=\"stroke:#000000;stroke-width:0.8;\" x=\"30.103125\" xlink:href=\"#mfb193c39c1\" y=\"133.454029\"/>\n      </g>\n     </g>\n     <g id=\"text_13\">\n      <!-- 0.6 -->\n      <g transform=\"translate(7.2 137.253248)scale(0.1 -0.1)\">\n       <use xlink:href=\"#DejaVuSans-48\"/>\n       <use x=\"63.623047\" xlink:href=\"#DejaVuSans-46\"/>\n       <use x=\"95.410156\" xlink:href=\"#DejaVuSans-54\"/>\n      </g>\n     </g>\n    </g>\n    <g id=\"ytick_8\">\n     <g id=\"line2d_14\">\n      <g>\n       <use style=\"stroke:#000000;stroke-width:0.8;\" x=\"30.103125\" xlink:href=\"#mfb193c39c1\" y=\"88.55668\"/>\n      </g>\n     </g>\n     <g id=\"text_14\">\n      <!-- 0.7 -->\n      <g transform=\"translate(7.2 92.355899)scale(0.1 -0.1)\">\n       <defs>\n        <path d=\"M 8.203125 72.90625 \nL 55.078125 72.90625 \nL 55.078125 68.703125 \nL 28.609375 0 \nL 18.3125 0 \nL 43.21875 64.59375 \nL 8.203125 64.59375 \nz\n\" id=\"DejaVuSans-55\"/>\n       </defs>\n       <use xlink:href=\"#DejaVuSans-48\"/>\n       <use x=\"63.623047\" xlink:href=\"#DejaVuSans-46\"/>\n       <use x=\"95.410156\" xlink:href=\"#DejaVuSans-55\"/>\n      </g>\n     </g>\n    </g>\n    <g id=\"ytick_9\">\n     <g id=\"line2d_15\">\n      <g>\n       <use style=\"stroke:#000000;stroke-width:0.8;\" x=\"30.103125\" xlink:href=\"#mfb193c39c1\" y=\"43.659331\"/>\n      </g>\n     </g>\n     <g id=\"text_15\">\n      <!-- 0.8 -->\n      <g transform=\"translate(7.2 47.45855)scale(0.1 -0.1)\">\n       <use xlink:href=\"#DejaVuSans-48\"/>\n       <use x=\"63.623047\" xlink:href=\"#DejaVuSans-46\"/>\n       <use x=\"95.410156\" xlink:href=\"#DejaVuSans-56\"/>\n      </g>\n     </g>\n    </g>\n   </g>\n   <g id=\"patch_43\">\n    <path d=\"M 30.103125 402.838125 \nL 30.103125 22.318125 \n\" style=\"fill:none;stroke:#000000;stroke-linecap:square;stroke-linejoin:miter;stroke-width:0.8;\"/>\n   </g>\n   <g id=\"patch_44\">\n    <path d=\"M 588.103125 402.838125 \nL 588.103125 22.318125 \n\" style=\"fill:none;stroke:#000000;stroke-linecap:square;stroke-linejoin:miter;stroke-width:0.8;\"/>\n   </g>\n   <g id=\"patch_45\">\n    <path d=\"M 30.103125 402.838125 \nL 588.103125 402.838125 \n\" style=\"fill:none;stroke:#000000;stroke-linecap:square;stroke-linejoin:miter;stroke-width:0.8;\"/>\n   </g>\n   <g id=\"patch_46\">\n    <path d=\"M 30.103125 22.318125 \nL 588.103125 22.318125 \n\" style=\"fill:none;stroke:#000000;stroke-linecap:square;stroke-linejoin:miter;stroke-width:0.8;\"/>\n   </g>\n   <g id=\"text_16\">\n    <!-- std_vehicle_speed distribution -->\n    <g transform=\"translate(218.22 16.318125)scale(0.12 -0.12)\">\n     <defs>\n      <path d=\"M 44.28125 53.078125 \nL 44.28125 44.578125 \nQ 40.484375 46.53125 36.375 47.5 \nQ 32.28125 48.484375 27.875 48.484375 \nQ 21.1875 48.484375 17.84375 46.4375 \nQ 14.5 44.390625 14.5 40.28125 \nQ 14.5 37.15625 16.890625 35.375 \nQ 19.28125 33.59375 26.515625 31.984375 \nL 29.59375 31.296875 \nQ 39.15625 29.25 43.1875 25.515625 \nQ 47.21875 21.78125 47.21875 15.09375 \nQ 47.21875 7.46875 41.1875 3.015625 \nQ 35.15625 -1.421875 24.609375 -1.421875 \nQ 20.21875 -1.421875 15.453125 -0.5625 \nQ 10.6875 0.296875 5.421875 2 \nL 5.421875 11.28125 \nQ 10.40625 8.6875 15.234375 7.390625 \nQ 20.0625 6.109375 24.8125 6.109375 \nQ 31.15625 6.109375 34.5625 8.28125 \nQ 37.984375 10.453125 37.984375 14.40625 \nQ 37.984375 18.0625 35.515625 20.015625 \nQ 33.0625 21.96875 24.703125 23.78125 \nL 21.578125 24.515625 \nQ 13.234375 26.265625 9.515625 29.90625 \nQ 5.8125 33.546875 5.8125 39.890625 \nQ 5.8125 47.609375 11.28125 51.796875 \nQ 16.75 56 26.8125 56 \nQ 31.78125 56 36.171875 55.265625 \nQ 40.578125 54.546875 44.28125 53.078125 \nz\n\" id=\"DejaVuSans-115\"/>\n      <path d=\"M 18.3125 70.21875 \nL 18.3125 54.6875 \nL 36.8125 54.6875 \nL 36.8125 47.703125 \nL 18.3125 47.703125 \nL 18.3125 18.015625 \nQ 18.3125 11.328125 20.140625 9.421875 \nQ 21.96875 7.515625 27.59375 7.515625 \nL 36.8125 7.515625 \nL 36.8125 0 \nL 27.59375 0 \nQ 17.1875 0 13.234375 3.875 \nQ 9.28125 7.765625 9.28125 18.015625 \nL 9.28125 47.703125 \nL 2.6875 47.703125 \nL 2.6875 54.6875 \nL 9.28125 54.6875 \nL 9.28125 70.21875 \nz\n\" id=\"DejaVuSans-116\"/>\n      <path d=\"M 45.40625 46.390625 \nL 45.40625 75.984375 \nL 54.390625 75.984375 \nL 54.390625 0 \nL 45.40625 0 \nL 45.40625 8.203125 \nQ 42.578125 3.328125 38.25 0.953125 \nQ 33.9375 -1.421875 27.875 -1.421875 \nQ 17.96875 -1.421875 11.734375 6.484375 \nQ 5.515625 14.40625 5.515625 27.296875 \nQ 5.515625 40.1875 11.734375 48.09375 \nQ 17.96875 56 27.875 56 \nQ 33.9375 56 38.25 53.625 \nQ 42.578125 51.265625 45.40625 46.390625 \nz\nM 14.796875 27.296875 \nQ 14.796875 17.390625 18.875 11.75 \nQ 22.953125 6.109375 30.078125 6.109375 \nQ 37.203125 6.109375 41.296875 11.75 \nQ 45.40625 17.390625 45.40625 27.296875 \nQ 45.40625 37.203125 41.296875 42.84375 \nQ 37.203125 48.484375 30.078125 48.484375 \nQ 22.953125 48.484375 18.875 42.84375 \nQ 14.796875 37.203125 14.796875 27.296875 \nz\n\" id=\"DejaVuSans-100\"/>\n      <path d=\"M 50.984375 -16.609375 \nL 50.984375 -23.578125 \nL -0.984375 -23.578125 \nL -0.984375 -16.609375 \nz\n\" id=\"DejaVuSans-95\"/>\n      <path d=\"M 2.984375 54.6875 \nL 12.5 54.6875 \nL 29.59375 8.796875 \nL 46.6875 54.6875 \nL 56.203125 54.6875 \nL 35.6875 0 \nL 23.484375 0 \nz\n\" id=\"DejaVuSans-118\"/>\n      <path d=\"M 56.203125 29.59375 \nL 56.203125 25.203125 \nL 14.890625 25.203125 \nQ 15.484375 15.921875 20.484375 11.0625 \nQ 25.484375 6.203125 34.421875 6.203125 \nQ 39.59375 6.203125 44.453125 7.46875 \nQ 49.3125 8.734375 54.109375 11.28125 \nL 54.109375 2.78125 \nQ 49.265625 0.734375 44.1875 -0.34375 \nQ 39.109375 -1.421875 33.890625 -1.421875 \nQ 20.796875 -1.421875 13.15625 6.1875 \nQ 5.515625 13.8125 5.515625 26.8125 \nQ 5.515625 40.234375 12.765625 48.109375 \nQ 20.015625 56 32.328125 56 \nQ 43.359375 56 49.78125 48.890625 \nQ 56.203125 41.796875 56.203125 29.59375 \nz\nM 47.21875 32.234375 \nQ 47.125 39.59375 43.09375 43.984375 \nQ 39.0625 48.390625 32.421875 48.390625 \nQ 24.90625 48.390625 20.390625 44.140625 \nQ 15.875 39.890625 15.1875 32.171875 \nz\n\" id=\"DejaVuSans-101\"/>\n      <path d=\"M 54.890625 33.015625 \nL 54.890625 0 \nL 45.90625 0 \nL 45.90625 32.71875 \nQ 45.90625 40.484375 42.875 44.328125 \nQ 39.84375 48.1875 33.796875 48.1875 \nQ 26.515625 48.1875 22.3125 43.546875 \nQ 18.109375 38.921875 18.109375 30.90625 \nL 18.109375 0 \nL 9.078125 0 \nL 9.078125 75.984375 \nL 18.109375 75.984375 \nL 18.109375 46.1875 \nQ 21.34375 51.125 25.703125 53.5625 \nQ 30.078125 56 35.796875 56 \nQ 45.21875 56 50.046875 50.171875 \nQ 54.890625 44.34375 54.890625 33.015625 \nz\n\" id=\"DejaVuSans-104\"/>\n      <path d=\"M 9.421875 54.6875 \nL 18.40625 54.6875 \nL 18.40625 0 \nL 9.421875 0 \nz\nM 9.421875 75.984375 \nL 18.40625 75.984375 \nL 18.40625 64.59375 \nL 9.421875 64.59375 \nz\n\" id=\"DejaVuSans-105\"/>\n      <path d=\"M 48.78125 52.59375 \nL 48.78125 44.1875 \nQ 44.96875 46.296875 41.140625 47.34375 \nQ 37.3125 48.390625 33.40625 48.390625 \nQ 24.65625 48.390625 19.8125 42.84375 \nQ 14.984375 37.3125 14.984375 27.296875 \nQ 14.984375 17.28125 19.8125 11.734375 \nQ 24.65625 6.203125 33.40625 6.203125 \nQ 37.3125 6.203125 41.140625 7.25 \nQ 44.96875 8.296875 48.78125 10.40625 \nL 48.78125 2.09375 \nQ 45.015625 0.34375 40.984375 -0.53125 \nQ 36.96875 -1.421875 32.421875 -1.421875 \nQ 20.0625 -1.421875 12.78125 6.34375 \nQ 5.515625 14.109375 5.515625 27.296875 \nQ 5.515625 40.671875 12.859375 48.328125 \nQ 20.21875 56 33.015625 56 \nQ 37.15625 56 41.109375 55.140625 \nQ 45.0625 54.296875 48.78125 52.59375 \nz\n\" id=\"DejaVuSans-99\"/>\n      <path d=\"M 9.421875 75.984375 \nL 18.40625 75.984375 \nL 18.40625 0 \nL 9.421875 0 \nz\n\" id=\"DejaVuSans-108\"/>\n      <path d=\"M 18.109375 8.203125 \nL 18.109375 -20.796875 \nL 9.078125 -20.796875 \nL 9.078125 54.6875 \nL 18.109375 54.6875 \nL 18.109375 46.390625 \nQ 20.953125 51.265625 25.265625 53.625 \nQ 29.59375 56 35.59375 56 \nQ 45.5625 56 51.78125 48.09375 \nQ 58.015625 40.1875 58.015625 27.296875 \nQ 58.015625 14.40625 51.78125 6.484375 \nQ 45.5625 -1.421875 35.59375 -1.421875 \nQ 29.59375 -1.421875 25.265625 0.953125 \nQ 20.953125 3.328125 18.109375 8.203125 \nz\nM 48.6875 27.296875 \nQ 48.6875 37.203125 44.609375 42.84375 \nQ 40.53125 48.484375 33.40625 48.484375 \nQ 26.265625 48.484375 22.1875 42.84375 \nQ 18.109375 37.203125 18.109375 27.296875 \nQ 18.109375 17.390625 22.1875 11.75 \nQ 26.265625 6.109375 33.40625 6.109375 \nQ 40.53125 6.109375 44.609375 11.75 \nQ 48.6875 17.390625 48.6875 27.296875 \nz\n\" id=\"DejaVuSans-112\"/>\n      <path id=\"DejaVuSans-32\"/>\n      <path d=\"M 41.109375 46.296875 \nQ 39.59375 47.171875 37.8125 47.578125 \nQ 36.03125 48 33.890625 48 \nQ 26.265625 48 22.1875 43.046875 \nQ 18.109375 38.09375 18.109375 28.8125 \nL 18.109375 0 \nL 9.078125 0 \nL 9.078125 54.6875 \nL 18.109375 54.6875 \nL 18.109375 46.1875 \nQ 20.953125 51.171875 25.484375 53.578125 \nQ 30.03125 56 36.53125 56 \nQ 37.453125 56 38.578125 55.875 \nQ 39.703125 55.765625 41.0625 55.515625 \nz\n\" id=\"DejaVuSans-114\"/>\n      <path d=\"M 48.6875 27.296875 \nQ 48.6875 37.203125 44.609375 42.84375 \nQ 40.53125 48.484375 33.40625 48.484375 \nQ 26.265625 48.484375 22.1875 42.84375 \nQ 18.109375 37.203125 18.109375 27.296875 \nQ 18.109375 17.390625 22.1875 11.75 \nQ 26.265625 6.109375 33.40625 6.109375 \nQ 40.53125 6.109375 44.609375 11.75 \nQ 48.6875 17.390625 48.6875 27.296875 \nz\nM 18.109375 46.390625 \nQ 20.953125 51.265625 25.265625 53.625 \nQ 29.59375 56 35.59375 56 \nQ 45.5625 56 51.78125 48.09375 \nQ 58.015625 40.1875 58.015625 27.296875 \nQ 58.015625 14.40625 51.78125 6.484375 \nQ 45.5625 -1.421875 35.59375 -1.421875 \nQ 29.59375 -1.421875 25.265625 0.953125 \nQ 20.953125 3.328125 18.109375 8.203125 \nL 18.109375 0 \nL 9.078125 0 \nL 9.078125 75.984375 \nL 18.109375 75.984375 \nz\n\" id=\"DejaVuSans-98\"/>\n      <path d=\"M 8.5 21.578125 \nL 8.5 54.6875 \nL 17.484375 54.6875 \nL 17.484375 21.921875 \nQ 17.484375 14.15625 20.5 10.265625 \nQ 23.53125 6.390625 29.59375 6.390625 \nQ 36.859375 6.390625 41.078125 11.03125 \nQ 45.3125 15.671875 45.3125 23.6875 \nL 45.3125 54.6875 \nL 54.296875 54.6875 \nL 54.296875 0 \nL 45.3125 0 \nL 45.3125 8.40625 \nQ 42.046875 3.421875 37.71875 1 \nQ 33.40625 -1.421875 27.6875 -1.421875 \nQ 18.265625 -1.421875 13.375 4.4375 \nQ 8.5 10.296875 8.5 21.578125 \nz\nM 31.109375 56 \nz\n\" id=\"DejaVuSans-117\"/>\n      <path d=\"M 30.609375 48.390625 \nQ 23.390625 48.390625 19.1875 42.75 \nQ 14.984375 37.109375 14.984375 27.296875 \nQ 14.984375 17.484375 19.15625 11.84375 \nQ 23.34375 6.203125 30.609375 6.203125 \nQ 37.796875 6.203125 41.984375 11.859375 \nQ 46.1875 17.53125 46.1875 27.296875 \nQ 46.1875 37.015625 41.984375 42.703125 \nQ 37.796875 48.390625 30.609375 48.390625 \nz\nM 30.609375 56 \nQ 42.328125 56 49.015625 48.375 \nQ 55.71875 40.765625 55.71875 27.296875 \nQ 55.71875 13.875 49.015625 6.21875 \nQ 42.328125 -1.421875 30.609375 -1.421875 \nQ 18.84375 -1.421875 12.171875 6.21875 \nQ 5.515625 13.875 5.515625 27.296875 \nQ 5.515625 40.765625 12.171875 48.375 \nQ 18.84375 56 30.609375 56 \nz\n\" id=\"DejaVuSans-111\"/>\n      <path d=\"M 54.890625 33.015625 \nL 54.890625 0 \nL 45.90625 0 \nL 45.90625 32.71875 \nQ 45.90625 40.484375 42.875 44.328125 \nQ 39.84375 48.1875 33.796875 48.1875 \nQ 26.515625 48.1875 22.3125 43.546875 \nQ 18.109375 38.921875 18.109375 30.90625 \nL 18.109375 0 \nL 9.078125 0 \nL 9.078125 54.6875 \nL 18.109375 54.6875 \nL 18.109375 46.1875 \nQ 21.34375 51.125 25.703125 53.5625 \nQ 30.078125 56 35.796875 56 \nQ 45.21875 56 50.046875 50.171875 \nQ 54.890625 44.34375 54.890625 33.015625 \nz\n\" id=\"DejaVuSans-110\"/>\n     </defs>\n     <use xlink:href=\"#DejaVuSans-115\"/>\n     <use x=\"52.099609\" xlink:href=\"#DejaVuSans-116\"/>\n     <use x=\"91.308594\" xlink:href=\"#DejaVuSans-100\"/>\n     <use x=\"154.785156\" xlink:href=\"#DejaVuSans-95\"/>\n     <use x=\"204.785156\" xlink:href=\"#DejaVuSans-118\"/>\n     <use x=\"263.964844\" xlink:href=\"#DejaVuSans-101\"/>\n     <use x=\"325.488281\" xlink:href=\"#DejaVuSans-104\"/>\n     <use x=\"388.867188\" xlink:href=\"#DejaVuSans-105\"/>\n     <use x=\"416.650391\" xlink:href=\"#DejaVuSans-99\"/>\n     <use x=\"471.630859\" xlink:href=\"#DejaVuSans-108\"/>\n     <use x=\"499.414062\" xlink:href=\"#DejaVuSans-101\"/>\n     <use x=\"560.9375\" xlink:href=\"#DejaVuSans-95\"/>\n     <use x=\"610.9375\" xlink:href=\"#DejaVuSans-115\"/>\n     <use x=\"663.037109\" xlink:href=\"#DejaVuSans-112\"/>\n     <use x=\"726.513672\" xlink:href=\"#DejaVuSans-101\"/>\n     <use x=\"788.037109\" xlink:href=\"#DejaVuSans-101\"/>\n     <use x=\"849.560547\" xlink:href=\"#DejaVuSans-100\"/>\n     <use x=\"913.037109\" xlink:href=\"#DejaVuSans-32\"/>\n     <use x=\"944.824219\" xlink:href=\"#DejaVuSans-100\"/>\n     <use x=\"1008.300781\" xlink:href=\"#DejaVuSans-105\"/>\n     <use x=\"1036.083984\" xlink:href=\"#DejaVuSans-115\"/>\n     <use x=\"1088.183594\" xlink:href=\"#DejaVuSans-116\"/>\n     <use x=\"1127.392578\" xlink:href=\"#DejaVuSans-114\"/>\n     <use x=\"1168.505859\" xlink:href=\"#DejaVuSans-105\"/>\n     <use x=\"1196.289062\" xlink:href=\"#DejaVuSans-98\"/>\n     <use x=\"1259.765625\" xlink:href=\"#DejaVuSans-117\"/>\n     <use x=\"1323.144531\" xlink:href=\"#DejaVuSans-116\"/>\n     <use x=\"1362.353516\" xlink:href=\"#DejaVuSans-105\"/>\n     <use x=\"1390.136719\" xlink:href=\"#DejaVuSans-111\"/>\n     <use x=\"1451.318359\" xlink:href=\"#DejaVuSans-110\"/>\n    </g>\n   </g>\n   <g id=\"legend_1\">\n    <g id=\"patch_47\">\n     <path d=\"M 531.207813 59.674375 \nL 581.103125 59.674375 \nQ 583.103125 59.674375 583.103125 57.674375 \nL 583.103125 29.318125 \nQ 583.103125 27.318125 581.103125 27.318125 \nL 531.207813 27.318125 \nQ 529.207813 27.318125 529.207813 29.318125 \nL 529.207813 57.674375 \nQ 529.207813 59.674375 531.207813 59.674375 \nz\n\" style=\"fill:#ffffff;opacity:0.8;stroke:#cccccc;stroke-linejoin:miter;\"/>\n    </g>\n    <g id=\"patch_48\">\n     <path d=\"M 533.207813 38.916562 \nL 553.207813 38.916562 \nL 553.207813 31.916562 \nL 533.207813 31.916562 \nz\n\" style=\"fill:#1f77b4;opacity:0.5;\"/>\n    </g>\n    <g id=\"text_17\">\n     <!-- car -->\n     <g transform=\"translate(561.207813 38.916562)scale(0.1 -0.1)\">\n      <defs>\n       <path d=\"M 34.28125 27.484375 \nQ 23.390625 27.484375 19.1875 25 \nQ 14.984375 22.515625 14.984375 16.5 \nQ 14.984375 11.71875 18.140625 8.90625 \nQ 21.296875 6.109375 26.703125 6.109375 \nQ 34.1875 6.109375 38.703125 11.40625 \nQ 43.21875 16.703125 43.21875 25.484375 \nL 43.21875 27.484375 \nz\nM 52.203125 31.203125 \nL 52.203125 0 \nL 43.21875 0 \nL 43.21875 8.296875 \nQ 40.140625 3.328125 35.546875 0.953125 \nQ 30.953125 -1.421875 24.3125 -1.421875 \nQ 15.921875 -1.421875 10.953125 3.296875 \nQ 6 8.015625 6 15.921875 \nQ 6 25.140625 12.171875 29.828125 \nQ 18.359375 34.515625 30.609375 34.515625 \nL 43.21875 34.515625 \nL 43.21875 35.40625 \nQ 43.21875 41.609375 39.140625 45 \nQ 35.0625 48.390625 27.6875 48.390625 \nQ 23 48.390625 18.546875 47.265625 \nQ 14.109375 46.140625 10.015625 43.890625 \nL 10.015625 52.203125 \nQ 14.9375 54.109375 19.578125 55.046875 \nQ 24.21875 56 28.609375 56 \nQ 40.484375 56 46.34375 49.84375 \nQ 52.203125 43.703125 52.203125 31.203125 \nz\n\" id=\"DejaVuSans-97\"/>\n      </defs>\n      <use xlink:href=\"#DejaVuSans-99\"/>\n      <use x=\"54.980469\" xlink:href=\"#DejaVuSans-97\"/>\n      <use x=\"116.259766\" xlink:href=\"#DejaVuSans-114\"/>\n     </g>\n    </g>\n    <g id=\"patch_49\">\n     <path d=\"M 533.207813 53.594687 \nL 553.207813 53.594687 \nL 553.207813 46.594687 \nL 533.207813 46.594687 \nz\n\" style=\"fill:#ff7f0e;opacity:0.5;\"/>\n    </g>\n    <g id=\"text_18\">\n     <!-- bus -->\n     <g transform=\"translate(561.207813 53.594687)scale(0.1 -0.1)\">\n      <use xlink:href=\"#DejaVuSans-98\"/>\n      <use x=\"63.476562\" xlink:href=\"#DejaVuSans-117\"/>\n      <use x=\"126.855469\" xlink:href=\"#DejaVuSans-115\"/>\n     </g>\n    </g>\n   </g>\n  </g>\n </g>\n <defs>\n  <clipPath id=\"p7545642a7d\">\n   <rect height=\"380.52\" width=\"558\" x=\"30.103125\" y=\"22.318125\"/>\n  </clipPath>\n </defs>\n</svg>\n",
      "image/png": "[encoded data removed]"
     },
     "metadata": {
      "needs_background": "light"
     }
    },
    {
     "output_type": "display_data",
     "data": {
      "text/plain": "<Figure size 720x504 with 1 Axes>",
      "image/svg+xml": "<?xml version=\"1.0\" encoding=\"utf-8\" standalone=\"no\"?>\n<!DOCTYPE svg PUBLIC \"-//W3C//DTD SVG 1.1//EN\"\n  \"http://www.w3.org/Graphics/SVG/1.1/DTD/svg11.dtd\">\n<!-- Created with matplotlib (https://matplotlib.org/) -->\n<svg height=\"426.71625pt\" version=\"1.1\" viewBox=\"0 0 595.303125 426.71625\" width=\"595.303125pt\" xmlns=\"http://www.w3.org/2000/svg\" xmlns:xlink=\"http://www.w3.org/1999/xlink\">\n <metadata>\n  <rdf:RDF xmlns:cc=\"http://creativecommons.org/ns#\" xmlns:dc=\"http://purl.org/dc/elements/1.1/\" xmlns:rdf=\"http://www.w3.org/1999/02/22-rdf-syntax-ns#\">\n   <cc:Work>\n    <dc:type rdf:resource=\"http://purl.org/dc/dcmitype/StillImage\"/>\n    <dc:date>2021-02-22T18:22:21.395554</dc:date>\n    <dc:format>image/svg+xml</dc:format>\n    <dc:creator>\n     <cc:Agent>\n      <dc:title>Matplotlib v3.3.3, https://matplotlib.org/</dc:title>\n     </cc:Agent>\n    </dc:creator>\n   </cc:Work>\n  </rdf:RDF>\n </metadata>\n <defs>\n  <style type=\"text/css\">*{stroke-linecap:butt;stroke-linejoin:round;}</style>\n </defs>\n <g id=\"figure_1\">\n  <g id=\"patch_1\">\n   <path d=\"M -0 426.71625 \nL 595.303125 426.71625 \nL 595.303125 0 \nL -0 0 \nz\n\" style=\"fill:none;\"/>\n  </g>\n  <g id=\"axes_1\">\n   <g id=\"patch_2\">\n    <path d=\"M 30.103125 402.838125 \nL 588.103125 402.838125 \nL 588.103125 22.318125 \nL 30.103125 22.318125 \nz\n\" style=\"fill:#ffffff;\"/>\n   </g>\n   <g id=\"patch_3\">\n    <path clip-path=\"url(#pee4456f277)\" d=\"M 55.466761 402.838125 \nL 80.830398 402.838125 \nL 80.830398 374.470388 \nL 55.466761 374.470388 \nz\n\" style=\"fill:#1f77b4;opacity:0.5;\"/>\n   </g>\n   <g id=\"patch_4\">\n    <path clip-path=\"url(#pee4456f277)\" d=\"M 80.830398 402.838125 \nL 106.194034 402.838125 \nL 106.194034 300.834987 \nL 80.830398 300.834987 \nz\n\" style=\"fill:#1f77b4;opacity:0.5;\"/>\n   </g>\n   <g id=\"patch_5\">\n    <path clip-path=\"url(#pee4456f277)\" d=\"M 106.194034 402.838125 \nL 131.55767 402.838125 \nL 131.55767 260.999442 \nL 106.194034 260.999442 \nz\n\" style=\"fill:#1f77b4;opacity:0.5;\"/>\n   </g>\n   <g id=\"patch_6\">\n    <path clip-path=\"url(#pee4456f277)\" d=\"M 131.55767 402.838125 \nL 156.921307 402.838125 \nL 156.921307 295.402867 \nL 131.55767 295.402867 \nz\n\" style=\"fill:#1f77b4;opacity:0.5;\"/>\n   </g>\n   <g id=\"patch_7\">\n    <path clip-path=\"url(#pee4456f277)\" d=\"M 156.921307 402.838125 \nL 182.284943 402.838125 \nL 182.284943 296.610005 \nL 156.921307 296.610005 \nz\n\" style=\"fill:#1f77b4;opacity:0.5;\"/>\n   </g>\n   <g id=\"patch_8\">\n    <path clip-path=\"url(#pee4456f277)\" d=\"M 182.284943 402.838125 \nL 207.64858 402.838125 \nL 207.64858 308.681382 \nL 182.284943 308.681382 \nz\n\" style=\"fill:#1f77b4;opacity:0.5;\"/>\n   </g>\n   <g id=\"patch_9\">\n    <path clip-path=\"url(#pee4456f277)\" d=\"M 207.64858 402.838125 \nL 233.012216 402.838125 \nL 233.012216 286.952903 \nL 207.64858 286.952903 \nz\n\" style=\"fill:#1f77b4;opacity:0.5;\"/>\n   </g>\n   <g id=\"patch_10\">\n    <path clip-path=\"url(#pee4456f277)\" d=\"M 233.012216 402.838125 \nL 258.375852 402.838125 \nL 258.375852 284.538628 \nL 233.012216 284.538628 \nz\n\" style=\"fill:#1f77b4;opacity:0.5;\"/>\n   </g>\n   <g id=\"patch_11\">\n    <path clip-path=\"url(#pee4456f277)\" d=\"M 258.375852 402.838125 \nL 283.739489 402.838125 \nL 283.739489 286.349334 \nL 258.375852 286.349334 \nz\n\" style=\"fill:#1f77b4;opacity:0.5;\"/>\n   </g>\n   <g id=\"patch_12\">\n    <path clip-path=\"url(#pee4456f277)\" d=\"M 283.739489 402.838125 \nL 309.103125 402.838125 \nL 309.103125 296.610005 \nL 283.739489 296.610005 \nz\n\" style=\"fill:#1f77b4;opacity:0.5;\"/>\n   </g>\n   <g id=\"patch_13\">\n    <path clip-path=\"url(#pee4456f277)\" d=\"M 309.103125 402.838125 \nL 334.466761 402.838125 \nL 334.466761 307.474245 \nL 309.103125 307.474245 \nz\n\" style=\"fill:#1f77b4;opacity:0.5;\"/>\n   </g>\n   <g id=\"patch_14\">\n    <path clip-path=\"url(#pee4456f277)\" d=\"M 334.466761 402.838125 \nL 359.830398 402.838125 \nL 359.830398 334.634843 \nL 334.466761 334.634843 \nz\n\" style=\"fill:#1f77b4;opacity:0.5;\"/>\n   </g>\n   <g id=\"patch_15\">\n    <path clip-path=\"url(#pee4456f277)\" d=\"M 359.830398 402.838125 \nL 385.194034 402.838125 \nL 385.194034 367.831131 \nL 359.830398 367.831131 \nz\n\" style=\"fill:#1f77b4;opacity:0.5;\"/>\n   </g>\n   <g id=\"patch_16\">\n    <path clip-path=\"url(#pee4456f277)\" d=\"M 385.194034 402.838125 \nL 410.55767 402.838125 \nL 410.55767 379.902508 \nL 385.194034 379.902508 \nz\n\" style=\"fill:#1f77b4;opacity:0.5;\"/>\n   </g>\n   <g id=\"patch_17\">\n    <path clip-path=\"url(#pee4456f277)\" d=\"M 410.55767 402.838125 \nL 435.921307 402.838125 \nL 435.921307 387.748903 \nL 410.55767 387.748903 \nz\n\" style=\"fill:#1f77b4;opacity:0.5;\"/>\n   </g>\n   <g id=\"patch_18\">\n    <path clip-path=\"url(#pee4456f277)\" d=\"M 435.921307 402.838125 \nL 461.284943 402.838125 \nL 461.284943 396.802436 \nL 435.921307 396.802436 \nz\n\" style=\"fill:#1f77b4;opacity:0.5;\"/>\n   </g>\n   <g id=\"patch_19\">\n    <path clip-path=\"url(#pee4456f277)\" d=\"M 461.284943 402.838125 \nL 486.64858 402.838125 \nL 486.64858 399.216712 \nL 461.284943 399.216712 \nz\n\" style=\"fill:#1f77b4;opacity:0.5;\"/>\n   </g>\n   <g id=\"patch_20\">\n    <path clip-path=\"url(#pee4456f277)\" d=\"M 486.64858 402.838125 \nL 512.012216 402.838125 \nL 512.012216 400.42385 \nL 486.64858 400.42385 \nz\n\" style=\"fill:#1f77b4;opacity:0.5;\"/>\n   </g>\n   <g id=\"patch_21\">\n    <path clip-path=\"url(#pee4456f277)\" d=\"M 512.012216 402.838125 \nL 537.375852 402.838125 \nL 537.375852 401.630987 \nL 512.012216 401.630987 \nz\n\" style=\"fill:#1f77b4;opacity:0.5;\"/>\n   </g>\n   <g id=\"patch_22\">\n    <path clip-path=\"url(#pee4456f277)\" d=\"M 537.375852 402.838125 \nL 562.739489 402.838125 \nL 562.739489 401.027418 \nL 537.375852 401.027418 \nz\n\" style=\"fill:#1f77b4;opacity:0.5;\"/>\n   </g>\n   <g id=\"patch_23\">\n    <path clip-path=\"url(#pee4456f277)\" d=\"M 143.530877 402.838125 \nL 156.157176 402.838125 \nL 156.157176 333.809554 \nL 143.530877 333.809554 \nz\n\" style=\"fill:#ff7f0e;opacity:0.5;\"/>\n   </g>\n   <g id=\"patch_24\">\n    <path clip-path=\"url(#pee4456f277)\" d=\"M 156.157176 402.838125 \nL 168.783475 402.838125 \nL 168.783475 333.809554 \nL 156.157176 333.809554 \nz\n\" style=\"fill:#ff7f0e;opacity:0.5;\"/>\n   </g>\n   <g id=\"patch_25\">\n    <path clip-path=\"url(#pee4456f277)\" d=\"M 168.783475 402.838125 \nL 181.409774 402.838125 \nL 181.409774 333.809554 \nL 168.783475 333.809554 \nz\n\" style=\"fill:#ff7f0e;opacity:0.5;\"/>\n   </g>\n   <g id=\"patch_26\">\n    <path clip-path=\"url(#pee4456f277)\" d=\"M 181.409774 402.838125 \nL 194.036073 402.838125 \nL 194.036073 213.009554 \nL 181.409774 213.009554 \nz\n\" style=\"fill:#ff7f0e;opacity:0.5;\"/>\n   </g>\n   <g id=\"patch_27\">\n    <path clip-path=\"url(#pee4456f277)\" d=\"M 194.036073 402.838125 \nL 206.662372 402.838125 \nL 206.662372 333.809554 \nL 194.036073 333.809554 \nz\n\" style=\"fill:#ff7f0e;opacity:0.5;\"/>\n   </g>\n   <g id=\"patch_28\">\n    <path clip-path=\"url(#pee4456f277)\" d=\"M 206.662372 402.838125 \nL 219.288671 402.838125 \nL 219.288671 351.066696 \nL 206.662372 351.066696 \nz\n\" style=\"fill:#ff7f0e;opacity:0.5;\"/>\n   </g>\n   <g id=\"patch_29\">\n    <path clip-path=\"url(#pee4456f277)\" d=\"M 219.288671 402.838125 \nL 231.91497 402.838125 \nL 231.91497 299.295268 \nL 219.288671 299.295268 \nz\n\" style=\"fill:#ff7f0e;opacity:0.5;\"/>\n   </g>\n   <g id=\"patch_30\">\n    <path clip-path=\"url(#pee4456f277)\" d=\"M 231.91497 402.838125 \nL 244.541269 402.838125 \nL 244.541269 333.809554 \nL 231.91497 333.809554 \nz\n\" style=\"fill:#ff7f0e;opacity:0.5;\"/>\n   </g>\n   <g id=\"patch_31\">\n    <path clip-path=\"url(#pee4456f277)\" d=\"M 244.541269 402.838125 \nL 257.167568 402.838125 \nL 257.167568 282.038125 \nL 244.541269 282.038125 \nz\n\" style=\"fill:#ff7f0e;opacity:0.5;\"/>\n   </g>\n   <g id=\"patch_32\">\n    <path clip-path=\"url(#pee4456f277)\" d=\"M 257.167568 402.838125 \nL 269.793867 402.838125 \nL 269.793867 282.038125 \nL 257.167568 282.038125 \nz\n\" style=\"fill:#ff7f0e;opacity:0.5;\"/>\n   </g>\n   <g id=\"patch_33\">\n    <path clip-path=\"url(#pee4456f277)\" d=\"M 269.793867 402.838125 \nL 282.420167 402.838125 \nL 282.420167 299.295268 \nL 269.793867 299.295268 \nz\n\" style=\"fill:#ff7f0e;opacity:0.5;\"/>\n   </g>\n   <g id=\"patch_34\">\n    <path clip-path=\"url(#pee4456f277)\" d=\"M 282.420167 402.838125 \nL 295.046466 402.838125 \nL 295.046466 264.780982 \nL 282.420167 264.780982 \nz\n\" style=\"fill:#ff7f0e;opacity:0.5;\"/>\n   </g>\n   <g id=\"patch_35\">\n    <path clip-path=\"url(#pee4456f277)\" d=\"M 295.046466 402.838125 \nL 307.672765 402.838125 \nL 307.672765 282.038125 \nL 295.046466 282.038125 \nz\n\" style=\"fill:#ff7f0e;opacity:0.5;\"/>\n   </g>\n   <g id=\"patch_36\">\n    <path clip-path=\"url(#pee4456f277)\" d=\"M 307.672765 402.838125 \nL 320.299064 402.838125 \nL 320.299064 195.752411 \nL 307.672765 195.752411 \nz\n\" style=\"fill:#ff7f0e;opacity:0.5;\"/>\n   </g>\n   <g id=\"patch_37\">\n    <path clip-path=\"url(#pee4456f277)\" d=\"M 320.299064 402.838125 \nL 332.925363 402.838125 \nL 332.925363 143.980982 \nL 320.299064 143.980982 \nz\n\" style=\"fill:#ff7f0e;opacity:0.5;\"/>\n   </g>\n   <g id=\"patch_38\">\n    <path clip-path=\"url(#pee4456f277)\" d=\"M 332.925363 402.838125 \nL 345.551662 402.838125 \nL 345.551662 213.009554 \nL 332.925363 213.009554 \nz\n\" style=\"fill:#ff7f0e;opacity:0.5;\"/>\n   </g>\n   <g id=\"patch_39\">\n    <path clip-path=\"url(#pee4456f277)\" d=\"M 345.551662 402.838125 \nL 358.177961 402.838125 \nL 358.177961 40.438125 \nL 345.551662 40.438125 \nz\n\" style=\"fill:#ff7f0e;opacity:0.5;\"/>\n   </g>\n   <g id=\"patch_40\">\n    <path clip-path=\"url(#pee4456f277)\" d=\"M 358.177961 402.838125 \nL 370.80426 402.838125 \nL 370.80426 247.523839 \nL 358.177961 247.523839 \nz\n\" style=\"fill:#ff7f0e;opacity:0.5;\"/>\n   </g>\n   <g id=\"patch_41\">\n    <path clip-path=\"url(#pee4456f277)\" d=\"M 370.80426 402.838125 \nL 383.430559 402.838125 \nL 383.430559 333.809554 \nL 370.80426 333.809554 \nz\n\" style=\"fill:#ff7f0e;opacity:0.5;\"/>\n   </g>\n   <g id=\"patch_42\">\n    <path clip-path=\"url(#pee4456f277)\" d=\"M 383.430559 402.838125 \nL 396.056858 402.838125 \nL 396.056858 351.066696 \nL 383.430559 351.066696 \nz\n\" style=\"fill:#ff7f0e;opacity:0.5;\"/>\n   </g>\n   <g id=\"matplotlib.axis_1\">\n    <g id=\"xtick_1\">\n     <g id=\"line2d_1\">\n      <defs>\n       <path d=\"M 0 0 \nL 0 3.5 \n\" id=\"mfc45115f9f\" style=\"stroke:#000000;stroke-width:0.8;\"/>\n      </defs>\n      <g>\n       <use style=\"stroke:#000000;stroke-width:0.8;\" x=\"35.310272\" xlink:href=\"#mfc45115f9f\" y=\"402.838125\"/>\n      </g>\n     </g>\n     <g id=\"text_1\">\n      <!-- 0.0 -->\n      <g transform=\"translate(27.35871 417.436562)scale(0.1 -0.1)\">\n       <defs>\n        <path d=\"M 31.78125 66.40625 \nQ 24.171875 66.40625 20.328125 58.90625 \nQ 16.5 51.421875 16.5 36.375 \nQ 16.5 21.390625 20.328125 13.890625 \nQ 24.171875 6.390625 31.78125 6.390625 \nQ 39.453125 6.390625 43.28125 13.890625 \nQ 47.125 21.390625 47.125 36.375 \nQ 47.125 51.421875 43.28125 58.90625 \nQ 39.453125 66.40625 31.78125 66.40625 \nz\nM 31.78125 74.21875 \nQ 44.046875 74.21875 50.515625 64.515625 \nQ 56.984375 54.828125 56.984375 36.375 \nQ 56.984375 17.96875 50.515625 8.265625 \nQ 44.046875 -1.421875 31.78125 -1.421875 \nQ 19.53125 -1.421875 13.0625 8.265625 \nQ 6.59375 17.96875 6.59375 36.375 \nQ 6.59375 54.828125 13.0625 64.515625 \nQ 19.53125 74.21875 31.78125 74.21875 \nz\n\" id=\"DejaVuSans-48\"/>\n        <path d=\"M 10.6875 12.40625 \nL 21 12.40625 \nL 21 0 \nL 10.6875 0 \nz\n\" id=\"DejaVuSans-46\"/>\n       </defs>\n       <use xlink:href=\"#DejaVuSans-48\"/>\n       <use x=\"63.623047\" xlink:href=\"#DejaVuSans-46\"/>\n       <use x=\"95.410156\" xlink:href=\"#DejaVuSans-48\"/>\n      </g>\n     </g>\n    </g>\n    <g id=\"xtick_2\">\n     <g id=\"line2d_2\">\n      <g>\n       <use style=\"stroke:#000000;stroke-width:0.8;\" x=\"99.377353\" xlink:href=\"#mfc45115f9f\" y=\"402.838125\"/>\n      </g>\n     </g>\n     <g id=\"text_2\">\n      <!-- 0.5 -->\n      <g transform=\"translate(91.42579 417.436562)scale(0.1 -0.1)\">\n       <defs>\n        <path d=\"M 10.796875 72.90625 \nL 49.515625 72.90625 \nL 49.515625 64.59375 \nL 19.828125 64.59375 \nL 19.828125 46.734375 \nQ 21.96875 47.46875 24.109375 47.828125 \nQ 26.265625 48.1875 28.421875 48.1875 \nQ 40.625 48.1875 47.75 41.5 \nQ 54.890625 34.8125 54.890625 23.390625 \nQ 54.890625 11.625 47.5625 5.09375 \nQ 40.234375 -1.421875 26.90625 -1.421875 \nQ 22.3125 -1.421875 17.546875 -0.640625 \nQ 12.796875 0.140625 7.71875 1.703125 \nL 7.71875 11.625 \nQ 12.109375 9.234375 16.796875 8.0625 \nQ 21.484375 6.890625 26.703125 6.890625 \nQ 35.15625 6.890625 40.078125 11.328125 \nQ 45.015625 15.765625 45.015625 23.390625 \nQ 45.015625 31 40.078125 35.4375 \nQ 35.15625 39.890625 26.703125 39.890625 \nQ 22.75 39.890625 18.8125 39.015625 \nQ 14.890625 38.140625 10.796875 36.28125 \nz\n\" id=\"DejaVuSans-53\"/>\n       </defs>\n       <use xlink:href=\"#DejaVuSans-48\"/>\n       <use x=\"63.623047\" xlink:href=\"#DejaVuSans-46\"/>\n       <use x=\"95.410156\" xlink:href=\"#DejaVuSans-53\"/>\n      </g>\n     </g>\n    </g>\n    <g id=\"xtick_3\">\n     <g id=\"line2d_3\">\n      <g>\n       <use style=\"stroke:#000000;stroke-width:0.8;\" x=\"163.444433\" xlink:href=\"#mfc45115f9f\" y=\"402.838125\"/>\n      </g>\n     </g>\n     <g id=\"text_3\">\n      <!-- 1.0 -->\n      <g transform=\"translate(155.49287 417.436562)scale(0.1 -0.1)\">\n       <defs>\n        <path d=\"M 12.40625 8.296875 \nL 28.515625 8.296875 \nL 28.515625 63.921875 \nL 10.984375 60.40625 \nL 10.984375 69.390625 \nL 28.421875 72.90625 \nL 38.28125 72.90625 \nL 38.28125 8.296875 \nL 54.390625 8.296875 \nL 54.390625 0 \nL 12.40625 0 \nz\n\" id=\"DejaVuSans-49\"/>\n       </defs>\n       <use xlink:href=\"#DejaVuSans-49\"/>\n       <use x=\"63.623047\" xlink:href=\"#DejaVuSans-46\"/>\n       <use x=\"95.410156\" xlink:href=\"#DejaVuSans-48\"/>\n      </g>\n     </g>\n    </g>\n    <g id=\"xtick_4\">\n     <g id=\"line2d_4\">\n      <g>\n       <use style=\"stroke:#000000;stroke-width:0.8;\" x=\"227.511513\" xlink:href=\"#mfc45115f9f\" y=\"402.838125\"/>\n      </g>\n     </g>\n     <g id=\"text_4\">\n      <!-- 1.5 -->\n      <g transform=\"translate(219.559951 417.436562)scale(0.1 -0.1)\">\n       <use xlink:href=\"#DejaVuSans-49\"/>\n       <use x=\"63.623047\" xlink:href=\"#DejaVuSans-46\"/>\n       <use x=\"95.410156\" xlink:href=\"#DejaVuSans-53\"/>\n      </g>\n     </g>\n    </g>\n    <g id=\"xtick_5\">\n     <g id=\"line2d_5\">\n      <g>\n       <use style=\"stroke:#000000;stroke-width:0.8;\" x=\"291.578593\" xlink:href=\"#mfc45115f9f\" y=\"402.838125\"/>\n      </g>\n     </g>\n     <g id=\"text_5\">\n      <!-- 2.0 -->\n      <g transform=\"translate(283.627031 417.436562)scale(0.1 -0.1)\">\n       <defs>\n        <path d=\"M 19.1875 8.296875 \nL 53.609375 8.296875 \nL 53.609375 0 \nL 7.328125 0 \nL 7.328125 8.296875 \nQ 12.9375 14.109375 22.625 23.890625 \nQ 32.328125 33.6875 34.8125 36.53125 \nQ 39.546875 41.84375 41.421875 45.53125 \nQ 43.3125 49.21875 43.3125 52.78125 \nQ 43.3125 58.59375 39.234375 62.25 \nQ 35.15625 65.921875 28.609375 65.921875 \nQ 23.96875 65.921875 18.8125 64.3125 \nQ 13.671875 62.703125 7.8125 59.421875 \nL 7.8125 69.390625 \nQ 13.765625 71.78125 18.9375 73 \nQ 24.125 74.21875 28.421875 74.21875 \nQ 39.75 74.21875 46.484375 68.546875 \nQ 53.21875 62.890625 53.21875 53.421875 \nQ 53.21875 48.921875 51.53125 44.890625 \nQ 49.859375 40.875 45.40625 35.40625 \nQ 44.1875 33.984375 37.640625 27.21875 \nQ 31.109375 20.453125 19.1875 8.296875 \nz\n\" id=\"DejaVuSans-50\"/>\n       </defs>\n       <use xlink:href=\"#DejaVuSans-50\"/>\n       <use x=\"63.623047\" xlink:href=\"#DejaVuSans-46\"/>\n       <use x=\"95.410156\" xlink:href=\"#DejaVuSans-48\"/>\n      </g>\n     </g>\n    </g>\n    <g id=\"xtick_6\">\n     <g id=\"line2d_6\">\n      <g>\n       <use style=\"stroke:#000000;stroke-width:0.8;\" x=\"355.645674\" xlink:href=\"#mfc45115f9f\" y=\"402.838125\"/>\n      </g>\n     </g>\n     <g id=\"text_6\">\n      <!-- 2.5 -->\n      <g transform=\"translate(347.694111 417.436562)scale(0.1 -0.1)\">\n       <use xlink:href=\"#DejaVuSans-50\"/>\n       <use x=\"63.623047\" xlink:href=\"#DejaVuSans-46\"/>\n       <use x=\"95.410156\" xlink:href=\"#DejaVuSans-53\"/>\n      </g>\n     </g>\n    </g>\n    <g id=\"xtick_7\">\n     <g id=\"line2d_7\">\n      <g>\n       <use style=\"stroke:#000000;stroke-width:0.8;\" x=\"419.712754\" xlink:href=\"#mfc45115f9f\" y=\"402.838125\"/>\n      </g>\n     </g>\n     <g id=\"text_7\">\n      <!-- 3.0 -->\n      <g transform=\"translate(411.761191 417.436562)scale(0.1 -0.1)\">\n       <defs>\n        <path d=\"M 40.578125 39.3125 \nQ 47.65625 37.796875 51.625 33 \nQ 55.609375 28.21875 55.609375 21.1875 \nQ 55.609375 10.40625 48.1875 4.484375 \nQ 40.765625 -1.421875 27.09375 -1.421875 \nQ 22.515625 -1.421875 17.65625 -0.515625 \nQ 12.796875 0.390625 7.625 2.203125 \nL 7.625 11.71875 \nQ 11.71875 9.328125 16.59375 8.109375 \nQ 21.484375 6.890625 26.8125 6.890625 \nQ 36.078125 6.890625 40.9375 10.546875 \nQ 45.796875 14.203125 45.796875 21.1875 \nQ 45.796875 27.640625 41.28125 31.265625 \nQ 36.765625 34.90625 28.71875 34.90625 \nL 20.21875 34.90625 \nL 20.21875 43.015625 \nL 29.109375 43.015625 \nQ 36.375 43.015625 40.234375 45.921875 \nQ 44.09375 48.828125 44.09375 54.296875 \nQ 44.09375 59.90625 40.109375 62.90625 \nQ 36.140625 65.921875 28.71875 65.921875 \nQ 24.65625 65.921875 20.015625 65.03125 \nQ 15.375 64.15625 9.8125 62.3125 \nL 9.8125 71.09375 \nQ 15.4375 72.65625 20.34375 73.4375 \nQ 25.25 74.21875 29.59375 74.21875 \nQ 40.828125 74.21875 47.359375 69.109375 \nQ 53.90625 64.015625 53.90625 55.328125 \nQ 53.90625 49.265625 50.4375 45.09375 \nQ 46.96875 40.921875 40.578125 39.3125 \nz\n\" id=\"DejaVuSans-51\"/>\n       </defs>\n       <use xlink:href=\"#DejaVuSans-51\"/>\n       <use x=\"63.623047\" xlink:href=\"#DejaVuSans-46\"/>\n       <use x=\"95.410156\" xlink:href=\"#DejaVuSans-48\"/>\n      </g>\n     </g>\n    </g>\n    <g id=\"xtick_8\">\n     <g id=\"line2d_8\">\n      <g>\n       <use style=\"stroke:#000000;stroke-width:0.8;\" x=\"483.779834\" xlink:href=\"#mfc45115f9f\" y=\"402.838125\"/>\n      </g>\n     </g>\n     <g id=\"text_8\">\n      <!-- 3.5 -->\n      <g transform=\"translate(475.828272 417.436562)scale(0.1 -0.1)\">\n       <use xlink:href=\"#DejaVuSans-51\"/>\n       <use x=\"63.623047\" xlink:href=\"#DejaVuSans-46\"/>\n       <use x=\"95.410156\" xlink:href=\"#DejaVuSans-53\"/>\n      </g>\n     </g>\n    </g>\n    <g id=\"xtick_9\">\n     <g id=\"line2d_9\">\n      <g>\n       <use style=\"stroke:#000000;stroke-width:0.8;\" x=\"547.846915\" xlink:href=\"#mfc45115f9f\" y=\"402.838125\"/>\n      </g>\n     </g>\n     <g id=\"text_9\">\n      <!-- 4.0 -->\n      <g transform=\"translate(539.895352 417.436562)scale(0.1 -0.1)\">\n       <defs>\n        <path d=\"M 37.796875 64.3125 \nL 12.890625 25.390625 \nL 37.796875 25.390625 \nz\nM 35.203125 72.90625 \nL 47.609375 72.90625 \nL 47.609375 25.390625 \nL 58.015625 25.390625 \nL 58.015625 17.1875 \nL 47.609375 17.1875 \nL 47.609375 0 \nL 37.796875 0 \nL 37.796875 17.1875 \nL 4.890625 17.1875 \nL 4.890625 26.703125 \nz\n\" id=\"DejaVuSans-52\"/>\n       </defs>\n       <use xlink:href=\"#DejaVuSans-52\"/>\n       <use x=\"63.623047\" xlink:href=\"#DejaVuSans-46\"/>\n       <use x=\"95.410156\" xlink:href=\"#DejaVuSans-48\"/>\n      </g>\n     </g>\n    </g>\n   </g>\n   <g id=\"matplotlib.axis_2\">\n    <g id=\"ytick_1\">\n     <g id=\"line2d_10\">\n      <defs>\n       <path d=\"M 0 0 \nL -3.5 0 \n\" id=\"me0f4a63368\" style=\"stroke:#000000;stroke-width:0.8;\"/>\n      </defs>\n      <g>\n       <use style=\"stroke:#000000;stroke-width:0.8;\" x=\"30.103125\" xlink:href=\"#me0f4a63368\" y=\"402.838125\"/>\n      </g>\n     </g>\n     <g id=\"text_10\">\n      <!-- 0.0 -->\n      <g transform=\"translate(7.2 406.637344)scale(0.1 -0.1)\">\n       <use xlink:href=\"#DejaVuSans-48\"/>\n       <use x=\"63.623047\" xlink:href=\"#DejaVuSans-46\"/>\n       <use x=\"95.410156\" xlink:href=\"#DejaVuSans-48\"/>\n      </g>\n     </g>\n    </g>\n    <g id=\"ytick_2\">\n     <g id=\"line2d_11\">\n      <g>\n       <use style=\"stroke:#000000;stroke-width:0.8;\" x=\"30.103125\" xlink:href=\"#me0f4a63368\" y=\"351.822725\"/>\n      </g>\n     </g>\n     <g id=\"text_11\">\n      <!-- 0.2 -->\n      <g transform=\"translate(7.2 355.621944)scale(0.1 -0.1)\">\n       <use xlink:href=\"#DejaVuSans-48\"/>\n       <use x=\"63.623047\" xlink:href=\"#DejaVuSans-46\"/>\n       <use x=\"95.410156\" xlink:href=\"#DejaVuSans-50\"/>\n      </g>\n     </g>\n    </g>\n    <g id=\"ytick_3\">\n     <g id=\"line2d_12\">\n      <g>\n       <use style=\"stroke:#000000;stroke-width:0.8;\" x=\"30.103125\" xlink:href=\"#me0f4a63368\" y=\"300.807326\"/>\n      </g>\n     </g>\n     <g id=\"text_12\">\n      <!-- 0.4 -->\n      <g transform=\"translate(7.2 304.606545)scale(0.1 -0.1)\">\n       <use xlink:href=\"#DejaVuSans-48\"/>\n       <use x=\"63.623047\" xlink:href=\"#DejaVuSans-46\"/>\n       <use x=\"95.410156\" xlink:href=\"#DejaVuSans-52\"/>\n      </g>\n     </g>\n    </g>\n    <g id=\"ytick_4\">\n     <g id=\"line2d_13\">\n      <g>\n       <use style=\"stroke:#000000;stroke-width:0.8;\" x=\"30.103125\" xlink:href=\"#me0f4a63368\" y=\"249.791926\"/>\n      </g>\n     </g>\n     <g id=\"text_13\">\n      <!-- 0.6 -->\n      <g transform=\"translate(7.2 253.591145)scale(0.1 -0.1)\">\n       <defs>\n        <path d=\"M 33.015625 40.375 \nQ 26.375 40.375 22.484375 35.828125 \nQ 18.609375 31.296875 18.609375 23.390625 \nQ 18.609375 15.53125 22.484375 10.953125 \nQ 26.375 6.390625 33.015625 6.390625 \nQ 39.65625 6.390625 43.53125 10.953125 \nQ 47.40625 15.53125 47.40625 23.390625 \nQ 47.40625 31.296875 43.53125 35.828125 \nQ 39.65625 40.375 33.015625 40.375 \nz\nM 52.59375 71.296875 \nL 52.59375 62.3125 \nQ 48.875 64.0625 45.09375 64.984375 \nQ 41.3125 65.921875 37.59375 65.921875 \nQ 27.828125 65.921875 22.671875 59.328125 \nQ 17.53125 52.734375 16.796875 39.40625 \nQ 19.671875 43.65625 24.015625 45.921875 \nQ 28.375 48.1875 33.59375 48.1875 \nQ 44.578125 48.1875 50.953125 41.515625 \nQ 57.328125 34.859375 57.328125 23.390625 \nQ 57.328125 12.15625 50.6875 5.359375 \nQ 44.046875 -1.421875 33.015625 -1.421875 \nQ 20.359375 -1.421875 13.671875 8.265625 \nQ 6.984375 17.96875 6.984375 36.375 \nQ 6.984375 53.65625 15.1875 63.9375 \nQ 23.390625 74.21875 37.203125 74.21875 \nQ 40.921875 74.21875 44.703125 73.484375 \nQ 48.484375 72.75 52.59375 71.296875 \nz\n\" id=\"DejaVuSans-54\"/>\n       </defs>\n       <use xlink:href=\"#DejaVuSans-48\"/>\n       <use x=\"63.623047\" xlink:href=\"#DejaVuSans-46\"/>\n       <use x=\"95.410156\" xlink:href=\"#DejaVuSans-54\"/>\n      </g>\n     </g>\n    </g>\n    <g id=\"ytick_5\">\n     <g id=\"line2d_14\">\n      <g>\n       <use style=\"stroke:#000000;stroke-width:0.8;\" x=\"30.103125\" xlink:href=\"#me0f4a63368\" y=\"198.776527\"/>\n      </g>\n     </g>\n     <g id=\"text_14\">\n      <!-- 0.8 -->\n      <g transform=\"translate(7.2 202.575745)scale(0.1 -0.1)\">\n       <defs>\n        <path d=\"M 31.78125 34.625 \nQ 24.75 34.625 20.71875 30.859375 \nQ 16.703125 27.09375 16.703125 20.515625 \nQ 16.703125 13.921875 20.71875 10.15625 \nQ 24.75 6.390625 31.78125 6.390625 \nQ 38.8125 6.390625 42.859375 10.171875 \nQ 46.921875 13.96875 46.921875 20.515625 \nQ 46.921875 27.09375 42.890625 30.859375 \nQ 38.875 34.625 31.78125 34.625 \nz\nM 21.921875 38.8125 \nQ 15.578125 40.375 12.03125 44.71875 \nQ 8.5 49.078125 8.5 55.328125 \nQ 8.5 64.0625 14.71875 69.140625 \nQ 20.953125 74.21875 31.78125 74.21875 \nQ 42.671875 74.21875 48.875 69.140625 \nQ 55.078125 64.0625 55.078125 55.328125 \nQ 55.078125 49.078125 51.53125 44.71875 \nQ 48 40.375 41.703125 38.8125 \nQ 48.828125 37.15625 52.796875 32.3125 \nQ 56.78125 27.484375 56.78125 20.515625 \nQ 56.78125 9.90625 50.3125 4.234375 \nQ 43.84375 -1.421875 31.78125 -1.421875 \nQ 19.734375 -1.421875 13.25 4.234375 \nQ 6.78125 9.90625 6.78125 20.515625 \nQ 6.78125 27.484375 10.78125 32.3125 \nQ 14.796875 37.15625 21.921875 38.8125 \nz\nM 18.3125 54.390625 \nQ 18.3125 48.734375 21.84375 45.5625 \nQ 25.390625 42.390625 31.78125 42.390625 \nQ 38.140625 42.390625 41.71875 45.5625 \nQ 45.3125 48.734375 45.3125 54.390625 \nQ 45.3125 60.0625 41.71875 63.234375 \nQ 38.140625 66.40625 31.78125 66.40625 \nQ 25.390625 66.40625 21.84375 63.234375 \nQ 18.3125 60.0625 18.3125 54.390625 \nz\n\" id=\"DejaVuSans-56\"/>\n       </defs>\n       <use xlink:href=\"#DejaVuSans-48\"/>\n       <use x=\"63.623047\" xlink:href=\"#DejaVuSans-46\"/>\n       <use x=\"95.410156\" xlink:href=\"#DejaVuSans-56\"/>\n      </g>\n     </g>\n    </g>\n    <g id=\"ytick_6\">\n     <g id=\"line2d_15\">\n      <g>\n       <use style=\"stroke:#000000;stroke-width:0.8;\" x=\"30.103125\" xlink:href=\"#me0f4a63368\" y=\"147.761127\"/>\n      </g>\n     </g>\n     <g id=\"text_15\">\n      <!-- 1.0 -->\n      <g transform=\"translate(7.2 151.560346)scale(0.1 -0.1)\">\n       <use xlink:href=\"#DejaVuSans-49\"/>\n       <use x=\"63.623047\" xlink:href=\"#DejaVuSans-46\"/>\n       <use x=\"95.410156\" xlink:href=\"#DejaVuSans-48\"/>\n      </g>\n     </g>\n    </g>\n    <g id=\"ytick_7\">\n     <g id=\"line2d_16\">\n      <g>\n       <use style=\"stroke:#000000;stroke-width:0.8;\" x=\"30.103125\" xlink:href=\"#me0f4a63368\" y=\"96.745727\"/>\n      </g>\n     </g>\n     <g id=\"text_16\">\n      <!-- 1.2 -->\n      <g transform=\"translate(7.2 100.544946)scale(0.1 -0.1)\">\n       <use xlink:href=\"#DejaVuSans-49\"/>\n       <use x=\"63.623047\" xlink:href=\"#DejaVuSans-46\"/>\n       <use x=\"95.410156\" xlink:href=\"#DejaVuSans-50\"/>\n      </g>\n     </g>\n    </g>\n    <g id=\"ytick_8\">\n     <g id=\"line2d_17\">\n      <g>\n       <use style=\"stroke:#000000;stroke-width:0.8;\" x=\"30.103125\" xlink:href=\"#me0f4a63368\" y=\"45.730328\"/>\n      </g>\n     </g>\n     <g id=\"text_17\">\n      <!-- 1.4 -->\n      <g transform=\"translate(7.2 49.529547)scale(0.1 -0.1)\">\n       <use xlink:href=\"#DejaVuSans-49\"/>\n       <use x=\"63.623047\" xlink:href=\"#DejaVuSans-46\"/>\n       <use x=\"95.410156\" xlink:href=\"#DejaVuSans-52\"/>\n      </g>\n     </g>\n    </g>\n   </g>\n   <g id=\"patch_43\">\n    <path d=\"M 30.103125 402.838125 \nL 30.103125 22.318125 \n\" style=\"fill:none;stroke:#000000;stroke-linecap:square;stroke-linejoin:miter;stroke-width:0.8;\"/>\n   </g>\n   <g id=\"patch_44\">\n    <path d=\"M 588.103125 402.838125 \nL 588.103125 22.318125 \n\" style=\"fill:none;stroke:#000000;stroke-linecap:square;stroke-linejoin:miter;stroke-width:0.8;\"/>\n   </g>\n   <g id=\"patch_45\">\n    <path d=\"M 30.103125 402.838125 \nL 588.103125 402.838125 \n\" style=\"fill:none;stroke:#000000;stroke-linecap:square;stroke-linejoin:miter;stroke-width:0.8;\"/>\n   </g>\n   <g id=\"patch_46\">\n    <path d=\"M 30.103125 22.318125 \nL 588.103125 22.318125 \n\" style=\"fill:none;stroke:#000000;stroke-linecap:square;stroke-linejoin:miter;stroke-width:0.8;\"/>\n   </g>\n   <g id=\"text_18\">\n    <!-- mean_speed_variation distribution -->\n    <g transform=\"translate(205.330312 16.318125)scale(0.12 -0.12)\">\n     <defs>\n      <path d=\"M 52 44.1875 \nQ 55.375 50.25 60.0625 53.125 \nQ 64.75 56 71.09375 56 \nQ 79.640625 56 84.28125 50.015625 \nQ 88.921875 44.046875 88.921875 33.015625 \nL 88.921875 0 \nL 79.890625 0 \nL 79.890625 32.71875 \nQ 79.890625 40.578125 77.09375 44.375 \nQ 74.3125 48.1875 68.609375 48.1875 \nQ 61.625 48.1875 57.5625 43.546875 \nQ 53.515625 38.921875 53.515625 30.90625 \nL 53.515625 0 \nL 44.484375 0 \nL 44.484375 32.71875 \nQ 44.484375 40.625 41.703125 44.40625 \nQ 38.921875 48.1875 33.109375 48.1875 \nQ 26.21875 48.1875 22.15625 43.53125 \nQ 18.109375 38.875 18.109375 30.90625 \nL 18.109375 0 \nL 9.078125 0 \nL 9.078125 54.6875 \nL 18.109375 54.6875 \nL 18.109375 46.1875 \nQ 21.1875 51.21875 25.484375 53.609375 \nQ 29.78125 56 35.6875 56 \nQ 41.65625 56 45.828125 52.96875 \nQ 50 49.953125 52 44.1875 \nz\n\" id=\"DejaVuSans-109\"/>\n      <path d=\"M 56.203125 29.59375 \nL 56.203125 25.203125 \nL 14.890625 25.203125 \nQ 15.484375 15.921875 20.484375 11.0625 \nQ 25.484375 6.203125 34.421875 6.203125 \nQ 39.59375 6.203125 44.453125 7.46875 \nQ 49.3125 8.734375 54.109375 11.28125 \nL 54.109375 2.78125 \nQ 49.265625 0.734375 44.1875 -0.34375 \nQ 39.109375 -1.421875 33.890625 -1.421875 \nQ 20.796875 -1.421875 13.15625 6.1875 \nQ 5.515625 13.8125 5.515625 26.8125 \nQ 5.515625 40.234375 12.765625 48.109375 \nQ 20.015625 56 32.328125 56 \nQ 43.359375 56 49.78125 48.890625 \nQ 56.203125 41.796875 56.203125 29.59375 \nz\nM 47.21875 32.234375 \nQ 47.125 39.59375 43.09375 43.984375 \nQ 39.0625 48.390625 32.421875 48.390625 \nQ 24.90625 48.390625 20.390625 44.140625 \nQ 15.875 39.890625 15.1875 32.171875 \nz\n\" id=\"DejaVuSans-101\"/>\n      <path d=\"M 34.28125 27.484375 \nQ 23.390625 27.484375 19.1875 25 \nQ 14.984375 22.515625 14.984375 16.5 \nQ 14.984375 11.71875 18.140625 8.90625 \nQ 21.296875 6.109375 26.703125 6.109375 \nQ 34.1875 6.109375 38.703125 11.40625 \nQ 43.21875 16.703125 43.21875 25.484375 \nL 43.21875 27.484375 \nz\nM 52.203125 31.203125 \nL 52.203125 0 \nL 43.21875 0 \nL 43.21875 8.296875 \nQ 40.140625 3.328125 35.546875 0.953125 \nQ 30.953125 -1.421875 24.3125 -1.421875 \nQ 15.921875 -1.421875 10.953125 3.296875 \nQ 6 8.015625 6 15.921875 \nQ 6 25.140625 12.171875 29.828125 \nQ 18.359375 34.515625 30.609375 34.515625 \nL 43.21875 34.515625 \nL 43.21875 35.40625 \nQ 43.21875 41.609375 39.140625 45 \nQ 35.0625 48.390625 27.6875 48.390625 \nQ 23 48.390625 18.546875 47.265625 \nQ 14.109375 46.140625 10.015625 43.890625 \nL 10.015625 52.203125 \nQ 14.9375 54.109375 19.578125 55.046875 \nQ 24.21875 56 28.609375 56 \nQ 40.484375 56 46.34375 49.84375 \nQ 52.203125 43.703125 52.203125 31.203125 \nz\n\" id=\"DejaVuSans-97\"/>\n      <path d=\"M 54.890625 33.015625 \nL 54.890625 0 \nL 45.90625 0 \nL 45.90625 32.71875 \nQ 45.90625 40.484375 42.875 44.328125 \nQ 39.84375 48.1875 33.796875 48.1875 \nQ 26.515625 48.1875 22.3125 43.546875 \nQ 18.109375 38.921875 18.109375 30.90625 \nL 18.109375 0 \nL 9.078125 0 \nL 9.078125 54.6875 \nL 18.109375 54.6875 \nL 18.109375 46.1875 \nQ 21.34375 51.125 25.703125 53.5625 \nQ 30.078125 56 35.796875 56 \nQ 45.21875 56 50.046875 50.171875 \nQ 54.890625 44.34375 54.890625 33.015625 \nz\n\" id=\"DejaVuSans-110\"/>\n      <path d=\"M 50.984375 -16.609375 \nL 50.984375 -23.578125 \nL -0.984375 -23.578125 \nL -0.984375 -16.609375 \nz\n\" id=\"DejaVuSans-95\"/>\n      <path d=\"M 44.28125 53.078125 \nL 44.28125 44.578125 \nQ 40.484375 46.53125 36.375 47.5 \nQ 32.28125 48.484375 27.875 48.484375 \nQ 21.1875 48.484375 17.84375 46.4375 \nQ 14.5 44.390625 14.5 40.28125 \nQ 14.5 37.15625 16.890625 35.375 \nQ 19.28125 33.59375 26.515625 31.984375 \nL 29.59375 31.296875 \nQ 39.15625 29.25 43.1875 25.515625 \nQ 47.21875 21.78125 47.21875 15.09375 \nQ 47.21875 7.46875 41.1875 3.015625 \nQ 35.15625 -1.421875 24.609375 -1.421875 \nQ 20.21875 -1.421875 15.453125 -0.5625 \nQ 10.6875 0.296875 5.421875 2 \nL 5.421875 11.28125 \nQ 10.40625 8.6875 15.234375 7.390625 \nQ 20.0625 6.109375 24.8125 6.109375 \nQ 31.15625 6.109375 34.5625 8.28125 \nQ 37.984375 10.453125 37.984375 14.40625 \nQ 37.984375 18.0625 35.515625 20.015625 \nQ 33.0625 21.96875 24.703125 23.78125 \nL 21.578125 24.515625 \nQ 13.234375 26.265625 9.515625 29.90625 \nQ 5.8125 33.546875 5.8125 39.890625 \nQ 5.8125 47.609375 11.28125 51.796875 \nQ 16.75 56 26.8125 56 \nQ 31.78125 56 36.171875 55.265625 \nQ 40.578125 54.546875 44.28125 53.078125 \nz\n\" id=\"DejaVuSans-115\"/>\n      <path d=\"M 18.109375 8.203125 \nL 18.109375 -20.796875 \nL 9.078125 -20.796875 \nL 9.078125 54.6875 \nL 18.109375 54.6875 \nL 18.109375 46.390625 \nQ 20.953125 51.265625 25.265625 53.625 \nQ 29.59375 56 35.59375 56 \nQ 45.5625 56 51.78125 48.09375 \nQ 58.015625 40.1875 58.015625 27.296875 \nQ 58.015625 14.40625 51.78125 6.484375 \nQ 45.5625 -1.421875 35.59375 -1.421875 \nQ 29.59375 -1.421875 25.265625 0.953125 \nQ 20.953125 3.328125 18.109375 8.203125 \nz\nM 48.6875 27.296875 \nQ 48.6875 37.203125 44.609375 42.84375 \nQ 40.53125 48.484375 33.40625 48.484375 \nQ 26.265625 48.484375 22.1875 42.84375 \nQ 18.109375 37.203125 18.109375 27.296875 \nQ 18.109375 17.390625 22.1875 11.75 \nQ 26.265625 6.109375 33.40625 6.109375 \nQ 40.53125 6.109375 44.609375 11.75 \nQ 48.6875 17.390625 48.6875 27.296875 \nz\n\" id=\"DejaVuSans-112\"/>\n      <path d=\"M 45.40625 46.390625 \nL 45.40625 75.984375 \nL 54.390625 75.984375 \nL 54.390625 0 \nL 45.40625 0 \nL 45.40625 8.203125 \nQ 42.578125 3.328125 38.25 0.953125 \nQ 33.9375 -1.421875 27.875 -1.421875 \nQ 17.96875 -1.421875 11.734375 6.484375 \nQ 5.515625 14.40625 5.515625 27.296875 \nQ 5.515625 40.1875 11.734375 48.09375 \nQ 17.96875 56 27.875 56 \nQ 33.9375 56 38.25 53.625 \nQ 42.578125 51.265625 45.40625 46.390625 \nz\nM 14.796875 27.296875 \nQ 14.796875 17.390625 18.875 11.75 \nQ 22.953125 6.109375 30.078125 6.109375 \nQ 37.203125 6.109375 41.296875 11.75 \nQ 45.40625 17.390625 45.40625 27.296875 \nQ 45.40625 37.203125 41.296875 42.84375 \nQ 37.203125 48.484375 30.078125 48.484375 \nQ 22.953125 48.484375 18.875 42.84375 \nQ 14.796875 37.203125 14.796875 27.296875 \nz\n\" id=\"DejaVuSans-100\"/>\n      <path d=\"M 2.984375 54.6875 \nL 12.5 54.6875 \nL 29.59375 8.796875 \nL 46.6875 54.6875 \nL 56.203125 54.6875 \nL 35.6875 0 \nL 23.484375 0 \nz\n\" id=\"DejaVuSans-118\"/>\n      <path d=\"M 41.109375 46.296875 \nQ 39.59375 47.171875 37.8125 47.578125 \nQ 36.03125 48 33.890625 48 \nQ 26.265625 48 22.1875 43.046875 \nQ 18.109375 38.09375 18.109375 28.8125 \nL 18.109375 0 \nL 9.078125 0 \nL 9.078125 54.6875 \nL 18.109375 54.6875 \nL 18.109375 46.1875 \nQ 20.953125 51.171875 25.484375 53.578125 \nQ 30.03125 56 36.53125 56 \nQ 37.453125 56 38.578125 55.875 \nQ 39.703125 55.765625 41.0625 55.515625 \nz\n\" id=\"DejaVuSans-114\"/>\n      <path d=\"M 9.421875 54.6875 \nL 18.40625 54.6875 \nL 18.40625 0 \nL 9.421875 0 \nz\nM 9.421875 75.984375 \nL 18.40625 75.984375 \nL 18.40625 64.59375 \nL 9.421875 64.59375 \nz\n\" id=\"DejaVuSans-105\"/>\n      <path d=\"M 18.3125 70.21875 \nL 18.3125 54.6875 \nL 36.8125 54.6875 \nL 36.8125 47.703125 \nL 18.3125 47.703125 \nL 18.3125 18.015625 \nQ 18.3125 11.328125 20.140625 9.421875 \nQ 21.96875 7.515625 27.59375 7.515625 \nL 36.8125 7.515625 \nL 36.8125 0 \nL 27.59375 0 \nQ 17.1875 0 13.234375 3.875 \nQ 9.28125 7.765625 9.28125 18.015625 \nL 9.28125 47.703125 \nL 2.6875 47.703125 \nL 2.6875 54.6875 \nL 9.28125 54.6875 \nL 9.28125 70.21875 \nz\n\" id=\"DejaVuSans-116\"/>\n      <path d=\"M 30.609375 48.390625 \nQ 23.390625 48.390625 19.1875 42.75 \nQ 14.984375 37.109375 14.984375 27.296875 \nQ 14.984375 17.484375 19.15625 11.84375 \nQ 23.34375 6.203125 30.609375 6.203125 \nQ 37.796875 6.203125 41.984375 11.859375 \nQ 46.1875 17.53125 46.1875 27.296875 \nQ 46.1875 37.015625 41.984375 42.703125 \nQ 37.796875 48.390625 30.609375 48.390625 \nz\nM 30.609375 56 \nQ 42.328125 56 49.015625 48.375 \nQ 55.71875 40.765625 55.71875 27.296875 \nQ 55.71875 13.875 49.015625 6.21875 \nQ 42.328125 -1.421875 30.609375 -1.421875 \nQ 18.84375 -1.421875 12.171875 6.21875 \nQ 5.515625 13.875 5.515625 27.296875 \nQ 5.515625 40.765625 12.171875 48.375 \nQ 18.84375 56 30.609375 56 \nz\n\" id=\"DejaVuSans-111\"/>\n      <path id=\"DejaVuSans-32\"/>\n      <path d=\"M 48.6875 27.296875 \nQ 48.6875 37.203125 44.609375 42.84375 \nQ 40.53125 48.484375 33.40625 48.484375 \nQ 26.265625 48.484375 22.1875 42.84375 \nQ 18.109375 37.203125 18.109375 27.296875 \nQ 18.109375 17.390625 22.1875 11.75 \nQ 26.265625 6.109375 33.40625 6.109375 \nQ 40.53125 6.109375 44.609375 11.75 \nQ 48.6875 17.390625 48.6875 27.296875 \nz\nM 18.109375 46.390625 \nQ 20.953125 51.265625 25.265625 53.625 \nQ 29.59375 56 35.59375 56 \nQ 45.5625 56 51.78125 48.09375 \nQ 58.015625 40.1875 58.015625 27.296875 \nQ 58.015625 14.40625 51.78125 6.484375 \nQ 45.5625 -1.421875 35.59375 -1.421875 \nQ 29.59375 -1.421875 25.265625 0.953125 \nQ 20.953125 3.328125 18.109375 8.203125 \nL 18.109375 0 \nL 9.078125 0 \nL 9.078125 75.984375 \nL 18.109375 75.984375 \nz\n\" id=\"DejaVuSans-98\"/>\n      <path d=\"M 8.5 21.578125 \nL 8.5 54.6875 \nL 17.484375 54.6875 \nL 17.484375 21.921875 \nQ 17.484375 14.15625 20.5 10.265625 \nQ 23.53125 6.390625 29.59375 6.390625 \nQ 36.859375 6.390625 41.078125 11.03125 \nQ 45.3125 15.671875 45.3125 23.6875 \nL 45.3125 54.6875 \nL 54.296875 54.6875 \nL 54.296875 0 \nL 45.3125 0 \nL 45.3125 8.40625 \nQ 42.046875 3.421875 37.71875 1 \nQ 33.40625 -1.421875 27.6875 -1.421875 \nQ 18.265625 -1.421875 13.375 4.4375 \nQ 8.5 10.296875 8.5 21.578125 \nz\nM 31.109375 56 \nz\n\" id=\"DejaVuSans-117\"/>\n     </defs>\n     <use xlink:href=\"#DejaVuSans-109\"/>\n     <use x=\"97.412109\" xlink:href=\"#DejaVuSans-101\"/>\n     <use x=\"158.935547\" xlink:href=\"#DejaVuSans-97\"/>\n     <use x=\"220.214844\" xlink:href=\"#DejaVuSans-110\"/>\n     <use x=\"283.59375\" xlink:href=\"#DejaVuSans-95\"/>\n     <use x=\"333.59375\" xlink:href=\"#DejaVuSans-115\"/>\n     <use x=\"385.693359\" xlink:href=\"#DejaVuSans-112\"/>\n     <use x=\"449.169922\" xlink:href=\"#DejaVuSans-101\"/>\n     <use x=\"510.693359\" xlink:href=\"#DejaVuSans-101\"/>\n     <use x=\"572.216797\" xlink:href=\"#DejaVuSans-100\"/>\n     <use x=\"635.693359\" xlink:href=\"#DejaVuSans-95\"/>\n     <use x=\"685.693359\" xlink:href=\"#DejaVuSans-118\"/>\n     <use x=\"744.873047\" xlink:href=\"#DejaVuSans-97\"/>\n     <use x=\"806.152344\" xlink:href=\"#DejaVuSans-114\"/>\n     <use x=\"847.265625\" xlink:href=\"#DejaVuSans-105\"/>\n     <use x=\"875.048828\" xlink:href=\"#DejaVuSans-97\"/>\n     <use x=\"936.328125\" xlink:href=\"#DejaVuSans-116\"/>\n     <use x=\"975.537109\" xlink:href=\"#DejaVuSans-105\"/>\n     <use x=\"1003.320312\" xlink:href=\"#DejaVuSans-111\"/>\n     <use x=\"1064.501953\" xlink:href=\"#DejaVuSans-110\"/>\n     <use x=\"1127.880859\" xlink:href=\"#DejaVuSans-32\"/>\n     <use x=\"1159.667969\" xlink:href=\"#DejaVuSans-100\"/>\n     <use x=\"1223.144531\" xlink:href=\"#DejaVuSans-105\"/>\n     <use x=\"1250.927734\" xlink:href=\"#DejaVuSans-115\"/>\n     <use x=\"1303.027344\" xlink:href=\"#DejaVuSans-116\"/>\n     <use x=\"1342.236328\" xlink:href=\"#DejaVuSans-114\"/>\n     <use x=\"1383.349609\" xlink:href=\"#DejaVuSans-105\"/>\n     <use x=\"1411.132812\" xlink:href=\"#DejaVuSans-98\"/>\n     <use x=\"1474.609375\" xlink:href=\"#DejaVuSans-117\"/>\n     <use x=\"1537.988281\" xlink:href=\"#DejaVuSans-116\"/>\n     <use x=\"1577.197266\" xlink:href=\"#DejaVuSans-105\"/>\n     <use x=\"1604.980469\" xlink:href=\"#DejaVuSans-111\"/>\n     <use x=\"1666.162109\" xlink:href=\"#DejaVuSans-110\"/>\n    </g>\n   </g>\n   <g id=\"legend_1\">\n    <g id=\"patch_47\">\n     <path d=\"M 531.207813 59.674375 \nL 581.103125 59.674375 \nQ 583.103125 59.674375 583.103125 57.674375 \nL 583.103125 29.318125 \nQ 583.103125 27.318125 581.103125 27.318125 \nL 531.207813 27.318125 \nQ 529.207813 27.318125 529.207813 29.318125 \nL 529.207813 57.674375 \nQ 529.207813 59.674375 531.207813 59.674375 \nz\n\" style=\"fill:#ffffff;opacity:0.8;stroke:#cccccc;stroke-linejoin:miter;\"/>\n    </g>\n    <g id=\"patch_48\">\n     <path d=\"M 533.207813 38.916562 \nL 553.207813 38.916562 \nL 553.207813 31.916562 \nL 533.207813 31.916562 \nz\n\" style=\"fill:#1f77b4;opacity:0.5;\"/>\n    </g>\n    <g id=\"text_19\">\n     <!-- car -->\n     <g transform=\"translate(561.207813 38.916562)scale(0.1 -0.1)\">\n      <defs>\n       <path d=\"M 48.78125 52.59375 \nL 48.78125 44.1875 \nQ 44.96875 46.296875 41.140625 47.34375 \nQ 37.3125 48.390625 33.40625 48.390625 \nQ 24.65625 48.390625 19.8125 42.84375 \nQ 14.984375 37.3125 14.984375 27.296875 \nQ 14.984375 17.28125 19.8125 11.734375 \nQ 24.65625 6.203125 33.40625 6.203125 \nQ 37.3125 6.203125 41.140625 7.25 \nQ 44.96875 8.296875 48.78125 10.40625 \nL 48.78125 2.09375 \nQ 45.015625 0.34375 40.984375 -0.53125 \nQ 36.96875 -1.421875 32.421875 -1.421875 \nQ 20.0625 -1.421875 12.78125 6.34375 \nQ 5.515625 14.109375 5.515625 27.296875 \nQ 5.515625 40.671875 12.859375 48.328125 \nQ 20.21875 56 33.015625 56 \nQ 37.15625 56 41.109375 55.140625 \nQ 45.0625 54.296875 48.78125 52.59375 \nz\n\" id=\"DejaVuSans-99\"/>\n      </defs>\n      <use xlink:href=\"#DejaVuSans-99\"/>\n      <use x=\"54.980469\" xlink:href=\"#DejaVuSans-97\"/>\n      <use x=\"116.259766\" xlink:href=\"#DejaVuSans-114\"/>\n     </g>\n    </g>\n    <g id=\"patch_49\">\n     <path d=\"M 533.207813 53.594687 \nL 553.207813 53.594687 \nL 553.207813 46.594687 \nL 533.207813 46.594687 \nz\n\" style=\"fill:#ff7f0e;opacity:0.5;\"/>\n    </g>\n    <g id=\"text_20\">\n     <!-- bus -->\n     <g transform=\"translate(561.207813 53.594687)scale(0.1 -0.1)\">\n      <use xlink:href=\"#DejaVuSans-98\"/>\n      <use x=\"63.476562\" xlink:href=\"#DejaVuSans-117\"/>\n      <use x=\"126.855469\" xlink:href=\"#DejaVuSans-115\"/>\n     </g>\n    </g>\n   </g>\n  </g>\n </g>\n <defs>\n  <clipPath id=\"pee4456f277\">\n   <rect height=\"380.52\" width=\"558\" x=\"30.103125\" y=\"22.318125\"/>\n  </clipPath>\n </defs>\n</svg>\n",
      "image/png": "[encoded data removed]"
     },
     "metadata": {
      "needs_background": "light"
     }
    },
    {
     "output_type": "display_data",
     "data": {
      "text/plain": "<Figure size 720x504 with 1 Axes>",
      "image/svg+xml": "<?xml version=\"1.0\" encoding=\"utf-8\" standalone=\"no\"?>\n<!DOCTYPE svg PUBLIC \"-//W3C//DTD SVG 1.1//EN\"\n  \"http://www.w3.org/Graphics/SVG/1.1/DTD/svg11.dtd\">\n<!-- Created with matplotlib (https://matplotlib.org/) -->\n<svg height=\"426.71625pt\" version=\"1.1\" viewBox=\"0 0 601.665625 426.71625\" width=\"601.665625pt\" xmlns=\"http://www.w3.org/2000/svg\" xmlns:xlink=\"http://www.w3.org/1999/xlink\">\n <metadata>\n  <rdf:RDF xmlns:cc=\"http://creativecommons.org/ns#\" xmlns:dc=\"http://purl.org/dc/elements/1.1/\" xmlns:rdf=\"http://www.w3.org/1999/02/22-rdf-syntax-ns#\">\n   <cc:Work>\n    <dc:type rdf:resource=\"http://purl.org/dc/dcmitype/StillImage\"/>\n    <dc:date>2021-02-22T18:22:21.930562</dc:date>\n    <dc:format>image/svg+xml</dc:format>\n    <dc:creator>\n     <cc:Agent>\n      <dc:title>Matplotlib v3.3.3, https://matplotlib.org/</dc:title>\n     </cc:Agent>\n    </dc:creator>\n   </cc:Work>\n  </rdf:RDF>\n </metadata>\n <defs>\n  <style type=\"text/css\">*{stroke-linecap:butt;stroke-linejoin:round;}</style>\n </defs>\n <g id=\"figure_1\">\n  <g id=\"patch_1\">\n   <path d=\"M 0 426.71625 \nL 601.665625 426.71625 \nL 601.665625 0 \nL 0 0 \nz\n\" style=\"fill:none;\"/>\n  </g>\n  <g id=\"axes_1\">\n   <g id=\"patch_2\">\n    <path d=\"M 36.465625 402.838125 \nL 594.465625 402.838125 \nL 594.465625 22.318125 \nL 36.465625 22.318125 \nz\n\" style=\"fill:#ffffff;\"/>\n   </g>\n   <g id=\"patch_3\">\n    <path clip-path=\"url(#p9a45d7c834)\" d=\"M 61.829261 402.838125 \nL 87.192898 402.838125 \nL 87.192898 348.606358 \nL 61.829261 348.606358 \nz\n\" style=\"fill:#1f77b4;opacity:0.5;\"/>\n   </g>\n   <g id=\"patch_4\">\n    <path clip-path=\"url(#p9a45d7c834)\" d=\"M 87.192898 402.838125 \nL 112.556534 402.838125 \nL 112.556534 230.572514 \nL 87.192898 230.572514 \nz\n\" style=\"fill:#1f77b4;opacity:0.5;\"/>\n   </g>\n   <g id=\"patch_5\">\n    <path clip-path=\"url(#p9a45d7c834)\" d=\"M 112.556534 402.838125 \nL 137.92017 402.838125 \nL 137.92017 255.561661 \nL 112.556534 255.561661 \nz\n\" style=\"fill:#1f77b4;opacity:0.5;\"/>\n   </g>\n   <g id=\"patch_6\">\n    <path clip-path=\"url(#p9a45d7c834)\" d=\"M 137.92017 402.838125 \nL 163.283807 402.838125 \nL 163.283807 283.209228 \nL 137.92017 283.209228 \nz\n\" style=\"fill:#1f77b4;opacity:0.5;\"/>\n   </g>\n   <g id=\"patch_7\">\n    <path clip-path=\"url(#p9a45d7c834)\" d=\"M 163.283807 402.838125 \nL 188.647443 402.838125 \nL 188.647443 272.043865 \nL 163.283807 272.043865 \nz\n\" style=\"fill:#1f77b4;opacity:0.5;\"/>\n   </g>\n   <g id=\"patch_8\">\n    <path clip-path=\"url(#p9a45d7c834)\" d=\"M 188.647443 402.838125 \nL 214.01108 402.838125 \nL 214.01108 276.82902 \nL 188.647443 276.82902 \nz\n\" style=\"fill:#1f77b4;opacity:0.5;\"/>\n   </g>\n   <g id=\"patch_9\">\n    <path clip-path=\"url(#p9a45d7c834)\" d=\"M 214.01108 402.838125 \nL 239.374716 402.838125 \nL 239.374716 290.652804 \nL 214.01108 290.652804 \nz\n\" style=\"fill:#1f77b4;opacity:0.5;\"/>\n   </g>\n   <g id=\"patch_10\">\n    <path clip-path=\"url(#p9a45d7c834)\" d=\"M 239.374716 402.838125 \nL 264.738352 402.838125 \nL 264.738352 310.325112 \nL 239.374716 310.325112 \nz\n\" style=\"fill:#1f77b4;opacity:0.5;\"/>\n   </g>\n   <g id=\"patch_11\">\n    <path clip-path=\"url(#p9a45d7c834)\" d=\"M 264.738352 402.838125 \nL 290.101989 402.838125 \nL 290.101989 349.138042 \nL 264.738352 349.138042 \nz\n\" style=\"fill:#1f77b4;opacity:0.5;\"/>\n   </g>\n   <g id=\"patch_12\">\n    <path clip-path=\"url(#p9a45d7c834)\" d=\"M 290.101989 402.838125 \nL 315.465625 402.838125 \nL 315.465625 363.49351 \nL 290.101989 363.49351 \nz\n\" style=\"fill:#1f77b4;opacity:0.5;\"/>\n   </g>\n   <g id=\"patch_13\">\n    <path clip-path=\"url(#p9a45d7c834)\" d=\"M 315.465625 402.838125 \nL 340.829261 402.838125 \nL 340.829261 383.697502 \nL 315.465625 383.697502 \nz\n\" style=\"fill:#1f77b4;opacity:0.5;\"/>\n   </g>\n   <g id=\"patch_14\">\n    <path clip-path=\"url(#p9a45d7c834)\" d=\"M 340.829261 402.838125 \nL 366.192898 402.838125 \nL 366.192898 383.697502 \nL 340.829261 383.697502 \nz\n\" style=\"fill:#1f77b4;opacity:0.5;\"/>\n   </g>\n   <g id=\"patch_15\">\n    <path clip-path=\"url(#p9a45d7c834)\" d=\"M 366.192898 402.838125 \nL 391.556534 402.838125 \nL 391.556534 390.609393 \nL 366.192898 390.609393 \nz\n\" style=\"fill:#1f77b4;opacity:0.5;\"/>\n   </g>\n   <g id=\"patch_16\">\n    <path clip-path=\"url(#p9a45d7c834)\" d=\"M 391.556534 402.838125 \nL 416.92017 402.838125 \nL 416.92017 387.419289 \nL 391.556534 387.419289 \nz\n\" style=\"fill:#1f77b4;opacity:0.5;\"/>\n   </g>\n   <g id=\"patch_17\">\n    <path clip-path=\"url(#p9a45d7c834)\" d=\"M 416.92017 402.838125 \nL 442.283807 402.838125 \nL 442.283807 394.331181 \nL 416.92017 394.331181 \nz\n\" style=\"fill:#1f77b4;opacity:0.5;\"/>\n   </g>\n   <g id=\"patch_18\">\n    <path clip-path=\"url(#p9a45d7c834)\" d=\"M 442.283807 402.838125 \nL 467.647443 402.838125 \nL 467.647443 398.052969 \nL 442.283807 398.052969 \nz\n\" style=\"fill:#1f77b4;opacity:0.5;\"/>\n   </g>\n   <g id=\"patch_19\">\n    <path clip-path=\"url(#p9a45d7c834)\" d=\"M 467.647443 402.838125 \nL 493.01108 402.838125 \nL 493.01108 399.648021 \nL 467.647443 399.648021 \nz\n\" style=\"fill:#1f77b4;opacity:0.5;\"/>\n   </g>\n   <g id=\"patch_20\">\n    <path clip-path=\"url(#p9a45d7c834)\" d=\"M 493.01108 402.838125 \nL 518.374716 402.838125 \nL 518.374716 398.584653 \nL 493.01108 398.584653 \nz\n\" style=\"fill:#1f77b4;opacity:0.5;\"/>\n   </g>\n   <g id=\"patch_21\">\n    <path clip-path=\"url(#p9a45d7c834)\" d=\"M 518.374716 402.838125 \nL 543.738352 402.838125 \nL 543.738352 402.838125 \nL 518.374716 402.838125 \nz\n\" style=\"fill:#1f77b4;opacity:0.5;\"/>\n   </g>\n   <g id=\"patch_22\">\n    <path clip-path=\"url(#p9a45d7c834)\" d=\"M 543.738352 402.838125 \nL 569.101989 402.838125 \nL 569.101989 402.306441 \nL 543.738352 402.306441 \nz\n\" style=\"fill:#1f77b4;opacity:0.5;\"/>\n   </g>\n   <g id=\"patch_23\">\n    <path clip-path=\"url(#p9a45d7c834)\" d=\"M 100.825481 402.838125 \nL 111.418348 402.838125 \nL 111.418348 294.118125 \nL 100.825481 294.118125 \nz\n\" style=\"fill:#ff7f0e;opacity:0.5;\"/>\n   </g>\n   <g id=\"patch_24\">\n    <path clip-path=\"url(#p9a45d7c834)\" d=\"M 111.418348 402.838125 \nL 122.011215 402.838125 \nL 122.011215 312.238125 \nL 111.418348 312.238125 \nz\n\" style=\"fill:#ff7f0e;opacity:0.5;\"/>\n   </g>\n   <g id=\"patch_25\">\n    <path clip-path=\"url(#p9a45d7c834)\" d=\"M 122.011215 402.838125 \nL 132.604082 402.838125 \nL 132.604082 40.438125 \nL 122.011215 40.438125 \nz\n\" style=\"fill:#ff7f0e;opacity:0.5;\"/>\n   </g>\n   <g id=\"patch_26\">\n    <path clip-path=\"url(#p9a45d7c834)\" d=\"M 132.604082 402.838125 \nL 143.196949 402.838125 \nL 143.196949 185.398125 \nL 132.604082 185.398125 \nz\n\" style=\"fill:#ff7f0e;opacity:0.5;\"/>\n   </g>\n   <g id=\"patch_27\">\n    <path clip-path=\"url(#p9a45d7c834)\" d=\"M 143.196949 402.838125 \nL 153.789816 402.838125 \nL 153.789816 58.558125 \nL 143.196949 58.558125 \nz\n\" style=\"fill:#ff7f0e;opacity:0.5;\"/>\n   </g>\n   <g id=\"patch_28\">\n    <path clip-path=\"url(#p9a45d7c834)\" d=\"M 153.789816 402.838125 \nL 164.382683 402.838125 \nL 164.382683 131.038125 \nL 153.789816 131.038125 \nz\n\" style=\"fill:#ff7f0e;opacity:0.5;\"/>\n   </g>\n   <g id=\"patch_29\">\n    <path clip-path=\"url(#p9a45d7c834)\" d=\"M 164.382683 402.838125 \nL 174.97555 402.838125 \nL 174.97555 94.798125 \nL 164.382683 94.798125 \nz\n\" style=\"fill:#ff7f0e;opacity:0.5;\"/>\n   </g>\n   <g id=\"patch_30\">\n    <path clip-path=\"url(#p9a45d7c834)\" d=\"M 174.97555 402.838125 \nL 185.568418 402.838125 \nL 185.568418 203.518125 \nL 174.97555 203.518125 \nz\n\" style=\"fill:#ff7f0e;opacity:0.5;\"/>\n   </g>\n   <g id=\"patch_31\">\n    <path clip-path=\"url(#p9a45d7c834)\" d=\"M 185.568418 402.838125 \nL 196.161285 402.838125 \nL 196.161285 149.158125 \nL 185.568418 149.158125 \nz\n\" style=\"fill:#ff7f0e;opacity:0.5;\"/>\n   </g>\n   <g id=\"patch_32\">\n    <path clip-path=\"url(#p9a45d7c834)\" d=\"M 196.161285 402.838125 \nL 206.754152 402.838125 \nL 206.754152 294.118125 \nL 196.161285 294.118125 \nz\n\" style=\"fill:#ff7f0e;opacity:0.5;\"/>\n   </g>\n   <g id=\"patch_33\">\n    <path clip-path=\"url(#p9a45d7c834)\" d=\"M 206.754152 402.838125 \nL 217.347019 402.838125 \nL 217.347019 312.238125 \nL 206.754152 312.238125 \nz\n\" style=\"fill:#ff7f0e;opacity:0.5;\"/>\n   </g>\n   <g id=\"patch_34\">\n    <path clip-path=\"url(#p9a45d7c834)\" d=\"M 217.347019 402.838125 \nL 227.939886 402.838125 \nL 227.939886 294.118125 \nL 217.347019 294.118125 \nz\n\" style=\"fill:#ff7f0e;opacity:0.5;\"/>\n   </g>\n   <g id=\"patch_35\">\n    <path clip-path=\"url(#p9a45d7c834)\" d=\"M 227.939886 402.838125 \nL 238.532753 402.838125 \nL 238.532753 294.118125 \nL 227.939886 294.118125 \nz\n\" style=\"fill:#ff7f0e;opacity:0.5;\"/>\n   </g>\n   <g id=\"patch_36\">\n    <path clip-path=\"url(#p9a45d7c834)\" d=\"M 238.532753 402.838125 \nL 249.12562 402.838125 \nL 249.12562 366.598125 \nL 238.532753 366.598125 \nz\n\" style=\"fill:#ff7f0e;opacity:0.5;\"/>\n   </g>\n   <g id=\"patch_37\">\n    <path clip-path=\"url(#p9a45d7c834)\" d=\"M 249.12562 402.838125 \nL 259.718487 402.838125 \nL 259.718487 402.838125 \nL 249.12562 402.838125 \nz\n\" style=\"fill:#ff7f0e;opacity:0.5;\"/>\n   </g>\n   <g id=\"patch_38\">\n    <path clip-path=\"url(#p9a45d7c834)\" d=\"M 259.718487 402.838125 \nL 270.311355 402.838125 \nL 270.311355 384.718125 \nL 259.718487 384.718125 \nz\n\" style=\"fill:#ff7f0e;opacity:0.5;\"/>\n   </g>\n   <g id=\"patch_39\">\n    <path clip-path=\"url(#p9a45d7c834)\" d=\"M 270.311355 402.838125 \nL 280.904222 402.838125 \nL 280.904222 384.718125 \nL 270.311355 384.718125 \nz\n\" style=\"fill:#ff7f0e;opacity:0.5;\"/>\n   </g>\n   <g id=\"patch_40\">\n    <path clip-path=\"url(#p9a45d7c834)\" d=\"M 280.904222 402.838125 \nL 291.497089 402.838125 \nL 291.497089 348.478125 \nL 280.904222 348.478125 \nz\n\" style=\"fill:#ff7f0e;opacity:0.5;\"/>\n   </g>\n   <g id=\"patch_41\">\n    <path clip-path=\"url(#p9a45d7c834)\" d=\"M 291.497089 402.838125 \nL 302.089956 402.838125 \nL 302.089956 402.838125 \nL 291.497089 402.838125 \nz\n\" style=\"fill:#ff7f0e;opacity:0.5;\"/>\n   </g>\n   <g id=\"patch_42\">\n    <path clip-path=\"url(#p9a45d7c834)\" d=\"M 302.089956 402.838125 \nL 312.682823 402.838125 \nL 312.682823 384.718125 \nL 302.089956 384.718125 \nz\n\" style=\"fill:#ff7f0e;opacity:0.5;\"/>\n   </g>\n   <g id=\"matplotlib.axis_1\">\n    <g id=\"xtick_1\">\n     <g id=\"line2d_1\">\n      <defs>\n       <path d=\"M 0 0 \nL 0 3.5 \n\" id=\"mf40f52c80c\" style=\"stroke:#000000;stroke-width:0.8;\"/>\n      </defs>\n      <g>\n       <use style=\"stroke:#000000;stroke-width:0.8;\" x=\"49.805928\" xlink:href=\"#mf40f52c80c\" y=\"402.838125\"/>\n      </g>\n     </g>\n     <g id=\"text_1\">\n      <!-- 0 -->\n      <g transform=\"translate(46.624678 417.436562)scale(0.1 -0.1)\">\n       <defs>\n        <path d=\"M 31.78125 66.40625 \nQ 24.171875 66.40625 20.328125 58.90625 \nQ 16.5 51.421875 16.5 36.375 \nQ 16.5 21.390625 20.328125 13.890625 \nQ 24.171875 6.390625 31.78125 6.390625 \nQ 39.453125 6.390625 43.28125 13.890625 \nQ 47.125 21.390625 47.125 36.375 \nQ 47.125 51.421875 43.28125 58.90625 \nQ 39.453125 66.40625 31.78125 66.40625 \nz\nM 31.78125 74.21875 \nQ 44.046875 74.21875 50.515625 64.515625 \nQ 56.984375 54.828125 56.984375 36.375 \nQ 56.984375 17.96875 50.515625 8.265625 \nQ 44.046875 -1.421875 31.78125 -1.421875 \nQ 19.53125 -1.421875 13.0625 8.265625 \nQ 6.59375 17.96875 6.59375 36.375 \nQ 6.59375 54.828125 13.0625 64.515625 \nQ 19.53125 74.21875 31.78125 74.21875 \nz\n\" id=\"DejaVuSans-48\"/>\n       </defs>\n       <use xlink:href=\"#DejaVuSans-48\"/>\n      </g>\n     </g>\n    </g>\n    <g id=\"xtick_2\">\n     <g id=\"line2d_2\">\n      <g>\n       <use style=\"stroke:#000000;stroke-width:0.8;\" x=\"164.709948\" xlink:href=\"#mf40f52c80c\" y=\"402.838125\"/>\n      </g>\n     </g>\n     <g id=\"text_2\">\n      <!-- 20 -->\n      <g transform=\"translate(158.347448 417.436562)scale(0.1 -0.1)\">\n       <defs>\n        <path d=\"M 19.1875 8.296875 \nL 53.609375 8.296875 \nL 53.609375 0 \nL 7.328125 0 \nL 7.328125 8.296875 \nQ 12.9375 14.109375 22.625 23.890625 \nQ 32.328125 33.6875 34.8125 36.53125 \nQ 39.546875 41.84375 41.421875 45.53125 \nQ 43.3125 49.21875 43.3125 52.78125 \nQ 43.3125 58.59375 39.234375 62.25 \nQ 35.15625 65.921875 28.609375 65.921875 \nQ 23.96875 65.921875 18.8125 64.3125 \nQ 13.671875 62.703125 7.8125 59.421875 \nL 7.8125 69.390625 \nQ 13.765625 71.78125 18.9375 73 \nQ 24.125 74.21875 28.421875 74.21875 \nQ 39.75 74.21875 46.484375 68.546875 \nQ 53.21875 62.890625 53.21875 53.421875 \nQ 53.21875 48.921875 51.53125 44.890625 \nQ 49.859375 40.875 45.40625 35.40625 \nQ 44.1875 33.984375 37.640625 27.21875 \nQ 31.109375 20.453125 19.1875 8.296875 \nz\n\" id=\"DejaVuSans-50\"/>\n       </defs>\n       <use xlink:href=\"#DejaVuSans-50\"/>\n       <use x=\"63.623047\" xlink:href=\"#DejaVuSans-48\"/>\n      </g>\n     </g>\n    </g>\n    <g id=\"xtick_3\">\n     <g id=\"line2d_3\">\n      <g>\n       <use style=\"stroke:#000000;stroke-width:0.8;\" x=\"279.613968\" xlink:href=\"#mf40f52c80c\" y=\"402.838125\"/>\n      </g>\n     </g>\n     <g id=\"text_3\">\n      <!-- 40 -->\n      <g transform=\"translate(273.251468 417.436562)scale(0.1 -0.1)\">\n       <defs>\n        <path d=\"M 37.796875 64.3125 \nL 12.890625 25.390625 \nL 37.796875 25.390625 \nz\nM 35.203125 72.90625 \nL 47.609375 72.90625 \nL 47.609375 25.390625 \nL 58.015625 25.390625 \nL 58.015625 17.1875 \nL 47.609375 17.1875 \nL 47.609375 0 \nL 37.796875 0 \nL 37.796875 17.1875 \nL 4.890625 17.1875 \nL 4.890625 26.703125 \nz\n\" id=\"DejaVuSans-52\"/>\n       </defs>\n       <use xlink:href=\"#DejaVuSans-52\"/>\n       <use x=\"63.623047\" xlink:href=\"#DejaVuSans-48\"/>\n      </g>\n     </g>\n    </g>\n    <g id=\"xtick_4\">\n     <g id=\"line2d_4\">\n      <g>\n       <use style=\"stroke:#000000;stroke-width:0.8;\" x=\"394.517989\" xlink:href=\"#mf40f52c80c\" y=\"402.838125\"/>\n      </g>\n     </g>\n     <g id=\"text_4\">\n      <!-- 60 -->\n      <g transform=\"translate(388.155489 417.436562)scale(0.1 -0.1)\">\n       <defs>\n        <path d=\"M 33.015625 40.375 \nQ 26.375 40.375 22.484375 35.828125 \nQ 18.609375 31.296875 18.609375 23.390625 \nQ 18.609375 15.53125 22.484375 10.953125 \nQ 26.375 6.390625 33.015625 6.390625 \nQ 39.65625 6.390625 43.53125 10.953125 \nQ 47.40625 15.53125 47.40625 23.390625 \nQ 47.40625 31.296875 43.53125 35.828125 \nQ 39.65625 40.375 33.015625 40.375 \nz\nM 52.59375 71.296875 \nL 52.59375 62.3125 \nQ 48.875 64.0625 45.09375 64.984375 \nQ 41.3125 65.921875 37.59375 65.921875 \nQ 27.828125 65.921875 22.671875 59.328125 \nQ 17.53125 52.734375 16.796875 39.40625 \nQ 19.671875 43.65625 24.015625 45.921875 \nQ 28.375 48.1875 33.59375 48.1875 \nQ 44.578125 48.1875 50.953125 41.515625 \nQ 57.328125 34.859375 57.328125 23.390625 \nQ 57.328125 12.15625 50.6875 5.359375 \nQ 44.046875 -1.421875 33.015625 -1.421875 \nQ 20.359375 -1.421875 13.671875 8.265625 \nQ 6.984375 17.96875 6.984375 36.375 \nQ 6.984375 53.65625 15.1875 63.9375 \nQ 23.390625 74.21875 37.203125 74.21875 \nQ 40.921875 74.21875 44.703125 73.484375 \nQ 48.484375 72.75 52.59375 71.296875 \nz\n\" id=\"DejaVuSans-54\"/>\n       </defs>\n       <use xlink:href=\"#DejaVuSans-54\"/>\n       <use x=\"63.623047\" xlink:href=\"#DejaVuSans-48\"/>\n      </g>\n     </g>\n    </g>\n    <g id=\"xtick_5\">\n     <g id=\"line2d_5\">\n      <g>\n       <use style=\"stroke:#000000;stroke-width:0.8;\" x=\"509.422009\" xlink:href=\"#mf40f52c80c\" y=\"402.838125\"/>\n      </g>\n     </g>\n     <g id=\"text_5\">\n      <!-- 80 -->\n      <g transform=\"translate(503.059509 417.436562)scale(0.1 -0.1)\">\n       <defs>\n        <path d=\"M 31.78125 34.625 \nQ 24.75 34.625 20.71875 30.859375 \nQ 16.703125 27.09375 16.703125 20.515625 \nQ 16.703125 13.921875 20.71875 10.15625 \nQ 24.75 6.390625 31.78125 6.390625 \nQ 38.8125 6.390625 42.859375 10.171875 \nQ 46.921875 13.96875 46.921875 20.515625 \nQ 46.921875 27.09375 42.890625 30.859375 \nQ 38.875 34.625 31.78125 34.625 \nz\nM 21.921875 38.8125 \nQ 15.578125 40.375 12.03125 44.71875 \nQ 8.5 49.078125 8.5 55.328125 \nQ 8.5 64.0625 14.71875 69.140625 \nQ 20.953125 74.21875 31.78125 74.21875 \nQ 42.671875 74.21875 48.875 69.140625 \nQ 55.078125 64.0625 55.078125 55.328125 \nQ 55.078125 49.078125 51.53125 44.71875 \nQ 48 40.375 41.703125 38.8125 \nQ 48.828125 37.15625 52.796875 32.3125 \nQ 56.78125 27.484375 56.78125 20.515625 \nQ 56.78125 9.90625 50.3125 4.234375 \nQ 43.84375 -1.421875 31.78125 -1.421875 \nQ 19.734375 -1.421875 13.25 4.234375 \nQ 6.78125 9.90625 6.78125 20.515625 \nQ 6.78125 27.484375 10.78125 32.3125 \nQ 14.796875 37.15625 21.921875 38.8125 \nz\nM 18.3125 54.390625 \nQ 18.3125 48.734375 21.84375 45.5625 \nQ 25.390625 42.390625 31.78125 42.390625 \nQ 38.140625 42.390625 41.71875 45.5625 \nQ 45.3125 48.734375 45.3125 54.390625 \nQ 45.3125 60.0625 41.71875 63.234375 \nQ 38.140625 66.40625 31.78125 66.40625 \nQ 25.390625 66.40625 21.84375 63.234375 \nQ 18.3125 60.0625 18.3125 54.390625 \nz\n\" id=\"DejaVuSans-56\"/>\n       </defs>\n       <use xlink:href=\"#DejaVuSans-56\"/>\n       <use x=\"63.623047\" xlink:href=\"#DejaVuSans-48\"/>\n      </g>\n     </g>\n    </g>\n   </g>\n   <g id=\"matplotlib.axis_2\">\n    <g id=\"ytick_1\">\n     <g id=\"line2d_6\">\n      <defs>\n       <path d=\"M 0 0 \nL -3.5 0 \n\" id=\"m2e7d13e5cf\" style=\"stroke:#000000;stroke-width:0.8;\"/>\n      </defs>\n      <g>\n       <use style=\"stroke:#000000;stroke-width:0.8;\" x=\"36.465625\" xlink:href=\"#m2e7d13e5cf\" y=\"402.838125\"/>\n      </g>\n     </g>\n     <g id=\"text_6\">\n      <!-- 0.00 -->\n      <g transform=\"translate(7.2 406.637344)scale(0.1 -0.1)\">\n       <defs>\n        <path d=\"M 10.6875 12.40625 \nL 21 12.40625 \nL 21 0 \nL 10.6875 0 \nz\n\" id=\"DejaVuSans-46\"/>\n       </defs>\n       <use xlink:href=\"#DejaVuSans-48\"/>\n       <use x=\"63.623047\" xlink:href=\"#DejaVuSans-46\"/>\n       <use x=\"95.410156\" xlink:href=\"#DejaVuSans-48\"/>\n       <use x=\"159.033203\" xlink:href=\"#DejaVuSans-48\"/>\n      </g>\n     </g>\n    </g>\n    <g id=\"ytick_2\">\n     <g id=\"line2d_7\">\n      <g>\n       <use style=\"stroke:#000000;stroke-width:0.8;\" x=\"36.465625\" xlink:href=\"#m2e7d13e5cf\" y=\"352.724277\"/>\n      </g>\n     </g>\n     <g id=\"text_7\">\n      <!-- 0.01 -->\n      <g transform=\"translate(7.2 356.523496)scale(0.1 -0.1)\">\n       <defs>\n        <path d=\"M 12.40625 8.296875 \nL 28.515625 8.296875 \nL 28.515625 63.921875 \nL 10.984375 60.40625 \nL 10.984375 69.390625 \nL 28.421875 72.90625 \nL 38.28125 72.90625 \nL 38.28125 8.296875 \nL 54.390625 8.296875 \nL 54.390625 0 \nL 12.40625 0 \nz\n\" id=\"DejaVuSans-49\"/>\n       </defs>\n       <use xlink:href=\"#DejaVuSans-48\"/>\n       <use x=\"63.623047\" xlink:href=\"#DejaVuSans-46\"/>\n       <use x=\"95.410156\" xlink:href=\"#DejaVuSans-48\"/>\n       <use x=\"159.033203\" xlink:href=\"#DejaVuSans-49\"/>\n      </g>\n     </g>\n    </g>\n    <g id=\"ytick_3\">\n     <g id=\"line2d_8\">\n      <g>\n       <use style=\"stroke:#000000;stroke-width:0.8;\" x=\"36.465625\" xlink:href=\"#m2e7d13e5cf\" y=\"302.61043\"/>\n      </g>\n     </g>\n     <g id=\"text_8\">\n      <!-- 0.02 -->\n      <g transform=\"translate(7.2 306.409649)scale(0.1 -0.1)\">\n       <use xlink:href=\"#DejaVuSans-48\"/>\n       <use x=\"63.623047\" xlink:href=\"#DejaVuSans-46\"/>\n       <use x=\"95.410156\" xlink:href=\"#DejaVuSans-48\"/>\n       <use x=\"159.033203\" xlink:href=\"#DejaVuSans-50\"/>\n      </g>\n     </g>\n    </g>\n    <g id=\"ytick_4\">\n     <g id=\"line2d_9\">\n      <g>\n       <use style=\"stroke:#000000;stroke-width:0.8;\" x=\"36.465625\" xlink:href=\"#m2e7d13e5cf\" y=\"252.496582\"/>\n      </g>\n     </g>\n     <g id=\"text_9\">\n      <!-- 0.03 -->\n      <g transform=\"translate(7.2 256.295801)scale(0.1 -0.1)\">\n       <defs>\n        <path d=\"M 40.578125 39.3125 \nQ 47.65625 37.796875 51.625 33 \nQ 55.609375 28.21875 55.609375 21.1875 \nQ 55.609375 10.40625 48.1875 4.484375 \nQ 40.765625 -1.421875 27.09375 -1.421875 \nQ 22.515625 -1.421875 17.65625 -0.515625 \nQ 12.796875 0.390625 7.625 2.203125 \nL 7.625 11.71875 \nQ 11.71875 9.328125 16.59375 8.109375 \nQ 21.484375 6.890625 26.8125 6.890625 \nQ 36.078125 6.890625 40.9375 10.546875 \nQ 45.796875 14.203125 45.796875 21.1875 \nQ 45.796875 27.640625 41.28125 31.265625 \nQ 36.765625 34.90625 28.71875 34.90625 \nL 20.21875 34.90625 \nL 20.21875 43.015625 \nL 29.109375 43.015625 \nQ 36.375 43.015625 40.234375 45.921875 \nQ 44.09375 48.828125 44.09375 54.296875 \nQ 44.09375 59.90625 40.109375 62.90625 \nQ 36.140625 65.921875 28.71875 65.921875 \nQ 24.65625 65.921875 20.015625 65.03125 \nQ 15.375 64.15625 9.8125 62.3125 \nL 9.8125 71.09375 \nQ 15.4375 72.65625 20.34375 73.4375 \nQ 25.25 74.21875 29.59375 74.21875 \nQ 40.828125 74.21875 47.359375 69.109375 \nQ 53.90625 64.015625 53.90625 55.328125 \nQ 53.90625 49.265625 50.4375 45.09375 \nQ 46.96875 40.921875 40.578125 39.3125 \nz\n\" id=\"DejaVuSans-51\"/>\n       </defs>\n       <use xlink:href=\"#DejaVuSans-48\"/>\n       <use x=\"63.623047\" xlink:href=\"#DejaVuSans-46\"/>\n       <use x=\"95.410156\" xlink:href=\"#DejaVuSans-48\"/>\n       <use x=\"159.033203\" xlink:href=\"#DejaVuSans-51\"/>\n      </g>\n     </g>\n    </g>\n    <g id=\"ytick_5\">\n     <g id=\"line2d_10\">\n      <g>\n       <use style=\"stroke:#000000;stroke-width:0.8;\" x=\"36.465625\" xlink:href=\"#m2e7d13e5cf\" y=\"202.382735\"/>\n      </g>\n     </g>\n     <g id=\"text_10\">\n      <!-- 0.04 -->\n      <g transform=\"translate(7.2 206.181953)scale(0.1 -0.1)\">\n       <use xlink:href=\"#DejaVuSans-48\"/>\n       <use x=\"63.623047\" xlink:href=\"#DejaVuSans-46\"/>\n       <use x=\"95.410156\" xlink:href=\"#DejaVuSans-48\"/>\n       <use x=\"159.033203\" xlink:href=\"#DejaVuSans-52\"/>\n      </g>\n     </g>\n    </g>\n    <g id=\"ytick_6\">\n     <g id=\"line2d_11\">\n      <g>\n       <use style=\"stroke:#000000;stroke-width:0.8;\" x=\"36.465625\" xlink:href=\"#m2e7d13e5cf\" y=\"152.268887\"/>\n      </g>\n     </g>\n     <g id=\"text_11\">\n      <!-- 0.05 -->\n      <g transform=\"translate(7.2 156.068106)scale(0.1 -0.1)\">\n       <defs>\n        <path d=\"M 10.796875 72.90625 \nL 49.515625 72.90625 \nL 49.515625 64.59375 \nL 19.828125 64.59375 \nL 19.828125 46.734375 \nQ 21.96875 47.46875 24.109375 47.828125 \nQ 26.265625 48.1875 28.421875 48.1875 \nQ 40.625 48.1875 47.75 41.5 \nQ 54.890625 34.8125 54.890625 23.390625 \nQ 54.890625 11.625 47.5625 5.09375 \nQ 40.234375 -1.421875 26.90625 -1.421875 \nQ 22.3125 -1.421875 17.546875 -0.640625 \nQ 12.796875 0.140625 7.71875 1.703125 \nL 7.71875 11.625 \nQ 12.109375 9.234375 16.796875 8.0625 \nQ 21.484375 6.890625 26.703125 6.890625 \nQ 35.15625 6.890625 40.078125 11.328125 \nQ 45.015625 15.765625 45.015625 23.390625 \nQ 45.015625 31 40.078125 35.4375 \nQ 35.15625 39.890625 26.703125 39.890625 \nQ 22.75 39.890625 18.8125 39.015625 \nQ 14.890625 38.140625 10.796875 36.28125 \nz\n\" id=\"DejaVuSans-53\"/>\n       </defs>\n       <use xlink:href=\"#DejaVuSans-48\"/>\n       <use x=\"63.623047\" xlink:href=\"#DejaVuSans-46\"/>\n       <use x=\"95.410156\" xlink:href=\"#DejaVuSans-48\"/>\n       <use x=\"159.033203\" xlink:href=\"#DejaVuSans-53\"/>\n      </g>\n     </g>\n    </g>\n    <g id=\"ytick_7\">\n     <g id=\"line2d_12\">\n      <g>\n       <use style=\"stroke:#000000;stroke-width:0.8;\" x=\"36.465625\" xlink:href=\"#m2e7d13e5cf\" y=\"102.155039\"/>\n      </g>\n     </g>\n     <g id=\"text_12\">\n      <!-- 0.06 -->\n      <g transform=\"translate(7.2 105.954258)scale(0.1 -0.1)\">\n       <use xlink:href=\"#DejaVuSans-48\"/>\n       <use x=\"63.623047\" xlink:href=\"#DejaVuSans-46\"/>\n       <use x=\"95.410156\" xlink:href=\"#DejaVuSans-48\"/>\n       <use x=\"159.033203\" xlink:href=\"#DejaVuSans-54\"/>\n      </g>\n     </g>\n    </g>\n    <g id=\"ytick_8\">\n     <g id=\"line2d_13\">\n      <g>\n       <use style=\"stroke:#000000;stroke-width:0.8;\" x=\"36.465625\" xlink:href=\"#m2e7d13e5cf\" y=\"52.041192\"/>\n      </g>\n     </g>\n     <g id=\"text_13\">\n      <!-- 0.07 -->\n      <g transform=\"translate(7.2 55.84041)scale(0.1 -0.1)\">\n       <defs>\n        <path d=\"M 8.203125 72.90625 \nL 55.078125 72.90625 \nL 55.078125 68.703125 \nL 28.609375 0 \nL 18.3125 0 \nL 43.21875 64.59375 \nL 8.203125 64.59375 \nz\n\" id=\"DejaVuSans-55\"/>\n       </defs>\n       <use xlink:href=\"#DejaVuSans-48\"/>\n       <use x=\"63.623047\" xlink:href=\"#DejaVuSans-46\"/>\n       <use x=\"95.410156\" xlink:href=\"#DejaVuSans-48\"/>\n       <use x=\"159.033203\" xlink:href=\"#DejaVuSans-55\"/>\n      </g>\n     </g>\n    </g>\n   </g>\n   <g id=\"patch_43\">\n    <path d=\"M 36.465625 402.838125 \nL 36.465625 22.318125 \n\" style=\"fill:none;stroke:#000000;stroke-linecap:square;stroke-linejoin:miter;stroke-width:0.8;\"/>\n   </g>\n   <g id=\"patch_44\">\n    <path d=\"M 594.465625 402.838125 \nL 594.465625 22.318125 \n\" style=\"fill:none;stroke:#000000;stroke-linecap:square;stroke-linejoin:miter;stroke-width:0.8;\"/>\n   </g>\n   <g id=\"patch_45\">\n    <path d=\"M 36.465625 402.838125 \nL 594.465625 402.838125 \n\" style=\"fill:none;stroke:#000000;stroke-linecap:square;stroke-linejoin:miter;stroke-width:0.8;\"/>\n   </g>\n   <g id=\"patch_46\">\n    <path d=\"M 36.465625 22.318125 \nL 594.465625 22.318125 \n\" style=\"fill:none;stroke:#000000;stroke-linecap:square;stroke-linejoin:miter;stroke-width:0.8;\"/>\n   </g>\n   <g id=\"text_14\">\n    <!-- mean_angle_variation distribution -->\n    <g transform=\"translate(213.173125 16.318125)scale(0.12 -0.12)\">\n     <defs>\n      <path d=\"M 52 44.1875 \nQ 55.375 50.25 60.0625 53.125 \nQ 64.75 56 71.09375 56 \nQ 79.640625 56 84.28125 50.015625 \nQ 88.921875 44.046875 88.921875 33.015625 \nL 88.921875 0 \nL 79.890625 0 \nL 79.890625 32.71875 \nQ 79.890625 40.578125 77.09375 44.375 \nQ 74.3125 48.1875 68.609375 48.1875 \nQ 61.625 48.1875 57.5625 43.546875 \nQ 53.515625 38.921875 53.515625 30.90625 \nL 53.515625 0 \nL 44.484375 0 \nL 44.484375 32.71875 \nQ 44.484375 40.625 41.703125 44.40625 \nQ 38.921875 48.1875 33.109375 48.1875 \nQ 26.21875 48.1875 22.15625 43.53125 \nQ 18.109375 38.875 18.109375 30.90625 \nL 18.109375 0 \nL 9.078125 0 \nL 9.078125 54.6875 \nL 18.109375 54.6875 \nL 18.109375 46.1875 \nQ 21.1875 51.21875 25.484375 53.609375 \nQ 29.78125 56 35.6875 56 \nQ 41.65625 56 45.828125 52.96875 \nQ 50 49.953125 52 44.1875 \nz\n\" id=\"DejaVuSans-109\"/>\n      <path d=\"M 56.203125 29.59375 \nL 56.203125 25.203125 \nL 14.890625 25.203125 \nQ 15.484375 15.921875 20.484375 11.0625 \nQ 25.484375 6.203125 34.421875 6.203125 \nQ 39.59375 6.203125 44.453125 7.46875 \nQ 49.3125 8.734375 54.109375 11.28125 \nL 54.109375 2.78125 \nQ 49.265625 0.734375 44.1875 -0.34375 \nQ 39.109375 -1.421875 33.890625 -1.421875 \nQ 20.796875 -1.421875 13.15625 6.1875 \nQ 5.515625 13.8125 5.515625 26.8125 \nQ 5.515625 40.234375 12.765625 48.109375 \nQ 20.015625 56 32.328125 56 \nQ 43.359375 56 49.78125 48.890625 \nQ 56.203125 41.796875 56.203125 29.59375 \nz\nM 47.21875 32.234375 \nQ 47.125 39.59375 43.09375 43.984375 \nQ 39.0625 48.390625 32.421875 48.390625 \nQ 24.90625 48.390625 20.390625 44.140625 \nQ 15.875 39.890625 15.1875 32.171875 \nz\n\" id=\"DejaVuSans-101\"/>\n      <path d=\"M 34.28125 27.484375 \nQ 23.390625 27.484375 19.1875 25 \nQ 14.984375 22.515625 14.984375 16.5 \nQ 14.984375 11.71875 18.140625 8.90625 \nQ 21.296875 6.109375 26.703125 6.109375 \nQ 34.1875 6.109375 38.703125 11.40625 \nQ 43.21875 16.703125 43.21875 25.484375 \nL 43.21875 27.484375 \nz\nM 52.203125 31.203125 \nL 52.203125 0 \nL 43.21875 0 \nL 43.21875 8.296875 \nQ 40.140625 3.328125 35.546875 0.953125 \nQ 30.953125 -1.421875 24.3125 -1.421875 \nQ 15.921875 -1.421875 10.953125 3.296875 \nQ 6 8.015625 6 15.921875 \nQ 6 25.140625 12.171875 29.828125 \nQ 18.359375 34.515625 30.609375 34.515625 \nL 43.21875 34.515625 \nL 43.21875 35.40625 \nQ 43.21875 41.609375 39.140625 45 \nQ 35.0625 48.390625 27.6875 48.390625 \nQ 23 48.390625 18.546875 47.265625 \nQ 14.109375 46.140625 10.015625 43.890625 \nL 10.015625 52.203125 \nQ 14.9375 54.109375 19.578125 55.046875 \nQ 24.21875 56 28.609375 56 \nQ 40.484375 56 46.34375 49.84375 \nQ 52.203125 43.703125 52.203125 31.203125 \nz\n\" id=\"DejaVuSans-97\"/>\n      <path d=\"M 54.890625 33.015625 \nL 54.890625 0 \nL 45.90625 0 \nL 45.90625 32.71875 \nQ 45.90625 40.484375 42.875 44.328125 \nQ 39.84375 48.1875 33.796875 48.1875 \nQ 26.515625 48.1875 22.3125 43.546875 \nQ 18.109375 38.921875 18.109375 30.90625 \nL 18.109375 0 \nL 9.078125 0 \nL 9.078125 54.6875 \nL 18.109375 54.6875 \nL 18.109375 46.1875 \nQ 21.34375 51.125 25.703125 53.5625 \nQ 30.078125 56 35.796875 56 \nQ 45.21875 56 50.046875 50.171875 \nQ 54.890625 44.34375 54.890625 33.015625 \nz\n\" id=\"DejaVuSans-110\"/>\n      <path d=\"M 50.984375 -16.609375 \nL 50.984375 -23.578125 \nL -0.984375 -23.578125 \nL -0.984375 -16.609375 \nz\n\" id=\"DejaVuSans-95\"/>\n      <path d=\"M 45.40625 27.984375 \nQ 45.40625 37.75 41.375 43.109375 \nQ 37.359375 48.484375 30.078125 48.484375 \nQ 22.859375 48.484375 18.828125 43.109375 \nQ 14.796875 37.75 14.796875 27.984375 \nQ 14.796875 18.265625 18.828125 12.890625 \nQ 22.859375 7.515625 30.078125 7.515625 \nQ 37.359375 7.515625 41.375 12.890625 \nQ 45.40625 18.265625 45.40625 27.984375 \nz\nM 54.390625 6.78125 \nQ 54.390625 -7.171875 48.1875 -13.984375 \nQ 42 -20.796875 29.203125 -20.796875 \nQ 24.46875 -20.796875 20.265625 -20.09375 \nQ 16.0625 -19.390625 12.109375 -17.921875 \nL 12.109375 -9.1875 \nQ 16.0625 -11.328125 19.921875 -12.34375 \nQ 23.78125 -13.375 27.78125 -13.375 \nQ 36.625 -13.375 41.015625 -8.765625 \nQ 45.40625 -4.15625 45.40625 5.171875 \nL 45.40625 9.625 \nQ 42.625 4.78125 38.28125 2.390625 \nQ 33.9375 0 27.875 0 \nQ 17.828125 0 11.671875 7.65625 \nQ 5.515625 15.328125 5.515625 27.984375 \nQ 5.515625 40.671875 11.671875 48.328125 \nQ 17.828125 56 27.875 56 \nQ 33.9375 56 38.28125 53.609375 \nQ 42.625 51.21875 45.40625 46.390625 \nL 45.40625 54.6875 \nL 54.390625 54.6875 \nz\n\" id=\"DejaVuSans-103\"/>\n      <path d=\"M 9.421875 75.984375 \nL 18.40625 75.984375 \nL 18.40625 0 \nL 9.421875 0 \nz\n\" id=\"DejaVuSans-108\"/>\n      <path d=\"M 2.984375 54.6875 \nL 12.5 54.6875 \nL 29.59375 8.796875 \nL 46.6875 54.6875 \nL 56.203125 54.6875 \nL 35.6875 0 \nL 23.484375 0 \nz\n\" id=\"DejaVuSans-118\"/>\n      <path d=\"M 41.109375 46.296875 \nQ 39.59375 47.171875 37.8125 47.578125 \nQ 36.03125 48 33.890625 48 \nQ 26.265625 48 22.1875 43.046875 \nQ 18.109375 38.09375 18.109375 28.8125 \nL 18.109375 0 \nL 9.078125 0 \nL 9.078125 54.6875 \nL 18.109375 54.6875 \nL 18.109375 46.1875 \nQ 20.953125 51.171875 25.484375 53.578125 \nQ 30.03125 56 36.53125 56 \nQ 37.453125 56 38.578125 55.875 \nQ 39.703125 55.765625 41.0625 55.515625 \nz\n\" id=\"DejaVuSans-114\"/>\n      <path d=\"M 9.421875 54.6875 \nL 18.40625 54.6875 \nL 18.40625 0 \nL 9.421875 0 \nz\nM 9.421875 75.984375 \nL 18.40625 75.984375 \nL 18.40625 64.59375 \nL 9.421875 64.59375 \nz\n\" id=\"DejaVuSans-105\"/>\n      <path d=\"M 18.3125 70.21875 \nL 18.3125 54.6875 \nL 36.8125 54.6875 \nL 36.8125 47.703125 \nL 18.3125 47.703125 \nL 18.3125 18.015625 \nQ 18.3125 11.328125 20.140625 9.421875 \nQ 21.96875 7.515625 27.59375 7.515625 \nL 36.8125 7.515625 \nL 36.8125 0 \nL 27.59375 0 \nQ 17.1875 0 13.234375 3.875 \nQ 9.28125 7.765625 9.28125 18.015625 \nL 9.28125 47.703125 \nL 2.6875 47.703125 \nL 2.6875 54.6875 \nL 9.28125 54.6875 \nL 9.28125 70.21875 \nz\n\" id=\"DejaVuSans-116\"/>\n      <path d=\"M 30.609375 48.390625 \nQ 23.390625 48.390625 19.1875 42.75 \nQ 14.984375 37.109375 14.984375 27.296875 \nQ 14.984375 17.484375 19.15625 11.84375 \nQ 23.34375 6.203125 30.609375 6.203125 \nQ 37.796875 6.203125 41.984375 11.859375 \nQ 46.1875 17.53125 46.1875 27.296875 \nQ 46.1875 37.015625 41.984375 42.703125 \nQ 37.796875 48.390625 30.609375 48.390625 \nz\nM 30.609375 56 \nQ 42.328125 56 49.015625 48.375 \nQ 55.71875 40.765625 55.71875 27.296875 \nQ 55.71875 13.875 49.015625 6.21875 \nQ 42.328125 -1.421875 30.609375 -1.421875 \nQ 18.84375 -1.421875 12.171875 6.21875 \nQ 5.515625 13.875 5.515625 27.296875 \nQ 5.515625 40.765625 12.171875 48.375 \nQ 18.84375 56 30.609375 56 \nz\n\" id=\"DejaVuSans-111\"/>\n      <path id=\"DejaVuSans-32\"/>\n      <path d=\"M 45.40625 46.390625 \nL 45.40625 75.984375 \nL 54.390625 75.984375 \nL 54.390625 0 \nL 45.40625 0 \nL 45.40625 8.203125 \nQ 42.578125 3.328125 38.25 0.953125 \nQ 33.9375 -1.421875 27.875 -1.421875 \nQ 17.96875 -1.421875 11.734375 6.484375 \nQ 5.515625 14.40625 5.515625 27.296875 \nQ 5.515625 40.1875 11.734375 48.09375 \nQ 17.96875 56 27.875 56 \nQ 33.9375 56 38.25 53.625 \nQ 42.578125 51.265625 45.40625 46.390625 \nz\nM 14.796875 27.296875 \nQ 14.796875 17.390625 18.875 11.75 \nQ 22.953125 6.109375 30.078125 6.109375 \nQ 37.203125 6.109375 41.296875 11.75 \nQ 45.40625 17.390625 45.40625 27.296875 \nQ 45.40625 37.203125 41.296875 42.84375 \nQ 37.203125 48.484375 30.078125 48.484375 \nQ 22.953125 48.484375 18.875 42.84375 \nQ 14.796875 37.203125 14.796875 27.296875 \nz\n\" id=\"DejaVuSans-100\"/>\n      <path d=\"M 44.28125 53.078125 \nL 44.28125 44.578125 \nQ 40.484375 46.53125 36.375 47.5 \nQ 32.28125 48.484375 27.875 48.484375 \nQ 21.1875 48.484375 17.84375 46.4375 \nQ 14.5 44.390625 14.5 40.28125 \nQ 14.5 37.15625 16.890625 35.375 \nQ 19.28125 33.59375 26.515625 31.984375 \nL 29.59375 31.296875 \nQ 39.15625 29.25 43.1875 25.515625 \nQ 47.21875 21.78125 47.21875 15.09375 \nQ 47.21875 7.46875 41.1875 3.015625 \nQ 35.15625 -1.421875 24.609375 -1.421875 \nQ 20.21875 -1.421875 15.453125 -0.5625 \nQ 10.6875 0.296875 5.421875 2 \nL 5.421875 11.28125 \nQ 10.40625 8.6875 15.234375 7.390625 \nQ 20.0625 6.109375 24.8125 6.109375 \nQ 31.15625 6.109375 34.5625 8.28125 \nQ 37.984375 10.453125 37.984375 14.40625 \nQ 37.984375 18.0625 35.515625 20.015625 \nQ 33.0625 21.96875 24.703125 23.78125 \nL 21.578125 24.515625 \nQ 13.234375 26.265625 9.515625 29.90625 \nQ 5.8125 33.546875 5.8125 39.890625 \nQ 5.8125 47.609375 11.28125 51.796875 \nQ 16.75 56 26.8125 56 \nQ 31.78125 56 36.171875 55.265625 \nQ 40.578125 54.546875 44.28125 53.078125 \nz\n\" id=\"DejaVuSans-115\"/>\n      <path d=\"M 48.6875 27.296875 \nQ 48.6875 37.203125 44.609375 42.84375 \nQ 40.53125 48.484375 33.40625 48.484375 \nQ 26.265625 48.484375 22.1875 42.84375 \nQ 18.109375 37.203125 18.109375 27.296875 \nQ 18.109375 17.390625 22.1875 11.75 \nQ 26.265625 6.109375 33.40625 6.109375 \nQ 40.53125 6.109375 44.609375 11.75 \nQ 48.6875 17.390625 48.6875 27.296875 \nz\nM 18.109375 46.390625 \nQ 20.953125 51.265625 25.265625 53.625 \nQ 29.59375 56 35.59375 56 \nQ 45.5625 56 51.78125 48.09375 \nQ 58.015625 40.1875 58.015625 27.296875 \nQ 58.015625 14.40625 51.78125 6.484375 \nQ 45.5625 -1.421875 35.59375 -1.421875 \nQ 29.59375 -1.421875 25.265625 0.953125 \nQ 20.953125 3.328125 18.109375 8.203125 \nL 18.109375 0 \nL 9.078125 0 \nL 9.078125 75.984375 \nL 18.109375 75.984375 \nz\n\" id=\"DejaVuSans-98\"/>\n      <path d=\"M 8.5 21.578125 \nL 8.5 54.6875 \nL 17.484375 54.6875 \nL 17.484375 21.921875 \nQ 17.484375 14.15625 20.5 10.265625 \nQ 23.53125 6.390625 29.59375 6.390625 \nQ 36.859375 6.390625 41.078125 11.03125 \nQ 45.3125 15.671875 45.3125 23.6875 \nL 45.3125 54.6875 \nL 54.296875 54.6875 \nL 54.296875 0 \nL 45.3125 0 \nL 45.3125 8.40625 \nQ 42.046875 3.421875 37.71875 1 \nQ 33.40625 -1.421875 27.6875 -1.421875 \nQ 18.265625 -1.421875 13.375 4.4375 \nQ 8.5 10.296875 8.5 21.578125 \nz\nM 31.109375 56 \nz\n\" id=\"DejaVuSans-117\"/>\n     </defs>\n     <use xlink:href=\"#DejaVuSans-109\"/>\n     <use x=\"97.412109\" xlink:href=\"#DejaVuSans-101\"/>\n     <use x=\"158.935547\" xlink:href=\"#DejaVuSans-97\"/>\n     <use x=\"220.214844\" xlink:href=\"#DejaVuSans-110\"/>\n     <use x=\"283.59375\" xlink:href=\"#DejaVuSans-95\"/>\n     <use x=\"333.59375\" xlink:href=\"#DejaVuSans-97\"/>\n     <use x=\"394.873047\" xlink:href=\"#DejaVuSans-110\"/>\n     <use x=\"458.251953\" xlink:href=\"#DejaVuSans-103\"/>\n     <use x=\"521.728516\" xlink:href=\"#DejaVuSans-108\"/>\n     <use x=\"549.511719\" xlink:href=\"#DejaVuSans-101\"/>\n     <use x=\"611.035156\" xlink:href=\"#DejaVuSans-95\"/>\n     <use x=\"661.035156\" xlink:href=\"#DejaVuSans-118\"/>\n     <use x=\"720.214844\" xlink:href=\"#DejaVuSans-97\"/>\n     <use x=\"781.494141\" xlink:href=\"#DejaVuSans-114\"/>\n     <use x=\"822.607422\" xlink:href=\"#DejaVuSans-105\"/>\n     <use x=\"850.390625\" xlink:href=\"#DejaVuSans-97\"/>\n     <use x=\"911.669922\" xlink:href=\"#DejaVuSans-116\"/>\n     <use x=\"950.878906\" xlink:href=\"#DejaVuSans-105\"/>\n     <use x=\"978.662109\" xlink:href=\"#DejaVuSans-111\"/>\n     <use x=\"1039.84375\" xlink:href=\"#DejaVuSans-110\"/>\n     <use x=\"1103.222656\" xlink:href=\"#DejaVuSans-32\"/>\n     <use x=\"1135.009766\" xlink:href=\"#DejaVuSans-100\"/>\n     <use x=\"1198.486328\" xlink:href=\"#DejaVuSans-105\"/>\n     <use x=\"1226.269531\" xlink:href=\"#DejaVuSans-115\"/>\n     <use x=\"1278.369141\" xlink:href=\"#DejaVuSans-116\"/>\n     <use x=\"1317.578125\" xlink:href=\"#DejaVuSans-114\"/>\n     <use x=\"1358.691406\" xlink:href=\"#DejaVuSans-105\"/>\n     <use x=\"1386.474609\" xlink:href=\"#DejaVuSans-98\"/>\n     <use x=\"1449.951172\" xlink:href=\"#DejaVuSans-117\"/>\n     <use x=\"1513.330078\" xlink:href=\"#DejaVuSans-116\"/>\n     <use x=\"1552.539062\" xlink:href=\"#DejaVuSans-105\"/>\n     <use x=\"1580.322266\" xlink:href=\"#DejaVuSans-111\"/>\n     <use x=\"1641.503906\" xlink:href=\"#DejaVuSans-110\"/>\n    </g>\n   </g>\n   <g id=\"legend_1\">\n    <g id=\"patch_47\">\n     <path d=\"M 537.570312 59.674375 \nL 587.465625 59.674375 \nQ 589.465625 59.674375 589.465625 57.674375 \nL 589.465625 29.318125 \nQ 589.465625 27.318125 587.465625 27.318125 \nL 537.570312 27.318125 \nQ 535.570312 27.318125 535.570312 29.318125 \nL 535.570312 57.674375 \nQ 535.570312 59.674375 537.570312 59.674375 \nz\n\" style=\"fill:#ffffff;opacity:0.8;stroke:#cccccc;stroke-linejoin:miter;\"/>\n    </g>\n    <g id=\"patch_48\">\n     <path d=\"M 539.570312 38.916562 \nL 559.570312 38.916562 \nL 559.570312 31.916562 \nL 539.570312 31.916562 \nz\n\" style=\"fill:#1f77b4;opacity:0.5;\"/>\n    </g>\n    <g id=\"text_15\">\n     <!-- car -->\n     <g transform=\"translate(567.570312 38.916562)scale(0.1 -0.1)\">\n      <defs>\n       <path d=\"M 48.78125 52.59375 \nL 48.78125 44.1875 \nQ 44.96875 46.296875 41.140625 47.34375 \nQ 37.3125 48.390625 33.40625 48.390625 \nQ 24.65625 48.390625 19.8125 42.84375 \nQ 14.984375 37.3125 14.984375 27.296875 \nQ 14.984375 17.28125 19.8125 11.734375 \nQ 24.65625 6.203125 33.40625 6.203125 \nQ 37.3125 6.203125 41.140625 7.25 \nQ 44.96875 8.296875 48.78125 10.40625 \nL 48.78125 2.09375 \nQ 45.015625 0.34375 40.984375 -0.53125 \nQ 36.96875 -1.421875 32.421875 -1.421875 \nQ 20.0625 -1.421875 12.78125 6.34375 \nQ 5.515625 14.109375 5.515625 27.296875 \nQ 5.515625 40.671875 12.859375 48.328125 \nQ 20.21875 56 33.015625 56 \nQ 37.15625 56 41.109375 55.140625 \nQ 45.0625 54.296875 48.78125 52.59375 \nz\n\" id=\"DejaVuSans-99\"/>\n      </defs>\n      <use xlink:href=\"#DejaVuSans-99\"/>\n      <use x=\"54.980469\" xlink:href=\"#DejaVuSans-97\"/>\n      <use x=\"116.259766\" xlink:href=\"#DejaVuSans-114\"/>\n     </g>\n    </g>\n    <g id=\"patch_49\">\n     <path d=\"M 539.570312 53.594687 \nL 559.570312 53.594687 \nL 559.570312 46.594687 \nL 539.570312 46.594687 \nz\n\" style=\"fill:#ff7f0e;opacity:0.5;\"/>\n    </g>\n    <g id=\"text_16\">\n     <!-- bus -->\n     <g transform=\"translate(567.570312 53.594687)scale(0.1 -0.1)\">\n      <use xlink:href=\"#DejaVuSans-98\"/>\n      <use x=\"63.476562\" xlink:href=\"#DejaVuSans-117\"/>\n      <use x=\"126.855469\" xlink:href=\"#DejaVuSans-115\"/>\n     </g>\n    </g>\n   </g>\n  </g>\n </g>\n <defs>\n  <clipPath id=\"p9a45d7c834\">\n   <rect height=\"380.52\" width=\"558\" x=\"36.465625\" y=\"22.318125\"/>\n  </clipPath>\n </defs>\n</svg>\n",
      "image/png": "[encoded data removed]"
     },
     "metadata": {
      "needs_background": "light"
     }
    }
   ],
   "source": [
    "for feature in ['mean_vehicle_speed', 'std_vehicle_speed', 'mean_speed_variation', 'mean_angle_variation']:\n",
    "\n",
    "    plt.figure(figsize=(10, 7))\n",
    "    plt.title(f'{feature} distribution')\n",
    "    plt.hist(training[training['vehicle_type'] == 'car'][feature], bins=20, label='car',\n",
    "            density=True, alpha=0.5)\n",
    "    plt.hist(training[training['vehicle_type'] == 'bus'][feature], bins=20, label='bus', density=True, alpha=0.5)\n",
    "    plt.legend(loc='upper right')\n",
    "    plt.show()\n"
   ]
  },
  {
   "source": [
    " Based on the plots above, it seems like looking only at the data in a tabular manner (that is, not considering the *time* aspect) is not a good way to properly distinguish busses from cars. However, we'll fit a logistic classifier as a baseline classifier for our problem since it is a very simple out-of-the-box tool used for classification and it's recommended for problems with low dimensional-feature-spaces. In order to do that, we'll need to apply different weights for both classes because our dataset is heavily unbalanced (there are a lot more cars than busses).\n",
    "\n",
    "Since accuracy is not a good measure of performance for models trained on unbalanced datasets, the [F1 Score](https://en.wikipedia.org/wiki/F-score) will be used to evaluate our models; using the F1 Score is a good way of measuring performance on classification tasks that have very unbalanced classes, since it considers both [Precision and Recall](https://en.wikipedia.org/wiki/Precision_and_recall) from the point of view of the minority class, in our case, `bus`. To fit our models and compute the F1 score, we will use the `cross_val_predict` function from `sklearn`. This function uses cross-validation during training and assigns each sample to a test set exactly once; after training, it returns the prediction for every example on the dataset when the said example was on the test set. Also, we'll use a custom function called `compute_results` that will compute the F1 Score and prints it, as well as the Precision and Recall scores and the [Confusion Matrix](https://en.wikipedia.org/wiki/Confusion_matrix).\n",
    "\n",
    "It is important to note that our Logistic Regressor has the privilege of using the entire data; it will be trained on features that are statistics obtained from the time-series before we sampled shorter time windows from each series, as opposed to our specific time-series models that will train using only those windows."
   ],
   "cell_type": "markdown",
   "metadata": {}
  },
  {
   "cell_type": "code",
   "execution_count": 20,
   "metadata": {},
   "outputs": [],
   "source": [
    "def compute_results(y_true, y_pred, _time):\n",
    "\n",
    "    precision = precision_score(y_true, y_pred, pos_label='bus')\n",
    "    recall = recall_score(y_true, y_pred, pos_label='bus')\n",
    "    _f1_score = f1_score(y_true, y_pred, pos_label='bus')\n",
    "\n",
    "    print(f'Training time: {_time:.2f} seconds')\n",
    "    print('\\n')\n",
    "\n",
    "    print(f'Precision: {precision}')\n",
    "    print(f'Recall: {recall}')\n",
    "    print(f'F1 Score: {_f1_score}')\n",
    "    print('\\n')\n",
    "\n",
    "    print('Confusion Matrix:')\n",
    "    print(confusion_matrix(y_true, y_pred))"
   ]
  },
  {
   "cell_type": "code",
   "execution_count": 21,
   "metadata": {},
   "outputs": [
    {
     "output_type": "stream",
     "name": "stdout",
     "text": [
      "Training time: 3.13 seconds\n\n\nPrecision: 0.3022598870056497\nRecall: 0.7133333333333334\nF1 Score: 0.42460317460317465\n\n\nConfusion Matrix:\n[[ 107   43]\n [ 247 1888]]\n"
     ]
    }
   ],
   "source": [
    "from sklearn.model_selection import cross_val_predict\n",
    "\n",
    "lr = LogisticRegression(random_state=1, class_weight='balanced', n_jobs=-1)\n",
    "\n",
    "start = time()\n",
    "lr_results = cross_val_predict(lr, X=training[['mean_vehicle_speed',\n",
    "                                        'std_vehicle_speed', \n",
    "                                        'mean_speed_variation', \n",
    "                                        'mean_angle_variation']],\n",
    "                                        y=training['vehicle_type'], cv=5)\n",
    "end = time()\n",
    "\n",
    "compute_results(training['vehicle_type'], lr_results, end-start)"
   ]
  },
  {
   "source": [
    "## Time Series Classification Algorithms\n",
    "\n",
    "The results above suggest that using regular machine learning algorithms for classification with time-series yields poor outcomes. Our experiment gave us a fair recall score, although the precision is low, and thus our F1 score is just over 0.4. Now it's time to test some time-series-specific algorithms. We will test 3 different algorithms, each falling into a specific category of time-series classification models: Composition, Distance-Based, and Shapelet-Based. A brief explanation of those classes of algorithms can be checked in [this article](https://towardsdatascience.com/a-brief-introduction-to-time-series-classification-algorithms-7b4284d31b97).\n",
    "\n",
    "### Time Series Forest Classifier\n",
    "\n",
    "The first algorithm we'll try is somewhat similar to what we did with logistic regression: the `TimeSeriesForestClassifier` extracts features (like mean and standard deviation) from intervals of all time-series and then simply applies a traditional random forest classifier on those features. `sktime`'s implementation of this algorithm only works for univariate problems (problems with only one feature). To go around this, we'll have to train a model for each time feature separately. As this method doesn't deal with the time aspect of the data, it makes sense to expect humble results from this option."
   ],
   "cell_type": "markdown",
   "metadata": {}
  },
  {
   "cell_type": "code",
   "execution_count": 22,
   "metadata": {},
   "outputs": [
    {
     "output_type": "stream",
     "name": "stdout",
     "text": [
      "Results for Time Series Forest Classifier trained on vehicle_speed:\n",
      "Training time: 59.63 seconds\n",
      "\n",
      "\n",
      "Precision: 0.8829787234042553\n",
      "Recall: 0.5533333333333333\n",
      "F1 Score: 0.680327868852459\n",
      "\n",
      "\n",
      "Confusion Matrix:\n",
      "[[  83   67]\n",
      " [  11 2124]]\n",
      "\n",
      "\n",
      "Results for Time Series Forest Classifier trained on speed_variation:\n",
      "Training time: 58.70 seconds\n",
      "\n",
      "\n",
      "Precision: 1.0\n",
      "Recall: 0.2866666666666667\n",
      "F1 Score: 0.4455958549222798\n",
      "\n",
      "\n",
      "Confusion Matrix:\n",
      "[[  43  107]\n",
      " [   0 2135]]\n",
      "\n",
      "\n",
      "Results for Time Series Forest Classifier trained on angle_variation:\n",
      "Training time: 59.46 seconds\n",
      "\n",
      "\n",
      "Precision: 0.8333333333333334\n",
      "Recall: 0.03333333333333333\n",
      "F1 Score: 0.06410256410256411\n",
      "\n",
      "\n",
      "Confusion Matrix:\n",
      "[[   5  145]\n",
      " [   1 2134]]\n",
      "\n",
      "\n"
     ]
    }
   ],
   "source": [
    "# composition\n",
    "features = ['vehicle_speed', 'speed_variation', 'angle_variation']\n",
    "\n",
    "for feature in features:\n",
    "\n",
    "    tsfc = TimeSeriesForestClassifier(random_state=1, n_jobs=-1)\n",
    "\n",
    "    start = time()\n",
    "    tsfc_results = cross_val_predict(tsfc, X=training[[feature]], y=training['vehicle_type'], cv=5)\n",
    "    end = time()\n",
    "\n",
    "    print(f'Results for Time Series Forest Classifier trained on {feature}:')\n",
    "    compute_results(training['vehicle_type'], tsfc_results, end-start)\n",
    "    print('\\n')"
   ]
  },
  {
   "source": [
    "### K-Neighbors Time Series Classifier\n",
    "\n",
    "The `KNeighborsTimeSeriesClassifier` is a distance-based method for classifying time-series; it is very similar to the classical K-Neighbors Classifier used for normal data, with the distinction that it uses [Dynamic Time Warping](https://en.wikipedia.org/wiki/Dynamic_time_warping) (DTW) as a measure of the distance between two time-series. As it estimates the distance between each pair of time-series in the dataset, this is a fairly expensive (in terms of computer power) algorithm."
   ],
   "cell_type": "markdown",
   "metadata": {}
  },
  {
   "cell_type": "code",
   "execution_count": 23,
   "metadata": {},
   "outputs": [
    {
     "output_type": "stream",
     "name": "stdout",
     "text": [
      "Training time: 47.83 seconds\n\n\nPrecision: 0.17218543046357615\nRecall: 0.17333333333333334\nF1 Score: 0.17275747508305647\n\n\nConfusion Matrix:\n[[  26  124]\n [ 125 2010]]\n"
     ]
    }
   ],
   "source": [
    "# distance-based\n",
    "features = ['vehicle_speed', 'speed_variation', 'angle_variation']\n",
    "\n",
    "knc = KNeighborsTimeSeriesClassifier(n_jobs=-1)\n",
    "\n",
    "start = time()\n",
    "knc_results = cross_val_predict(knc, X=training[features], y=training['vehicle_type'], cv=5)\n",
    "end = time()\n",
    "\n",
    "compute_results(training['vehicle_type'], knc_results, end-start)"
   ]
  },
  {
   "source": [
    "### ROCKET Classifier\n",
    "\n",
    "\n",
    "The [ROCKET Classifier](https://pub.towardsai.net/rocket-fast-and-accurate-time-series-classification-f54923ad0ac9) (RandOM Convolutional KErnal Transform) is a shapelet-based classifier for time-series problems; this means it tries to extract intervals from the time-series that help to discriminate which labels they belong to. The ROCKET algorithm uses convolutional kernels (similar to those used on convolutional neural networks) that transform the shapelets into new features and then apply those features to a linear classifier. This classification solution has proven to be extremely versatile, outperforming more complex algorithms like neural networks."
   ],
   "cell_type": "markdown",
   "metadata": {}
  },
  {
   "cell_type": "code",
   "execution_count": 24,
   "metadata": {},
   "outputs": [
    {
     "output_type": "stream",
     "name": "stdout",
     "text": [
      "Training time: 20.03 seconds\n\n\nPrecision: 0.9915254237288136\nRecall: 0.78\nF1 Score: 0.873134328358209\n\n\nConfusion Matrix:\n[[ 117   33]\n [   1 2134]]\n"
     ]
    }
   ],
   "source": [
    "rck = ROCKETClassifier(random_state=1)\n",
    "\n",
    "start = time()\n",
    "rck_results = cross_val_predict(rck, X=training[features], y=training['vehicle_type'], cv=5)\n",
    "end  = time()\n",
    "\n",
    "compute_results(training['vehicle_type'], rck_results, end-start)\n"
   ]
  },
  {
   "source": [
    "Bellow is a table summarizing our results:\n",
    "\n",
    "| Results                 |\n",
    "|-------------------------|\n",
    "| **Model**                               |**F1 Score**|\n",
    "| Logistic Regression                     | 0.425 |\n",
    "| Time Series Forest on `vehicle_speed`   | 0.680 |\n",
    "| Time Series Forest on `speed_variation` | 0.446 |\n",
    "| Time Series Forest on `angle_variation` | 0.064 |\n",
    "| K-Neighbors Time Series                 | 0.173 |\n",
    "| ROCKET                                  | 0.873 |\n",
    "\n",
    "As the results above can show us, the ROCKET classifier outperformed the other algorithms for our task. We will now fine-tune and it to see if we can improve it.\n",
    "\n",
    "### Feature Selection and Fine-Tunning the Best Model\n",
    "\n",
    "We trained our model assuming all the selected features were relevant to our classification task of telling apart busses from cars; however, this may not hold, so the next step is to try our algorithm with different specific sets of features, starting with one feature at a time."
   ],
   "cell_type": "markdown",
   "metadata": {}
  },
  {
   "cell_type": "code",
   "execution_count": 25,
   "metadata": {},
   "outputs": [
    {
     "output_type": "stream",
     "name": "stdout",
     "text": [
      "Results for ROCKET Classifier trained on vehicle_speed:\n",
      "Training time: 14.18 seconds\n",
      "\n",
      "\n",
      "Precision: 0.9918032786885246\n",
      "Recall: 0.8066666666666666\n",
      "F1 Score: 0.8897058823529411\n",
      "\n",
      "\n",
      "Confusion Matrix:\n",
      "[[ 121   29]\n",
      " [   1 2134]]\n",
      "\n",
      "\n",
      "Results for ROCKET Classifier trained on speed_variation:\n",
      "Training time: 14.29 seconds\n",
      "\n",
      "\n",
      "Precision: 0.991869918699187\n",
      "Recall: 0.8133333333333334\n",
      "F1 Score: 0.8937728937728938\n",
      "\n",
      "\n",
      "Confusion Matrix:\n",
      "[[ 122   28]\n",
      " [   1 2134]]\n",
      "\n",
      "\n",
      "Results for ROCKET Classifier trained on angle_variation:\n",
      "Training time: 14.28 seconds\n",
      "\n",
      "\n",
      "Precision: 0.864406779661017\n",
      "Recall: 0.34\n",
      "F1 Score: 0.48803827751196177\n",
      "\n",
      "\n",
      "Confusion Matrix:\n",
      "[[  51   99]\n",
      " [   8 2127]]\n",
      "\n",
      "\n"
     ]
    }
   ],
   "source": [
    "for feature in features:\n",
    "\n",
    "    rck = ROCKETClassifier(random_state=1)\n",
    "\n",
    "    start = time()\n",
    "    rck_results = cross_val_predict(rck, X=training[[feature]], y=training['vehicle_type'], cv=5)\n",
    "    end  = time()\n",
    "\n",
    "    print(f'Results for ROCKET Classifier trained on {feature}:')\n",
    "    compute_results(training['vehicle_type'], rck_results, end-start)\n",
    "    print('\\n')"
   ]
  },
  {
   "source": [
    "The results for each feature can be seen bellow:\n",
    "\n",
    "| ROCKET F1 Score for Each Feature |\n",
    "| -------------------------------- |\n",
    "| **Feature**                      | **F1 Score** |\n",
    "| `vehicle_speed`                  | 0.890 |\n",
    "| `speed_variation`                | 0.894 |\n",
    "| `angle_variation`                | 0.488 |\n",
    "\n",
    "Interestingly enough, both `vehicle_speed` and `speed_variation`, when used to train the model alone, have slightly improved the score of our classifier while `angle_variation` performed inadequately. One possible move now could be to train our model on `vehicle_speed` and `speed_variation` concurrently. However, since we have a small number of features, we can have the luxury of training on every combination of pairs and see the results."
   ],
   "cell_type": "markdown",
   "metadata": {}
  },
  {
   "cell_type": "code",
   "execution_count": 26,
   "metadata": {},
   "outputs": [
    {
     "output_type": "stream",
     "name": "stdout",
     "text": [
      "Results for ROCKET Classifier trained on vehicle_speed and speed_variation:\n",
      "Training time: 17.85 seconds\n",
      "\n",
      "\n",
      "Precision: 0.9921259842519685\n",
      "Recall: 0.84\n",
      "F1 Score: 0.9097472924187726\n",
      "\n",
      "\n",
      "Confusion Matrix:\n",
      "[[ 126   24]\n",
      " [   1 2134]]\n",
      "\n",
      "\n",
      "Results for ROCKET Classifier trained on vehicle_speed and angle_variation:\n",
      "Training time: 18.89 seconds\n",
      "\n",
      "\n",
      "Precision: 0.9829059829059829\n",
      "Recall: 0.7666666666666667\n",
      "F1 Score: 0.8614232209737828\n",
      "\n",
      "\n",
      "Confusion Matrix:\n",
      "[[ 115   35]\n",
      " [   2 2133]]\n",
      "\n",
      "\n",
      "Results for ROCKET Classifier trained on speed_variation and angle_variation:\n",
      "Training time: 17.98 seconds\n",
      "\n",
      "\n",
      "Precision: 0.9914529914529915\n",
      "Recall: 0.7733333333333333\n",
      "F1 Score: 0.8689138576779025\n",
      "\n",
      "\n",
      "Confusion Matrix:\n",
      "[[ 116   34]\n",
      " [   1 2134]]\n",
      "\n",
      "\n"
     ]
    }
   ],
   "source": [
    "# creates a list containg all 3 combinations of pairs features\n",
    "feature_pairs = list(combinations(features, 2))\n",
    "feature_pairs = [list(pair) for pair in feature_pairs]\n",
    "\n",
    "for pair in feature_pairs:\n",
    "\n",
    "    rck = ROCKETClassifier(random_state=1)\n",
    "\n",
    "    start = time()\n",
    "    rck_results = cross_val_predict(rck, X=training[pair], y=training['vehicle_type'], cv=5)\n",
    "    end  = time()\n",
    "\n",
    "    print(f'Results for ROCKET Classifier trained on {pair[0]} and {pair[1]}:')\n",
    "    compute_results(training['vehicle_type'], rck_results, end-start)\n",
    "    print('\\n')"
   ]
  },
  {
   "source": [
    "The results for each pair of features are:\n",
    "\n",
    "| ROCKET F1 Score for Each Pair of Features   |\n",
    "| ------------------------------------------- |\n",
    "| **Features**                                    | **F1 Score** |\n",
    "| `vehicle_speed` and `speed_variation`           | 0.910 |\n",
    "| `vehicle_speed` and `angle_variation`           | 0.861 |\n",
    "| `speed_variation` and `angle_variation`         | 0.869 |\n",
    "\n",
    "The table above shows us that the combination of `vehicle_speed`and `speed_variation` gave the (slightly) better results; thus, we will keep them as our predictive features for our problem. Now it's time to try to improve our model even further by fine tunning it. For that goal, we will use `sklearns`'s functions [`RandomizedSearchCV`](https://sklearn.org/modules/generated/sklearn.model_selection.RandomizedSearchCV.html#sklearn.model_selection.RandomizedSearchCV) for a wide training hyper-parameter search and [`GridSearchCV`](https://sklearn.org/modules/generated/sklearn.model_selection.GridSearchCV.html#sklearn.model_selection.GridSearchCV) for a narrow specific search. The `RandomizedSearchCV` function samples randomly from a given distribution of training hyper-parameters possibilities in order to give a \"general direction\" in the search for the best optimization. After that, the `GridSearchCV` looks tries every combination from the set of hyper-parameters given; this set is built around the best results obtained from `RandomizedSearchCV`. Because training an ensemble of models can take too long, we're only going to try different values for the `num_kernels` parameter that, as the name suggests, represents the number of kernels the model uses to transform the data. The default value is 10000, and we'll use a set of all steps of 100 between 1000 and 100000 for our search to randomly sample from.\n",
    "\n",
    "We'll also need to wrap our F1 Score function using [`make_scorer`](https://scikit-learn.org/stable/modules/generated/sklearn.metrics.make_scorer.html#sklearn.metrics.make_scorer) because we need to specify to `f1_score` the minority class, in our case, `bus`.\n",
    "\n",
    "It's also worth noting that the next step may take a while because we're training our model several times."
   ],
   "cell_type": "markdown",
   "metadata": {}
  },
  {
   "cell_type": "code",
   "execution_count": 27,
   "metadata": {},
   "outputs": [
    {
     "output_type": "stream",
     "name": "stdout",
     "text": [
      "Fitting 5 folds for each of 32 candidates, totalling 160 fits\n",
      "Training time: 2204.24 seconds\n",
      "\n",
      "\n",
      "Best hyperparameters found in wide radomized search:\n",
      "{'num_kernels': 92900, 'ensemble': False}\n",
      "\n",
      "\n",
      "Best F1 Score:\n",
      "0.9264127300472378\n"
     ]
    }
   ],
   "source": [
    "features = ['vehicle_speed', 'speed_variation']\n",
    "\n",
    "rck = ROCKETClassifier(random_state=1)\n",
    "\n",
    "param_grid = {\n",
    "    'num_kernels': [n for n in range(100, 100000, 100)],\n",
    "    'ensemble': [False]\n",
    "}\n",
    "\n",
    "start = time()\n",
    "# wraps f1_score with minority class around make_scorer\n",
    "scorer  = make_scorer(f1_score, pos_label='bus')\n",
    "random_search = RandomizedSearchCV(rck, param_grid, n_iter=32, scoring=scorer, cv=5, verbose=1, random_state=1)\n",
    "random_search.fit(training[features], training['vehicle_type'])\n",
    "end = time()\n",
    "\n",
    "print(f'Training time: {(end - start):.2f} seconds')\n",
    "print('\\n')\n",
    "print(\"Best hyperparameters found in wide radomized search:\")\n",
    "print(random_search.best_params_)\n",
    "print('\\n')\n",
    "print('Best F1 Score:')\n",
    "print(random_search.best_score_)"
   ]
  },
  {
   "source": [
    "Our random search returned that the best number of kernels found was **92900**, resulting in an average cross-validation score of **0.926**. Now, we will try a more refined search, looking into all 100 intervals between 92000 and 93000 and see what we get."
   ],
   "cell_type": "markdown",
   "metadata": {}
  },
  {
   "cell_type": "code",
   "execution_count": 28,
   "metadata": {},
   "outputs": [
    {
     "output_type": "stream",
     "name": "stdout",
     "text": [
      "Fitting 5 folds for each of 10 candidates, totalling 50 fits\n",
      "Training time: 1336.15 seconds\n",
      "\n",
      "\n",
      "Best hyperparameters found in narrow grid search:\n",
      "{'ensemble': False, 'num_kernels': 92900}\n",
      "\n",
      "\n",
      "Best F1 Score:\n",
      "0.9264127300472378\n"
     ]
    }
   ],
   "source": [
    "features = ['vehicle_speed', 'speed_variation']\n",
    "\n",
    "rck = ROCKETClassifier(random_state=1)\n",
    "\n",
    "param_grid = {\n",
    "    'num_kernels': [n for n in range(92000, 93000, 100)],\n",
    "    'ensemble': [False]\n",
    "}\n",
    "\n",
    "start = time()\n",
    "# wraps f1_score with minority class around make_scorer\n",
    "scorer  = make_scorer(f1_score, pos_label='bus')\n",
    "grid_search = GridSearchCV(rck, param_grid, scoring=scorer, cv=5, verbose=1)\n",
    "grid_search.fit(training[features], training['vehicle_type'])\n",
    "end = time()\n",
    "\n",
    "print(f'Training time: {(end - start):.2f} seconds')\n",
    "print('\\n')\n",
    "print(\"Best hyperparameters found in narrow grid search:\")\n",
    "print(grid_search.best_params_)\n",
    "print('\\n')\n",
    "print('Best F1 Score:')\n",
    "print(grid_search.best_score_)"
   ]
  },
  {
   "source": [
    "Looks like our narrow search returned the same results found on our wide search: that **92900** is the optimal number of kernels to our model, achieving an F1 Score of **0.926**. Hence, we'll keep this configuration and save our model using [`pickle`](https://docs.python.org/3/library/pickle.html)."
   ],
   "cell_type": "markdown",
   "metadata": {}
  },
  {
   "cell_type": "code",
   "execution_count": 29,
   "metadata": {},
   "outputs": [],
   "source": [
    "final_model = grid_search.best_estimator_\n",
    "\n",
    "filename = 'best_model.pkl'\n",
    "with open(filename, 'wb') as file:\n",
    "    pickle.dump(final_model, file)"
   ]
  },
  {
   "source": [
    "### Scoring the Final Model on Unseen Data\n",
    "\n",
    "Finally, it is time to score our model using our test dataset, which we separated from training at the beginning of our work so our model could be validated on unseen data. We'll load the model and then score it."
   ],
   "cell_type": "markdown",
   "metadata": {}
  },
  {
   "cell_type": "code",
   "execution_count": 30,
   "metadata": {},
   "outputs": [
    {
     "output_type": "stream",
     "name": "stdout",
     "text": [
      "Training time: 4.63 seconds\n\n\nPrecision: 0.8157894736842105\nRecall: 0.9393939393939394\nF1 Score: 0.8732394366197183\n\n\nConfusion Matrix:\n[[ 31   2]\n [  7 532]]\n"
     ]
    }
   ],
   "source": [
    "filename = 'best_model.pkl'\n",
    "with open(filename, 'rb') as file:\n",
    "    final_model = pickle.load(file)\n",
    "\n",
    "features = ['vehicle_speed', 'speed_variation']\n",
    "\n",
    "start = time()\n",
    "predictions = final_model.predict(test[features])\n",
    "end = time()\n",
    "\n",
    "compute_results(predictions, test['vehicle_type'], end-start)"
   ]
  },
  {
   "source": [
    "### Conclusion\n",
    "\n",
    "The Precision and Recall scores achieved on our test data set were **0.816** and **0.939** respectively. Our main metric, the F1 Score, reached **0.873**, a lower value than that observed on cross-validation during training. Still, this can be considered a good outcome, and the ROCKET classifier proved to be quite impressive in terms of performance and the lower amount of parameter tuning needed for the delivery of good results; even with the default hyper-parameters, the model performed well on our first try, which validates this algorithm as a good choice for quick machine-learning implementations using time-series as predictors.\n",
    "\n",
    "It also worth mentioning that our initial hypothesis of `angle_variation` helping distinguish cars from busses proved to be a false one; it was a good thing we trained our model using single features as well as different combinations of features, giving our classifier more robustness."
   ],
   "cell_type": "markdown",
   "metadata": {}
  },
  {
   "source": [
    "### Open Questions\n",
    "\n",
    "Though we have ended for now our work, some questions still remain:\n",
    "\n",
    "Are there any algorithms, other than those used, that could perform better on our problem?\n",
    "Is there any use for `angle_variation`as a predictive feature?\n",
    "What other features available from the dataset could be used to improve our classification solution?\n",
    "If you got intrigued by these questions (or any other, really) I invite you to go and investigate them! You can always fork this repo and have fun without even asking permission, or you can also reach out to me if you have any questions, insights, or comments about this project."
   ],
   "cell_type": "markdown",
   "metadata": {}
  }
 ]
}