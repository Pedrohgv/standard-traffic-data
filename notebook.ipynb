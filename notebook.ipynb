{
 "metadata": {
  "language_info": {
   "codemirror_mode": {
    "name": "ipython",
    "version": 3
   },
   "file_extension": ".py",
   "mimetype": "text/x-python",
   "name": "python",
   "nbconvert_exporter": "python",
   "pygments_lexer": "ipython3",
   "version": "3.8.5-final"
  },
  "orig_nbformat": 2,
  "kernelspec": {
   "name": "python3",
   "display_name": "Python 3.8.5 64-bit ('venv-linux')",
   "metadata": {
    "interpreter": {
     "hash": "f0a3bf33855c61af18a28feeb2cb007b561e8a0c72e3278f6fa14f6ba6d208b2"
    }
   }
  }
 },
 "nbformat": 4,
 "nbformat_minor": 2,
 "cells": [
  {
   "source": [
    "# Vehicle Type Prediction Using Simulated Trajectory Data\n",
    "\n",
    "This is a data-science project that aims to predict if a vehicle is either a car or a bus using machine-learning models and simulated data.\n",
    "\n",
    "This project is based on data contained in this [repository](https://github.com/pgrandinetti/standard-traffic-data). The authors took work produced by the Communication Systems Department of Sophia-Antipolis, France, that was already open-sourced and made it easily accessible and reproducible, enabling this project to happen. A special thanks goes to them!\n",
    "\n",
    "## Achieved Results\n",
    "\n",
    "The best model was able to achieve an F1 Score of **0.873** on data unseen by the training process.\n",
    "\n",
    "## About the Data\n",
    "\n",
    "The data is originated from a simulation using the [SUMO](https://www.eclipse.org/sumo/) (Simulation of Urban MObility) software. The scenario is called [MoST](Monaco SUMO Traffic) and consists of a simulation of traffic in the Principality of Monaco, covering around 70 km² of metropolitan area, spanning from 4 AM to 2 PM. It contains traffic data on vehicles, pedestrians, and bicycles, such as speed, place coordinates, slope, orientation angle, vehicle type, etc. This data is aggregated into several time-series sampled at 15-second intervals, forming the main object which we'll manipulate through this project.\n",
    "\n",
    "Because the generated traffic data is so extensive and large, we'll use only a small subset of it: the simulated traffic between 4 AM and 6:30 AM.\n",
    "\n",
    "## Requirements and Setup\n",
    "\n",
    "To replicate this project, you'll need to download the files in this GitHUb repo ***(LINK TO FINAL REPO)*** and run this jupyter notebook ***(LINK TO NOTEBOOK)*** (which contains all the code if you want to check it), but not before installing the required packages (it is recommended to create a new virtual environment in order to avoid dependency conflicts). As I usually develop my projects in both Linux and Windows simultaneously, you can choose which one fits you best. If you are on Linux, open a terminal and type:\n",
    "\n",
    "\tpip install -r linux-requirements.txt\n",
    "\n",
    "Or if you prefer Windows, use:\n",
    "\n",
    "\tpip install -r windows-requirements.txt\n",
    "\n",
    "Though we use several python libraries on this project, the main star is the [`sktime`](https://www.sktime.org/en/latest/) package, which is a special machine-learning package utilized to work with time-series data. Its syntax is based on that of the famous `scikit-learn` package, being even compatible with some tools like optimization, model selection, and data handling from the more known library. \n"
   ],
   "cell_type": "markdown",
   "metadata": {}
  },
  {
   "source": [
    "## Initialization\n",
    "\n",
    "Without further ado, let's start by importing all the libraries we'll need. We'll also create a flag that's used for rendering the plots as static images (our notebook won't be able to show any generated images if we keep the plots as interactive images, the default option for the `plotly` package). If you want to have the plots as interactive images, just change this flag to `False` and you'll be all set. We'll also create a folder that will contain all the images generated, in case we want them for showing on other environments (on our README.md, for example). Of course, this is totally optional; just remember to remove the part of the code that saves the images to this folder."
   ],
   "cell_type": "markdown",
   "metadata": {}
  },
  {
   "cell_type": "code",
   "execution_count": 1,
   "metadata": {},
   "outputs": [
    {
     "output_type": "stream",
     "name": "stdout",
     "text": [
      "Folder already exists\n"
     ]
    }
   ],
   "source": [
    "import pandas as pd\n",
    "import numpy as np\n",
    "from sktime.utils.data_processing import from_multi_index_to_nested\n",
    "from time import time\n",
    "from itertools import combinations\n",
    "\n",
    "# metrics\n",
    "from sklearn.metrics import f1_score\n",
    "from sklearn.metrics import confusion_matrix, precision_score, recall_score\n",
    "from sklearn.metrics import make_scorer\n",
    "\n",
    "# models\n",
    "from sklearn.linear_model import LogisticRegression\n",
    "from sktime.classification.compose import TimeSeriesForestClassifier\n",
    "from sktime.classification.distance_based import KNeighborsTimeSeriesClassifier\n",
    "from sktime.classification.shapelet_based import ROCKETClassifier\n",
    "\n",
    "# model selection\n",
    "from sklearn.model_selection import train_test_split \n",
    "from sklearn.model_selection import cross_val_predict\n",
    "from sklearn.model_selection import RandomizedSearchCV\n",
    "from sklearn.model_selection import GridSearchCV\n",
    "import pickle\n",
    "\n",
    "# plotting\n",
    "import plotly.express as px\n",
    "\n",
    "# flag for posting on github: if True, allow plots to be shown on the repository, but loses the interactivity of plots\n",
    "github = True\n",
    "\n",
    "# makes folde that contais plots. this can be supressed if wanted\n",
    "try: \n",
    "    os.mkdir('images')\n",
    "except:\n",
    "    print(\"Folder already exists\")"
   ]
  },
  {
   "source": [
    "## Data Preprocessing\n",
    "\n",
    "In these next steps, we will download, select and preprocess our data. In the end, it will save a new file called `cleaned_data.csv`. If you have already gone through this process and the file is already on your directory, you can skip to the ***Data Processing*** section.\n",
    "\n",
    "Now, let's download the data to our project folder. As stated before, we'll be only using the subset of the entire dataset that corresponds to the traffic generated from 4 AM to 6:30 AM. Make sure you have enough space available (it's around 200 MB in size). If you already have the file, don't worry; it will check if it already exists before downloading it."
   ],
   "cell_type": "markdown",
   "metadata": {}
  },
  {
   "cell_type": "code",
   "execution_count": 2,
   "metadata": {},
   "outputs": [
    {
     "output_type": "stream",
     "name": "stdout",
     "text": [
      "--2021-02-20 20:14:47--  https://standard-traffic-data.s3.us-east-2.amazonaws.com/most_0400_0600_1_5.csv\n",
      "Resolving standard-traffic-data.s3.us-east-2.amazonaws.com (standard-traffic-data.s3.us-east-2.amazonaws.com)... 52.219.100.136\n",
      "Connecting to standard-traffic-data.s3.us-east-2.amazonaws.com (standard-traffic-data.s3.us-east-2.amazonaws.com)|52.219.100.136|:443... connected.\n",
      "HTTP request sent, awaiting response... 200 OK\n",
      "Length: 212534013 (203M) [binary/octet-stream]\n",
      "Saving to: ‘most_0400_0600_1_5.csv’\n",
      "\n",
      "most_0400_0600_1_5. 100%[===================>] 202,69M  9,52MB/s    in 23s     \n",
      "\n",
      "2021-02-20 20:15:11 (8,82 MB/s) - ‘most_0400_0600_1_5.csv’ saved [212534013/212534013]\n",
      "\n"
     ]
    }
   ],
   "source": [
    "!wget -nc https://standard-traffic-data.s3.us-east-2.amazonaws.com/most_0400_0600_1_5.csv"
   ]
  },
  {
   "source": [
    "Then, it's time to load our dataframe into `Pandas`."
   ],
   "cell_type": "markdown",
   "metadata": {}
  },
  {
   "cell_type": "code",
   "execution_count": 3,
   "metadata": {},
   "outputs": [],
   "source": [
    "data = pd.read_csv('most_0400_0600_1_5.csv', sep=';')"
   ]
  },
  {
   "source": [
    "Let's have an overview of our data."
   ],
   "cell_type": "markdown",
   "metadata": {}
  },
  {
   "cell_type": "code",
   "execution_count": 4,
   "metadata": {},
   "outputs": [
    {
     "output_type": "execute_result",
     "data": {
      "text/plain": [
       "   timestep_time  vehicle_angle       vehicle_id vehicle_lane  vehicle_pos  \\\n",
       "0        14400.0            NaN              NaN          NaN          NaN   \n",
       "1        14405.0          80.89  bus_M1:France.0     152927_1        12.10   \n",
       "2        14410.0          71.94  bus_M1:France.0     152927_1        23.63   \n",
       "3        14415.0          57.57  bus_M1:France.0     152927_1        57.99   \n",
       "4        14420.0          32.10  bus_M1:France.0     152927_1       113.32   \n",
       "5        14425.0          53.85     bus_M1:Eze.0    -153460_1        18.12   \n",
       "6        14425.0          42.04  bus_M1:France.0     152927_1       176.17   \n",
       "7        14425.0         204.72  bus_M2:France.0  -153424#0_1        14.37   \n",
       "8        14430.0          56.30     bus_M1:Eze.0    -153460_1        36.33   \n",
       "9        14430.0          34.27  bus_M1:France.0     152927_1       239.87   \n",
       "\n",
       "   vehicle_slope  vehicle_speed vehicle_type  vehicle_x  vehicle_y  vehicle_z  \\\n",
       "0            NaN            NaN          NaN        NaN        NaN        NaN   \n",
       "1           3.01           0.00          bus    1085.69     197.96      54.34   \n",
       "2           1.31           3.97          bus    1096.59     201.56      54.75   \n",
       "3           0.66           8.49          bus    1126.83     217.57      55.32   \n",
       "4           0.63          12.78          bus    1167.22     253.89      55.41   \n",
       "5           1.73           3.09          bus      44.23    1368.97     358.63   \n",
       "6           0.97          12.58          bus    1205.74     303.31      56.33   \n",
       "7           1.58           1.46          bus    3080.45    2998.66     478.34   \n",
       "8           6.28           0.24          bus      59.11    1378.92     357.39   \n",
       "9           1.51          12.91          bus    1245.55     352.82      57.01   \n",
       "\n",
       "   person_angle person_edge person_id  person_pos  person_slope  person_speed  \\\n",
       "0           NaN         NaN       NaN         NaN           NaN           NaN   \n",
       "1           NaN         NaN       NaN         NaN           NaN           NaN   \n",
       "2           NaN         NaN       NaN         NaN           NaN           NaN   \n",
       "3           NaN         NaN       NaN         NaN           NaN           NaN   \n",
       "4           NaN         NaN       NaN         NaN           NaN           NaN   \n",
       "5           NaN         NaN       NaN         NaN           NaN           NaN   \n",
       "6           NaN         NaN       NaN         NaN           NaN           NaN   \n",
       "7           NaN         NaN       NaN         NaN           NaN           NaN   \n",
       "8           NaN         NaN       NaN         NaN           NaN           NaN   \n",
       "9           NaN         NaN       NaN         NaN           NaN           NaN   \n",
       "\n",
       "   person_x  person_y  person_z  \n",
       "0       NaN       NaN       NaN  \n",
       "1       NaN       NaN       NaN  \n",
       "2       NaN       NaN       NaN  \n",
       "3       NaN       NaN       NaN  \n",
       "4       NaN       NaN       NaN  \n",
       "5       NaN       NaN       NaN  \n",
       "6       NaN       NaN       NaN  \n",
       "7       NaN       NaN       NaN  \n",
       "8       NaN       NaN       NaN  \n",
       "9       NaN       NaN       NaN  "
      ],
      "text/html": "<div>\n<style scoped>\n    .dataframe tbody tr th:only-of-type {\n        vertical-align: middle;\n    }\n\n    .dataframe tbody tr th {\n        vertical-align: top;\n    }\n\n    .dataframe thead th {\n        text-align: right;\n    }\n</style>\n<table border=\"1\" class=\"dataframe\">\n  <thead>\n    <tr style=\"text-align: right;\">\n      <th></th>\n      <th>timestep_time</th>\n      <th>vehicle_angle</th>\n      <th>vehicle_id</th>\n      <th>vehicle_lane</th>\n      <th>vehicle_pos</th>\n      <th>vehicle_slope</th>\n      <th>vehicle_speed</th>\n      <th>vehicle_type</th>\n      <th>vehicle_x</th>\n      <th>vehicle_y</th>\n      <th>vehicle_z</th>\n      <th>person_angle</th>\n      <th>person_edge</th>\n      <th>person_id</th>\n      <th>person_pos</th>\n      <th>person_slope</th>\n      <th>person_speed</th>\n      <th>person_x</th>\n      <th>person_y</th>\n      <th>person_z</th>\n    </tr>\n  </thead>\n  <tbody>\n    <tr>\n      <th>0</th>\n      <td>14400.0</td>\n      <td>NaN</td>\n      <td>NaN</td>\n      <td>NaN</td>\n      <td>NaN</td>\n      <td>NaN</td>\n      <td>NaN</td>\n      <td>NaN</td>\n      <td>NaN</td>\n      <td>NaN</td>\n      <td>NaN</td>\n      <td>NaN</td>\n      <td>NaN</td>\n      <td>NaN</td>\n      <td>NaN</td>\n      <td>NaN</td>\n      <td>NaN</td>\n      <td>NaN</td>\n      <td>NaN</td>\n      <td>NaN</td>\n    </tr>\n    <tr>\n      <th>1</th>\n      <td>14405.0</td>\n      <td>80.89</td>\n      <td>bus_M1:France.0</td>\n      <td>152927_1</td>\n      <td>12.10</td>\n      <td>3.01</td>\n      <td>0.00</td>\n      <td>bus</td>\n      <td>1085.69</td>\n      <td>197.96</td>\n      <td>54.34</td>\n      <td>NaN</td>\n      <td>NaN</td>\n      <td>NaN</td>\n      <td>NaN</td>\n      <td>NaN</td>\n      <td>NaN</td>\n      <td>NaN</td>\n      <td>NaN</td>\n      <td>NaN</td>\n    </tr>\n    <tr>\n      <th>2</th>\n      <td>14410.0</td>\n      <td>71.94</td>\n      <td>bus_M1:France.0</td>\n      <td>152927_1</td>\n      <td>23.63</td>\n      <td>1.31</td>\n      <td>3.97</td>\n      <td>bus</td>\n      <td>1096.59</td>\n      <td>201.56</td>\n      <td>54.75</td>\n      <td>NaN</td>\n      <td>NaN</td>\n      <td>NaN</td>\n      <td>NaN</td>\n      <td>NaN</td>\n      <td>NaN</td>\n      <td>NaN</td>\n      <td>NaN</td>\n      <td>NaN</td>\n    </tr>\n    <tr>\n      <th>3</th>\n      <td>14415.0</td>\n      <td>57.57</td>\n      <td>bus_M1:France.0</td>\n      <td>152927_1</td>\n      <td>57.99</td>\n      <td>0.66</td>\n      <td>8.49</td>\n      <td>bus</td>\n      <td>1126.83</td>\n      <td>217.57</td>\n      <td>55.32</td>\n      <td>NaN</td>\n      <td>NaN</td>\n      <td>NaN</td>\n      <td>NaN</td>\n      <td>NaN</td>\n      <td>NaN</td>\n      <td>NaN</td>\n      <td>NaN</td>\n      <td>NaN</td>\n    </tr>\n    <tr>\n      <th>4</th>\n      <td>14420.0</td>\n      <td>32.10</td>\n      <td>bus_M1:France.0</td>\n      <td>152927_1</td>\n      <td>113.32</td>\n      <td>0.63</td>\n      <td>12.78</td>\n      <td>bus</td>\n      <td>1167.22</td>\n      <td>253.89</td>\n      <td>55.41</td>\n      <td>NaN</td>\n      <td>NaN</td>\n      <td>NaN</td>\n      <td>NaN</td>\n      <td>NaN</td>\n      <td>NaN</td>\n      <td>NaN</td>\n      <td>NaN</td>\n      <td>NaN</td>\n    </tr>\n    <tr>\n      <th>5</th>\n      <td>14425.0</td>\n      <td>53.85</td>\n      <td>bus_M1:Eze.0</td>\n      <td>-153460_1</td>\n      <td>18.12</td>\n      <td>1.73</td>\n      <td>3.09</td>\n      <td>bus</td>\n      <td>44.23</td>\n      <td>1368.97</td>\n      <td>358.63</td>\n      <td>NaN</td>\n      <td>NaN</td>\n      <td>NaN</td>\n      <td>NaN</td>\n      <td>NaN</td>\n      <td>NaN</td>\n      <td>NaN</td>\n      <td>NaN</td>\n      <td>NaN</td>\n    </tr>\n    <tr>\n      <th>6</th>\n      <td>14425.0</td>\n      <td>42.04</td>\n      <td>bus_M1:France.0</td>\n      <td>152927_1</td>\n      <td>176.17</td>\n      <td>0.97</td>\n      <td>12.58</td>\n      <td>bus</td>\n      <td>1205.74</td>\n      <td>303.31</td>\n      <td>56.33</td>\n      <td>NaN</td>\n      <td>NaN</td>\n      <td>NaN</td>\n      <td>NaN</td>\n      <td>NaN</td>\n      <td>NaN</td>\n      <td>NaN</td>\n      <td>NaN</td>\n      <td>NaN</td>\n    </tr>\n    <tr>\n      <th>7</th>\n      <td>14425.0</td>\n      <td>204.72</td>\n      <td>bus_M2:France.0</td>\n      <td>-153424#0_1</td>\n      <td>14.37</td>\n      <td>1.58</td>\n      <td>1.46</td>\n      <td>bus</td>\n      <td>3080.45</td>\n      <td>2998.66</td>\n      <td>478.34</td>\n      <td>NaN</td>\n      <td>NaN</td>\n      <td>NaN</td>\n      <td>NaN</td>\n      <td>NaN</td>\n      <td>NaN</td>\n      <td>NaN</td>\n      <td>NaN</td>\n      <td>NaN</td>\n    </tr>\n    <tr>\n      <th>8</th>\n      <td>14430.0</td>\n      <td>56.30</td>\n      <td>bus_M1:Eze.0</td>\n      <td>-153460_1</td>\n      <td>36.33</td>\n      <td>6.28</td>\n      <td>0.24</td>\n      <td>bus</td>\n      <td>59.11</td>\n      <td>1378.92</td>\n      <td>357.39</td>\n      <td>NaN</td>\n      <td>NaN</td>\n      <td>NaN</td>\n      <td>NaN</td>\n      <td>NaN</td>\n      <td>NaN</td>\n      <td>NaN</td>\n      <td>NaN</td>\n      <td>NaN</td>\n    </tr>\n    <tr>\n      <th>9</th>\n      <td>14430.0</td>\n      <td>34.27</td>\n      <td>bus_M1:France.0</td>\n      <td>152927_1</td>\n      <td>239.87</td>\n      <td>1.51</td>\n      <td>12.91</td>\n      <td>bus</td>\n      <td>1245.55</td>\n      <td>352.82</td>\n      <td>57.01</td>\n      <td>NaN</td>\n      <td>NaN</td>\n      <td>NaN</td>\n      <td>NaN</td>\n      <td>NaN</td>\n      <td>NaN</td>\n      <td>NaN</td>\n      <td>NaN</td>\n      <td>NaN</td>\n    </tr>\n  </tbody>\n</table>\n</div>"
     },
     "metadata": {},
     "execution_count": 4
    }
   ],
   "source": [
    "data.head(10)"
   ]
  },
  {
   "cell_type": "code",
   "execution_count": 5,
   "metadata": {},
   "outputs": [
    {
     "output_type": "execute_result",
     "data": {
      "text/plain": [
       "       timestep_time  vehicle_angle   vehicle_pos  vehicle_slope  \\\n",
       "count   2.067350e+06   1.228876e+06  1.228876e+06   1.228876e+06   \n",
       "mean    2.021132e+04   1.702282e+02  1.832031e+02  -6.081239e-01   \n",
       "std     9.779872e+02   9.915551e+01  5.781648e+02   5.173104e+00   \n",
       "min     1.440000e+04   0.000000e+00  0.000000e+00  -8.873000e+01   \n",
       "25%     1.952500e+04   8.179000e+01  1.553000e+01  -2.750000e+00   \n",
       "50%     2.035500e+04   1.968800e+02  4.360000e+01   0.000000e+00   \n",
       "75%     2.102500e+04   2.323100e+02  1.335425e+02   1.090000e+00   \n",
       "max     2.159500e+04   3.599900e+02  1.323421e+04   9.000000e+01   \n",
       "\n",
       "       vehicle_speed     vehicle_x     vehicle_y     vehicle_z   person_angle  \\\n",
       "count   1.228876e+06  1.228876e+06  1.228876e+06  1.228876e+06  838473.000000   \n",
       "mean    5.878740e+00  4.394096e+03  2.036820e+03  9.745693e+01     161.218636   \n",
       "std     6.913619e+00  1.581162e+03  1.031879e+03  1.157750e+02     100.731614   \n",
       "min     0.000000e+00 -2.100000e-01  9.346000e+01  0.000000e+00       0.000000   \n",
       "25%     3.000000e-02  3.935520e+03  1.313255e+03  2.073000e+01      69.470000   \n",
       "50%     2.180000e+00  4.513730e+03  1.859050e+03  6.108000e+01     157.550000   \n",
       "75%     1.233000e+01  5.155550e+03  2.665060e+03  1.069800e+02     240.100000   \n",
       "max     5.547000e+01  9.976570e+03  6.359290e+03  5.972100e+02     359.990000   \n",
       "\n",
       "          person_pos   person_slope   person_speed       person_x  \\\n",
       "count  837976.000000  838473.000000  837977.000000  838473.000000   \n",
       "mean      181.459266      -0.353450       7.413234    4313.035494   \n",
       "std       355.824890       6.752039       6.224017    1748.461993   \n",
       "min         0.000000     -90.000000       0.000000      -0.210000   \n",
       "25%        13.380000      -2.250000       1.190000    3548.030000   \n",
       "50%        51.950000       0.000000       6.900000    4461.740000   \n",
       "75%       159.620000       1.530000      12.870000    5136.770000   \n",
       "max      4183.480000      90.000000      46.090000    9976.570000   \n",
       "\n",
       "            person_y       person_z  \n",
       "count  838473.000000  838473.000000  \n",
       "mean     2069.419362     109.380626  \n",
       "std      1075.116513     120.228287  \n",
       "min        93.460000      -0.080000  \n",
       "25%      1338.410000      26.250000  \n",
       "50%      1935.200000      67.800000  \n",
       "75%      2852.400000     126.250000  \n",
       "max      6356.520000     575.200000  "
      ],
      "text/html": "<div>\n<style scoped>\n    .dataframe tbody tr th:only-of-type {\n        vertical-align: middle;\n    }\n\n    .dataframe tbody tr th {\n        vertical-align: top;\n    }\n\n    .dataframe thead th {\n        text-align: right;\n    }\n</style>\n<table border=\"1\" class=\"dataframe\">\n  <thead>\n    <tr style=\"text-align: right;\">\n      <th></th>\n      <th>timestep_time</th>\n      <th>vehicle_angle</th>\n      <th>vehicle_pos</th>\n      <th>vehicle_slope</th>\n      <th>vehicle_speed</th>\n      <th>vehicle_x</th>\n      <th>vehicle_y</th>\n      <th>vehicle_z</th>\n      <th>person_angle</th>\n      <th>person_pos</th>\n      <th>person_slope</th>\n      <th>person_speed</th>\n      <th>person_x</th>\n      <th>person_y</th>\n      <th>person_z</th>\n    </tr>\n  </thead>\n  <tbody>\n    <tr>\n      <th>count</th>\n      <td>2.067350e+06</td>\n      <td>1.228876e+06</td>\n      <td>1.228876e+06</td>\n      <td>1.228876e+06</td>\n      <td>1.228876e+06</td>\n      <td>1.228876e+06</td>\n      <td>1.228876e+06</td>\n      <td>1.228876e+06</td>\n      <td>838473.000000</td>\n      <td>837976.000000</td>\n      <td>838473.000000</td>\n      <td>837977.000000</td>\n      <td>838473.000000</td>\n      <td>838473.000000</td>\n      <td>838473.000000</td>\n    </tr>\n    <tr>\n      <th>mean</th>\n      <td>2.021132e+04</td>\n      <td>1.702282e+02</td>\n      <td>1.832031e+02</td>\n      <td>-6.081239e-01</td>\n      <td>5.878740e+00</td>\n      <td>4.394096e+03</td>\n      <td>2.036820e+03</td>\n      <td>9.745693e+01</td>\n      <td>161.218636</td>\n      <td>181.459266</td>\n      <td>-0.353450</td>\n      <td>7.413234</td>\n      <td>4313.035494</td>\n      <td>2069.419362</td>\n      <td>109.380626</td>\n    </tr>\n    <tr>\n      <th>std</th>\n      <td>9.779872e+02</td>\n      <td>9.915551e+01</td>\n      <td>5.781648e+02</td>\n      <td>5.173104e+00</td>\n      <td>6.913619e+00</td>\n      <td>1.581162e+03</td>\n      <td>1.031879e+03</td>\n      <td>1.157750e+02</td>\n      <td>100.731614</td>\n      <td>355.824890</td>\n      <td>6.752039</td>\n      <td>6.224017</td>\n      <td>1748.461993</td>\n      <td>1075.116513</td>\n      <td>120.228287</td>\n    </tr>\n    <tr>\n      <th>min</th>\n      <td>1.440000e+04</td>\n      <td>0.000000e+00</td>\n      <td>0.000000e+00</td>\n      <td>-8.873000e+01</td>\n      <td>0.000000e+00</td>\n      <td>-2.100000e-01</td>\n      <td>9.346000e+01</td>\n      <td>0.000000e+00</td>\n      <td>0.000000</td>\n      <td>0.000000</td>\n      <td>-90.000000</td>\n      <td>0.000000</td>\n      <td>-0.210000</td>\n      <td>93.460000</td>\n      <td>-0.080000</td>\n    </tr>\n    <tr>\n      <th>25%</th>\n      <td>1.952500e+04</td>\n      <td>8.179000e+01</td>\n      <td>1.553000e+01</td>\n      <td>-2.750000e+00</td>\n      <td>3.000000e-02</td>\n      <td>3.935520e+03</td>\n      <td>1.313255e+03</td>\n      <td>2.073000e+01</td>\n      <td>69.470000</td>\n      <td>13.380000</td>\n      <td>-2.250000</td>\n      <td>1.190000</td>\n      <td>3548.030000</td>\n      <td>1338.410000</td>\n      <td>26.250000</td>\n    </tr>\n    <tr>\n      <th>50%</th>\n      <td>2.035500e+04</td>\n      <td>1.968800e+02</td>\n      <td>4.360000e+01</td>\n      <td>0.000000e+00</td>\n      <td>2.180000e+00</td>\n      <td>4.513730e+03</td>\n      <td>1.859050e+03</td>\n      <td>6.108000e+01</td>\n      <td>157.550000</td>\n      <td>51.950000</td>\n      <td>0.000000</td>\n      <td>6.900000</td>\n      <td>4461.740000</td>\n      <td>1935.200000</td>\n      <td>67.800000</td>\n    </tr>\n    <tr>\n      <th>75%</th>\n      <td>2.102500e+04</td>\n      <td>2.323100e+02</td>\n      <td>1.335425e+02</td>\n      <td>1.090000e+00</td>\n      <td>1.233000e+01</td>\n      <td>5.155550e+03</td>\n      <td>2.665060e+03</td>\n      <td>1.069800e+02</td>\n      <td>240.100000</td>\n      <td>159.620000</td>\n      <td>1.530000</td>\n      <td>12.870000</td>\n      <td>5136.770000</td>\n      <td>2852.400000</td>\n      <td>126.250000</td>\n    </tr>\n    <tr>\n      <th>max</th>\n      <td>2.159500e+04</td>\n      <td>3.599900e+02</td>\n      <td>1.323421e+04</td>\n      <td>9.000000e+01</td>\n      <td>5.547000e+01</td>\n      <td>9.976570e+03</td>\n      <td>6.359290e+03</td>\n      <td>5.972100e+02</td>\n      <td>359.990000</td>\n      <td>4183.480000</td>\n      <td>90.000000</td>\n      <td>46.090000</td>\n      <td>9976.570000</td>\n      <td>6356.520000</td>\n      <td>575.200000</td>\n    </tr>\n  </tbody>\n</table>\n</div>"
     },
     "metadata": {},
     "execution_count": 5
    }
   ],
   "source": [
    "data.describe()"
   ]
  },
  {
   "source": [
    "Looking at the outputs above, we can have an idea of how the data is organized: each row contains an entry, a reading, of a specific vehicle on a specific time-stamp, showing the feature values that correspond to that vehicle on that time. We'll only keep some of these features; `vehicle_speed` is an obvious one, but we'll assume that maybe cars change less their orientation than busses since the former tends to go from one point to another through the city, while the latter has to change its direction more in order to cover a specific area for picking and dropping people, so we're keeping `vehicle_angle` as well.\n",
    "\n",
    "So, in the end, we'll maintain `vehicle_id`, `timestep_time` (our instance identifiers), the previously mentioned features, and our target label `vehicle_type`."
   ],
   "cell_type": "markdown",
   "metadata": {}
  },
  {
   "cell_type": "code",
   "execution_count": 6,
   "metadata": {},
   "outputs": [],
   "source": [
    "# keeps only relevant columns\n",
    "data = data[['vehicle_id', 'timestep_time', 'vehicle_speed', 'vehicle_angle', 'vehicle_type']]"
   ]
  },
  {
   "source": [
    "Our dataframe now looks like this:"
   ],
   "cell_type": "markdown",
   "metadata": {}
  },
  {
   "cell_type": "code",
   "execution_count": 7,
   "metadata": {},
   "outputs": [
    {
     "output_type": "execute_result",
     "data": {
      "text/plain": [
       "        vehicle_id  timestep_time  vehicle_speed  vehicle_angle vehicle_type\n",
       "0              NaN        14400.0            NaN            NaN          NaN\n",
       "1  bus_M1:France.0        14405.0           0.00          80.89          bus\n",
       "2  bus_M1:France.0        14410.0           3.97          71.94          bus\n",
       "3  bus_M1:France.0        14415.0           8.49          57.57          bus\n",
       "4  bus_M1:France.0        14420.0          12.78          32.10          bus\n",
       "5     bus_M1:Eze.0        14425.0           3.09          53.85          bus\n",
       "6  bus_M1:France.0        14425.0          12.58          42.04          bus\n",
       "7  bus_M2:France.0        14425.0           1.46         204.72          bus\n",
       "8     bus_M1:Eze.0        14430.0           0.24          56.30          bus\n",
       "9  bus_M1:France.0        14430.0          12.91          34.27          bus"
      ],
      "text/html": "<div>\n<style scoped>\n    .dataframe tbody tr th:only-of-type {\n        vertical-align: middle;\n    }\n\n    .dataframe tbody tr th {\n        vertical-align: top;\n    }\n\n    .dataframe thead th {\n        text-align: right;\n    }\n</style>\n<table border=\"1\" class=\"dataframe\">\n  <thead>\n    <tr style=\"text-align: right;\">\n      <th></th>\n      <th>vehicle_id</th>\n      <th>timestep_time</th>\n      <th>vehicle_speed</th>\n      <th>vehicle_angle</th>\n      <th>vehicle_type</th>\n    </tr>\n  </thead>\n  <tbody>\n    <tr>\n      <th>0</th>\n      <td>NaN</td>\n      <td>14400.0</td>\n      <td>NaN</td>\n      <td>NaN</td>\n      <td>NaN</td>\n    </tr>\n    <tr>\n      <th>1</th>\n      <td>bus_M1:France.0</td>\n      <td>14405.0</td>\n      <td>0.00</td>\n      <td>80.89</td>\n      <td>bus</td>\n    </tr>\n    <tr>\n      <th>2</th>\n      <td>bus_M1:France.0</td>\n      <td>14410.0</td>\n      <td>3.97</td>\n      <td>71.94</td>\n      <td>bus</td>\n    </tr>\n    <tr>\n      <th>3</th>\n      <td>bus_M1:France.0</td>\n      <td>14415.0</td>\n      <td>8.49</td>\n      <td>57.57</td>\n      <td>bus</td>\n    </tr>\n    <tr>\n      <th>4</th>\n      <td>bus_M1:France.0</td>\n      <td>14420.0</td>\n      <td>12.78</td>\n      <td>32.10</td>\n      <td>bus</td>\n    </tr>\n    <tr>\n      <th>5</th>\n      <td>bus_M1:Eze.0</td>\n      <td>14425.0</td>\n      <td>3.09</td>\n      <td>53.85</td>\n      <td>bus</td>\n    </tr>\n    <tr>\n      <th>6</th>\n      <td>bus_M1:France.0</td>\n      <td>14425.0</td>\n      <td>12.58</td>\n      <td>42.04</td>\n      <td>bus</td>\n    </tr>\n    <tr>\n      <th>7</th>\n      <td>bus_M2:France.0</td>\n      <td>14425.0</td>\n      <td>1.46</td>\n      <td>204.72</td>\n      <td>bus</td>\n    </tr>\n    <tr>\n      <th>8</th>\n      <td>bus_M1:Eze.0</td>\n      <td>14430.0</td>\n      <td>0.24</td>\n      <td>56.30</td>\n      <td>bus</td>\n    </tr>\n    <tr>\n      <th>9</th>\n      <td>bus_M1:France.0</td>\n      <td>14430.0</td>\n      <td>12.91</td>\n      <td>34.27</td>\n      <td>bus</td>\n    </tr>\n  </tbody>\n</table>\n</div>"
     },
     "metadata": {},
     "execution_count": 7
    }
   ],
   "source": [
    "data.head(10)"
   ]
  },
  {
   "source": [
    "Now let's see how the vehicle categories are defined."
   ],
   "cell_type": "markdown",
   "metadata": {}
  },
  {
   "cell_type": "code",
   "execution_count": 8,
   "metadata": {},
   "outputs": [
    {
     "output_type": "execute_result",
     "data": {
      "text/plain": [
       "array([nan, 'bus', 'train', 'hw_trailer', 'fastbicycle', 'motorcycle',\n",
       "       'passenger4', 'passenger2b', 'truck', 'delivery', 'coach',\n",
       "       'passenger2a', 'passenger3', 'passenger1', 'moped', 'trailer',\n",
       "       'avgbicycle', 'hw_motorcycle', 'hw_passenger1', 'taxi',\n",
       "       'emergency', 'slowbicycle', 'authority', 'uber', 'hw_coach',\n",
       "       'hw_passenger2a', 'hw_truck', 'hw_passenger3', 'hw_passenger4',\n",
       "       'hw_delivery', 'hw_passenger2b', 'army'], dtype=object)"
      ]
     },
     "metadata": {},
     "execution_count": 8
    }
   ],
   "source": [
    "data['vehicle_type'].unique()"
   ]
  },
  {
   "source": [
    "According to the [documentation](https://sumo.dlr.de/docs/Definition_of_Vehicles,_Vehicle_Types,_and_Routes.html#abstract_vehicle_class), all the vehicle types that start with `passenger` are a subclass of cars. Therefore, we will unify these labels after we drop all categories that are neither cars nor busses."
   ],
   "cell_type": "markdown",
   "metadata": {}
  },
  {
   "cell_type": "code",
   "execution_count": 9,
   "metadata": {},
   "outputs": [],
   "source": [
    "# drops all entries that are neither cars nor busses\n",
    "data = data[(data['vehicle_type'] == 'bus') | (data['vehicle_type'].str.startswith('passenger'))]\n",
    "\n",
    "# unifies car label for all entries\n",
    "data['vehicle_type'] = data['vehicle_type'].map(lambda x: 'car' if x.startswith('passenger') else x)"
   ]
  },
  {
   "source": [
    "Now let's check if there are any null values on our modified dataset."
   ],
   "cell_type": "markdown",
   "metadata": {}
  },
  {
   "cell_type": "code",
   "execution_count": 10,
   "metadata": {},
   "outputs": [
    {
     "output_type": "execute_result",
     "data": {
      "text/plain": [
       "vehicle_id       0\n",
       "timestep_time    0\n",
       "vehicle_speed    0\n",
       "vehicle_angle    0\n",
       "vehicle_type     0\n",
       "dtype: int64"
      ]
     },
     "metadata": {},
     "execution_count": 10
    }
   ],
   "source": [
    "data.isna().sum()"
   ]
  },
  {
   "source": [
    "In order to work with the time-series algorithms from the `sktime` package, it is necessary to transform our dataset into a *nested* one. Since we cannot save a nested dataset, we will transform our dataframe into a multi-indexed one and save it to disk. Multi-indexed dataframes can be turned into nested by using the `from_multi_index_to_nested` method from the `sktime` package."
   ],
   "cell_type": "markdown",
   "metadata": {}
  },
  {
   "cell_type": "code",
   "execution_count": 11,
   "metadata": {},
   "outputs": [],
   "source": [
    "# multindex dataframe\n",
    "data.sort_values(by=['vehicle_id', 'timestep_time'], inplace=True)\n",
    "multiindex = pd.MultiIndex.from_frame(data[['vehicle_id', 'timestep_time']])\n",
    "data.index = multiindex\n",
    "\n",
    "# drops columns used in indexing\n",
    "data.drop(['vehicle_id', 'timestep_time'], axis='columns', inplace=True)"
   ]
  },
  {
   "source": [
    "Now, let's save our preprocessed dataset."
   ],
   "cell_type": "markdown",
   "metadata": {}
  },
  {
   "cell_type": "code",
   "execution_count": 12,
   "metadata": {},
   "outputs": [],
   "source": [
    "data.to_csv('cleaned_data.csv')"
   ]
  },
  {
   "source": [
    "## Data Processing\n",
    "\n",
    "Because we can't save a nested dataset, we'll need to load our preprocessed dataset and do the necessary transformations every time we are to interact with our project starting from a fresh boot up. This is the point where, if you have previously run the code before this section, you can run from without the need to repeat the steps before. We'll load the previously saved dataset from disk and print it to see what it looks like."
   ],
   "cell_type": "markdown",
   "metadata": {}
  },
  {
   "cell_type": "code",
   "execution_count": 13,
   "metadata": {},
   "outputs": [
    {
     "output_type": "execute_result",
     "data": {
      "text/plain": [
       "                                vehicle_speed  vehicle_angle vehicle_type\n",
       "vehicle_id       timestep_time                                           \n",
       "bus_100:Menton.0 15065.0                 2.59          76.55          bus\n",
       "                 15070.0                 6.62          64.31          bus\n",
       "                 15075.0                 7.94          57.08          bus\n",
       "                 15080.0                 0.00          55.10          bus\n",
       "                 15085.0                 0.00          55.10          bus\n",
       "                 15090.0                 0.00          55.10          bus\n",
       "                 15095.0                 0.00          55.10          bus\n",
       "                 15100.0                 0.00          55.10          bus\n",
       "                 15105.0                 0.00          55.10          bus\n",
       "                 15110.0                 1.06          53.57          bus"
      ],
      "text/html": "<div>\n<style scoped>\n    .dataframe tbody tr th:only-of-type {\n        vertical-align: middle;\n    }\n\n    .dataframe tbody tr th {\n        vertical-align: top;\n    }\n\n    .dataframe thead th {\n        text-align: right;\n    }\n</style>\n<table border=\"1\" class=\"dataframe\">\n  <thead>\n    <tr style=\"text-align: right;\">\n      <th></th>\n      <th></th>\n      <th>vehicle_speed</th>\n      <th>vehicle_angle</th>\n      <th>vehicle_type</th>\n    </tr>\n    <tr>\n      <th>vehicle_id</th>\n      <th>timestep_time</th>\n      <th></th>\n      <th></th>\n      <th></th>\n    </tr>\n  </thead>\n  <tbody>\n    <tr>\n      <th rowspan=\"10\" valign=\"top\">bus_100:Menton.0</th>\n      <th>15065.0</th>\n      <td>2.59</td>\n      <td>76.55</td>\n      <td>bus</td>\n    </tr>\n    <tr>\n      <th>15070.0</th>\n      <td>6.62</td>\n      <td>64.31</td>\n      <td>bus</td>\n    </tr>\n    <tr>\n      <th>15075.0</th>\n      <td>7.94</td>\n      <td>57.08</td>\n      <td>bus</td>\n    </tr>\n    <tr>\n      <th>15080.0</th>\n      <td>0.00</td>\n      <td>55.10</td>\n      <td>bus</td>\n    </tr>\n    <tr>\n      <th>15085.0</th>\n      <td>0.00</td>\n      <td>55.10</td>\n      <td>bus</td>\n    </tr>\n    <tr>\n      <th>15090.0</th>\n      <td>0.00</td>\n      <td>55.10</td>\n      <td>bus</td>\n    </tr>\n    <tr>\n      <th>15095.0</th>\n      <td>0.00</td>\n      <td>55.10</td>\n      <td>bus</td>\n    </tr>\n    <tr>\n      <th>15100.0</th>\n      <td>0.00</td>\n      <td>55.10</td>\n      <td>bus</td>\n    </tr>\n    <tr>\n      <th>15105.0</th>\n      <td>0.00</td>\n      <td>55.10</td>\n      <td>bus</td>\n    </tr>\n    <tr>\n      <th>15110.0</th>\n      <td>1.06</td>\n      <td>53.57</td>\n      <td>bus</td>\n    </tr>\n  </tbody>\n</table>\n</div>"
     },
     "metadata": {},
     "execution_count": 13
    }
   ],
   "source": [
    "data = pd.read_csv('cleaned_data.csv', index_col=['vehicle_id', 'timestep_time'])\n",
    "data.head(10)"
   ]
  },
  {
   "source": [
    "In order to work with the time-series algorithms from the `sktime` package, it is necessary to transform our dataset into a *nested* one; a dataset in which each row contains an instance (vehicle ID), each column contains a feature and each cell is an entire time-series. To do this, we will first index our dataframe by both `vehicle_id` and `timestep_time`, making it a muti-indexed dataframe. Then, the function [`from_multi_index_to_nested`](https://www.sktime.org/en/latest/examples/loading_data.html#Using-multi-indexed-pandas-DataFrames) will transform our structure into a nested frame. Because the function resets the index in the transformed dataframe, we need to save our desired index (the column `vehicle_id` reduced to unique values) and reassign it to our frame after we call the function."
   ],
   "cell_type": "markdown",
   "metadata": {}
  },
  {
   "cell_type": "code",
   "execution_count": 14,
   "metadata": {},
   "outputs": [
    {
     "output_type": "execute_result",
     "data": {
      "text/plain": [
       "                                                      vehicle_speed  \\\n",
       "vehicle_id                                                            \n",
       "bus_100:Menton.0  15065.0     2.59\n",
       "15070.0     6.62\n",
       "15075.0     ...   \n",
       "bus_100:Menton.1  15965.0     2.61\n",
       "15970.0     6.81\n",
       "15975.0     ...   \n",
       "bus_100:Menton.2  16865.0     2.81\n",
       "16870.0     6.99\n",
       "16875.0     ...   \n",
       "bus_100:Menton.3  17765.0     2.86\n",
       "17770.0     7.74\n",
       "17775.0     ...   \n",
       "bus_100:Menton.4  18665.0     2.66\n",
       "18670.0     7.67\n",
       "18675.0     ...   \n",
       "bus_100:Menton.5  19575.0     1.78\n",
       "19580.0     7.06\n",
       "19585.0     ...   \n",
       "bus_100:Menton.6  20500.0    0.99\n",
       "20505.0    5.53\n",
       "20510.0    9.4...   \n",
       "bus_100:Menton.7  21365.0     0.68\n",
       "21370.0     5.21\n",
       "21375.0     ...   \n",
       "bus_100:Nice.0    15125.0     0.00\n",
       "15130.0     5.38\n",
       "15135.0    1...   \n",
       "bus_100:Nice.1    16025.0    0.00\n",
       "16030.0    5.31\n",
       "16035.0    9.9...   \n",
       "\n",
       "                                                      vehicle_angle  \\\n",
       "vehicle_id                                                            \n",
       "bus_100:Menton.0  15065.0    76.55\n",
       "15070.0    64.31\n",
       "15075.0    5...   \n",
       "bus_100:Menton.1  15965.0    77.50\n",
       "15970.0    64.96\n",
       "15975.0    5...   \n",
       "bus_100:Menton.2  16865.0    76.85\n",
       "16870.0    63.03\n",
       "16875.0    5...   \n",
       "bus_100:Menton.3  17765.0    76.54\n",
       "17770.0    61.21\n",
       "17775.0    5...   \n",
       "bus_100:Menton.4  18665.0    77.08\n",
       "18670.0    62.67\n",
       "18675.0    5...   \n",
       "bus_100:Menton.5  19575.0     78.81\n",
       "19580.0     67.61\n",
       "19585.0   ...   \n",
       "bus_100:Menton.6  20500.0    80.18\n",
       "20505.0    67.75\n",
       "20510.0    5...   \n",
       "bus_100:Menton.7  21365.0     80.40\n",
       "21370.0     67.75\n",
       "21375.0   ...   \n",
       "bus_100:Nice.0    15125.0    231.22\n",
       "15130.0    235.63\n",
       "15135.0   ...   \n",
       "bus_100:Nice.1    16025.0    231.22\n",
       "16030.0    236.31\n",
       "16035.0   ...   \n",
       "\n",
       "                 vehicle_type  \n",
       "vehicle_id                     \n",
       "bus_100:Menton.0          bus  \n",
       "bus_100:Menton.1          bus  \n",
       "bus_100:Menton.2          bus  \n",
       "bus_100:Menton.3          bus  \n",
       "bus_100:Menton.4          bus  \n",
       "bus_100:Menton.5          bus  \n",
       "bus_100:Menton.6          bus  \n",
       "bus_100:Menton.7          bus  \n",
       "bus_100:Nice.0            bus  \n",
       "bus_100:Nice.1            bus  "
      ],
      "text/html": "<div>\n<style scoped>\n    .dataframe tbody tr th:only-of-type {\n        vertical-align: middle;\n    }\n\n    .dataframe tbody tr th {\n        vertical-align: top;\n    }\n\n    .dataframe thead th {\n        text-align: right;\n    }\n</style>\n<table border=\"1\" class=\"dataframe\">\n  <thead>\n    <tr style=\"text-align: right;\">\n      <th></th>\n      <th>vehicle_speed</th>\n      <th>vehicle_angle</th>\n      <th>vehicle_type</th>\n    </tr>\n    <tr>\n      <th>vehicle_id</th>\n      <th></th>\n      <th></th>\n      <th></th>\n    </tr>\n  </thead>\n  <tbody>\n    <tr>\n      <th>bus_100:Menton.0</th>\n      <td>15065.0     2.59\n15070.0     6.62\n15075.0     ...</td>\n      <td>15065.0    76.55\n15070.0    64.31\n15075.0    5...</td>\n      <td>bus</td>\n    </tr>\n    <tr>\n      <th>bus_100:Menton.1</th>\n      <td>15965.0     2.61\n15970.0     6.81\n15975.0     ...</td>\n      <td>15965.0    77.50\n15970.0    64.96\n15975.0    5...</td>\n      <td>bus</td>\n    </tr>\n    <tr>\n      <th>bus_100:Menton.2</th>\n      <td>16865.0     2.81\n16870.0     6.99\n16875.0     ...</td>\n      <td>16865.0    76.85\n16870.0    63.03\n16875.0    5...</td>\n      <td>bus</td>\n    </tr>\n    <tr>\n      <th>bus_100:Menton.3</th>\n      <td>17765.0     2.86\n17770.0     7.74\n17775.0     ...</td>\n      <td>17765.0    76.54\n17770.0    61.21\n17775.0    5...</td>\n      <td>bus</td>\n    </tr>\n    <tr>\n      <th>bus_100:Menton.4</th>\n      <td>18665.0     2.66\n18670.0     7.67\n18675.0     ...</td>\n      <td>18665.0    77.08\n18670.0    62.67\n18675.0    5...</td>\n      <td>bus</td>\n    </tr>\n    <tr>\n      <th>bus_100:Menton.5</th>\n      <td>19575.0     1.78\n19580.0     7.06\n19585.0     ...</td>\n      <td>19575.0     78.81\n19580.0     67.61\n19585.0   ...</td>\n      <td>bus</td>\n    </tr>\n    <tr>\n      <th>bus_100:Menton.6</th>\n      <td>20500.0    0.99\n20505.0    5.53\n20510.0    9.4...</td>\n      <td>20500.0    80.18\n20505.0    67.75\n20510.0    5...</td>\n      <td>bus</td>\n    </tr>\n    <tr>\n      <th>bus_100:Menton.7</th>\n      <td>21365.0     0.68\n21370.0     5.21\n21375.0     ...</td>\n      <td>21365.0     80.40\n21370.0     67.75\n21375.0   ...</td>\n      <td>bus</td>\n    </tr>\n    <tr>\n      <th>bus_100:Nice.0</th>\n      <td>15125.0     0.00\n15130.0     5.38\n15135.0    1...</td>\n      <td>15125.0    231.22\n15130.0    235.63\n15135.0   ...</td>\n      <td>bus</td>\n    </tr>\n    <tr>\n      <th>bus_100:Nice.1</th>\n      <td>16025.0    0.00\n16030.0    5.31\n16035.0    9.9...</td>\n      <td>16025.0    231.22\n16030.0    236.31\n16035.0   ...</td>\n      <td>bus</td>\n    </tr>\n  </tbody>\n</table>\n</div>"
     },
     "metadata": {},
     "execution_count": 14
    }
   ],
   "source": [
    "# transforms dataframe into a nested sctructure of time-series\n",
    "index = data.index.get_level_values('vehicle_id').unique()\n",
    "data = from_multi_index_to_nested(data, instance_index='vehicle_id')\n",
    "data.index = index\n",
    "\n",
    "# after the transformation we have a series in each entry containing the repeated values for vehicle type, \n",
    "# this makes the feature a single value column again\n",
    "data['vehicle_type'] = data['vehicle_type'].map(lambda vehicle_type_series: vehicle_type_series.iloc[0])\n",
    "\n",
    "data.head(10)"
   ]
  },
  {
   "source": [
    "We'll now create some new features based on the speed and orientation of vehicles. `speed_variation` and `angle_variation` will be time-series describing how speed and orientation, respectively, change in time. `mean_vehicle_speed` and `std_vehicle_speed` will be both single-dimension features derived from the original `vehicle_speed`, and `mean_speed_variation` and `mean_angle_variation` will also be one-dimensional values computed from the newly created `speed_variation` and `angle_variation`. We'll see how these features help us to predict our target variable. Then, we'll use the `sample` method to randomize the order of our dataframe by making the argument `frac=1`, specifying the sampling to keep the entire dataset. "
   ],
   "cell_type": "markdown",
   "metadata": {}
  },
  {
   "cell_type": "code",
   "execution_count": 15,
   "metadata": {},
   "outputs": [],
   "source": [
    "# speed mean and standard deviation\n",
    "data['mean_vehicle_speed'] = data['vehicle_speed'].map(lambda speed: speed.mean())\n",
    "data['std_vehicle_speed'] = data['vehicle_speed'].map(lambda speed: speed.std())\n",
    "\n",
    "# speed and angle variation\n",
    "data['speed_variation'] = data['vehicle_speed'].map(lambda speed: speed.diff())\n",
    "data['angle_variation'] = data['vehicle_angle'].map(lambda angle: angle.diff())\n",
    "\n",
    "# speed and angle variation mean\n",
    "data['mean_speed_variation'] = data['speed_variation'].map(lambda speed_variation: speed_variation.abs().mean())\n",
    "data['mean_angle_variation'] = data['angle_variation'].map(lambda angle_variation: angle_variation.abs().mean())\n",
    "\n",
    "# randomize dataframe\n",
    "data = data.sample(frac=1, random_state=1)"
   ]
  },
  {
   "source": [
    "Next, we need to clear some null values generated by the differentiating of speed and orientation; we'll drop the first value of all time-series in the dataset. After that, in order to work with the algorithms in the `sktime` library, all of our time-series need to have the same length for a given feature. We will sample a random interval of each time-series (with all entries having the same choice of time-stamps for all features), but not before removing any samples that have fewer elements than the determined interval size. To keep the procedure reproducible, we'll set a new random seed every time we chop a time-series in the dataset."
   ],
   "cell_type": "markdown",
   "metadata": {}
  },
  {
   "cell_type": "code",
   "execution_count": 16,
   "metadata": {
    "tags": []
   },
   "outputs": [
    {
     "output_type": "stream",
     "name": "stdout",
     "text": [
      "Original number of samples:3118\nNumber of samples after size filtering: 2857\n"
     ]
    }
   ],
   "source": [
    "# drops 1st element because of generated na values\n",
    "features = ['vehicle_speed', 'speed_variation', 'angle_variation']\n",
    "data[features] = data[features].applymap(lambda series: series.iloc[1:])\n",
    "\n",
    "print(f'Original number of samples:{data.shape[0]}')\n",
    "\n",
    "chunk_size = 50\n",
    "data = data[data['vehicle_speed'].map(lambda vehicle_speed: vehicle_speed.size >= chunk_size)]\n",
    "\n",
    "print(f'Number of samples after size filtering: {data.shape[0]}')\n",
    "\n",
    "np.random.seed(1)\n",
    "def get_interval(row):\n",
    "    '''\n",
    "    function that randomly chooses a chunk of size *chunk_size* of each series on the dataset \n",
    "    '''\n",
    "    if row.iloc[0].size == chunk_size:\n",
    "        return row\n",
    "    else:\n",
    "        i = np.random.random_integers(low=0, high=(row.iloc[0].size - chunk_size))\n",
    "        np.random.seed(i)   # sets seed so random generation keeps going in a reproducible way\n",
    "        return row.map(lambda series: series.iloc[i:i+chunk_size])\n",
    "        \n",
    "\n",
    "# chopping the time series in order to normalize their size across the dataset\n",
    "data[features] = data[features].apply(get_interval, axis=1)"
   ]
  },
  {
   "source": [
    "As we can see above, after nesting the dataframe, it contains 3118 samples; each is a vehicle containing both scalar and time-series features. After we removed the vehicles that had fewer than 50 time-observations, we ended up with 2857 samples, losing 261 in the process.\n",
    "\n",
    "Let us now see how our targe labels are distributed:"
   ],
   "cell_type": "markdown",
   "metadata": {}
  },
  {
   "cell_type": "code",
   "execution_count": 17,
   "metadata": {},
   "outputs": [
    {
     "output_type": "execute_result",
     "data": {
      "text/plain": [
       "car    2669\n",
       "bus     188\n",
       "Name: vehicle_type, dtype: int64"
      ]
     },
     "metadata": {},
     "execution_count": 17
    }
   ],
   "source": [
    "data['vehicle_type'].value_counts()"
   ]
  },
  {
   "source": [
    "We can see that our dataset is clearly unbalanced.\n",
    "\n",
    "Now it's time to split our data into a training and a test dataset. For that, we'll use a common choice for train/test splits that reserves 20% of samples to the test set."
   ],
   "cell_type": "markdown",
   "metadata": {}
  },
  {
   "cell_type": "code",
   "execution_count": 18,
   "metadata": {},
   "outputs": [],
   "source": [
    "training, test = train_test_split(data, test_size=0.2, random_state=1, stratify=data['vehicle_type'])"
   ]
  },
  {
   "cell_type": "code",
   "execution_count": 19,
   "metadata": {},
   "outputs": [
    {
     "output_type": "display_data",
     "data": {
      "image/png": "[encoded data removed]"
     },
     "metadata": {}
    },
    {
     "output_type": "display_data",
     "data": {
      "image/png": "[encoded data removed]"
     },
     "metadata": {}
    },
    {
     "output_type": "display_data",
     "data": {
      "image/png": "[encoded data removed]"
     },
     "metadata": {}
    },
    {
     "output_type": "display_data",
     "data": {
      "image/png": "[encoded data removed]"
     },
     "metadata": {}
    }
   ],
   "source": [
    "for feature in ['mean_vehicle_speed', 'std_vehicle_speed', 'mean_speed_variation', 'mean_angle_variation']:\n",
    "\n",
    "    fig = px.histogram(training, x=feature, \n",
    "                        histnorm='percent', color='vehicle_type', opacity=0.8, barmode='overlay',\n",
    "                        title=feature + ' percent distribuion', height=500, width=700)\n",
    "    if github:\n",
    "        fig.show('png')\n",
    "\n",
    "    else:\n",
    "        fig.show()\n",
    "\n",
    "    # salves image on image folder. can be supressed if desired\n",
    "    fig.write_image(os.path.join('images', fig.layout['title']['text'] + '.png'))"
   ]
  },
  {
   "source": [
    " Based on the plots above, it seems like looking only at the data in a tabular manner (that is, not considering the *time* aspect) is not a good way to properly distinguish busses from cars. However, we'll fit a logistic classifier as a baseline classifier for our problem since it is a very simple out-of-the-box tool used for classification and it's recommended for problems with low dimensional-feature-spaces. In order to do that, we'll need to apply different weights for both classes because our dataset is heavily unbalanced (there are a lot more cars than busses).\n",
    "\n",
    "Since accuracy is not a good measure of performance for models trained on unbalanced datasets, the [F1 Score](https://en.wikipedia.org/wiki/F-score) will be used to evaluate our models; using the F1 Score is a good way of measuring performance on classification tasks that have very unbalanced classes, since it considers both [Precision and Recall](https://en.wikipedia.org/wiki/Precision_and_recall) from the point of view of the minority class, in our case, `bus`. To fit our models and compute the F1 score, we will use the `cross_val_predict` function from `sklearn`. This function uses cross-validation during training and assigns each sample to a test set exactly once; after training, it returns the prediction for every example on the dataset when the said example was on the test set. Also, we'll use a custom function called `compute_results` that will compute the F1 Score and prints it, as well as the Precision and Recall scores and the [Confusion Matrix](https://en.wikipedia.org/wiki/Confusion_matrix).\n",
    "\n",
    "It is important to note that our Logistic Regressor has the privilege of using the entire data; it will be trained on features that are statistics obtained from the time-series before we sampled shorter time windows from each series, as opposed to our specific time-series models that will train using only those windows."
   ],
   "cell_type": "markdown",
   "metadata": {}
  },
  {
   "cell_type": "code",
   "execution_count": 20,
   "metadata": {},
   "outputs": [],
   "source": [
    "def compute_results(y_true, y_pred, _time):\n",
    "\n",
    "    precision = precision_score(y_true, y_pred, pos_label='bus')\n",
    "    recall = recall_score(y_true, y_pred, pos_label='bus')\n",
    "    _f1_score = f1_score(y_true, y_pred, pos_label='bus')\n",
    "\n",
    "    print(f'Training time: {_time:.2f} seconds')\n",
    "    print('\\n')\n",
    "\n",
    "    print(f'Precision: {precision}')\n",
    "    print(f'Recall: {recall}')\n",
    "    print(f'F1 Score: {_f1_score}')\n",
    "    print('\\n')\n",
    "\n",
    "    print('Confusion Matrix:')\n",
    "    print(confusion_matrix(y_true, y_pred))"
   ]
  },
  {
   "cell_type": "code",
   "execution_count": 21,
   "metadata": {},
   "outputs": [
    {
     "output_type": "stream",
     "name": "stdout",
     "text": [
      "Training time: 3.13 seconds\n\n\nPrecision: 0.3022598870056497\nRecall: 0.7133333333333334\nF1 Score: 0.42460317460317465\n\n\nConfusion Matrix:\n[[ 107   43]\n [ 247 1888]]\n"
     ]
    }
   ],
   "source": [
    "from sklearn.model_selection import cross_val_predict\n",
    "\n",
    "lr = LogisticRegression(random_state=1, class_weight='balanced', n_jobs=-1)\n",
    "\n",
    "start = time()\n",
    "lr_results = cross_val_predict(lr, X=training[['mean_vehicle_speed',\n",
    "                                        'std_vehicle_speed', \n",
    "                                        'mean_speed_variation', \n",
    "                                        'mean_angle_variation']],\n",
    "                                        y=training['vehicle_type'], cv=5)\n",
    "end = time()\n",
    "\n",
    "compute_results(training['vehicle_type'], lr_results, end-start)"
   ]
  },
  {
   "source": [
    "## Time Series Classification Algorithms\n",
    "\n",
    "The results above suggest that using regular machine learning algorithms for classification with time-series yields poor outcomes. Our experiment gave us a fair recall score, although the precision is low, and thus our F1 score is just over 0.4. Now it's time to test some time-series-specific algorithms. We will test 3 different algorithms, each falling into a specific category of time-series classification models: Composition, Distance-Based, and Shapelet-Based. A brief explanation of those classes of algorithms can be checked in [this article](https://towardsdatascience.com/a-brief-introduction-to-time-series-classification-algorithms-7b4284d31b97).\n",
    "\n",
    "### Time Series Forest Classifier\n",
    "\n",
    "The first algorithm we'll try is somewhat similar to what we did with logistic regression: the `TimeSeriesForestClassifier` extracts features (like mean and standard deviation) from intervals of all time-series and then simply applies a traditional random forest classifier on those features. `sktime`'s implementation of this algorithm only works for univariate problems (problems with only one feature). To go around this, we'll have to train a model for each time feature separately. As this method doesn't deal with the time aspect of the data, it makes sense to expect humble results from this option."
   ],
   "cell_type": "markdown",
   "metadata": {}
  },
  {
   "cell_type": "code",
   "execution_count": 22,
   "metadata": {},
   "outputs": [
    {
     "output_type": "stream",
     "name": "stdout",
     "text": [
      "Results for Time Series Forest Classifier trained on vehicle_speed:\n",
      "Training time: 59.63 seconds\n",
      "\n",
      "\n",
      "Precision: 0.8829787234042553\n",
      "Recall: 0.5533333333333333\n",
      "F1 Score: 0.680327868852459\n",
      "\n",
      "\n",
      "Confusion Matrix:\n",
      "[[  83   67]\n",
      " [  11 2124]]\n",
      "\n",
      "\n",
      "Results for Time Series Forest Classifier trained on speed_variation:\n",
      "Training time: 58.70 seconds\n",
      "\n",
      "\n",
      "Precision: 1.0\n",
      "Recall: 0.2866666666666667\n",
      "F1 Score: 0.4455958549222798\n",
      "\n",
      "\n",
      "Confusion Matrix:\n",
      "[[  43  107]\n",
      " [   0 2135]]\n",
      "\n",
      "\n",
      "Results for Time Series Forest Classifier trained on angle_variation:\n",
      "Training time: 59.46 seconds\n",
      "\n",
      "\n",
      "Precision: 0.8333333333333334\n",
      "Recall: 0.03333333333333333\n",
      "F1 Score: 0.06410256410256411\n",
      "\n",
      "\n",
      "Confusion Matrix:\n",
      "[[   5  145]\n",
      " [   1 2134]]\n",
      "\n",
      "\n"
     ]
    }
   ],
   "source": [
    "# composition\n",
    "features = ['vehicle_speed', 'speed_variation', 'angle_variation']\n",
    "\n",
    "for feature in features:\n",
    "\n",
    "    tsfc = TimeSeriesForestClassifier(random_state=1, n_jobs=-1)\n",
    "\n",
    "    start = time()\n",
    "    tsfc_results = cross_val_predict(tsfc, X=training[[feature]], y=training['vehicle_type'], cv=5)\n",
    "    end = time()\n",
    "\n",
    "    print(f'Results for Time Series Forest Classifier trained on {feature}:')\n",
    "    compute_results(training['vehicle_type'], tsfc_results, end-start)\n",
    "    print('\\n')"
   ]
  },
  {
   "source": [
    "### K-Neighbors Time Series Classifier\n",
    "\n",
    "The `KNeighborsTimeSeriesClassifier` is a distance-based method for classifying time-series; it is very similar to the classical K-Neighbors Classifier used for normal data, with the distinction that it uses [Dynamic Time Warping](https://en.wikipedia.org/wiki/Dynamic_time_warping) (DTW) as a measure of the distance between two time-series. As it estimates the distance between each pair of time-series in the dataset, this is a fairly expensive (in terms of computer power) algorithm."
   ],
   "cell_type": "markdown",
   "metadata": {}
  },
  {
   "cell_type": "code",
   "execution_count": 23,
   "metadata": {},
   "outputs": [
    {
     "output_type": "stream",
     "name": "stdout",
     "text": [
      "Training time: 47.83 seconds\n\n\nPrecision: 0.17218543046357615\nRecall: 0.17333333333333334\nF1 Score: 0.17275747508305647\n\n\nConfusion Matrix:\n[[  26  124]\n [ 125 2010]]\n"
     ]
    }
   ],
   "source": [
    "# distance-based\n",
    "features = ['vehicle_speed', 'speed_variation', 'angle_variation']\n",
    "\n",
    "knc = KNeighborsTimeSeriesClassifier(n_jobs=-1)\n",
    "\n",
    "start = time()\n",
    "knc_results = cross_val_predict(knc, X=training[features], y=training['vehicle_type'], cv=5)\n",
    "end = time()\n",
    "\n",
    "compute_results(training['vehicle_type'], knc_results, end-start)"
   ]
  },
  {
   "source": [
    "### ROCKET Classifier\n",
    "\n",
    "\n",
    "The [ROCKET Classifier](https://pub.towardsai.net/rocket-fast-and-accurate-time-series-classification-f54923ad0ac9) (RandOM Convolutional KErnal Transform) is a shapelet-based classifier for time-series problems; this means it tries to extract intervals from the time-series that help to discriminate which labels they belong to. The ROCKET algorithm uses convolutional kernels (similar to those used on convolutional neural networks) that transform the shapelets into new features and then apply those features to a linear classifier. This classification solution has proven to be extremely versatile, outperforming more complex algorithms like neural networks."
   ],
   "cell_type": "markdown",
   "metadata": {}
  },
  {
   "cell_type": "code",
   "execution_count": 24,
   "metadata": {},
   "outputs": [
    {
     "output_type": "stream",
     "name": "stdout",
     "text": [
      "Training time: 20.03 seconds\n\n\nPrecision: 0.9915254237288136\nRecall: 0.78\nF1 Score: 0.873134328358209\n\n\nConfusion Matrix:\n[[ 117   33]\n [   1 2134]]\n"
     ]
    }
   ],
   "source": [
    "rck = ROCKETClassifier(random_state=1)\n",
    "\n",
    "start = time()\n",
    "rck_results = cross_val_predict(rck, X=training[features], y=training['vehicle_type'], cv=5)\n",
    "end  = time()\n",
    "\n",
    "compute_results(training['vehicle_type'], rck_results, end-start)\n"
   ]
  },
  {
   "source": [
    "Bellow is a table summarizing our results:\n",
    "\n",
    "| Results                 |\n",
    "|-------------------------|\n",
    "| **Model**                               |**F1 Score**|\n",
    "| Logistic Regression                     | 0.425 |\n",
    "| Time Series Forest on `vehicle_speed`   | 0.680 |\n",
    "| Time Series Forest on `speed_variation` | 0.446 |\n",
    "| Time Series Forest on `angle_variation` | 0.064 |\n",
    "| K-Neighbors Time Series                 | 0.173 |\n",
    "| ROCKET                                  | 0.873 |\n",
    "\n",
    "As the results above can show us, the ROCKET classifier outperformed the other algorithms for our task. We will now fine-tune and it to see if we can improve it.\n",
    "\n",
    "### Feature Selection and Fine-Tunning the Best Model\n",
    "\n",
    "We trained our model assuming all the selected features were relevant to our classification task of telling apart busses from cars; however, this may not hold, so the next step is to try our algorithm with different specific sets of features, starting with one feature at a time."
   ],
   "cell_type": "markdown",
   "metadata": {}
  },
  {
   "cell_type": "code",
   "execution_count": 25,
   "metadata": {},
   "outputs": [
    {
     "output_type": "stream",
     "name": "stdout",
     "text": [
      "Results for ROCKET Classifier trained on vehicle_speed:\n",
      "Training time: 14.18 seconds\n",
      "\n",
      "\n",
      "Precision: 0.9918032786885246\n",
      "Recall: 0.8066666666666666\n",
      "F1 Score: 0.8897058823529411\n",
      "\n",
      "\n",
      "Confusion Matrix:\n",
      "[[ 121   29]\n",
      " [   1 2134]]\n",
      "\n",
      "\n",
      "Results for ROCKET Classifier trained on speed_variation:\n",
      "Training time: 14.29 seconds\n",
      "\n",
      "\n",
      "Precision: 0.991869918699187\n",
      "Recall: 0.8133333333333334\n",
      "F1 Score: 0.8937728937728938\n",
      "\n",
      "\n",
      "Confusion Matrix:\n",
      "[[ 122   28]\n",
      " [   1 2134]]\n",
      "\n",
      "\n",
      "Results for ROCKET Classifier trained on angle_variation:\n",
      "Training time: 14.28 seconds\n",
      "\n",
      "\n",
      "Precision: 0.864406779661017\n",
      "Recall: 0.34\n",
      "F1 Score: 0.48803827751196177\n",
      "\n",
      "\n",
      "Confusion Matrix:\n",
      "[[  51   99]\n",
      " [   8 2127]]\n",
      "\n",
      "\n"
     ]
    }
   ],
   "source": [
    "for feature in features:\n",
    "\n",
    "    rck = ROCKETClassifier(random_state=1)\n",
    "\n",
    "    start = time()\n",
    "    rck_results = cross_val_predict(rck, X=training[[feature]], y=training['vehicle_type'], cv=5)\n",
    "    end  = time()\n",
    "\n",
    "    print(f'Results for ROCKET Classifier trained on {feature}:')\n",
    "    compute_results(training['vehicle_type'], rck_results, end-start)\n",
    "    print('\\n')"
   ]
  },
  {
   "source": [
    "The results for each feature can be seen bellow:\n",
    "\n",
    "| ROCKET F1 Score for Each Feature |\n",
    "| -------------------------------- |\n",
    "| **Feature**                      | **F1 Score** |\n",
    "| `vehicle_speed`                  | 0.890 |\n",
    "| `speed_variation`                | 0.894 |\n",
    "| `angle_variation`                | 0.488 |\n",
    "\n",
    "Interestingly enough, both `vehicle_speed` and `speed_variation`, when used to train the model alone, have slightly improved the score of our classifier while `angle_variation` performed inadequately. One possible move now could be to train our model on `vehicle_speed` and `speed_variation` concurrently. However, since we have a small number of features, we can have the luxury of training on every combination of pairs and see the results."
   ],
   "cell_type": "markdown",
   "metadata": {}
  },
  {
   "cell_type": "code",
   "execution_count": 26,
   "metadata": {},
   "outputs": [
    {
     "output_type": "stream",
     "name": "stdout",
     "text": [
      "Results for ROCKET Classifier trained on vehicle_speed and speed_variation:\n",
      "Training time: 17.85 seconds\n",
      "\n",
      "\n",
      "Precision: 0.9921259842519685\n",
      "Recall: 0.84\n",
      "F1 Score: 0.9097472924187726\n",
      "\n",
      "\n",
      "Confusion Matrix:\n",
      "[[ 126   24]\n",
      " [   1 2134]]\n",
      "\n",
      "\n",
      "Results for ROCKET Classifier trained on vehicle_speed and angle_variation:\n",
      "Training time: 18.89 seconds\n",
      "\n",
      "\n",
      "Precision: 0.9829059829059829\n",
      "Recall: 0.7666666666666667\n",
      "F1 Score: 0.8614232209737828\n",
      "\n",
      "\n",
      "Confusion Matrix:\n",
      "[[ 115   35]\n",
      " [   2 2133]]\n",
      "\n",
      "\n",
      "Results for ROCKET Classifier trained on speed_variation and angle_variation:\n",
      "Training time: 17.98 seconds\n",
      "\n",
      "\n",
      "Precision: 0.9914529914529915\n",
      "Recall: 0.7733333333333333\n",
      "F1 Score: 0.8689138576779025\n",
      "\n",
      "\n",
      "Confusion Matrix:\n",
      "[[ 116   34]\n",
      " [   1 2134]]\n",
      "\n",
      "\n"
     ]
    }
   ],
   "source": [
    "# creates a list containg all 3 combinations of pairs features\n",
    "feature_pairs = list(combinations(features, 2))\n",
    "feature_pairs = [list(pair) for pair in feature_pairs]\n",
    "\n",
    "for pair in feature_pairs:\n",
    "\n",
    "    rck = ROCKETClassifier(random_state=1)\n",
    "\n",
    "    start = time()\n",
    "    rck_results = cross_val_predict(rck, X=training[pair], y=training['vehicle_type'], cv=5)\n",
    "    end  = time()\n",
    "\n",
    "    print(f'Results for ROCKET Classifier trained on {pair[0]} and {pair[1]}:')\n",
    "    compute_results(training['vehicle_type'], rck_results, end-start)\n",
    "    print('\\n')"
   ]
  },
  {
   "source": [
    "The results for each pair of features are:\n",
    "\n",
    "| ROCKET F1 Score for Each Pair of Features   |\n",
    "| ------------------------------------------- |\n",
    "| **Features**                                    | **F1 Score** |\n",
    "| `vehicle_speed` and `speed_variation`           | 0.910 |\n",
    "| `vehicle_speed` and `angle_variation`           | 0.861 |\n",
    "| `speed_variation` and `angle_variation`         | 0.869 |\n",
    "\n",
    "The table above shows us that the combination of `vehicle_speed`and `speed_variation` gave the (slightly) better results; thus, we will keep them as our predictive features for our problem. Now it's time to try to improve our model even further by fine tunning it. For that goal, we will use `sklearns`'s functions [`RandomizedSearchCV`](https://sklearn.org/modules/generated/sklearn.model_selection.RandomizedSearchCV.html#sklearn.model_selection.RandomizedSearchCV) for a wide training hyper-parameter search and [`GridSearchCV`](https://sklearn.org/modules/generated/sklearn.model_selection.GridSearchCV.html#sklearn.model_selection.GridSearchCV) for a narrow specific search. The `RandomizedSearchCV` function samples randomly from a given distribution of training hyper-parameters possibilities in order to give a \"general direction\" in the search for the best optimization. After that, the `GridSearchCV` looks tries every combination from the set of hyper-parameters given; this set is built around the best results obtained from `RandomizedSearchCV`. Because training an ensemble of models can take too long, we're only going to try different values for the `num_kernels` parameter that, as the name suggests, represents the number of kernels the model uses to transform the data. The default value is 10000, and we'll use a set of all steps of 100 between 1000 and 100000 for our search to randomly sample from.\n",
    "\n",
    "We'll also need to wrap our F1 Score function using [`make_scorer`](https://scikit-learn.org/stable/modules/generated/sklearn.metrics.make_scorer.html#sklearn.metrics.make_scorer) because we need to specify to `f1_score` the minority class, in our case, `bus`.\n",
    "\n",
    "It's also worth noting that the next step may take a while because we're training our model several times."
   ],
   "cell_type": "markdown",
   "metadata": {}
  },
  {
   "cell_type": "code",
   "execution_count": 27,
   "metadata": {},
   "outputs": [
    {
     "output_type": "stream",
     "name": "stdout",
     "text": [
      "Fitting 5 folds for each of 32 candidates, totalling 160 fits\n",
      "Training time: 2204.24 seconds\n",
      "\n",
      "\n",
      "Best hyperparameters found in wide radomized search:\n",
      "{'num_kernels': 92900, 'ensemble': False}\n",
      "\n",
      "\n",
      "Best F1 Score:\n",
      "0.9264127300472378\n"
     ]
    }
   ],
   "source": [
    "features = ['vehicle_speed', 'speed_variation']\n",
    "\n",
    "rck = ROCKETClassifier(random_state=1)\n",
    "\n",
    "param_grid = {\n",
    "    'num_kernels': [n for n in range(100, 100000, 100)],\n",
    "    'ensemble': [False]\n",
    "}\n",
    "\n",
    "start = time()\n",
    "# wraps f1_score with minority class around make_scorer\n",
    "scorer  = make_scorer(f1_score, pos_label='bus')\n",
    "random_search = RandomizedSearchCV(rck, param_grid, n_iter=32, scoring=scorer, cv=5, verbose=1, random_state=1)\n",
    "random_search.fit(training[features], training['vehicle_type'])\n",
    "end = time()\n",
    "\n",
    "print(f'Training time: {(end - start):.2f} seconds')\n",
    "print('\\n')\n",
    "print(\"Best hyperparameters found in wide radomized search:\")\n",
    "print(random_search.best_params_)\n",
    "print('\\n')\n",
    "print('Best F1 Score:')\n",
    "print(random_search.best_score_)"
   ]
  },
  {
   "source": [
    "Our random search returned that the best number of kernels found was **92900**, resulting in an average cross-validation score of **0.926**. Now, we will try a more refined search, looking into all 100 intervals between 92000 and 93000 and see what we get."
   ],
   "cell_type": "markdown",
   "metadata": {}
  },
  {
   "cell_type": "code",
   "execution_count": 28,
   "metadata": {},
   "outputs": [
    {
     "output_type": "stream",
     "name": "stdout",
     "text": [
      "Fitting 5 folds for each of 10 candidates, totalling 50 fits\n",
      "Training time: 1336.15 seconds\n",
      "\n",
      "\n",
      "Best hyperparameters found in narrow grid search:\n",
      "{'ensemble': False, 'num_kernels': 92900}\n",
      "\n",
      "\n",
      "Best F1 Score:\n",
      "0.9264127300472378\n"
     ]
    }
   ],
   "source": [
    "features = ['vehicle_speed', 'speed_variation']\n",
    "\n",
    "rck = ROCKETClassifier(random_state=1)\n",
    "\n",
    "param_grid = {\n",
    "    'num_kernels': [n for n in range(92000, 93000, 100)],\n",
    "    'ensemble': [False]\n",
    "}\n",
    "\n",
    "start = time()\n",
    "# wraps f1_score with minority class around make_scorer\n",
    "scorer  = make_scorer(f1_score, pos_label='bus')\n",
    "grid_search = GridSearchCV(rck, param_grid, scoring=scorer, cv=5, verbose=1)\n",
    "grid_search.fit(training[features], training['vehicle_type'])\n",
    "end = time()\n",
    "\n",
    "print(f'Training time: {(end - start):.2f} seconds')\n",
    "print('\\n')\n",
    "print(\"Best hyperparameters found in narrow grid search:\")\n",
    "print(grid_search.best_params_)\n",
    "print('\\n')\n",
    "print('Best F1 Score:')\n",
    "print(grid_search.best_score_)"
   ]
  },
  {
   "source": [
    "Looks like our narrow search returned the same results found on our wide search: that **92900** is the optimal number of kernels to our model, achieving an F1 Score of **0.926**. Hence, we'll keep this configuration and save our model using [`pickle`](https://docs.python.org/3/library/pickle.html)."
   ],
   "cell_type": "markdown",
   "metadata": {}
  },
  {
   "cell_type": "code",
   "execution_count": 29,
   "metadata": {},
   "outputs": [],
   "source": [
    "final_model = grid_search.best_estimator_\n",
    "\n",
    "filename = 'best_model.pkl'\n",
    "with open(filename, 'wb') as file:\n",
    "    pickle.dump(final_model, file)"
   ]
  },
  {
   "source": [
    "### Scoring the Final Model on Unseen Data\n",
    "\n",
    "Finally, it is time to score our model using our test dataset, which we separated from training at the beginning of our work so our model could be validated on unseen data. We'll load the model and then score it."
   ],
   "cell_type": "markdown",
   "metadata": {}
  },
  {
   "cell_type": "code",
   "execution_count": 30,
   "metadata": {},
   "outputs": [
    {
     "output_type": "stream",
     "name": "stdout",
     "text": [
      "Training time: 4.63 seconds\n\n\nPrecision: 0.8157894736842105\nRecall: 0.9393939393939394\nF1 Score: 0.8732394366197183\n\n\nConfusion Matrix:\n[[ 31   2]\n [  7 532]]\n"
     ]
    }
   ],
   "source": [
    "filename = 'best_model.pkl'\n",
    "with open(filename, 'rb') as file:\n",
    "    final_model = pickle.load(file)\n",
    "\n",
    "features = ['vehicle_speed', 'speed_variation']\n",
    "\n",
    "start = time()\n",
    "predictions = final_model.predict(test[features])\n",
    "end = time()\n",
    "\n",
    "compute_results(predictions, test['vehicle_type'], end-start)"
   ]
  },
  {
   "source": [
    "### Conclusion\n",
    "\n",
    "The Precision and Recall scores achieved on our test data set were **0.816** and **0.939** respectively. Our main metric, the F1 Score, reached **0.873**, a lower value than that observed on cross-validation during training. Still, this can be considered a good outcome, and the ROCKET classifier proved to be quite impressive in terms of performance and the lower amount of parameter tuning needed for the delivery of good results; even with the default hyper-parameters, the model performed well on our first try, which validates this algorithm as a good choice for quick machine-learning implementations using time-series as predictors.\n",
    "\n",
    "It also worth mentioning that our initial hypothesis of `angle_variation` helping distinguish cars from busses proved to be a false one; it was a good thing we trained our model using single features as well as different combinations of features, giving our classifier more robustness."
   ],
   "cell_type": "markdown",
   "metadata": {}
  }
 ]
}