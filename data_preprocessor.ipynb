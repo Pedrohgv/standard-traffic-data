{
 "metadata": {
  "language_info": {
   "codemirror_mode": {
    "name": "ipython",
    "version": 3
   },
   "file_extension": ".py",
   "mimetype": "text/x-python",
   "name": "python",
   "nbconvert_exporter": "python",
   "pygments_lexer": "ipython3",
   "version": "3.8.5"
  },
  "orig_nbformat": 2,
  "kernelspec": {
   "name": "python3",
   "display_name": "Python 3.8.5 64-bit ('venv-linux': venv)",
   "metadata": {
    "interpreter": {
     "hash": "f0a3bf33855c61af18a28feeb2cb007b561e8a0c72e3278f6fa14f6ba6d208b2"
    }
   }
  }
 },
 "nbformat": 4,
 "nbformat_minor": 2,
 "cells": [
  {
   "source": [
    "This is the first part of our project. Here, we'll be downloading and pre-processing our data. At the end of this notebook, we'll have a file called `cleaned_data.csv` which is the final product of this notebook. Let's begin with our imports, in our case, the `pandas` package."
   ],
   "cell_type": "markdown",
   "metadata": {}
  },
  {
   "cell_type": "code",
   "execution_count": 1,
   "metadata": {},
   "outputs": [],
   "source": [
    "import pandas as pd"
   ]
  },
  {
   "source": [
    "Now, let's download our dataset. The command bellow only retrieves the data if it's not in this directory already."
   ],
   "cell_type": "markdown",
   "metadata": {}
  },
  {
   "cell_type": "code",
   "execution_count": 1,
   "metadata": {},
   "outputs": [
    {
     "output_type": "stream",
     "name": "stdout",
     "text": [
      "File ‘most_0400_0600_1_5.csv’ already there; not retrieving.\n\n"
     ]
    }
   ],
   "source": [
    "!wget -nc https://standard-traffic-data.s3.us-east-2.amazonaws.com/most_0400_0600_1_5.csv"
   ]
  },
  {
   "source": [
    "Then, it's time to load our dataframe into `Pandas`."
   ],
   "cell_type": "markdown",
   "metadata": {}
  },
  {
   "cell_type": "code",
   "execution_count": 2,
   "metadata": {},
   "outputs": [],
   "source": [
    "data = pd.read_csv('most_0400_0600_1_5.csv', sep=';')"
   ]
  },
  {
   "source": [
    "Let's have an overview of our data."
   ],
   "cell_type": "markdown",
   "metadata": {}
  },
  {
   "cell_type": "code",
   "execution_count": 3,
   "metadata": {},
   "outputs": [
    {
     "output_type": "execute_result",
     "data": {
      "text/plain": [
       "       timestep_time  vehicle_angle   vehicle_pos  vehicle_slope  \\\n",
       "count   2.067350e+06   1.228876e+06  1.228876e+06   1.228876e+06   \n",
       "mean    2.021132e+04   1.702282e+02  1.832031e+02  -6.081239e-01   \n",
       "std     9.779872e+02   9.915551e+01  5.781648e+02   5.173104e+00   \n",
       "min     1.440000e+04   0.000000e+00  0.000000e+00  -8.873000e+01   \n",
       "25%     1.952500e+04   8.179000e+01  1.553000e+01  -2.750000e+00   \n",
       "50%     2.035500e+04   1.968800e+02  4.360000e+01   0.000000e+00   \n",
       "75%     2.102500e+04   2.323100e+02  1.335425e+02   1.090000e+00   \n",
       "max     2.159500e+04   3.599900e+02  1.323421e+04   9.000000e+01   \n",
       "\n",
       "       vehicle_speed     vehicle_x     vehicle_y     vehicle_z   person_angle  \\\n",
       "count   1.228876e+06  1.228876e+06  1.228876e+06  1.228876e+06  838473.000000   \n",
       "mean    5.878740e+00  4.394096e+03  2.036820e+03  9.745693e+01     161.218636   \n",
       "std     6.913619e+00  1.581162e+03  1.031879e+03  1.157750e+02     100.731614   \n",
       "min     0.000000e+00 -2.100000e-01  9.346000e+01  0.000000e+00       0.000000   \n",
       "25%     3.000000e-02  3.935520e+03  1.313255e+03  2.073000e+01      69.470000   \n",
       "50%     2.180000e+00  4.513730e+03  1.859050e+03  6.108000e+01     157.550000   \n",
       "75%     1.233000e+01  5.155550e+03  2.665060e+03  1.069800e+02     240.100000   \n",
       "max     5.547000e+01  9.976570e+03  6.359290e+03  5.972100e+02     359.990000   \n",
       "\n",
       "          person_pos   person_slope   person_speed       person_x  \\\n",
       "count  837976.000000  838473.000000  837977.000000  838473.000000   \n",
       "mean      181.459266      -0.353450       7.413234    4313.035494   \n",
       "std       355.824890       6.752039       6.224017    1748.461993   \n",
       "min         0.000000     -90.000000       0.000000      -0.210000   \n",
       "25%        13.380000      -2.250000       1.190000    3548.030000   \n",
       "50%        51.950000       0.000000       6.900000    4461.740000   \n",
       "75%       159.620000       1.530000      12.870000    5136.770000   \n",
       "max      4183.480000      90.000000      46.090000    9976.570000   \n",
       "\n",
       "            person_y       person_z  \n",
       "count  838473.000000  838473.000000  \n",
       "mean     2069.419362     109.380626  \n",
       "std      1075.116513     120.228287  \n",
       "min        93.460000      -0.080000  \n",
       "25%      1338.410000      26.250000  \n",
       "50%      1935.200000      67.800000  \n",
       "75%      2852.400000     126.250000  \n",
       "max      6356.520000     575.200000  "
      ],
      "text/html": "<div>\n<style scoped>\n    .dataframe tbody tr th:only-of-type {\n        vertical-align: middle;\n    }\n\n    .dataframe tbody tr th {\n        vertical-align: top;\n    }\n\n    .dataframe thead th {\n        text-align: right;\n    }\n</style>\n<table border=\"1\" class=\"dataframe\">\n  <thead>\n    <tr style=\"text-align: right;\">\n      <th></th>\n      <th>timestep_time</th>\n      <th>vehicle_angle</th>\n      <th>vehicle_pos</th>\n      <th>vehicle_slope</th>\n      <th>vehicle_speed</th>\n      <th>vehicle_x</th>\n      <th>vehicle_y</th>\n      <th>vehicle_z</th>\n      <th>person_angle</th>\n      <th>person_pos</th>\n      <th>person_slope</th>\n      <th>person_speed</th>\n      <th>person_x</th>\n      <th>person_y</th>\n      <th>person_z</th>\n    </tr>\n  </thead>\n  <tbody>\n    <tr>\n      <th>count</th>\n      <td>2.067350e+06</td>\n      <td>1.228876e+06</td>\n      <td>1.228876e+06</td>\n      <td>1.228876e+06</td>\n      <td>1.228876e+06</td>\n      <td>1.228876e+06</td>\n      <td>1.228876e+06</td>\n      <td>1.228876e+06</td>\n      <td>838473.000000</td>\n      <td>837976.000000</td>\n      <td>838473.000000</td>\n      <td>837977.000000</td>\n      <td>838473.000000</td>\n      <td>838473.000000</td>\n      <td>838473.000000</td>\n    </tr>\n    <tr>\n      <th>mean</th>\n      <td>2.021132e+04</td>\n      <td>1.702282e+02</td>\n      <td>1.832031e+02</td>\n      <td>-6.081239e-01</td>\n      <td>5.878740e+00</td>\n      <td>4.394096e+03</td>\n      <td>2.036820e+03</td>\n      <td>9.745693e+01</td>\n      <td>161.218636</td>\n      <td>181.459266</td>\n      <td>-0.353450</td>\n      <td>7.413234</td>\n      <td>4313.035494</td>\n      <td>2069.419362</td>\n      <td>109.380626</td>\n    </tr>\n    <tr>\n      <th>std</th>\n      <td>9.779872e+02</td>\n      <td>9.915551e+01</td>\n      <td>5.781648e+02</td>\n      <td>5.173104e+00</td>\n      <td>6.913619e+00</td>\n      <td>1.581162e+03</td>\n      <td>1.031879e+03</td>\n      <td>1.157750e+02</td>\n      <td>100.731614</td>\n      <td>355.824890</td>\n      <td>6.752039</td>\n      <td>6.224017</td>\n      <td>1748.461993</td>\n      <td>1075.116513</td>\n      <td>120.228287</td>\n    </tr>\n    <tr>\n      <th>min</th>\n      <td>1.440000e+04</td>\n      <td>0.000000e+00</td>\n      <td>0.000000e+00</td>\n      <td>-8.873000e+01</td>\n      <td>0.000000e+00</td>\n      <td>-2.100000e-01</td>\n      <td>9.346000e+01</td>\n      <td>0.000000e+00</td>\n      <td>0.000000</td>\n      <td>0.000000</td>\n      <td>-90.000000</td>\n      <td>0.000000</td>\n      <td>-0.210000</td>\n      <td>93.460000</td>\n      <td>-0.080000</td>\n    </tr>\n    <tr>\n      <th>25%</th>\n      <td>1.952500e+04</td>\n      <td>8.179000e+01</td>\n      <td>1.553000e+01</td>\n      <td>-2.750000e+00</td>\n      <td>3.000000e-02</td>\n      <td>3.935520e+03</td>\n      <td>1.313255e+03</td>\n      <td>2.073000e+01</td>\n      <td>69.470000</td>\n      <td>13.380000</td>\n      <td>-2.250000</td>\n      <td>1.190000</td>\n      <td>3548.030000</td>\n      <td>1338.410000</td>\n      <td>26.250000</td>\n    </tr>\n    <tr>\n      <th>50%</th>\n      <td>2.035500e+04</td>\n      <td>1.968800e+02</td>\n      <td>4.360000e+01</td>\n      <td>0.000000e+00</td>\n      <td>2.180000e+00</td>\n      <td>4.513730e+03</td>\n      <td>1.859050e+03</td>\n      <td>6.108000e+01</td>\n      <td>157.550000</td>\n      <td>51.950000</td>\n      <td>0.000000</td>\n      <td>6.900000</td>\n      <td>4461.740000</td>\n      <td>1935.200000</td>\n      <td>67.800000</td>\n    </tr>\n    <tr>\n      <th>75%</th>\n      <td>2.102500e+04</td>\n      <td>2.323100e+02</td>\n      <td>1.335425e+02</td>\n      <td>1.090000e+00</td>\n      <td>1.233000e+01</td>\n      <td>5.155550e+03</td>\n      <td>2.665060e+03</td>\n      <td>1.069800e+02</td>\n      <td>240.100000</td>\n      <td>159.620000</td>\n      <td>1.530000</td>\n      <td>12.870000</td>\n      <td>5136.770000</td>\n      <td>2852.400000</td>\n      <td>126.250000</td>\n    </tr>\n    <tr>\n      <th>max</th>\n      <td>2.159500e+04</td>\n      <td>3.599900e+02</td>\n      <td>1.323421e+04</td>\n      <td>9.000000e+01</td>\n      <td>5.547000e+01</td>\n      <td>9.976570e+03</td>\n      <td>6.359290e+03</td>\n      <td>5.972100e+02</td>\n      <td>359.990000</td>\n      <td>4183.480000</td>\n      <td>90.000000</td>\n      <td>46.090000</td>\n      <td>9976.570000</td>\n      <td>6356.520000</td>\n      <td>575.200000</td>\n    </tr>\n  </tbody>\n</table>\n</div>"
     },
     "metadata": {},
     "execution_count": 3
    }
   ],
   "source": [
    "data.describe()"
   ]
  },
  {
   "source": [
    "There are several columns that we won't need; for our problem, the relevant columns will be `vehicle_speed` and `vehicle_angle` (we're making an initial assumption that busses will have a more erratic trajectory than cars since they need to cover several different routes as opposed to private vehicles that usually go from one point to another). Let's drop the unused features."
   ],
   "cell_type": "markdown",
   "metadata": {}
  },
  {
   "cell_type": "code",
   "execution_count": 5,
   "metadata": {},
   "outputs": [],
   "source": [
    "# keeps only relevant columns\n",
    "data = data[['vehicle_id', 'timestep_time', 'vehicle_speed', 'vehicle_angle', 'vehicle_type']]"
   ]
  },
  {
   "source": [
    "Our dataframe now looks like this:"
   ],
   "cell_type": "markdown",
   "metadata": {}
  },
  {
   "cell_type": "code",
   "execution_count": 10,
   "metadata": {},
   "outputs": [
    {
     "output_type": "execute_result",
     "data": {
      "text/plain": [
       "        vehicle_id  timestep_time  vehicle_speed  vehicle_angle vehicle_type\n",
       "0              NaN        14400.0            NaN            NaN          NaN\n",
       "1  bus_M1:France.0        14405.0           0.00          80.89          bus\n",
       "2  bus_M1:France.0        14410.0           3.97          71.94          bus\n",
       "3  bus_M1:France.0        14415.0           8.49          57.57          bus\n",
       "4  bus_M1:France.0        14420.0          12.78          32.10          bus\n",
       "5     bus_M1:Eze.0        14425.0           3.09          53.85          bus\n",
       "6  bus_M1:France.0        14425.0          12.58          42.04          bus\n",
       "7  bus_M2:France.0        14425.0           1.46         204.72          bus\n",
       "8     bus_M1:Eze.0        14430.0           0.24          56.30          bus\n",
       "9  bus_M1:France.0        14430.0          12.91          34.27          bus"
      ],
      "text/html": "<div>\n<style scoped>\n    .dataframe tbody tr th:only-of-type {\n        vertical-align: middle;\n    }\n\n    .dataframe tbody tr th {\n        vertical-align: top;\n    }\n\n    .dataframe thead th {\n        text-align: right;\n    }\n</style>\n<table border=\"1\" class=\"dataframe\">\n  <thead>\n    <tr style=\"text-align: right;\">\n      <th></th>\n      <th>vehicle_id</th>\n      <th>timestep_time</th>\n      <th>vehicle_speed</th>\n      <th>vehicle_angle</th>\n      <th>vehicle_type</th>\n    </tr>\n  </thead>\n  <tbody>\n    <tr>\n      <th>0</th>\n      <td>NaN</td>\n      <td>14400.0</td>\n      <td>NaN</td>\n      <td>NaN</td>\n      <td>NaN</td>\n    </tr>\n    <tr>\n      <th>1</th>\n      <td>bus_M1:France.0</td>\n      <td>14405.0</td>\n      <td>0.00</td>\n      <td>80.89</td>\n      <td>bus</td>\n    </tr>\n    <tr>\n      <th>2</th>\n      <td>bus_M1:France.0</td>\n      <td>14410.0</td>\n      <td>3.97</td>\n      <td>71.94</td>\n      <td>bus</td>\n    </tr>\n    <tr>\n      <th>3</th>\n      <td>bus_M1:France.0</td>\n      <td>14415.0</td>\n      <td>8.49</td>\n      <td>57.57</td>\n      <td>bus</td>\n    </tr>\n    <tr>\n      <th>4</th>\n      <td>bus_M1:France.0</td>\n      <td>14420.0</td>\n      <td>12.78</td>\n      <td>32.10</td>\n      <td>bus</td>\n    </tr>\n    <tr>\n      <th>5</th>\n      <td>bus_M1:Eze.0</td>\n      <td>14425.0</td>\n      <td>3.09</td>\n      <td>53.85</td>\n      <td>bus</td>\n    </tr>\n    <tr>\n      <th>6</th>\n      <td>bus_M1:France.0</td>\n      <td>14425.0</td>\n      <td>12.58</td>\n      <td>42.04</td>\n      <td>bus</td>\n    </tr>\n    <tr>\n      <th>7</th>\n      <td>bus_M2:France.0</td>\n      <td>14425.0</td>\n      <td>1.46</td>\n      <td>204.72</td>\n      <td>bus</td>\n    </tr>\n    <tr>\n      <th>8</th>\n      <td>bus_M1:Eze.0</td>\n      <td>14430.0</td>\n      <td>0.24</td>\n      <td>56.30</td>\n      <td>bus</td>\n    </tr>\n    <tr>\n      <th>9</th>\n      <td>bus_M1:France.0</td>\n      <td>14430.0</td>\n      <td>12.91</td>\n      <td>34.27</td>\n      <td>bus</td>\n    </tr>\n  </tbody>\n</table>\n</div>"
     },
     "metadata": {},
     "execution_count": 10
    }
   ],
   "source": [
    "data.head(10)"
   ]
  },
  {
   "source": [
    "Now let's see how the vehicle categories are defined."
   ],
   "cell_type": "markdown",
   "metadata": {}
  },
  {
   "cell_type": "code",
   "execution_count": 5,
   "metadata": {},
   "outputs": [
    {
     "output_type": "execute_result",
     "data": {
      "text/plain": [
       "array([nan, 'bus', 'train', 'hw_trailer', 'fastbicycle', 'motorcycle',\n",
       "       'passenger4', 'passenger2b', 'truck', 'delivery', 'coach',\n",
       "       'passenger2a', 'passenger3', 'passenger1', 'moped', 'trailer',\n",
       "       'avgbicycle', 'hw_motorcycle', 'hw_passenger1', 'taxi',\n",
       "       'emergency', 'slowbicycle', 'authority', 'uber', 'hw_coach',\n",
       "       'hw_passenger2a', 'hw_truck', 'hw_passenger3', 'hw_passenger4',\n",
       "       'hw_delivery', 'hw_passenger2b', 'army'], dtype=object)"
      ]
     },
     "metadata": {},
     "execution_count": 5
    }
   ],
   "source": [
    "data['vehicle_type'].unique()"
   ]
  },
  {
   "source": [
    "According to the [documentation](https://sumo.dlr.de/docs/Definition_of_Vehicles,_Vehicle_Types,_and_Routes.html#abstract_vehicle_class), all the vehicle types that start with `passenger` are a subclass of cars. Therefore, we will unify these labels after we drop all categories that are neither cars nor busses."
   ],
   "cell_type": "markdown",
   "metadata": {}
  },
  {
   "cell_type": "code",
   "execution_count": 6,
   "metadata": {},
   "outputs": [],
   "source": [
    "# drops all entries that are neither cars nor busses\n",
    "data = data[(data['vehicle_type'] == 'bus') | (data['vehicle_type'].str.startswith('passenger'))]\n",
    "\n",
    "# unifies car label for all entries\n",
    "data['vehicle_type'] = data['vehicle_type'].map(lambda x: 'car' if x.startswith('passenger') else x)"
   ]
  },
  {
   "source": [
    "Now let's check if there are any null values on our modified dataset."
   ],
   "cell_type": "markdown",
   "metadata": {}
  },
  {
   "cell_type": "code",
   "execution_count": 7,
   "metadata": {},
   "outputs": [
    {
     "output_type": "execute_result",
     "data": {
      "text/plain": [
       "vehicle_id       0\n",
       "timestep_time    0\n",
       "vehicle_speed    0\n",
       "vehicle_angle    0\n",
       "vehicle_type     0\n",
       "dtype: int64"
      ]
     },
     "metadata": {},
     "execution_count": 7
    }
   ],
   "source": [
    "data.isna().sum()"
   ]
  },
  {
   "source": [
    "In order to work with the time-series algorithms from the `sktime` package, it is necessary to transform our dataset into a *nested* one. Since we cannot save a nested dataset, we will transform our dataframe into a multi-indexed one and save it to disk. Multi-indexed dataframes can be turned into nested by using the `from_multi_index_to_nested` method from the `sktime` package."
   ],
   "cell_type": "markdown",
   "metadata": {}
  },
  {
   "cell_type": "code",
   "execution_count": 8,
   "metadata": {},
   "outputs": [],
   "source": [
    "# multindex dataframe\n",
    "data.sort_values(by=['vehicle_id', 'timestep_time'], inplace=True)\n",
    "multiindex = pd.MultiIndex.from_frame(data[['vehicle_id', 'timestep_time']])\n",
    "data.index = multiindex\n",
    "\n",
    "# drops columns used in indexing\n",
    "data.drop(['vehicle_id', 'timestep_time'], axis='columns', inplace=True)"
   ]
  },
  {
   "cell_type": "code",
   "execution_count": 9,
   "metadata": {},
   "outputs": [],
   "source": [
    "data.to_csv('cleaned_data.csv')"
   ]
  }
 ]
}